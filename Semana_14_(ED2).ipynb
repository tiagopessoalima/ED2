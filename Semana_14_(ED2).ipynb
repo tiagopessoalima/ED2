{
  "cells": [
    {
      "cell_type": "markdown",
      "metadata": {
        "id": "view-in-github",
        "colab_type": "text"
      },
      "source": [
        "<a href=\"https://colab.research.google.com/github/tiagopessoalima/ED2/blob/main/Semana_14_(ED2).ipynb\" target=\"_parent\"><img src=\"https://colab.research.google.com/assets/colab-badge.svg\" alt=\"Open In Colab\"/></a>"
      ]
    },
    {
      "cell_type": "markdown",
      "metadata": {
        "id": "GmH0zYM7hmh3"
      },
      "source": [
        "# **B-Trees e Heaps: Estruturas para Armazenamento e Prioridade**"
      ]
    },
    {
      "cell_type": "markdown",
      "source": [
        "## **Introdução às B-Trees e Heaps**"
      ],
      "metadata": {
        "id": "9b1ioxxrOECO"
      }
    },
    {
      "cell_type": "markdown",
      "source": [
        "As B-Trees e Heaps são estruturas de dados especializadas, projetadas para atender a necessidades específicas em sistemas computacionais. Enquanto as B-Trees são amplamente utilizadas em sistemas que requerem acesso eficiente a grandes volumes de dados armazenados em disco, como bancos de dados e sistemas de arquivos, os Heaps são ideais para gerenciar prioridades, sendo fundamentais em algoritmos como filas de prioridade e o Heap Sort."
      ],
      "metadata": {
        "id": "XCM0Uc_qgq5H"
      }
    },
    {
      "cell_type": "markdown",
      "source": [
        "## **O que são B-Trees?**"
      ],
      "metadata": {
        "id": "n1N5PK0mOL-7"
      }
    },
    {
      "cell_type": "markdown",
      "source": [
        "Uma B-Tree de ordem $(m)$ é uma árvore balanceada projetada para minimizar acessos a disco, permitindo que cada nó contenha múltiplas chaves (até $(m-1)$) e múltiplos filhos (até $(m)$). Suas principais propriedades são:\n",
        "\n",
        "- Cada nó, exceto a raiz, contém pelo menos $(\\lceil m/2 \\rceil - 1)$ chaves.\n",
        "- Todos os nós folhas estão no mesmo nível, garantindo balanceamento.\n",
        "- As chaves em cada nó são ordenadas, e os filhos representam intervalos de valores.\n",
        "- Operações como busca, inserção e remoção têm complexidade $O(\\log_m n)$, onde $(n)$ é o número total de chaves.\n",
        "\n",
        "Exemplo de Aplicação: Em bancos de dados como MySQL (com índices B+-Tree), as B-Trees permitem buscas rápidas em tabelas com milhões de registros, pois cada nó pode armazenar centenas de chaves, reduzindo o número de acessos ao disco.\n",
        "\n",
        "Exemplo Visual (B-Tree de ordem 4):\n",
        "\n",
        "```\n",
        "       [20 | 40]\n",
        "      /    |    \\\n",
        "[5 | 10] [25 | 30] [50 | 60]\n",
        "```"
      ],
      "metadata": {
        "id": "Hu3Bd7JsOOr_"
      }
    },
    {
      "cell_type": "markdown",
      "source": [
        "## **O que são Heaps?**"
      ],
      "metadata": {
        "id": "_rxJPolGPO22"
      }
    },
    {
      "cell_type": "markdown",
      "source": [
        "Um Heap é uma árvore binária quase completa que satisfaz a propriedade de heap: em um max-heap, o valor de cada nó é maior ou igual ao de seus filhos; em um min-heap, é menor ou igual. Heaps são implementados eficientemente em arrays, com as seguintes características:\n",
        "\n",
        "- Acessar o elemento de maior/menor prioridade (raiz) é ($O(1)$).\n",
        "- Inserção e remoção têm complexidade ($O(\\log n)$), onde ($n$) é o número de elementos.\n",
        "- Usado em filas de prioridade, escalonamento de processos e no algoritmo Heap Sort.\n",
        "\n",
        "Exemplo de Aplicação: Em sistemas operacionais, filas de prioridade baseadas em min-heaps gerenciam tarefas com base em sua urgência. O Heap Sort utiliza max-heaps para ordenar dados com complexidade ($O(n \\log n)$).\n",
        "\n",
        "Exemplo Visual (Max-Heap):\n",
        "\n",
        "```\n",
        "       90\n",
        "      /  \\\n",
        "    70    80\n",
        "   /  \\   /\n",
        "  50  60 20\n",
        "```"
      ],
      "metadata": {
        "id": "7zHeErGQPRCT"
      }
    }
  ],
  "metadata": {
    "kernelspec": {
      "display_name": "Python 3",
      "language": "python",
      "name": "python3"
    },
    "language_info": {
      "codemirror_mode": {
        "name": "ipython",
        "version": 3
      },
      "file_extension": ".py",
      "mimetype": "text/x-python",
      "name": "python",
      "nbconvert_exporter": "python",
      "pygments_lexer": "ipython3",
      "version": "3.10.12"
    },
    "colab": {
      "provenance": [],
      "include_colab_link": true
    }
  },
  "nbformat": 4,
  "nbformat_minor": 0
}