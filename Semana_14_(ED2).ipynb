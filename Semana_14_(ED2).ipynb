{
  "cells": [
    {
      "cell_type": "markdown",
      "metadata": {
        "id": "view-in-github",
        "colab_type": "text"
      },
      "source": [
        "<a href=\"https://colab.research.google.com/github/tiagopessoalima/ED2/blob/main/Semana_14_(ED2).ipynb\" target=\"_parent\"><img src=\"https://colab.research.google.com/assets/colab-badge.svg\" alt=\"Open In Colab\"/></a>"
      ]
    },
    {
      "cell_type": "markdown",
      "metadata": {
        "id": "GmH0zYM7hmh3"
      },
      "source": [
        "# **B-Trees e Heaps**"
      ]
    },
    {
      "cell_type": "markdown",
      "source": [
        "Este material aborda duas estruturas de dados essenciais para otimizar operações de acesso, armazenamento e ordenação: B-Trees (árvores balanceadas de múltiplos caminhos) e Heaps (estruturas hierárquicas com propriedade de ordenação parcial). Ambas são amplamente empregadas em bancos de dados, sistemas de arquivos, algoritmos de agendamento e estruturas de prioridade."
      ],
      "metadata": {
        "id": "eDJNTrrwY5Us"
      }
    },
    {
      "cell_type": "markdown",
      "source": [
        "## **B-Trees**"
      ],
      "metadata": {
        "id": "9b1ioxxrOECO"
      }
    },
    {
      "cell_type": "markdown",
      "source": [
        "Uma B-Tree é uma estrutura de dados em forma de árvore que permite operações de busca, inserção e exclusão em tempo logarítmico. Ela é projetada para ser eficiente em sistemas que armazenam dados em dispositivos de armazenamento secundário, como discos rígidos, onde o acesso a blocos de dados é mais lento.\n",
        "\n"
      ],
      "metadata": {
        "id": "XCM0Uc_qgq5H"
      }
    },
    {
      "cell_type": "markdown",
      "source": [
        "## **Propriedades de uma B-Tree**"
      ],
      "metadata": {
        "id": "UaX_ONjKv4rc"
      }
    },
    {
      "cell_type": "markdown",
      "source": [
        "- Cada nó pode ter no máximo $m$ filhos, onde $m$ é a ordem da árvore.\n",
        "- Cada nó, exceto a raiz, deve ter pelo menos $\\lceil m/2 \\rceil$ filhos.\n",
        "- Todos os nós folha estão no mesmo nível, garantindo que a árvore seja balanceada.\n",
        "- Um nó com $k$ filhos contém $k-1$ chaves.\n",
        "\n",
        "Aqui está um exemplo visual de uma B-Tree de ordem 3 (m=3) que ilustra todas as propriedades mencionadas:\n",
        "\n",
        "```\n",
        "        [40]                 ← Raiz\n",
        "      /      \\\n",
        "  [20]         [60,70]       ← Nó intermediário com 2 chaves\n",
        " /    \\       /   |   \\\n",
        "[10] [30]  [50]  [65]  [80]  ← Folhas (mesmo nível)\n",
        "```\n",
        "\n",
        "**Análise das propriedades:**\n",
        "\n",
        "1. Máximo de filhos ($m$):\n",
        "\n",
        "| Nó         | Filhos | Status (≤ 3) |\n",
        "|------------|--------|--------------|\n",
        "| Raiz [40]  | 2      | ✓            |\n",
        "| [20]       | 2      | ✓            |\n",
        "| [60,70]    | 3      | ✓            |\n",
        "\n",
        "2. Mínimo de filhos (exceto raiz): $⌈m/2⌉ = ⌈3/2⌉ = 2$\n",
        "\n",
        "| Nó       | Filhos | Status |\n",
        "|----------|--------|--------|\n",
        "| [20]     | 2      | ✓      |\n",
        "| [60,70]  | 3      | ✓      |\n",
        "\n",
        "3. Folhas no mesmo nível\n",
        "- Todas as folhas ([10], [30], [50], [65], [80]) estão no nível 2 → ✓\n",
        "- Distribuição por nível:\n",
        " - Nível 0: [40] (Raíz)\n",
        " - Nível 1: [20], [60,70] (Nós intermediários)\n",
        " - Nível 2: [10], [30], [50], [65], [80] (Folhas)\n",
        "\n",
        "4. Relação chaves-filhos ($k$ filhos → $k-1$ chaves)\n",
        "\n",
        "| Nó        | Filhos (k) | Chaves Esperadas (k−1) | Chaves Reais     | Status |\n",
        "|-----------|-------------|-------------------------|------------------|--------|\n",
        "| [40]      | 2           | 1                       | [40] (1)         | ✓      |\n",
        "| [20]      | 2           | 1                       | [20] (1)         | ✓      |\n",
        "| [60,70]   | 3           | 2                       | [60,70] (2)      | ✓      |\n",
        "\n",
        "\n",
        "\n",
        "\n"
      ],
      "metadata": {
        "id": "mov6yuccv7J-"
      }
    },
    {
      "cell_type": "markdown",
      "source": [
        "##**Operações em B-Trees**"
      ],
      "metadata": {
        "id": "yb6do4-e4frh"
      }
    },
    {
      "cell_type": "markdown",
      "source": [
        "### **Busca**"
      ],
      "metadata": {
        "id": "Gj9wWw7-5Env"
      }
    },
    {
      "cell_type": "markdown",
      "source": [
        "A operação de busca em uma B-Tree inicia na raiz e percorre recursivamente a subárvore correspondente ao intervalo onde a chave pode estar. A cada nó visitado, realiza-se uma busca binária (ou linear, em implementações simples) entre as chaves armazenadas para decidir qual ponteiro de filho seguir. O processo continua até que a chave seja encontrada ou se determine que ela não está presente na árvore."
      ],
      "metadata": {
        "id": "_jbczIjn5OBE"
      }
    },
    {
      "cell_type": "markdown",
      "source": [
        "#### **Exemplo de Busca em uma B-Tree (Ordem 3)**"
      ],
      "metadata": {
        "id": "odmTVGd9BZqG"
      }
    },
    {
      "cell_type": "markdown",
      "source": [
        "```\n",
        "        [40]\n",
        "       /    \\\n",
        "   [20]      [60,70]\n",
        "   /  \\     /   |   \\\n",
        " [10] [30] [50] [65] [80]\n",
        "```"
      ],
      "metadata": {
        "id": "tiYAGH1QBa2Z"
      }
    },
    {
      "cell_type": "markdown",
      "source": [
        "##### **Caso 1: Busca pelo valor 50 (existente)**"
      ],
      "metadata": {
        "id": "pacMkxaWALo-"
      }
    },
    {
      "cell_type": "markdown",
      "source": [
        "\n",
        "\n",
        "1. Raiz [40]:\n",
        "- 50 > 40 → Vá para o filho direito (subárvore direita)\n",
        "- Acesso ao nó: [60,70]\n",
        "\n",
        "2. Nó [60,70]:\n",
        "- Compare 50 com as chaves:\n",
        "- 50 < 60 → Vá para o primeiro filho (à esquerda de 60)\n",
        "- Acesso ao nó: [50]\n",
        "\n",
        "3. Nó folha [50]:\n",
        "- Chave 50 encontrada!\n",
        "- Busca bem-sucedida\n",
        "\n",
        "Caminho percorrido: `[40] → [60,70] → [50]`"
      ],
      "metadata": {
        "id": "JHy9jkfEAFRR"
      }
    },
    {
      "cell_type": "markdown",
      "source": [
        "##### **Caso 2: Busca pelo valor 65 (existente)**"
      ],
      "metadata": {
        "id": "lxtvMD-cAQrm"
      }
    },
    {
      "cell_type": "markdown",
      "source": [
        "\n",
        "\n",
        "1. Raiz [40]:\n",
        "- 65 > 40 → Vá para o filho direito\n",
        "- Acesso ao nó: [60,70]\n",
        "\n",
        "2. Nó [60,70]:\n",
        "- Compare 65 com as chaves:\n",
        " - 60 ≤ 65 < 70 → Vá para o segundo filho (entre 60 e 70)\n",
        "- Acesso ao nó: [65]\n",
        "\n",
        "3. Nó folha [65]:\n",
        "- Chave 65 encontrada!\n",
        "- Busca bem-sucedida\n",
        "\n",
        "Caminho percorrido: `[40] → [60,70] → [65]`"
      ],
      "metadata": {
        "id": "r54ttUmk__1z"
      }
    },
    {
      "cell_type": "markdown",
      "source": [
        "##### **Caso 3: Busca pelo valor 35 (inexistente)**\n"
      ],
      "metadata": {
        "id": "v46QIxhuAUM8"
      }
    },
    {
      "cell_type": "markdown",
      "source": [
        "\n",
        "1. Raiz [40]:\n",
        "- 35 < 40 → Vá para o filho esquerdo\n",
        "- Acesso ao nó: [20]\n",
        "\n",
        "2. Nó [20]:\n",
        "- Compare 35 com as chaves:\n",
        " - 35 > 20 → Vá para o segundo filho (à direita de 20)\n",
        "- Acesso ao nó: [30]\n",
        "\n",
        "3. Nó folha [30]:\n",
        "- Chaves: 30 < 35 → Não encontrado\n",
        "- Busca mal-sucedida\n",
        "\n",
        "Caminho percorrido: `[40] → [20] → [30]`"
      ],
      "metadata": {
        "id": "LztRPphA9Xly"
      }
    },
    {
      "cell_type": "markdown",
      "source": [
        "##### **Caso 4: Busca pelo valor 70 (no nó interno)**"
      ],
      "metadata": {
        "id": "hTFUaAaQAbJt"
      }
    },
    {
      "cell_type": "markdown",
      "source": [
        "1. Raiz [40]:\n",
        "- 70 > 40 → Vá para o filho direito\n",
        "- Acesso ao nó: [60,70]\n",
        "\n",
        "2. Nó [60,70]:\n",
        "- Chave 70 encontrada diretamente no nó!\n",
        "- Busca bem-sucedida sem acessar folhas\n",
        "\n",
        "Caminho percorrido: `[40] → [60,70]`"
      ],
      "metadata": {
        "id": "Hr-3YAkmAbMZ"
      }
    },
    {
      "cell_type": "markdown",
      "source": [
        "#### **Complexidade da Busca**"
      ],
      "metadata": {
        "id": "izZ_lQtpBNCE"
      }
    },
    {
      "cell_type": "markdown",
      "source": [
        "- Altura da árvore: $O(\\log_m n)$\n",
        "- Custo por nó: $O(\\log m)$ (busca binária nas chaves)\n",
        "- Custo total: $O(\\log_m n * \\log m) = O(\\log n)$\n",
        "- Vantagem principal: Minimiza acessos a disco (cada nó equivale a uma página de disco)"
      ],
      "metadata": {
        "id": "NX7zWAJGBUKZ"
      }
    },
    {
      "cell_type": "markdown",
      "source": [
        "### **Inserção**"
      ],
      "metadata": {
        "id": "T8eJyBPgDSMa"
      }
    },
    {
      "cell_type": "markdown",
      "source": [
        "A operação mantém o balanceamento através de divisões estratégicas de nós. O processo ocorre em três etapas principais:\n",
        "1. Localizar a folha correta usando busca\n",
        "2. Inserir ordenadamente na folha\n",
        "3. Tratar **overflow** com divisão recursiva (split)\n",
        "\n",
        "> **Overflow** refere-se a uma condição em que um nó excede sua capacidade máxima de armazenamento de chaves."
      ],
      "metadata": {
        "id": "7R4cwyYbDvkq"
      }
    },
    {
      "cell_type": "markdown",
      "source": [
        "### **Exemplo de Inserção em B-Tree (m=3, máximo 2 chaves/nó e mínimo de 1 chave/nó)**\n"
      ],
      "metadata": {
        "id": "od5BRs_sEQFC"
      }
    },
    {
      "cell_type": "markdown",
      "source": [
        "```\n",
        "        [40]\n",
        "       /    \\\n",
        "   [20]     [60]\n",
        "  /   \\     /   \\\n",
        "[10]  [30][50]  [70]\n",
        "```"
      ],
      "metadata": {
        "id": "fPRMefYzE4p9"
      }
    },
    {
      "cell_type": "markdown",
      "source": [
        "#### **Caso 1: Inserir 80**\n"
      ],
      "metadata": {
        "id": "aPYJ61XNE9-4"
      }
    },
    {
      "cell_type": "markdown",
      "source": [
        "1. **Localizar folha:** [40] → [60] → [70]\n",
        "2. **Inserir ordenado:** [70,80] ✓\n",
        "\n",
        "**Resultado:**\n",
        "\n",
        "```\n",
        "        [40]\n",
        "       /    \\\n",
        "   [20]     [60]\n",
        "  /   \\     /   \\\n",
        "[10] [30] [50] [70,80]\n",
        "```"
      ],
      "metadata": {
        "id": "QmYdRKDLFFZZ"
      }
    },
    {
      "cell_type": "markdown",
      "source": [
        "#### **Caso 2: Inserir 65**\n"
      ],
      "metadata": {
        "id": "XuUO06geFrXT"
      }
    },
    {
      "cell_type": "markdown",
      "source": [
        "1. **Localizar folha:** [40] → [60] → [70,80]\n",
        "2. **Inserir ordenado:** [65,70,80] → OVERFLOW (3 chaves > máximo 2)\n",
        "3. **Divisão (split):**\n",
        "- Chave mediana (70) sobe para o pai [60]\n",
        "- Criar novo nó direito [80]\n",
        "- Nó original vira [65]\n",
        "4. **Atualizar pai:** [60,70]\n",
        "\n",
        "**Resultado:**\n",
        "\n",
        "```\n",
        "        [40]\n",
        "       /    \\\n",
        "   [20]     [60,70]  \n",
        "  /   \\    /   |   \\\n",
        "[10][30] [50] [65] [80]\n",
        "```\n"
      ],
      "metadata": {
        "id": "w9HUpgbuF0VD"
      }
    },
    {
      "cell_type": "markdown",
      "source": [
        "#### **Caso 3: Inserir 55**\n"
      ],
      "metadata": {
        "id": "d3APCLU3G90m"
      }
    },
    {
      "cell_type": "markdown",
      "source": [
        "1. **Localizar folha:** [40] → [60,70] → [50]\n",
        "2. **Inserir ordenado:** [50,55] ✓\n",
        "\n",
        "```\n",
        "        [40]\n",
        "       /     \\\n",
        "   [20]        [60,70]\n",
        "  /   \\       /   |   \\\n",
        "[10] [30] [50,55][65][80]\n",
        "```"
      ],
      "metadata": {
        "id": "bYd2fyf2HJsd"
      }
    },
    {
      "cell_type": "markdown",
      "source": [
        "#### **Caso 4: Inserir 58**"
      ],
      "metadata": {
        "id": "xnDNGBuwH_jv"
      }
    },
    {
      "cell_type": "markdown",
      "source": [
        "1. **Localizar folha:** [40] → [60,70] → [50,55]\n",
        "2. **Inserir ordenado:** [50,55,58] → *OVERFLOW* (3 chaves > máximo 2)\n",
        "3. **Divisão (split):**\n",
        "- Chave mediana (55) sobe para o pai [60,70]\n",
        "- Criar novo nó direito [58]\n",
        "- Nó original vira [50]\n",
        "\n",
        "**Estado Intermediário**\n",
        "\n",
        "```\n",
        "        [40]\n",
        "       /    \\\n",
        "   [20]     [55,60,70]   ✗ (OVERFLOW)\n",
        "  /   \\    /   /   \\   \\\n",
        "[10][30] [50] [58][65][80]\n",
        "```\n",
        "\n",
        "4. **Divisão do Nó Interno (Propagação):**\n",
        "- Chave mediana (60) sobe para o pai [40]\n",
        "- Criar novos nós intermediários:\n",
        " - Esquerda: [55] (herda filhos [50] e [58])\n",
        " - Direita: [70] (herda filhos [65] e [80])\n",
        "\n",
        "**Árvore resultante:**\n",
        "\n",
        "```\n",
        "          [40,60]        \n",
        "        /    |    \\\n",
        "     [20]   [55]   [70]   \n",
        "    /   \\   /   \\   /  \\\n",
        " [10] [30][50] [58][65][80]\n",
        "```"
      ],
      "metadata": {
        "id": "t5EJoCYCIOyT"
      }
    },
    {
      "cell_type": "markdown",
      "source": [
        "#### **Complexidade da Inserção**\n"
      ],
      "metadata": {
        "id": "eKW4cA0gEFav"
      }
    },
    {
      "cell_type": "markdown",
      "source": [
        "- Busca da folha: $O(\\log_m n)$ níveis × $O(\\log m)$ por nível = $O(\\log n)$\n",
        "- Divisões: Até $O(\\log_m n)$ divisões, cada uma custando $O(m)$\n",
        "- Custo total: $O(m \\cdot \\log_m n) = O(\\log n)$\n",
        "- Eficiência prática: A maioria das inserções não causa divisões propagadas"
      ],
      "metadata": {
        "id": "daS8pZTKEH93"
      }
    },
    {
      "cell_type": "markdown",
      "source": [
        "### **Exclusão**"
      ],
      "metadata": {
        "id": "dOrDb47hNqEV"
      }
    },
    {
      "cell_type": "markdown",
      "source": [
        "A operação de exclusão em uma B-Tree remove uma chave enquanto mantém as propriedades da árvore, como o balanceamento e o número mínimo de chaves por nó. A exclusão é mais complexa que a inserção, pois pode causar *underflow* (um nó com menos chaves do que o mínimo permitido). Para lidar com isso, a B-Tree usa estratégias como redistribuição de chaves ou fusão de nós.\n",
        "\n",
        "**Passos Gerais da Exclusão:**\n",
        "\n",
        "1. **Localizar a chave:** Usar a busca para encontrar o nó que contém a chave a ser removida.\n",
        "\n",
        "2. **Remover a chave:**\n",
        "- Se a chave está em um nó folha, removê-la diretamente.\n",
        "- Se a chave está em um nó interno, substituí-la pela chave predecessora (maior chave da subárvore esquerda) ou sucessora (menor chave da subárvore direita) e remover essa chave da folha.\n",
        "\n",
        "3. **Corrigir underflow:**\n",
        "- Se o nó ficar com menos de $\\lceil m/2 \\rceil - 1$ chaves (para ordem  $m$), realizar redistribuição (borrow) de um nó irmão ou fusão (merge) com um irmão.\n",
        "- Propagar ajustes para os nós pais, se necessário."
      ],
      "metadata": {
        "id": "oZeUu_xnPwr_"
      }
    },
    {
      "cell_type": "markdown",
      "source": [
        "### **Exemplo de Eclusão em B-Tree (m=3, máximo 2 chaves/nó e mínimo de 1 chave/nó)**\n"
      ],
      "metadata": {
        "id": "xnoQD7QLQzkO"
      }
    },
    {
      "cell_type": "markdown",
      "source": [
        "```\n",
        "          [40,60]\n",
        "        /    |    \\\n",
        "     [20]   [55]   [70]\n",
        "    /   \\   /   \\   /  \\\n",
        " [10] [30][50] [58][65][80,81]\n",
        "```"
      ],
      "metadata": {
        "id": "0cGD4PqwQ-kO"
      }
    },
    {
      "cell_type": "markdown",
      "source": [
        "#### **Caso 1: Remover 81**"
      ],
      "metadata": {
        "id": "7DO4MdF-REWa"
      }
    },
    {
      "cell_type": "markdown",
      "source": [
        "1. **Localizar a chave:**\n",
        "- Iniciar na raiz [40,60].\n",
        "- 81 > 60 → Ir para o filho à direita de 60: [70].\n",
        "- 81 > 70 → Ir para o filho à direita de 70: [80,81].\n",
        "- Chave 81 encontrada no nó folha [80,81].\n",
        "\n",
        "2. **Remover a chave:**\n",
        "- Remover 81 do nó [80,81], resultando em [80].\n",
        "- Verificar o número de chaves: [80] tem 1 chave, que é igual ao mínimo (⌈m/2⌉ - 1 = ⌈3/2⌉ - 1 = 1). Não há *underflow*.\n",
        "\n",
        "**Árvore resultante:**\n",
        "\n",
        "```\n",
        "          [40,60]        \n",
        "        /    |    \\\n",
        "     [20]   [55]   [70]   \n",
        "    /   \\   /   \\   /  \\\n",
        " [10] [30][50] [58][65][80]\n",
        "```\n"
      ],
      "metadata": {
        "id": "FTGXslsxpdWe"
      }
    },
    {
      "cell_type": "markdown",
      "source": [
        "#### **Caso 2: Remover 58**"
      ],
      "metadata": {
        "id": "o-SuSm8Upy9z"
      }
    },
    {
      "cell_type": "markdown",
      "source": [
        "1. **Localizar a chave:**\n",
        "- Raiz [40,60]: 58 > 40 e 58 < 60 → Ir para o filho entre 40 e 60: [55].\n",
        "- Nó [55]: 58 > 55 → Ir para o filho à direita de 55: [58].\n",
        "- Chave 58 encontrada no nó folha [58].\n",
        "\n",
        "2. **Remover a chave:**\n",
        "- Remover 58 do nó [58], resultando em [] (0 chaves).\n",
        "- Verificar: 0 chaves < 1 (mínimo) → *Underflow*.\n",
        "\n",
        "3. **Corrigir underflow:**\n",
        "- **Redistribuição (borrow):**\n",
        " - Irmão adjacente esquerdo: [50] (sob o mesmo pai [55])\n",
        " - [50] não pode emprestar (única chave = mínimo) ✗\n",
        "- **Fusão (merge):**\n",
        " - Fundir nó vazio com irmão esquerdo [50] + chave do pai [55] → Novo nó: [50,55]\n",
        " - Pai [55] perde chave e filho → Pai vazio → Underflow propagado!\n",
        "4. **Corrigir underflow no pai ([] vazio):**\n",
        " - Fusão com irmão + chave da raiz:\n",
        "    - Fundir pai vazio ([55]) + irmão esquerdo ([20]) + chave intermediária da raiz (40)\n",
        "    - Novo nó: [20,40] (herda filhos de [20] e [50,55])\n",
        "    - Raiz atualizada: [60] (única chave restante)\n",
        "\n",
        "**Árvore resultante:**\n",
        "\n",
        "```\n",
        "        [60]                \n",
        "       /     \\\n",
        "  [20,40]     [70]          \n",
        " /    |   \\     /  \\\n",
        "[10][30][50,55][65][80]\n",
        "```"
      ],
      "metadata": {
        "id": "ln_WFiUGRdqW"
      }
    },
    {
      "cell_type": "markdown",
      "source": [
        "#### **Caso 3: Remover 60**"
      ],
      "metadata": {
        "id": "JEmTwHHxU6t8"
      }
    },
    {
      "cell_type": "markdown",
      "source": [
        "1. **Localizar a chave:**\n",
        "- 60 está na raiz (nó interno).\n",
        "\n",
        "2. **Substituir pela predecessora:**\n",
        "- Predecessora de 60: Maior chave na subárvore esquerda (folha direita de [20,40] → [50,55]).\n",
        "- Predecessora = 55.\n",
        "\n",
        "**Estado Intermediário**\n",
        "\n",
        "```\n",
        "        [55]       \n",
        "       /     \\\n",
        "  [20,40]     [70]          \n",
        " /    |   \\     /  \\\n",
        "[10][30][50,55][65][80]\n",
        "```\n",
        "\n",
        "3. **Remover 55 da folha:**\n",
        "- Folha original: [50,55] → após remoção: [50].\n",
        "- Verificar *underflow*: [50] tem 1 chave (mínimo = ⌈3/2⌉ - 1 = 1) → OK!\n",
        "\n",
        "**Árvore resultante:**\n",
        "\n",
        "```\n",
        "           [55]                 \n",
        "         /     \\\n",
        "   [20,40]      [70]          \n",
        "  /   |   \\     /  \\\n",
        " [10][30][50] [65][80]\n",
        "```"
      ],
      "metadata": {
        "id": "p2OvvRYjU_Zu"
      }
    },
    {
      "cell_type": "markdown",
      "source": [
        "### **Exercícios**"
      ],
      "metadata": {
        "id": "fQGv2zkl2M9H"
      }
    },
    {
      "cell_type": "markdown",
      "source": [
        "1. Considere uma B-Tree de ordem 3 inicialmente vazia. Realize as inserções na ordem: [40, 20, 60, 10, 30, 50, 70, 80, 65, 55, 58]\n",
        "\n",
        " a) Desenhe a árvore após cada inserção que causa overflow.\n",
        "\n",
        " b) Mostre o estado final da árvore."
      ],
      "metadata": {
        "id": "9gfDLo6U2QMp"
      }
    },
    {
      "cell_type": "markdown",
      "source": [
        "2. Dada a B-Tree de ordem 3:\n",
        "\n",
        "```\n",
        "        [55]  \n",
        "       /    \\  \n",
        "  [20,40]   [70]  \n",
        "  / | \\     /   \\  \n",
        "[10][30][50][65][80]  \n",
        "```\n",
        " Mostre o caminho percorrido para buscar:\n",
        "\n",
        " a) Chave 65\n",
        "\n",
        " b) Chave 25\n",
        "\n",
        " c) Chave 40\n"
      ],
      "metadata": {
        "id": "HFxz5bR32hMz"
      }
    },
    {
      "cell_type": "markdown",
      "source": [
        "3. Partindo da árvore do Exercício 2. Remova sequencialmente, mostrando a árvore após cada remoção e explique se houve underflow.\n",
        "\n",
        " a) 80\n",
        "\n",
        " b) 50\n",
        "\n",
        " c) 10"
      ],
      "metadata": {
        "id": "GXknouFR27Ci"
      }
    },
    {
      "cell_type": "markdown",
      "source": [
        "4. Partindo da árvore do Exercício 2. Remova sequencialmente, mostrando a passo a passo as fusões necessárias.\n",
        "\n",
        " a) 30\n",
        "\n",
        " b) 40\n",
        "\n",
        " c) 20"
      ],
      "metadata": {
        "id": "dzladPlX3jQU"
      }
    },
    {
      "cell_type": "markdown",
      "source": [
        "5. Considere a B-Tree de ordem 4:\n",
        "\n",
        "```\n",
        "         [30]  \n",
        "       /      \\  \n",
        "  [10,20]      [50,60,70]  \n",
        " /   |   \\    /   |   |   \\  \n",
        "[5][15][25][40][55][65][75][80]  \n",
        "```\n",
        "\n",
        "Remova:\n",
        "\n",
        "a) 5 (use redistribuição com o irmão direito)\n",
        "\n",
        "b) 75 (use redistribuição com o irmão esquerdo)\n",
        "\n",
        "Desenhe a árvore após cada operação."
      ],
      "metadata": {
        "id": "eXg5bO4W388R"
      }
    },
    {
      "cell_type": "markdown",
      "source": [
        "6. Construa uma B-Tree de ordem 4 com as chaves: [25, 10, 40, 15, 35, 5, 20, 50, 30, 45, 60, 55, 70]. Em seguida, remova: [40, 15, 25, 10]. Documente todas as divisões e fusões durante o processo."
      ],
      "metadata": {
        "id": "_dJkl0sS4PiE"
      }
    },
    {
      "cell_type": "markdown",
      "source": [
        "7. Verifique se a estrutura abaixo é uma B-Tree válida de ordem 4:\n",
        "```\n",
        "           [22, 44]  \n",
        "         /     |     \\  \n",
        "  [5,10]   [30,33]   [50,55,66]  \n",
        "  /  |  \\    /   | \\    / | |  \\  \n",
        "[1][7][12][28][32][40][48][52][60][70]  \n",
        "```\n",
        "Justifique com base em:\n",
        "\n",
        " a) Número máximo de chaves por nó\n",
        "\n",
        " b) Número mínimo de filhos em nós internos\n",
        "\n",
        " c) Nível das folhas\n",
        "\n",
        " d) Relação chaves-filhos"
      ],
      "metadata": {
        "id": "9Qm3erBk4gTU"
      }
    },
    {
      "cell_type": "markdown",
      "source": [
        "## **O que são Heaps?**"
      ],
      "metadata": {
        "id": "_rxJPolGPO22"
      }
    },
    {
      "cell_type": "markdown",
      "source": [
        "Um Heap é uma árvore binária quase completa que satisfaz a propriedade de heap: em um max-heap, o valor de cada nó é maior ou igual ao de seus filhos; em um min-heap, é menor ou igual. Heaps são implementados eficientemente em arrays, com as seguintes características:\n",
        "\n",
        "- Acessar o elemento de maior/menor prioridade (raiz) é ($O(1)$).\n",
        "- Inserção e remoção têm complexidade ($O(\\log n)$), onde ($n$) é o número de elementos.\n",
        "- Usado em filas de prioridade, escalonamento de processos e no algoritmo Heap Sort.\n",
        "\n",
        "Exemplo de Aplicação: Em sistemas operacionais, filas de prioridade baseadas em min-heaps gerenciam tarefas com base em sua urgência. O Heap Sort utiliza max-heaps para ordenar dados com complexidade ($O(n \\log n)$).\n",
        "\n",
        "Exemplo Visual (Max-Heap):\n",
        "\n",
        "```\n",
        "       90\n",
        "      /  \\\n",
        "    70    80\n",
        "   /  \\   /\n",
        "  50  60 20\n",
        "```"
      ],
      "metadata": {
        "id": "7zHeErGQPRCT"
      }
    }
  ],
  "metadata": {
    "kernelspec": {
      "display_name": "Python 3",
      "language": "python",
      "name": "python3"
    },
    "language_info": {
      "codemirror_mode": {
        "name": "ipython",
        "version": 3
      },
      "file_extension": ".py",
      "mimetype": "text/x-python",
      "name": "python",
      "nbconvert_exporter": "python",
      "pygments_lexer": "ipython3",
      "version": "3.10.12"
    },
    "colab": {
      "provenance": [],
      "include_colab_link": true
    }
  },
  "nbformat": 4,
  "nbformat_minor": 0
}