{
  "cells": [
    {
      "cell_type": "markdown",
      "metadata": {
        "id": "view-in-github",
        "colab_type": "text"
      },
      "source": [
        "<a href=\"https://colab.research.google.com/github/tiagopessoalima/ED2/blob/main/Aula_Semana_05_(ED2).ipynb\" target=\"_parent\"><img src=\"https://colab.research.google.com/assets/colab-badge.svg\" alt=\"Open In Colab\"/></a>"
      ]
    },
    {
      "cell_type": "markdown",
      "metadata": {
        "id": "pS5sFd6XqXHy"
      },
      "source": [
        "# **Listas Duplamente Ligadas (Encadeadas)**"
      ]
    },
    {
      "cell_type": "markdown",
      "metadata": {
        "id": "SSZmdEBNZF3x"
      },
      "source": [
        "Assim como as listas simplesmente ligadas, as Listas Duplamente Ligadas são estruturas de dados **lineares** e **dinâmicas**. A principal diferença reside na forma como os nós se conectam: cada nó em uma lista duplamente ligada possui três componentes principais:\n",
        "\n",
        "1. **Valor** armazenado (dado propriamente dito);\n",
        "2. **Referência** (ou ponteiro) para o próximo nó da sequência (`proximo`);\n",
        "3. **Referência** (ou ponteiro) para o nó anterior da sequência (`anterior`).\n",
        "\n",
        "Essa ligação bidirecional permite a travessia da lista em ambos os sentidos (do início para o fim e do fim para o início). Isso otimiza certas operações, como a remoção de um nó específico (se já tivermos a referência para ele) ou a inserção/remoção no final da lista, que podem ser realizadas em tempo constante $O(1)$ se mantivermos uma referência para o último nó (`fim`). A desvantagem é um consumo ligeiramente maior de memória por nó, devido à necessidade de armazenar a referência adicional (`anterior`).\n",
        "\n"
      ]
    },
    {
      "cell_type": "markdown",
      "metadata": {
        "id": "MhM7BX1paW39"
      },
      "source": [
        "## **O Bloco de Construção: O Nó Duplo**\n"
      ]
    },
    {
      "cell_type": "markdown",
      "metadata": {
        "id": "loZjbBzObAsT"
      },
      "source": [
        "A unidade fundamental da lista duplamente ligada é o nó, agora com referências para o elemento seguinte e o anterior."
      ]
    },
    {
      "cell_type": "code",
      "execution_count": 1,
      "metadata": {
        "id": "6t3SVMEcd0lv"
      },
      "outputs": [],
      "source": [
        "class NoDuplo:\n",
        "    \"\"\"\n",
        "    Representa um único nó em uma lista duplamente encadeada.\n",
        "    \"\"\"\n",
        "    def __init__(self, valor):\n",
        "        \"\"\"\n",
        "        Inicializa um novo nó duplo.\n",
        "\n",
        "        Parâmetros:\n",
        "            valor: Dado a ser armazenado no nó.\n",
        "        \"\"\"\n",
        "        self.valor = valor      # Valor armazenado no nó\n",
        "        self.proximo = None     # Referência para o próximo nó (inicialmente nula)\n",
        "        self.anterior = None    # Referência para o nó anterior (inicialmente nula)\n",
        "\n",
        "    def __repr__(self):\n",
        "        \"\"\"\n",
        "        Representação textual do nó duplo.\n",
        "        \"\"\"\n",
        "        return f\"NoDuplo({self.valor})\""
      ]
    },
    {
      "cell_type": "markdown",
      "metadata": {
        "id": "sCZy5wsDhF3n"
      },
      "source": [
        "> As variáveis `self.proximo` e `self.anterior` permitem o encadeamento bidirecional. A partir de um nó, pode-se navegar para frente (`proximo`) ou para trás (`anterior`). O anterior do primeiro nó e o proximo do último nó apontam para `None`.\n",
        "\n"
      ]
    },
    {
      "cell_type": "markdown",
      "metadata": {
        "id": "L8vot001fu2B"
      },
      "source": [
        "### **Exemplo de Criação e Encadeamento de Nós**"
      ]
    },
    {
      "cell_type": "markdown",
      "metadata": {
        "id": "MGkReDQRhqHu"
      },
      "source": [
        "Abaixo, criamos três nós manualmente e estabelecemos as ligações duplas entre eles."
      ]
    },
    {
      "cell_type": "code",
      "execution_count": 2,
      "metadata": {
        "id": "FsYXcsE0fvF-"
      },
      "outputs": [],
      "source": [
        "# Criando três nós duplos\n",
        "n1 = NoDuplo(\"A\")\n",
        "n2 = NoDuplo(\"B\")\n",
        "n3 = NoDuplo(\"C\")\n",
        "\n",
        "# Encadeando manualmente (frente)\n",
        "n1.proximo = n2\n",
        "n2.proximo = n3\n",
        "\n",
        "# Encadeando manualmente (trás)\n",
        "n2.anterior = n1\n",
        "n3.anterior = n2"
      ]
    },
    {
      "cell_type": "markdown",
      "metadata": {
        "id": "_qtyPQsUgCgD"
      },
      "source": [
        "### **Imprimindo e Navegando nos Nós**\n"
      ]
    },
    {
      "cell_type": "code",
      "execution_count": 3,
      "metadata": {
        "colab": {
          "base_uri": "https://localhost:8080/"
        },
        "id": "5HxhnOSigKQA",
        "outputId": "b3f37b3b-e15d-4beb-cdb7-d468b9b8df4f"
      },
      "outputs": [
        {
          "output_type": "stream",
          "name": "stdout",
          "text": [
            "NoDuplo(A)\n",
            "NoDuplo(B)\n",
            "NoDuplo(C)\n",
            "NoDuplo(C)\n",
            "NoDuplo(B)\n",
            "NoDuplo(A)\n",
            "None\n",
            "None\n"
          ]
        }
      ],
      "source": [
        "print(n1)                 # NoDuplo(A)\n",
        "print(n1.proximo)         # NoDuplo(B)\n",
        "print(n1.proximo.proximo) # NoDuplo(C)\n",
        "\n",
        "print(n3)                 # NoDuplo(C)\n",
        "print(n3.anterior)        # NoDuplo(B)\n",
        "print(n3.anterior.anterior) # NoDuplo(A)\n",
        "\n",
        "print(n1.anterior)        # None (início da lista)\n",
        "print(n3.proximo)         # None (fim da lista)"
      ]
    },
    {
      "cell_type": "markdown",
      "metadata": {
        "id": "mCVkdVspiETY"
      },
      "source": [
        "> Atingimos `None` ao tentar ir para `anterior` a partir do primeiro nó ou para `proximo` a partir do último.\n"
      ]
    },
    {
      "cell_type": "markdown",
      "metadata": {
        "id": "c8pYThZaicDB"
      },
      "source": [
        "## **Visualização Conceitual**"
      ]
    },
    {
      "cell_type": "markdown",
      "metadata": {
        "id": "Krx9sOlfimR4"
      },
      "source": [
        "A estrutura com três nós duplamente ligados pode ser visualizada assim:\n",
        "\n",
        "```\n",
        "      n1                 n2               n3\n",
        "      ┌───────┐         ┌───────┐         ┌───────┐\n",
        "None ←│  \"A\"  │ ←─────→ │  \"B\"  │ ←─────→ │  \"C\"  │ → None\n",
        "      └───────┘         └───────┘         └───────┘\n",
        "    anterior         anterior          anterior\n",
        "            proximo           proximo           proximo\n",
        "```\n",
        "\n",
        "Cada nó tem setas em ambas as direções, representando `proximo` (→) e `anterior` (←). O `anterior` do primeiro nó (`n1`) e o `proximo` do último nó (`n3`) são `None`.\n",
        "\n",
        "\n",
        "\n",
        "\n",
        "\n",
        "\n"
      ]
    },
    {
      "cell_type": "markdown",
      "metadata": {
        "id": "aeMDjASmekqK"
      },
      "source": [
        "## **Classe Lista Duplamente Ligada**"
      ]
    },
    {
      "cell_type": "markdown",
      "metadata": {
        "id": "V-jVPRSEnfP7"
      },
      "source": [
        "Com o nó duplo definido, implementamos a estrutura da lista duplamente ligada. Manteremos referências tanto para o `inicio` quanto para o `fim` da lista, permitindo operações eficientes em ambas as extremidades."
      ]
    },
    {
      "cell_type": "markdown",
      "metadata": {
        "id": "SvioH4Ljo_4s"
      },
      "source": [
        "### **Integração com a Sintaxe do Python**"
      ]
    },
    {
      "cell_type": "markdown",
      "metadata": {
        "id": "mIa_XGbWoOR0"
      },
      "source": [
        "Assim como a versão simplesmente ligada, esta classe usa métodos especiais para se integrar com as operações padrão do Python (`len()`, `for`, `[]`, `in`, `print()`).\n",
        "\n"
      ]
    },
    {
      "cell_type": "markdown",
      "metadata": {
        "id": "6jBZ33odpLKW"
      },
      "source": [
        "### **Implementação**"
      ]
    },
    {
      "cell_type": "markdown",
      "metadata": {
        "id": "bs7Od1n_oPpQ"
      },
      "source": [
        "A seguir, apresentamos a implementação completa da classe `ListaLigada`, com suporte para inserção de elementos tanto no início quanto no final da lista, e com todos os métodos auxiliares para inspeção, iteração e indexação:"
      ]
    },
    {
      "cell_type": "code",
      "execution_count": 4,
      "metadata": {
        "id": "RvuimI5Gfccw"
      },
      "outputs": [],
      "source": [
        "class ListaDuplamenteLigada:\n",
        "    \"\"\"\n",
        "    Implementa uma lista duplamente encadeada.\n",
        "    \"\"\"\n",
        "\n",
        "    def __init__(self):\n",
        "        \"\"\"\n",
        "        Inicializa a lista como vazia.\n",
        "        \"\"\"\n",
        "        self.inicio = None\n",
        "        self.fim = None\n",
        "        self._tamanho = 0\n",
        "\n",
        "    def limpar(self) -> None:\n",
        "        \"\"\"\n",
        "        Remove todos os elementos da lista.\n",
        "        \"\"\"\n",
        "        # Poderia iterar e quebrar as referências para ajudar o GC,\n",
        "        # mas reatribuir inicio/fim é suficiente em Python.\n",
        "        self.inicio = None\n",
        "        self.fim = None\n",
        "        self._tamanho = 0\n",
        "\n",
        "    def esta_vazia(self) -> bool:\n",
        "        \"\"\"\n",
        "        Verifica se a lista está vazia.\n",
        "        \"\"\"\n",
        "        return self._tamanho == 0\n",
        "\n",
        "    def _no_em(self, posicao: int) -> NoDuplo:\n",
        "        \"\"\"\n",
        "        Retorna o nó da posição especificada. Otimizado para buscar\n",
        "        a partir do início ou do fim, dependendo da posição. (Método interno)\n",
        "        \"\"\"\n",
        "        if not 0 <= posicao < self._tamanho:\n",
        "            raise IndexError(\"Índice fora do intervalo.\")\n",
        "\n",
        "        # Otimização: buscar do início ou do fim?\n",
        "        if posicao < self._tamanho // 2:\n",
        "            # Busca a partir do início\n",
        "            no = self.inicio\n",
        "            for _ in range(posicao):\n",
        "                no = no.proximo\n",
        "        else:\n",
        "            # Busca a partir do fim (mais rápido para índices altos)\n",
        "            no = self.fim\n",
        "            for _ in range(self._tamanho - 1, posicao, -1):\n",
        "                no = no.anterior\n",
        "        return no\n",
        "\n",
        "    def inserir_no_inicio(self, valor: any) -> None:\n",
        "        \"\"\"\n",
        "        Insere um novo elemento no início da lista. O(1)\n",
        "        \"\"\"\n",
        "        novo_no = NoDuplo(valor)\n",
        "        if self.esta_vazia():\n",
        "            self.inicio = novo_no\n",
        "            self.fim = novo_no\n",
        "        else:\n",
        "            novo_no.proximo = self.inicio\n",
        "            self.inicio.anterior = novo_no\n",
        "            self.inicio = novo_no\n",
        "        self._tamanho += 1\n",
        "\n",
        "    def inserir_no_final(self, valor: any) -> None:\n",
        "        \"\"\"\n",
        "        Insere um novo elemento no final da lista. O(1)\n",
        "        \"\"\"\n",
        "        novo_no = NoDuplo(valor)\n",
        "        if self.esta_vazia():\n",
        "            self.inicio = novo_no\n",
        "            self.fim = novo_no\n",
        "        else:\n",
        "            novo_no.anterior = self.fim\n",
        "            self.fim.proximo = novo_no\n",
        "            self.fim = novo_no\n",
        "        self._tamanho += 1\n",
        "\n",
        "    def inserir_em(self, posicao: int, valor: any) -> None:\n",
        "        \"\"\"\n",
        "        Insere um novo elemento em uma posição específica da lista. O(n)\n",
        "        \"\"\"\n",
        "        if not 0 <= posicao <= self._tamanho:\n",
        "             raise IndexError(\"Índice fora do intervalo para inserção.\")\n",
        "\n",
        "        if posicao == 0:\n",
        "            self.inserir_no_inicio(valor)\n",
        "        elif posicao == self._tamanho:\n",
        "            self.inserir_no_final(valor)\n",
        "        else:\n",
        "            # Encontra o nó que *estará* após o novo nó\n",
        "            no_atual = self._no_em(posicao)\n",
        "            no_anterior = no_atual.anterior\n",
        "            novo_no = NoDuplo(valor)\n",
        "\n",
        "            # Liga novo_no com anterior\n",
        "            novo_no.anterior = no_anterior\n",
        "            no_anterior.proximo = novo_no\n",
        "\n",
        "            # Liga novo_no com atual\n",
        "            novo_no.proximo = no_atual\n",
        "            no_atual.anterior = novo_no\n",
        "\n",
        "            self._tamanho += 1\n",
        "\n",
        "    def remover_do_inicio(self) -> any:\n",
        "        \"\"\"\n",
        "        Remove e retorna o primeiro elemento da lista. O(1)\n",
        "        \"\"\"\n",
        "        if self.esta_vazia():\n",
        "            raise IndexError(\"A lista está vazia.\")\n",
        "\n",
        "        valor_removido = self.inicio.valor\n",
        "        if self._tamanho == 1:\n",
        "            self.inicio = None\n",
        "            self.fim = None\n",
        "        else:\n",
        "            self.inicio = self.inicio.proximo\n",
        "            self.inicio.anterior = None # Nova cabeça não tem anterior\n",
        "\n",
        "        self._tamanho -= 1\n",
        "        return valor_removido\n",
        "\n",
        "    def remover_do_final(self) -> any:\n",
        "        \"\"\"\n",
        "        Remove e retorna o último elemento da lista. O(1)\n",
        "        \"\"\"\n",
        "        if self.esta_vazia():\n",
        "            raise IndexError(\"A lista está vazia.\")\n",
        "\n",
        "        valor_removido = self.fim.valor\n",
        "        if self._tamanho == 1:\n",
        "            self.inicio = None\n",
        "            self.fim = None\n",
        "        else:\n",
        "            self.fim = self.fim.anterior\n",
        "            self.fim.proximo = None # Nova cauda não tem próximo\n",
        "\n",
        "        self._tamanho -= 1\n",
        "        return valor_removido\n",
        "\n",
        "    def remover_em(self, posicao: int) -> any:\n",
        "        \"\"\"\n",
        "        Remove e retorna o elemento da posição especificada. O(n)\n",
        "        \"\"\"\n",
        "        if not 0 <= posicao < self._tamanho:\n",
        "            raise IndexError(\"Índice fora do intervalo para remoção.\")\n",
        "\n",
        "        if posicao == 0:\n",
        "            return self.remover_do_inicio()\n",
        "        if posicao == self._tamanho - 1:\n",
        "            return self.remover_do_final()\n",
        "\n",
        "        # Nó a ser removido\n",
        "        no_removido = self._no_em(posicao)\n",
        "        no_anterior = no_removido.anterior\n",
        "        no_proximo = no_removido.proximo\n",
        "\n",
        "        # Refaz as ligações\n",
        "        no_anterior.proximo = no_proximo\n",
        "        no_proximo.anterior = no_anterior\n",
        "\n",
        "        self._tamanho -= 1\n",
        "        return no_removido.valor\n",
        "\n",
        "    def posicao_de(self, valor: any) -> int:\n",
        "        \"\"\"\n",
        "        Retorna o índice da primeira ocorrência do valor na lista,\n",
        "        ou -1 se não encontrado. O(n)\n",
        "        \"\"\"\n",
        "        atual = self.inicio\n",
        "        pos = 0\n",
        "        while atual:\n",
        "            if atual.valor == valor:\n",
        "                return pos\n",
        "            atual = atual.proximo\n",
        "            pos += 1\n",
        "        return -1\n",
        "\n",
        "    def __contains__(self, valor: any) -> bool:\n",
        "        \"\"\" Permite o uso de 'valor in lista'. O(n) \"\"\"\n",
        "        return self.posicao_de(valor) != -1\n",
        "\n",
        "    def __len__(self) -> int:\n",
        "        \"\"\" Retorna o número de elementos da lista. O(1) \"\"\"\n",
        "        return self._tamanho\n",
        "\n",
        "    def __getitem__(self, posicao: int) -> any:\n",
        "        \"\"\" Permite acessar o valor via lista[i]. O(n) \"\"\"\n",
        "        no = self._no_em(posicao)\n",
        "        return no.valor\n",
        "\n",
        "    def __setitem__(self, posicao: int, valor: any) -> None:\n",
        "        \"\"\" Permite modificar o valor via lista[i] = valor. O(n) \"\"\"\n",
        "        no = self._no_em(posicao)\n",
        "        no.valor = valor\n",
        "\n",
        "    def __iter__(self):\n",
        "        \"\"\" Permite iterar sobre os valores (início ao fim). O(n) \"\"\"\n",
        "        atual = self.inicio\n",
        "        while atual:\n",
        "            yield atual.valor\n",
        "            atual = atual.proximo\n",
        "\n",
        "    def __str__(self) -> str:\n",
        "        \"\"\" Retorna uma representação amigável da lista. O(n) \"\"\"\n",
        "        if self.esta_vazia():\n",
        "            return \"None <- [] -> None\"\n",
        "        valores = \" <-> \".join(str(valor) for valor in self)\n",
        "        return f\"None <- {valores} -> None\"\n",
        "\n",
        "    def __repr__(self) -> str:\n",
        "        \"\"\" Retorna uma representação técnica da lista. O(1) \"\"\"\n",
        "        return f\"ListaDuplamenteLigada(tamanho={self._tamanho})\""
      ]
    },
    {
      "cell_type": "markdown",
      "metadata": {
        "id": "rva92N7hsO-k"
      },
      "source": [
        "#### **Análise de Complexidade**"
      ]
    },
    {
      "cell_type": "markdown",
      "source": [
        "A referências `inicio` e `fim`, junto com o ponteiro `anterior` nos nós, otimiza significativamente as operações nas extremidades da lista."
      ],
      "metadata": {
        "id": "rLQMssx7OFMM"
      }
    },
    {
      "cell_type": "markdown",
      "metadata": {
        "id": "C3Q-fgSzsNTc"
      },
      "source": [
        "### Métodos de uma Lista Duplamente Encadeada\n",
        "\n",
        "| Método              | Finalidade                                                      | Complexidade | Notas                                              |\n",
        "|---------------------|------------------------------------------------------------------|--------------|----------------------------------------------------|\n",
        "| `__init__`          | Inicializa a lista vazia                                         | O(1)         |                                                    |\n",
        "| `limpar`            | Remove todos os elementos                                        | O(1)         |                                                    |\n",
        "| `esta_vazia`        | Verifica se a lista está vazia                                   | O(1)         |                                                    |\n",
        "| `__len__`           | Retorna o número de elementos (`len(lista)`)                     | O(1)         |                                                    |\n",
        "| `__contains__`      | Verifica se um valor está na lista (`valor in lista`)            | O(n)         | Requer travessia                                   |\n",
        "| `__getitem__`       | Acessa um elemento por índice (`lista[i]`)                       | O(n)         | Otimizado para buscar do início/fim                |\n",
        "| `__setitem__`       | Modifica um elemento por índice (`lista[i] = valor`)             | O(n)         | Otimizado para buscar do início/fim                |\n",
        "| `__iter__`          | Permite iteração `for item in lista` (início → fim)              | O(n)         |                                                    |\n",
        "| `__reversed__`      | Permite iteração `for item in reversed(lista)` (fim → início)    | O(n)         | Benefício da dupla ligação                         |\n",
        "| `__str__`           | Representação legível (`print(lista)`)                           | O(n)         |                                                    |\n",
        "| `__repr__`          | Representação técnica                                             | O(1)         |                                                    |\n",
        "| `inserir_no_inicio` | Insere no início da lista                                        | O(1)         |                                                    |\n",
        "| `inserir_no_final`  | Insere no final da lista                                         | O(1)         | Melhora vs. Lista Simples (sem cauda)              |\n",
        "| `inserir_em`        | Insere em posição específica                                     | O(n)         | Requer encontrar a posição                         |\n",
        "| `remover_do_inicio` | Remove e retorna o primeiro elemento                             | O(1)         |                                                    |\n",
        "| `remover_do_final`  | Remove e retorna o último elemento                               | O(1)         | Melhora vs. Lista Simples (sem cauda)              |\n",
        "| `remover_em`        | Remove e retorna o elemento de posição específica                | O(n)         | Requer encontrar a posição                         |\n",
        "| `_no_em` (interno)  | Retorna o nó da posição (otimizado)                              | O(n)         | Base para `__getitem__`, `__setitem__`, `inserir_em`, `remover_em` |\n",
        "| `posicao_de`        | Encontra índice do valor                                         | O(n)         | Requer travessia                                   |\n"
      ]
    },
    {
      "cell_type": "markdown",
      "metadata": {
        "id": "-SZNVU_Lt1Cx"
      },
      "source": [
        "#### **Exemplos de Uso**"
      ]
    },
    {
      "cell_type": "markdown",
      "metadata": {
        "id": "uGReCD_FuCNW"
      },
      "source": [
        "A seguir, demonstramos como utilizar os principais métodos da classe `ListaDuplamenteLigada`:"
      ]
    },
    {
      "cell_type": "markdown",
      "metadata": {
        "id": "MVsABKa-uGBQ"
      },
      "source": [
        "##### **Criando uma Lista**\n"
      ]
    },
    {
      "cell_type": "code",
      "execution_count": 5,
      "metadata": {
        "id": "ArkrrFlRuM2f"
      },
      "outputs": [],
      "source": [
        "lista_dupla = ListaDuplamenteLigada()"
      ]
    },
    {
      "cell_type": "markdown",
      "metadata": {
        "id": "nnC6uv4wz0IW"
      },
      "source": [
        "##### **Verificando se a Lista Está Vazia**"
      ]
    },
    {
      "cell_type": "code",
      "execution_count": 6,
      "metadata": {
        "colab": {
          "base_uri": "https://localhost:8080/"
        },
        "id": "JBFrym9Oz6Ks",
        "outputId": "87110ba9-67d7-4833-8da8-b5898b65ba77"
      },
      "outputs": [
        {
          "output_type": "stream",
          "name": "stdout",
          "text": [
            "True\n"
          ]
        }
      ],
      "source": [
        "print(lista_dupla.esta_vazia())\n",
        "# Saída: True"
      ]
    },
    {
      "cell_type": "markdown",
      "metadata": {
        "id": "0HinHjnmuPwX"
      },
      "source": [
        "##### **Inserindo Elementos no Início**"
      ]
    },
    {
      "cell_type": "code",
      "execution_count": 7,
      "metadata": {
        "id": "qbZ1NS9zul-7"
      },
      "outputs": [],
      "source": [
        "lista_dupla.inserir_no_inicio(\"C\")  # Lista: None <- C -> None\n",
        "lista_dupla.inserir_no_inicio(\"B\")  # Lista: None <- B <-> C -> None\n",
        "lista_dupla.inserir_no_inicio(\"A\")  # Lista: None <- A <-> B -> C -> None"
      ]
    },
    {
      "cell_type": "markdown",
      "metadata": {
        "id": "PBI7_4gXuqfQ"
      },
      "source": [
        "##### **Inserindo Elementos no Final**"
      ]
    },
    {
      "cell_type": "code",
      "execution_count": 8,
      "metadata": {
        "id": "TOIgvlnJusKC"
      },
      "outputs": [],
      "source": [
        "lista_dupla.inserir_no_final(\"D\")   # Lista: None <- A <-> B <-> C <-> D -> None\n",
        "lista_dupla.inserir_no_final(\"E\")   # Lista: None <- A <-> B <-> C <-> D <-> E -> None"
      ]
    },
    {
      "cell_type": "markdown",
      "metadata": {
        "id": "OIBrXBHjuyFG"
      },
      "source": [
        "##### **Exibindo a Lista**"
      ]
    },
    {
      "cell_type": "code",
      "execution_count": 9,
      "metadata": {
        "colab": {
          "base_uri": "https://localhost:8080/"
        },
        "id": "M5i3Je95u5Wo",
        "outputId": "a222da93-fd87-4549-8ef9-2a2176a70f4f"
      },
      "outputs": [
        {
          "output_type": "stream",
          "name": "stdout",
          "text": [
            "None <- A <-> B <-> C <-> D <-> E -> None\n"
          ]
        }
      ],
      "source": [
        "print(lista_dupla)\n",
        "# Saída: None <- A <-> B <-> C <-> D <-> E -> None"
      ]
    },
    {
      "cell_type": "markdown",
      "source": [
        "##### **Removendo Elementos no Início**"
      ],
      "metadata": {
        "id": "tmTH6nJM9rWu"
      }
    },
    {
      "cell_type": "code",
      "source": [
        "lista_dupla.remover_do_inicio()\n",
        "# Saída: A. Lista: None <- B -> C -> D -> E -> None"
      ],
      "metadata": {
        "colab": {
          "base_uri": "https://localhost:8080/",
          "height": 36
        },
        "id": "DrHqJ3Mn9vYG",
        "outputId": "e471f63a-048d-4f22-98e0-adf0d89127c6"
      },
      "execution_count": 10,
      "outputs": [
        {
          "output_type": "execute_result",
          "data": {
            "text/plain": [
              "'A'"
            ],
            "application/vnd.google.colaboratory.intrinsic+json": {
              "type": "string"
            }
          },
          "metadata": {},
          "execution_count": 10
        }
      ]
    },
    {
      "cell_type": "markdown",
      "source": [
        "##### **Removendo Elementos no Fim**"
      ],
      "metadata": {
        "id": "haZXDsZT97xM"
      }
    },
    {
      "cell_type": "code",
      "source": [
        "lista_dupla.remover_do_final()\n",
        "# Saída: E. Lista: None <- B <-> C <-> D -> None"
      ],
      "metadata": {
        "colab": {
          "base_uri": "https://localhost:8080/",
          "height": 36
        },
        "id": "Yko0Gcn49-CS",
        "outputId": "5a634090-2715-4abb-a059-5ab7ee201f8e"
      },
      "execution_count": 11,
      "outputs": [
        {
          "output_type": "execute_result",
          "data": {
            "text/plain": [
              "'E'"
            ],
            "application/vnd.google.colaboratory.intrinsic+json": {
              "type": "string"
            }
          },
          "metadata": {},
          "execution_count": 11
        }
      ]
    },
    {
      "cell_type": "markdown",
      "metadata": {
        "id": "i3GSkQKKu-k4"
      },
      "source": [
        "##### **Tamanho da Lista**"
      ]
    },
    {
      "cell_type": "code",
      "execution_count": 12,
      "metadata": {
        "colab": {
          "base_uri": "https://localhost:8080/"
        },
        "id": "XYExKtzyvZDK",
        "outputId": "dc75a37b-aa8e-4f66-fcc5-2f9d92275d74"
      },
      "outputs": [
        {
          "output_type": "stream",
          "name": "stdout",
          "text": [
            "3\n"
          ]
        }
      ],
      "source": [
        "print(len(lista_dupla))\n",
        "# Saída: 3"
      ]
    },
    {
      "cell_type": "markdown",
      "metadata": {
        "id": "8dR1E4ppvfHQ"
      },
      "source": [
        "##### **Acessando Elemento pelo Índice**"
      ]
    },
    {
      "cell_type": "code",
      "execution_count": 13,
      "metadata": {
        "colab": {
          "base_uri": "https://localhost:8080/"
        },
        "id": "lZYMGmQDvmXz",
        "outputId": "9f71cd58-c8b7-48c8-8d5f-ad87eecbf0a9"
      },
      "outputs": [
        {
          "output_type": "stream",
          "name": "stdout",
          "text": [
            "D\n"
          ]
        }
      ],
      "source": [
        "print(lista_dupla[2])\n",
        "# Saída: D"
      ]
    },
    {
      "cell_type": "markdown",
      "metadata": {
        "id": "uB2J245avrxH"
      },
      "source": [
        "##### **Iterando Sobre os Elementos**\n"
      ]
    },
    {
      "cell_type": "code",
      "execution_count": 14,
      "metadata": {
        "colab": {
          "base_uri": "https://localhost:8080/"
        },
        "id": "tw4nZ5bwvx32",
        "outputId": "3626ce40-2b27-4deb-d2bc-76e6ef6959fe"
      },
      "outputs": [
        {
          "output_type": "stream",
          "name": "stdout",
          "text": [
            "B | C | D | "
          ]
        }
      ],
      "source": [
        "for valor in lista_dupla:\n",
        "    print(valor, end=\" | \")\n",
        "# Saída: B | C | D |"
      ]
    },
    {
      "cell_type": "markdown",
      "metadata": {
        "id": "B8fUsHOt0Cfz"
      },
      "source": [
        "##### **Verificando se um Elemento Está na Lista (Usando `in`)**\n"
      ]
    },
    {
      "cell_type": "code",
      "execution_count": 15,
      "metadata": {
        "colab": {
          "base_uri": "https://localhost:8080/"
        },
        "id": "cFWyBpDv0I73",
        "outputId": "c04383e7-d1ca-46ce-a270-07ef5f0d5ad1"
      },
      "outputs": [
        {
          "output_type": "stream",
          "name": "stdout",
          "text": [
            "True\n",
            "False\n"
          ]
        }
      ],
      "source": [
        "print(\"C\" in lista_dupla)\n",
        "# Saída: True\n",
        "\n",
        "print(\"Z\" in lista_dupla)\n",
        "# Saída: False"
      ]
    },
    {
      "cell_type": "markdown",
      "metadata": {
        "id": "Ga966sx30XyS"
      },
      "source": [
        "## **Benchmark: Lista Duplamente Ligada vs Lista Simplesmente Ligada**"
      ]
    },
    {
      "cell_type": "markdown",
      "source": [
        "Este teste compara a operação de inserção no final.\n",
        "\n",
        "- A Lista Duplamente Ligada realiza essa operação em $O(1)$, pois mantém uma referência direta ao último nó (fim).\n",
        "- A Lista Simplesmente Ligada (do exemplo anterior) precisa percorrer a lista inteira para encontrar o último nó, resultando em $O(n)$."
      ],
      "metadata": {
        "id": "baDLLQJTo7NJ"
      }
    },
    {
      "cell_type": "code",
      "execution_count": 16,
      "metadata": {
        "colab": {
          "base_uri": "https://localhost:8080/",
          "height": 781
        },
        "id": "rzMxOzZu1IbU",
        "outputId": "f7030ed1-0dea-4090-b7f1-e85bf17a9898"
      },
      "outputs": [
        {
          "output_type": "stream",
          "name": "stdout",
          "text": [
            "Iniciando benchmark de inserção no final...\n",
            "Testando inserção de 10 elementos (média de 30 execuções)...\n",
            "  Lista Dupla: 0.000009s | Lista Simples: 0.000008s\n",
            "Testando inserção de 100 elementos (média de 30 execuções)...\n",
            "  Lista Dupla: 0.000083s | Lista Simples: 0.000416s\n",
            "Testando inserção de 1000 elementos (média de 30 execuções)...\n",
            "  Lista Dupla: 0.001746s | Lista Simples: 0.019420s\n",
            "Testando inserção de 10000 elementos (média de 30 execuções)...\n",
            "  Lista Dupla: 0.014535s | Lista Simples: 1.467843s\n",
            "Benchmark concluído.\n"
          ]
        },
        {
          "output_type": "display_data",
          "data": {
            "text/plain": [
              "<Figure size 1000x600 with 1 Axes>"
            ],
            "image/png": "[encoded data removed]"
          },
          "metadata": {}
        }
      ],
      "source": [
        "import time\n",
        "import matplotlib.pyplot as plt\n",
        "\n",
        "# ---------- Lista Simplesmente Ligada ----------\n",
        "class NoSimples:\n",
        "    def __init__(self, valor):\n",
        "        self.valor = valor\n",
        "        self.proximo = None\n",
        "\n",
        "class ListaLigada:\n",
        "    def __init__(self):\n",
        "        self.inicio = None\n",
        "\n",
        "    def inserir_no_final(self, valor):\n",
        "        novo = NoSimples(valor)\n",
        "        if self.inicio is None:\n",
        "            self.inicio = novo\n",
        "        else:\n",
        "            atual = self.inicio\n",
        "            while atual.proximo:\n",
        "                atual = atual.proximo\n",
        "            atual.proximo = novo\n",
        "\n",
        "# ---------- Função para Testes com Média de Execuções ----------\n",
        "def calcular_tempo_medio(func, qtd, execucoes=30):\n",
        "    tempos = []\n",
        "    for _ in range(execucoes):\n",
        "        inicio = time.perf_counter()\n",
        "        func(qtd)\n",
        "        fim = time.perf_counter()\n",
        "        tempos.append(fim - inicio)\n",
        "    return sum(tempos) / execucoes\n",
        "\n",
        "# ---------- Testes Específicos para Cada Estrutura ----------\n",
        "def teste_lista_dupla_final(qtd):\n",
        "    lista = ListaDuplamenteLigada()\n",
        "    for i in range(qtd):\n",
        "        lista.inserir_no_final(i)\n",
        "\n",
        "def teste_lista_simples_final(qtd):\n",
        "    lista = ListaLigada()\n",
        "    for i in range(qtd):\n",
        "        lista.inserir_no_final(i)\n",
        "\n",
        "# ---------- Execução dos Testes ----------\n",
        "tamanhos = [10**i for i in range(1, 5)]\n",
        "tempos_dupla = []\n",
        "tempos_simples = []\n",
        "\n",
        "print(\"Iniciando benchmark de inserção no final...\")\n",
        "for tamanho in tamanhos:\n",
        "    print(f\"Testando inserção de {tamanho} elementos (média de 30 execuções)...\")\n",
        "\n",
        "    tempo_ldl = calcular_tempo_medio(teste_lista_dupla_final, tamanho)\n",
        "\n",
        "    if tamanho <= 10000:\n",
        "        tempo_lsl = calcular_tempo_medio(teste_lista_simples_final, tamanho)\n",
        "    else:\n",
        "        tempo_lsl = float('inf')\n",
        "        print(\"  Skipping Lista Simplesmente Ligada (O(n) insert at end is too slow)\")\n",
        "\n",
        "    print(f\"  Lista Dupla: {tempo_ldl:.6f}s | Lista Simples: {tempo_lsl:.6f}s\")\n",
        "\n",
        "    tempos_dupla.append(tempo_ldl)\n",
        "    tempos_simples.append(tempo_lsl)\n",
        "\n",
        "print(\"Benchmark concluído.\")\n",
        "\n",
        "# ---------- Gráfico ----------\n",
        "plt.figure(figsize=(10, 6))\n",
        "plt.plot(tamanhos, tempos_dupla, label='Lista Duplamente Ligada (O(1))', marker='o')\n",
        "if any(t != float('inf') for t in tempos_simples):\n",
        "    plt.plot(\n",
        "        tamanhos[:len([t for t in tempos_simples if t != float('inf')])],\n",
        "        [t for t in tempos_simples if t != float('inf')],\n",
        "        label='Lista Simplesmente Ligada (O(n))', marker='x'\n",
        "    )\n",
        "\n",
        "plt.xscale('log')\n",
        "plt.yscale('log')\n",
        "plt.xlabel('Quantidade de Elementos (escala log)')\n",
        "plt.ylabel('Tempo Médio (segundos, escala log)')\n",
        "plt.title('Comparação de Tempo Médio de Inserção no Final (30 execuções)')\n",
        "plt.legend()\n",
        "plt.tight_layout()\n",
        "plt.show()\n"
      ]
    },
    {
      "cell_type": "markdown",
      "source": [
        "### **Análise de Desempenho: Inserção no Início**\n",
        "\n",
        "Os testes comparativos entre listas ligadas e listas nativas do Python revelam padrões distintos de desempenho:\n",
        "\n",
        "#### **Pequenas quantidades de dados**\n",
        "- Para volumes reduzidos de inserção, as listas nativas tendem a ser mais rápidas.\n",
        "- Isso ocorre devido à otimização interna do Python e à ausência de sobrecarga com alocação dinâmica de nós.\n",
        "- O custo adicional de criar objetos e manipular ponteiros em listas ligadas impacta mais quando o volume é pequeno.\n",
        "\n",
        "#### **Crescimento da escala**\n",
        "- À medida que a quantidade de inserções aumenta, o custo da operação `insert(0, valor)` em listas nativas cresce proporcionalmente, pois exige o deslocamento de todos os elementos.\n",
        "- Listas ligadas mantêm complexidade constante para inserção no início, tornando-se mais vantajosas com o aumento do tamanho.\n",
        "\n",
        "### **Ponto de virada**\n",
        "- Em determinado ponto, o tempo de inserção da lista ligada se torna inferior ao da lista nativa.\n",
        "- Esse ponto destaca a vantagem da lista ligada para inserções no início.\n",
        "\n"
      ],
      "metadata": {
        "id": "MDjt8noEqRrU"
      }
    },
    {
      "cell_type": "markdown",
      "source": [
        "## **Exercícios**"
      ],
      "metadata": {
        "id": "GD59pJ9dpomx"
      }
    },
    {
      "cell_type": "markdown",
      "source": [
        "**1. Remover Todos os Nós com Valor Repetido:** Implemente um método `remover_repetidos()` que remove todos os nós duplicados, mantendo apenas a primeira ocorrência de cada valor.\n",
        "\n",
        "\n"
      ],
      "metadata": {
        "id": "fkCWKi814veX"
      }
    },
    {
      "cell_type": "code",
      "source": [
        "# Exemplo:\n",
        "# Entrada: A → B → A → C → B → D\n",
        "# Saída:   A → B → C → D"
      ],
      "metadata": {
        "id": "reF4ZqpF4_K4"
      },
      "execution_count": 17,
      "outputs": []
    },
    {
      "cell_type": "markdown",
      "source": [
        "**2. Inverter a Lista:** Crie um método `inverter()` que inverte a ordem dos elementos da lista sem usar estruturas auxiliares (pilhas/filas)."
      ],
      "metadata": {
        "id": "bNOu2ZJh5ANl"
      }
    },
    {
      "cell_type": "code",
      "source": [
        "# Entrada: 1 → 2 → 3 → 4\n",
        "# Saída:   4 → 3 → 2 → 1"
      ],
      "metadata": {
        "id": "fqSbJ3MF5M08"
      },
      "execution_count": 18,
      "outputs": []
    },
    {
      "cell_type": "markdown",
      "source": [
        "**3. Intercalar com Outra Lista:** Implemente intercalar(outra_lista) que recebe outra lista ligada e intercala seus nós com os da lista atual.\n"
      ],
      "metadata": {
        "id": "bPDOiBEV5XIP"
      }
    },
    {
      "cell_type": "code",
      "source": [
        "# Lista 1: A → C → E\n",
        "# Lista 2: B → D → F\n",
        "# Resultado: A → B → C → D → E → F"
      ],
      "metadata": {
        "id": "Zi9o3uEf5iUb"
      },
      "execution_count": 19,
      "outputs": []
    },
    {
      "cell_type": "markdown",
      "source": [
        "**4. Remover Nós com Valor Maior que X:** Crie um método `remover_maiores_que(x)` que remove todos os nós com valor maior que `x`."
      ],
      "metadata": {
        "id": "DtJVggqh5knr"
      }
    },
    {
      "cell_type": "code",
      "source": [
        "# Lista: 3 → 7 → 2 → 9 → 1\n",
        "# x = 5 → Saída: 3 → 2 → 1"
      ],
      "metadata": {
        "id": "6jvMqO6p54pg"
      },
      "execution_count": 20,
      "outputs": []
    },
    {
      "cell_type": "markdown",
      "source": [
        "**5. Dividir em Duas Metades:** Crie `dividir_em_metades()` que divide a lista ao meio e retorna duas novas listas ligadas."
      ],
      "metadata": {
        "id": "bckFop_96Az2"
      }
    },
    {
      "cell_type": "code",
      "source": [
        "# Entrada: A → B → C → D → E\n",
        "# Saída:\n",
        "# Lista 1: A → B → C\n",
        "# Lista 2: D → E"
      ],
      "metadata": {
        "id": "eAlpxaRo6SMr"
      },
      "execution_count": 21,
      "outputs": []
    },
    {
      "cell_type": "markdown",
      "source": [
        "**6. Ordenar a Lista:** Implemente `ordenar()` que ordena a lista ligada, utilizando ordenação por inserção ou merge sort."
      ],
      "metadata": {
        "id": "UMbIPR8F6WUV"
      }
    },
    {
      "cell_type": "code",
      "source": [
        "# Lista original: D → B → A → F → C → E\n",
        "# ordenar()\n",
        "# Resultado: A → B → C → D → E → F"
      ],
      "metadata": {
        "id": "HEMcPVKV62vN"
      },
      "execution_count": 22,
      "outputs": []
    },
    {
      "cell_type": "markdown",
      "source": [
        "**7. Remover Intervalo:** Crie `remover_intervalo(inicio, fim)` que remove todos os nós entre os índices inicio e fim (inclusive)."
      ],
      "metadata": {
        "id": "sVGeBT8Q69ZV"
      }
    },
    {
      "cell_type": "code",
      "source": [
        "# Lista: A → B → C → D → E → F\n",
        "# remover_intervalo(2, 4)\n",
        "# Resultado: A → B → F"
      ],
      "metadata": {
        "id": "RrkvntJh7XaD"
      },
      "execution_count": 23,
      "outputs": []
    },
    {
      "cell_type": "markdown",
      "source": [
        "**8. Comparar Igualdade:** Implemente `eh_igual(outra_lista)` que verifica se duas listas possuem os mesmos valores, na mesma ordem."
      ],
      "metadata": {
        "id": "5hhqo6hf7bH2"
      }
    },
    {
      "cell_type": "code",
      "source": [
        "# Lista 1: A → B → C → D\n",
        "# Lista 2: A → B → C → D\n",
        "# eh_igual(lista1, lista2)\n",
        "# Resultado: True\n",
        "\n",
        "# Lista 3: A → B → X → D\n",
        "# eh_igual(lista1, lista3)\n",
        "# Resultado: False"
      ],
      "metadata": {
        "id": "oMO1W9vF7p7L"
      },
      "execution_count": 24,
      "outputs": []
    }
  ],
  "metadata": {
    "colab": {
      "provenance": [],
      "include_colab_link": true
    },
    "kernelspec": {
      "display_name": "Python 3",
      "name": "python3"
    },
    "language_info": {
      "name": "python"
    }
  },
  "nbformat": 4,
  "nbformat_minor": 0
}