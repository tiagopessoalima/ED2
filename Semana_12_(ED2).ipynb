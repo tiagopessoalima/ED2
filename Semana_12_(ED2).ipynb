{
  "cells": [
    {
      "cell_type": "markdown",
      "metadata": {
        "id": "view-in-github",
        "colab_type": "text"
      },
      "source": [
        "<a href=\"https://colab.research.google.com/github/tiagopessoalima/ED2/blob/main/Semana_12_(ED2).ipynb\" target=\"_parent\"><img src=\"https://colab.research.google.com/assets/colab-badge.svg\" alt=\"Open In Colab\"/></a>"
      ]
    },
    {
      "cell_type": "markdown",
      "metadata": {
        "id": "GmH0zYM7hmh3"
      },
      "source": [
        "# **Árvores Binárias de Busca (BST)**"
      ]
    },
    {
      "cell_type": "markdown",
      "source": [
        "É um tipo especial de árvore binária com uma propriedade fundamental que otimiza operações de busca, inserção e remoção:\n",
        "\n",
        "**Propriedade da BST:** Para qualquer nó `n` na árvore:\n",
        "*   Todos os valores na **subárvore esquerda** de `n` são **menores** que o valor de `n`.\n",
        "*   Todos os valores na **subárvore direita** de `n` são **maiores** que o valor de `n`.\n",
        "\n",
        "Esta propriedade deve ser válida para *todos* os nós da árvore.\n",
        "\n",
        "**Exemplo:**\n",
        "\n",
        "```\n",
        "       8\n",
        "     /   \\\n",
        "    3     10\n",
        "   / \\      \\\n",
        "  1   6      14\n",
        "     / \\    /\n",
        "    4   7  13\n",
        "```\n",
        "\n",
        "Neste exemplo:\n",
        "*   Todos os nós à esquerda de 8 (3, 1, 6, 4, 7) são menores que 8.\n",
        "*   Todos os nós à direita de 8 (10, 14, 13) são maiores que 8.\n",
        "*   Esta regra se aplica recursivamente a cada subárvore.\n",
        "\n",
        "**Vantagens:**\n",
        "*   **Busca Eficiente:** permite descartar metade da árvore a cada comparação, levando a uma complexidade média de $O(\\log n)$.\n",
        "*   **Inserção e Remoção Eficientes:** Similar à busca, estas operações também têm complexidade média $O(\\log n)$.\n",
        "*   **Manutenção da Ordem:** Percorrer uma BST em ordem (in-order traversal) resulta nos elementos ordenados.\n",
        "\n",
        "**Desvantagens:**\n",
        "*   **Desbalanceamento:** O desempenho $O(\\log n)$ depende da árvore ser razoavelmente balanceada. Em casos degenerados (e.g., inserir elementos já ordenados), a árvore pode se tornar similar a uma lista ligada, com desempenho O(n)."
      ],
      "metadata": {
        "id": "wmJN_kLTEyfN"
      }
    },
    {
      "cell_type": "markdown",
      "source": [
        "## **Operações Fundamentais**"
      ],
      "metadata": {
        "id": "zmJNAJoeJ8Cf"
      }
    },
    {
      "cell_type": "markdown",
      "source": [
        "### **Busca**"
      ],
      "metadata": {
        "id": "Ozc5myAUKDX2"
      }
    },
    {
      "cell_type": "markdown",
      "source": [
        "A busca em uma BST aproveita a ordenação para eliminar metade da árvore a cada passo, semelhante à busca binária.\n",
        "\n",
        "**Algoritmo:**\n",
        "1. Comece na raiz.\n",
        "2. Se o valor procurado for igual ao nó atual, retorne o nó.\n",
        "3. Se for menor, vá para a subárvore esquerda.\n",
        "4. Se for maior, vá para a subárvore direita.\n",
        "5. Repita até encontrar o valor ou chegar a um nó nulo.\n",
        "\n",
        "**Complexidade:**\n",
        "- Média: $O(\\log n)$, onde $n$ é o número de nós.\n",
        "- Pior caso: $O(n)$, se a árvore estiver desbalanceada.\n",
        "\n",
        "**Exemplo:**\n",
        "\n",
        "Buscar 40 na árvore abaixo:\n",
        "\n",
        "```\n",
        "      50\n",
        "     /  \\\n",
        "    30   70\n",
        "   /  \\  /  \\\n",
        "  20  40 60  80\n",
        "\n",
        "```\n",
        "\n",
        "- 50 > 40 → vá para 30.\n",
        "- 30 < 40 → vá para 40.\n",
        "- Encontrado."
      ],
      "metadata": {
        "id": "PX5fk_P8KFm1"
      }
    },
    {
      "cell_type": "markdown",
      "source": [
        "### **Inserção**"
      ],
      "metadata": {
        "id": "c7_EzvD8LOsS"
      }
    },
    {
      "cell_type": "markdown",
      "source": [
        "Sempre começa na raiz. Comparamos o valor a ser inserido com o valor do nó atual:\n",
        "1.  Se o valor for **menor**, continuamos a busca na subárvore **esquerda**.\n",
        "2.  Se o valor for **maior**, continuamos a busca na subárvore **direita**.\n",
        "3.  Se encontrarmos um nó `None` (espaço vazio) na posição correta, inserimos o novo nó ali.\n",
        "4.  Se o valor já **existir**, a política padrão é não fazer nada (evitar duplicados).\n",
        "\n",
        "**Exemplo de Inserção (passo a passo):** Inserir `5` na árvore:\n",
        "\n",
        "```\n",
        "       8\n",
        "     /   \\\n",
        "    3     10\n",
        "   / \\      \\\n",
        "  1   6      14\n",
        "     / \\    /\n",
        "    4   7  13\n",
        "```\n",
        "\n",
        "1.  **Comparar com 8:** 5 < 8 -> Vá para a esquerda.\n",
        "2.  **Comparar com 3:** 5 > 3 -> Vá para a direita.\n",
        "3.  **Comparar com 6:** 5 < 6 -> Vá para a esquerda.\n",
        "4.  **Comparar com 4:** 5 > 4 -> Vá para a direita.\n",
        "5.  **Posição encontrada:** O filho direito de 4 é `None`. Inserir 5 aqui.\n",
        "\n",
        "**Nova Árvore:**\n",
        "\n",
        "```\n",
        "       8\n",
        "     /   \\\n",
        "    3     10\n",
        "   / \\      \\\n",
        "  1   6      14\n",
        "     / \\    /\n",
        "    4   7  13\n",
        "     \\\n",
        "      5\n",
        "```"
      ],
      "metadata": {
        "id": "Q8vBErkbNFjn"
      }
    },
    {
      "cell_type": "markdown",
      "source": [
        "### **Remoção**"
      ],
      "metadata": {
        "id": "E6TV-fSNNVd5"
      }
    },
    {
      "cell_type": "markdown",
      "source": [
        "É a operação mais complexa, pois a propriedade da BST deve ser mantida. Existem três casos:"
      ],
      "metadata": {
        "id": "08Y_USRCOsls"
      }
    },
    {
      "cell_type": "markdown",
      "source": [
        "#### **Caso 1: Nó a ser removido é uma folha (sem filhos)**"
      ],
      "metadata": {
        "id": "-QZywsu_OtiD"
      }
    },
    {
      "cell_type": "markdown",
      "source": [
        "A remoção é direta: basta eliminar o nó da árvore, pois ele não afeta a estrutura nem as relações entre os demais nós.\n",
        "\n",
        "Exemplo: Remoção do nó 5\n",
        "\n",
        "Árvore antes da remoção:\n",
        "```\n",
        "       8\n",
        "     /   \\\n",
        "    3     10\n",
        "   / \\      \\\n",
        "  1   6      14\n",
        "     / \\    /\n",
        "    4   7  13\n",
        "     \\\n",
        "      5\n",
        "\n",
        "```\n",
        "Árvore após remover o nó 5:\n",
        "```\n",
        "       8\n",
        "     /   \\\n",
        "    3     10\n",
        "   / \\      \\\n",
        "  1   6      14\n",
        "     / \\    /\n",
        "    4   7  13\n",
        "\n",
        "```\n",
        "\n"
      ],
      "metadata": {
        "id": "I4rQ7mB7Nctw"
      }
    },
    {
      "cell_type": "markdown",
      "source": [
        "#### **Caso 2: Nó a ser removido tem apenas um filho**"
      ],
      "metadata": {
        "id": "SpjfKTOwPDB6"
      }
    },
    {
      "cell_type": "markdown",
      "source": [
        "O nó pode ser substituído diretamente por seu único filho, mantendo a propriedade da BST.\n",
        "\n",
        "Exemplo: Remoção do nó 14.\n",
        "\n",
        "Árvore antes da remoção:\n",
        "\n",
        "```\n",
        "       8\n",
        "     /   \\\n",
        "    3     10\n",
        "   / \\      \\\n",
        "  1   6      14\n",
        "     / \\    /\n",
        "    4   7  13\n",
        "\n",
        "```\n",
        "Árvore após remover o nó 14:\n",
        "\n",
        "```\n",
        "       8\n",
        "     /   \\\n",
        "    3     10\n",
        "   / \\      \\\n",
        "  1   6      13\n",
        "     / \\     \n",
        "    4   7    \n",
        "\n",
        "```"
      ],
      "metadata": {
        "id": "C_bNODKKPHYW"
      }
    },
    {
      "cell_type": "markdown",
      "source": [
        "#### **Caso 3: Nó a ser removido tem dois filhos**"
      ],
      "metadata": {
        "id": "h5Ug7fMtPCGB"
      }
    },
    {
      "cell_type": "markdown",
      "source": [
        "Esse é o caso mais complexo. A solução padrão é substituir o nó pelo seu sucessor (o menor valor na subárvore direita) ou pelo antecessor (o maior valor na subárvore esquerda), garantindo que a propriedade da BST seja preservada.\n",
        "\n",
        "Exemplo: Remoção do nó 3\n",
        "\n",
        "Árvore antes da remoção:\n",
        "```\n",
        "       8\n",
        "     /   \\\n",
        "    3     10\n",
        "   / \\      \\\n",
        "  1   6      14\n",
        "     / \\    /\n",
        "    4   7  13\n",
        "\n",
        "```\n",
        "Árvore após remover o nó 3 (substituído por 4):\n",
        "```\n",
        "       8\n",
        "     /   \\\n",
        "    4     10\n",
        "   / \\      \\\n",
        "  1   6      14\n",
        "       \\    /\n",
        "        7  13\n",
        "\n",
        "```\n"
      ],
      "metadata": {
        "id": "ANU_YhDdQNE9"
      }
    },
    {
      "cell_type": "markdown",
      "source": [
        "## **Implementação**"
      ],
      "metadata": {
        "id": "5oSPlPLtG5xG"
      }
    },
    {
      "cell_type": "markdown",
      "source": [
        "### **Classe No**"
      ],
      "metadata": {
        "id": "0R96LkRkHcYx"
      }
    },
    {
      "cell_type": "markdown",
      "source": [
        "Representa um nó na árvore, contendo um valor e referências para os filhos esquerdo e direito."
      ],
      "metadata": {
        "id": "jf3rBjaUJVkg"
      }
    },
    {
      "cell_type": "code",
      "source": [
        "class No:\n",
        "    \"\"\"\n",
        "    Classe que representa um nó em uma árvore binária.\n",
        "    \"\"\"\n",
        "    def __init__(self, valor):\n",
        "        self.valor = valor\n",
        "        self.esquerda = None\n",
        "        self.direita = None\n",
        "\n",
        "    def __repr__(self):\n",
        "        return str(self.valor)"
      ],
      "metadata": {
        "id": "18jN5eslHeWZ"
      },
      "execution_count": 25,
      "outputs": []
    },
    {
      "cell_type": "markdown",
      "source": [
        "### **Classe ArvoreBinaria**"
      ],
      "metadata": {
        "id": "YN2mcN6dHiBu"
      }
    },
    {
      "cell_type": "markdown",
      "source": [
        "Gerencia a estrutura da árvore binária, oferecendo métodos básicos como verificação de vazio, cálculo da altura e do tamanho."
      ],
      "metadata": {
        "id": "gMLFqKTPJXFi"
      }
    },
    {
      "cell_type": "code",
      "source": [
        "class ArvoreBinaria:\n",
        "    \"\"\"\n",
        "    Implementação de uma árvore binária com métodos para inserção,\n",
        "    cálculo de altura, tamanho e visualização da estrutura.\n",
        "    \"\"\"\n",
        "    def __init__(self, raiz=None):\n",
        "        \"\"\"\n",
        "        Inicializa uma árvore binária.\n",
        "\n",
        "        Parâmetros:\n",
        "        - raiz (No): nó raiz da árvore (default: None)\n",
        "        \"\"\"\n",
        "        self.raiz = raiz\n",
        "\n",
        "    def esta_vazia(self):\n",
        "        \"\"\"\n",
        "        Verifica se a árvore está vazia.\n",
        "\n",
        "        Retorno:\n",
        "        - bool: True se vazia, False caso contrário.\n",
        "\n",
        "        Complexidade: O(1)\n",
        "        \"\"\"\n",
        "        return self.raiz is None\n",
        "\n",
        "    def altura(self):\n",
        "        \"\"\"\n",
        "        Calcula a altura da árvore binária.\n",
        "\n",
        "        Retorno:\n",
        "        - int: altura da árvore. -1 para árvore vazia.\n",
        "\n",
        "        Complexidade: O(n), onde n é o número de nós.\n",
        "        \"\"\"\n",
        "        return self._altura_recursiva(self.raiz)\n",
        "\n",
        "    def _altura_recursiva(self, no):\n",
        "        \"\"\"\n",
        "        Método auxiliar recursivo para cálculo da altura.\n",
        "\n",
        "        Parâmetros:\n",
        "        - no (No): nó atual\n",
        "\n",
        "        Retorno:\n",
        "        - int: altura da subárvore a partir do nó dado\n",
        "        \"\"\"\n",
        "        if no is None:\n",
        "            return -1  # Altura de árvore vazia\n",
        "        return 1 + max(self._altura_recursiva(no.esquerda),\n",
        "                       self._altura_recursiva(no.direita))\n",
        "\n",
        "    def __len__(self):\n",
        "        \"\"\"\n",
        "        Calcula o número total de nós da árvore.\n",
        "\n",
        "        Retorno:\n",
        "        - int: total de nós\n",
        "\n",
        "        Complexidade: O(n), onde n é o número de nós.\n",
        "        \"\"\"\n",
        "        return self._tamanho_recursivo(self.raiz)\n",
        "\n",
        "    def _tamanho_recursivo(self, no):\n",
        "        \"\"\"\n",
        "        Método auxiliar recursivo para cálculo do tamanho da árvore.\n",
        "\n",
        "        Parâmetros:\n",
        "        - no (No): nó atual\n",
        "\n",
        "        Retorno:\n",
        "        - int: número de nós na subárvore\n",
        "        \"\"\"\n",
        "        if no is None:\n",
        "            return 0\n",
        "        return 1 + self._tamanho_recursivo(no.esquerda) + self._tamanho_recursivo(no.direita)\n",
        "\n",
        "    def __repr__(self):\n",
        "        \"\"\"\n",
        "        Retorna uma representação técnica da árvore binária, útil para depuração.\n",
        "\n",
        "        Exemplo: ArvoreBinaria(raiz=No(10))\n",
        "        \"\"\"\n",
        "        return f\"{self.__class__.__name__}(raiz={repr(self.raiz)})\"\n",
        "\n",
        "    def __str__(self):\n",
        "        \"\"\"\n",
        "        Retorna uma representação textual da árvore binária.\n",
        "\n",
        "        Permite o uso de `print(arvore)`.\n",
        "\n",
        "        Complexidade: O(n)\n",
        "        \"\"\"\n",
        "        linhas = []\n",
        "        self._coletar_linhas(self.raiz, \"\", linhas)\n",
        "        return \"\\n\".join(linhas)\n",
        "\n",
        "    def _coletar_linhas(self, no, prefixo, linhas):\n",
        "        if no is not None:\n",
        "            self._coletar_linhas(no.direita, prefixo + \"   \", linhas)\n",
        "            linhas.append(prefixo + str(no.valor))\n",
        "            self._coletar_linhas(no.esquerda, prefixo + \"   \", linhas)\n",
        "\n",
        "    def percurso_pre_ordem(self):\n",
        "        \"\"\"\n",
        "        Retorna uma lista com os valores dos nós no percurso pré-ordem.\n",
        "\n",
        "        Complexidade: O(n)\n",
        "        \"\"\"\n",
        "        return self._pre_ordem(self.raiz)\n",
        "\n",
        "    def _pre_ordem(self, no):\n",
        "        if no is None:\n",
        "            return []\n",
        "        return [no.valor] + self._pre_ordem(no.esquerda) + self._pre_ordem(no.direita)\n",
        "\n",
        "    def percurso_em_ordem(self):\n",
        "        \"\"\"\n",
        "        Retorna uma lista com os valores dos nós no percurso em ordem.\n",
        "\n",
        "        Complexidade: O(n)\n",
        "        \"\"\"\n",
        "        return self._em_ordem(self.raiz)\n",
        "\n",
        "    def _em_ordem(self, no):\n",
        "        if no is None:\n",
        "            return []\n",
        "        return self._em_ordem(no.esquerda) + [no.valor] + self._em_ordem(no.direita)\n",
        "\n",
        "    def percurso_pos_ordem(self):\n",
        "        \"\"\"\n",
        "        Retorna uma lista com os valores dos nós no percurso pós-ordem.\n",
        "\n",
        "        Complexidade: O(n)\n",
        "        \"\"\"\n",
        "        return self._pos_ordem(self.raiz)\n",
        "\n",
        "    def _pos_ordem(self, no):\n",
        "        if no is None:\n",
        "            return []\n",
        "        return self._pos_ordem(no.esquerda) + self._pos_ordem(no.direita) + [no.valor]\n"
      ],
      "metadata": {
        "id": "vE7HnDfDHkUz"
      },
      "execution_count": 26,
      "outputs": []
    },
    {
      "cell_type": "markdown",
      "source": [
        "### **Classe ArvoreBinariaBusca**"
      ],
      "metadata": {
        "id": "4i3H3vARHoA8"
      }
    },
    {
      "cell_type": "markdown",
      "source": [
        "Gerencia a estrutura da BST e implementa as operações principais."
      ],
      "metadata": {
        "id": "DnFbT4WgMoFR"
      }
    },
    {
      "cell_type": "code",
      "source": [
        "class ArvoreBinariaBusca(ArvoreBinaria):\n",
        "    def buscar(self, valor):\n",
        "        return self._buscar_recursivo(self.raiz, valor)\n",
        "\n",
        "    def _buscar_recursivo(self, no, valor):\n",
        "        if no is None or no.valor == valor:\n",
        "            return no\n",
        "        if valor < no.valor:\n",
        "            return self._buscar_recursivo(no.esquerda, valor)\n",
        "        else:\n",
        "            return self._buscar_recursivo(no.direita, valor)\n",
        "\n",
        "    def inserir(self, valor):\n",
        "        self.raiz = self._inserir_recursivo(self.raiz, valor)\n",
        "\n",
        "    def _inserir_recursivo(self, no, valor):\n",
        "        if no is None:\n",
        "            return No(valor)\n",
        "        if valor < no.valor:\n",
        "            no.esquerda = self._inserir_recursivo(no.esquerda, valor)\n",
        "        else:\n",
        "            no.direita = self._inserir_recursivo(no.direita, valor)\n",
        "        return no\n",
        "\n",
        "    def remover(self, valor):\n",
        "        self.raiz = self._remover_recursivo(self.raiz, valor)\n",
        "\n",
        "    def _remover_recursivo(self, no, valor):\n",
        "        if no is None:\n",
        "            return None\n",
        "\n",
        "        if valor < no.valor:\n",
        "            no.esquerda = self._remover_recursivo(no.esquerda, valor)\n",
        "        elif valor > no.valor:\n",
        "            no.direita = self._remover_recursivo(no.direita, valor)\n",
        "        else:\n",
        "            # Caso 1: Nó sem filhos\n",
        "            if no.esquerda is None and no.direita is None:\n",
        "                return None\n",
        "            # Caso 2: Um filho apenas\n",
        "            if no.esquerda is None:\n",
        "                return no.direita\n",
        "            elif no.direita is None:\n",
        "                return no.esquerda\n",
        "            # Caso 3: Dois filhos\n",
        "            sucessor = self._menor_valor(no.direita)\n",
        "            no.valor = sucessor.valor\n",
        "            no.direita = self._remover_recursivo(no.direita, sucessor.valor)\n",
        "\n",
        "        return no\n",
        "\n",
        "    def _menor_valor(self, no):\n",
        "        atual = no\n",
        "        while atual.esquerda is not None:\n",
        "            atual = atual.esquerda\n",
        "        return atual"
      ],
      "metadata": {
        "id": "U12y_q4cHtVL"
      },
      "execution_count": 27,
      "outputs": []
    },
    {
      "cell_type": "markdown",
      "source": [
        "### **Exemplo de Árvore**"
      ],
      "metadata": {
        "id": "axWnecbPVoHM"
      }
    },
    {
      "cell_type": "markdown",
      "source": [
        "Vamos construir a seguinte árvore:\n",
        "\n",
        "```\n",
        "       10\n",
        "      /  \\\n",
        "     5    15\n",
        "    /\n",
        "   3\n",
        "\n",
        "```"
      ],
      "metadata": {
        "id": "-SmzxhAsVgTX"
      }
    },
    {
      "cell_type": "code",
      "source": [
        "# Criando a árvore\n",
        "arvore = ArvoreBinariaBusca()\n",
        "\n",
        "# Inserindo valores\n",
        "for valor in [10, 5, 15, 3]:\n",
        "    arvore.inserir(valor)"
      ],
      "metadata": {
        "id": "Z9dLUehYWQ9q"
      },
      "execution_count": 28,
      "outputs": []
    },
    {
      "cell_type": "markdown",
      "source": [
        "#### **Representações**"
      ],
      "metadata": {
        "id": "DuygQjQWWMse"
      }
    },
    {
      "cell_type": "code",
      "source": [
        "# Representação técnica (__repr__)\n",
        "print(repr(arvore))"
      ],
      "metadata": {
        "colab": {
          "base_uri": "https://localhost:8080/"
        },
        "id": "FLVElmgYWYTf",
        "outputId": "061acc9a-a04f-4cda-a445-101a027ee814"
      },
      "execution_count": 29,
      "outputs": [
        {
          "output_type": "stream",
          "name": "stdout",
          "text": [
            "ArvoreBinariaBusca(raiz=10)\n"
          ]
        }
      ]
    },
    {
      "cell_type": "code",
      "source": [
        "# Representação visual (__str__)\n",
        "print(arvore)"
      ],
      "metadata": {
        "colab": {
          "base_uri": "https://localhost:8080/"
        },
        "id": "1-QlRRyEWZxO",
        "outputId": "8ec7a242-9918-44cf-df9f-782c88c7d83b"
      },
      "execution_count": 30,
      "outputs": [
        {
          "output_type": "stream",
          "name": "stdout",
          "text": [
            "   15\n",
            "10\n",
            "   5\n",
            "      3\n"
          ]
        }
      ]
    },
    {
      "cell_type": "markdown",
      "source": [
        "#### **Testando os Métodos**"
      ],
      "metadata": {
        "id": "KpX1heWeWcyH"
      }
    },
    {
      "cell_type": "code",
      "source": [
        "# Buscando valor\n",
        "valor_buscado = 6\n",
        "resultado = arvore.buscar(valor_buscado)\n",
        "print(f\"Busca por {valor_buscado}: {'Encontrado' if resultado else 'Não encontrado'}\")"
      ],
      "metadata": {
        "colab": {
          "base_uri": "https://localhost:8080/"
        },
        "id": "bYvrvJKbWmh9",
        "outputId": "9867d961-1c08-4904-b8f7-abc4c6c954a4"
      },
      "execution_count": 31,
      "outputs": [
        {
          "output_type": "stream",
          "name": "stdout",
          "text": [
            "Busca por 6: Não encontrado\n"
          ]
        }
      ]
    },
    {
      "cell_type": "code",
      "source": [
        "# Removendo um valor\n",
        "valor_remover = 10\n",
        "print(f\"Removendo {valor_remover}\")\n",
        "arvore.remover(valor_remover)\n",
        "print(arvore)"
      ],
      "metadata": {
        "colab": {
          "base_uri": "https://localhost:8080/"
        },
        "id": "LWSmxcN2WtDf",
        "outputId": "01caa50e-23a0-4720-ee72-82f6f85f0e30"
      },
      "execution_count": 32,
      "outputs": [
        {
          "output_type": "stream",
          "name": "stdout",
          "text": [
            "Removendo 10\n",
            "15\n",
            "   5\n",
            "      3\n"
          ]
        }
      ]
    },
    {
      "cell_type": "code",
      "source": [
        "# Imprimindo após remoção\n",
        "print(\"Árvore após remoção:\")\n",
        "print(arvore.percurso_em_ordem())"
      ],
      "metadata": {
        "colab": {
          "base_uri": "https://localhost:8080/"
        },
        "id": "A1LkSyRxXAHH",
        "outputId": "7ac9f1d6-9808-40ea-b8ad-e61b59fbf1e6"
      },
      "execution_count": 33,
      "outputs": [
        {
          "output_type": "stream",
          "name": "stdout",
          "text": [
            "Árvore após remoção:\n",
            "[3, 5, 15]\n"
          ]
        }
      ]
    },
    {
      "cell_type": "markdown",
      "source": [
        "## **O problema do Desbalanceamento**"
      ],
      "metadata": {
        "id": "Sp2kFL7uTPrL"
      }
    },
    {
      "cell_type": "markdown",
      "source": [
        "O desempenho $O(\\log n)$ das árvores binárias de busca (BSTs) depende de a árvore estar balanceada, ou seja, ter altura próxima de $\\log n$. No entanto, ao inserir elementos já ordenados, a árvore pode degenerar em uma estrutura semelhante a uma lista ligada, com altura $O(n)$ e desempenho degradado para $O(n)$ em buscas, inserções e remoções.\n",
        "\n",
        "\n",
        "Exemplo: inserções em ordem crescente [1, 2, 3, 4, 5]\n",
        "```\n",
        "1\n",
        " \\\n",
        "  2\n",
        "   \\\n",
        "    3\n",
        "     \\\n",
        "      4\n",
        "       \\\n",
        "        5\n",
        "\n",
        "```\n",
        "Essa estrutura totalmente desbalanceada compromete a eficiência da árvore.\n",
        "\n",
        "**Solução: Árvores Auto-Balanceadas**\n",
        "\n",
        "Árvores AVL e as Rubro-Negras resolvem esse problema aplicando rotações automáticas durante inserções e remoções. Isso mantém a árvore aproximadamente balanceada, garantindo complexidade $O(\\log n)$ no pior caso, independente da ordem dos dados inseridos."
      ],
      "metadata": {
        "id": "4iSawqtrTgB8"
      }
    },
    {
      "cell_type": "markdown",
      "source": [
        "## **Exercícios Práticos**"
      ],
      "metadata": {
        "id": "2hhZSEssVXPQ"
      }
    },
    {
      "cell_type": "markdown",
      "source": [
        "**Exercício 1:** Mínimo e Máximo. Implemente `minimo()` e `maximo()`, que retornem, respectivamente, o menor e o maior valor da árvore."
      ],
      "metadata": {
        "id": "isrrPHM2YU3V"
      }
    },
    {
      "cell_type": "code",
      "source": [],
      "metadata": {
        "id": "g1nuZOjUYsbJ"
      },
      "execution_count": null,
      "outputs": []
    },
    {
      "cell_type": "markdown",
      "source": [
        "**Exercício 2:** Balanceamento Simples. Implemente um método `balancear(lista)` que recebe uma lista ordenada e constrói uma árvore binária de busca balanceada a partir dela. A árvore resultante deve ter altura mínima."
      ],
      "metadata": {
        "id": "uc-m9OnZZKyx"
      }
    },
    {
      "cell_type": "code",
      "source": [],
      "metadata": {
        "id": "_o22xP2ZZMx0"
      },
      "execution_count": null,
      "outputs": []
    },
    {
      "cell_type": "markdown",
      "source": [
        "**Exercício 3:** Verificar se a Árvore é BST. Implemente uma função que verifica se uma determinada árvore binária é uma BST válida."
      ],
      "metadata": {
        "id": "QtyEiSn0XsdN"
      }
    },
    {
      "cell_type": "code",
      "source": [],
      "metadata": {
        "id": "HQxeL2wFXzKY"
      },
      "execution_count": null,
      "outputs": []
    }
  ],
  "metadata": {
    "kernelspec": {
      "display_name": "Python 3",
      "language": "python",
      "name": "python3"
    },
    "language_info": {
      "codemirror_mode": {
        "name": "ipython",
        "version": 3
      },
      "file_extension": ".py",
      "mimetype": "text/x-python",
      "name": "python",
      "nbconvert_exporter": "python",
      "pygments_lexer": "ipython3",
      "version": "3.10.12"
    },
    "colab": {
      "provenance": [],
      "include_colab_link": true
    }
  },
  "nbformat": 4,
  "nbformat_minor": 0
}