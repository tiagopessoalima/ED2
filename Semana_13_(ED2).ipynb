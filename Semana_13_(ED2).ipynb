{
  "cells": [
    {
      "cell_type": "markdown",
      "metadata": {
        "id": "view-in-github",
        "colab_type": "text"
      },
      "source": [
        "<a href=\"https://colab.research.google.com/github/tiagopessoalima/ED2/blob/main/Semana_13_(ED2).ipynb\" target=\"_parent\"><img src=\"https://colab.research.google.com/assets/colab-badge.svg\" alt=\"Open In Colab\"/></a>"
      ]
    },
    {
      "cell_type": "markdown",
      "metadata": {
        "id": "GmH0zYM7hmh3"
      },
      "source": [
        "# **Árvores AVL: Balanceamento e Eficiência**"
      ]
    },
    {
      "cell_type": "markdown",
      "source": [
        "Árvores BSTs permitem operações eficientes de busca, inserção e remoção com complexidade média de $O(\\log n)$, desde que a árvore esteja balanceada. No entanto, ao inserir elementos em uma ordem específica — como crescente ou decrescente — a árvore pode degenerar em uma estrutura semelhante a uma lista ligada. Nesses casos, a altura da árvore se torna $O(n)$, o que degrada o desempenho das operações para $O(n)$. Para evitar esse problema, foram desenvolvidas árvores auto-balanceadas, como as Árvores AVL — nomeadas em homenagem a seus criadores, Adelson-Velsky e Landis. Essas estruturas garantem que a altura da árvore permaneça $O(\\log n)$ mesmo no pior caso, por meio de mecanismos automáticos de balanceamento aplicados após inserções e remoções."
      ],
      "metadata": {
        "id": "XCM0Uc_qgq5H"
      }
    },
    {
      "cell_type": "markdown",
      "source": [
        "## **O que são Árvores AVL?**"
      ],
      "metadata": {
        "id": "cg7-zRfthHAZ"
      }
    },
    {
      "cell_type": "markdown",
      "source": [
        "Uma Árvore AVL é uma Árvore Binária de Busca (BST) com uma propriedade adicional de balanceamento: para cada nó, a diferença entre as alturas das subárvores esquerda e direita — conhecida como **fator de balanceamento** — não pode exceder 1. Formalmente:\n",
        "\n",
        "$$\n",
        "|\\text{altura}(n.\\text{esquerda}) - \\text{altura}(n.\\text{direita})| \\leq 1\n",
        "$$\n",
        "\n",
        "Essa restrição garante que a árvore permaneça aproximadamente balanceada, preservando a eficiência das operações básicas (busca, inserção e remoção) com complexidade $O(\\log n)$.\n",
        "\n",
        "**Exemplo de Árvore AVL:**\n",
        "```\n",
        "       30\n",
        "      /  \\\n",
        "     20   40\n",
        "    / \\     \\\n",
        "   10  25    50\n",
        "```\n",
        "\n",
        "Cálculo das alturas:\n",
        "- Nó 10, 25 e 50: folhas ⇒ altura = 0\n",
        "- Nó 20: filhos 10 e 25 ⇒ altura = 1\n",
        "- Nó 40: filho direito 50 ⇒ altura = 1\n",
        "- Nó 30: filhos 20 (altura 1) e 40 (altura 1) ⇒ altura = 2\n",
        "\n",
        "| Nó  | Altura Esq | Altura Dir | FB  |\n",
        "| --- | ---------- | ---------- | --- |\n",
        "| 10  | —          | —          | 0   |\n",
        "| 25  | —          | —          | 0   |\n",
        "| 50  | —          | —          | 0   |\n",
        "| 20  | 0          | 0          | 0   |\n",
        "| 40  | 0          | 0          | -1  |\n",
        "| 30  | 1          | 1          | 0   |\n",
        "\n",
        "Como todos os fatores de balanceamento estão entre -1 e 1, a estrutura atende perfeitamente aos critérios de uma Árvore AVL."
      ],
      "metadata": {
        "id": "bdI11LTLhJat"
      }
    },
    {
      "cell_type": "markdown",
      "source": [
        "## **Rotações para Balanceamento**"
      ],
      "metadata": {
        "id": "xLvYm-JIjHXI"
      }
    },
    {
      "cell_type": "markdown",
      "source": [
        "Árvores AVL utilizam rotações para corrigir desbalanceamentos. Existem dois tipos principais: rotações simples e duplas."
      ],
      "metadata": {
        "id": "XxyKRDoHjLjB"
      }
    },
    {
      "cell_type": "markdown",
      "source": [
        "### **Rotações Simples**"
      ],
      "metadata": {
        "id": "IDXQrm2qjQIX"
      }
    },
    {
      "cell_type": "markdown",
      "source": [
        "1. Rotação à Direita: Aplica-se quando o desbalanceamento ocorre à esquerda (fb > 1)."
      ],
      "metadata": {
        "id": "eUzHZuoqjaUz"
      }
    },
    {
      "cell_type": "markdown",
      "source": [
        "Antes:\n",
        "```\n",
        "    A\n",
        "   /\n",
        "  B\n",
        " /\n",
        "C\n",
        "```\n",
        "Depois:\n",
        "```\n",
        "  B\n",
        " / \\\n",
        "C   A\n",
        "```\n",
        "O nó B sobe, e A torna-se seu filho direito."
      ],
      "metadata": {
        "id": "gPGhPXr9jhFy"
      }
    }
  ],
  "metadata": {
    "kernelspec": {
      "display_name": "Python 3",
      "language": "python",
      "name": "python3"
    },
    "language_info": {
      "codemirror_mode": {
        "name": "ipython",
        "version": 3
      },
      "file_extension": ".py",
      "mimetype": "text/x-python",
      "name": "python",
      "nbconvert_exporter": "python",
      "pygments_lexer": "ipython3",
      "version": "3.10.12"
    },
    "colab": {
      "provenance": [],
      "include_colab_link": true
    }
  },
  "nbformat": 4,
  "nbformat_minor": 0
}