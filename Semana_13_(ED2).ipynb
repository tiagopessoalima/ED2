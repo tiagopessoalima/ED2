{
  "cells": [
    {
      "cell_type": "markdown",
      "metadata": {
        "id": "view-in-github",
        "colab_type": "text"
      },
      "source": [
        "<a href=\"https://colab.research.google.com/github/tiagopessoalima/ED2/blob/main/Semana_13_(ED2).ipynb\" target=\"_parent\"><img src=\"https://colab.research.google.com/assets/colab-badge.svg\" alt=\"Open In Colab\"/></a>"
      ]
    },
    {
      "cell_type": "markdown",
      "metadata": {
        "id": "GmH0zYM7hmh3"
      },
      "source": [
        "# **Balanceamento e Eficiência**"
      ]
    },
    {
      "cell_type": "markdown",
      "source": [
        "Árvores BSTs permitem operações eficientes de busca, inserção e remoção com complexidade média de $O(\\log n)$, desde que a árvore esteja balanceada. No entanto, ao inserir elementos em uma ordem específica — como crescente ou decrescente — a árvore pode degenerar em uma estrutura semelhante a uma lista ligada. Nesses casos, a altura da árvore se torna $O(n)$, o que degrada o desempenho das operações para $O(n)$. Para evitar esse problema, foram desenvolvidas árvores auto-balanceadas, como as Árvores AVL — nomeadas em homenagem a seus criadores, **A**delson-**V**elsky e **L**andis. Essas estruturas garantem que a altura da árvore permaneça $O(\\log n)$ mesmo no pior caso, por meio de mecanismos automáticos de balanceamento aplicados após inserções e remoções."
      ],
      "metadata": {
        "id": "XCM0Uc_qgq5H"
      }
    },
    {
      "cell_type": "markdown",
      "source": [
        "## **O que são Árvores AVL?**"
      ],
      "metadata": {
        "id": "cg7-zRfthHAZ"
      }
    },
    {
      "cell_type": "markdown",
      "source": [
        "São BSTs com uma propriedade adicional: para cada nó, o módulo da diferença entre as alturas das subárvores esquerda e direita — conhecida como **Fator de Balanceamento (FB)** — não pode exceder 1. Formalmente: $\\forall n \\in \\text{AVL},\\ |h_{esq}(n) - h_{dir}(n)| \\leq 1$. Essa restrição garante que a árvore permaneça aproximadamente balanceada, preservando a eficiência das operações com complexidade $O(\\log n)$."
      ],
      "metadata": {
        "id": "3QGQB5k8k18P"
      }
    },
    {
      "cell_type": "markdown",
      "source": [
        "### **Exemplo de Árvore AVL**"
      ],
      "metadata": {
        "id": "P_Ec97NsnR3_"
      }
    },
    {
      "cell_type": "markdown",
      "source": [
        "```\n",
        "       30\n",
        "      /  \\\n",
        "     20   40\n",
        "    / \\     \\\n",
        "   10  25    50\n",
        "```\n",
        "\n",
        "Cálculo das alturas:\n",
        "- Nó $10$, $25$ e $50$: folhas ⇒ altura = $0$\n",
        "- Nó $20$: filhos $10$ e $25$ ⇒ altura = $1$\n",
        "- Nó $40$: filho direito $50$ ⇒ altura = $1$\n",
        "- Nó $30$: filhos $20$ (altura $1$) e $40$ (altura $1$) ⇒ altura = $2$\n",
        "\n",
        "| n   | h_esq(n) | h_dir(n) | FB  |\n",
        "| --- | -------- | -------- | --- |\n",
        "| 10  | —        | —        | 0   |\n",
        "| 25  | —        | —        | 0   |\n",
        "| 50  | —        | —        | 0   |\n",
        "| 20  | 0        | 0        | 0   |\n",
        "| 40  | 0        | 0        | -1  |\n",
        "| 30  | 1        | 1        | 0   |\n",
        "\n",
        "Como todos os FBs estão entre $-1$ e $1$, a estrutura atende perfeitamente aos critérios de uma Árvore AVL. Se, após uma inserção ou remoção, o FB de qualquer nó se tornar $-2$ ou $+2$, a árvore é considerada desbalanceada, e um rebalanceamento é acionado."
      ],
      "metadata": {
        "id": "zVndhcilnWrh"
      }
    },
    {
      "cell_type": "markdown",
      "source": [
        "## **Rotações para Balanceamento**"
      ],
      "metadata": {
        "id": "xLvYm-JIjHXI"
      }
    },
    {
      "cell_type": "markdown",
      "source": [
        "As rotações são ajustes locais na estrutura da árvore que restauram a propriedade de balanceamento, preservando a propriedade de uma árvore binária de busca. Existem quatro tipos de rotações, que são aplicadas dependendo da causa do desbalanceamento:"
      ],
      "metadata": {
        "id": "4Ta6zl80pZWp"
      }
    },
    {
      "cell_type": "markdown",
      "source": [
        "### **Rotações Simples**"
      ],
      "metadata": {
        "id": "PCjYFZZmAsws"
      }
    },
    {
      "cell_type": "markdown",
      "source": [
        "As rotações simples são aplicadas quando o desbalanceamento ocorre na mesma direção em relação ao nó desbalanceado e ao seu filho, ou seja, quando ambos apresentam crescimento excessivo nas subárvores à esquerda (caso LL) ou à direita (caso RR).\n",
        "\n"
      ],
      "metadata": {
        "id": "CRPflOq8ApFp"
      }
    },
    {
      "cell_type": "markdown",
      "source": [
        "#### **Rotação Simples à Direita (LL)**"
      ],
      "metadata": {
        "id": "peeJP7m7pqN3"
      }
    },
    {
      "cell_type": "markdown",
      "source": [
        "É aplicada quando um nó se torna desbalanceado devido a um crescimento excessivo na **subárvore esquerda do filho esquerdo**. Nesse cenário, uma **rotação simples à direita** é suficiente para restaurar o balanceamento da árvore. Exemplo:\n",
        "\n",
        "```\n",
        "      C (FB=2)\n",
        "     /\n",
        "    B (FB=1)\n",
        "   /\n",
        "  A\n",
        "```\n",
        "\n",
        "> A notação **LL** reflete a origem do desequilíbrio: o primeiro L indica que o problema ocorre na subárvore esquerda do nó desbalanceado `C`, e o segundo L aponta que esse desequilíbrio também está na subárvore esquerda de seu filho `B`.\n",
        "\n",
        "Após a rotação simples à direita em `C`, o nó `B` assume a posição de `C`, e `C` se torna o filho direito de `B`. A subárvore direita de `B`, se existir, torna-se a subárvore esquerda de `C`.\n",
        "\n",
        "```\n",
        "      B (FB=0)\n",
        "     / \\\n",
        "    A   C\n",
        "\n",
        "```"
      ],
      "metadata": {
        "id": "Hz-LGekqps75"
      }
    },
    {
      "cell_type": "markdown",
      "source": [
        "#### **Rotação Simples à Esquerda (RR)**"
      ],
      "metadata": {
        "id": "3W-Le8kGsQWd"
      }
    },
    {
      "cell_type": "markdown",
      "source": [
        "Ocorre quando o desbalanceamento é causado por um crescimento excessivo na **subárvore direita do filho direito**. Uma **rotação simples à esquerda** resolve o problema. Exemplo:\n",
        "\n",
        "```\n",
        "  A (FB=-2)\n",
        "   \\\n",
        "    B (FB=-1)\n",
        "     \\\n",
        "      C\n",
        "```\n",
        "> **RR** indica que o problema está na subárvore direita do nó desbalanceado `A` e na subárvore direita de seu filho `B`.\n",
        "\n",
        "Após a rotação simples à esquerda em `A`, o nó `B` sobe, `A` desce para a esquerda, e a subárvore esquerda de `B`, se houver, torna-se a subárvore direita de `A`:\n",
        "```\n",
        "      B (FB=0)\n",
        "     / \\\n",
        "    A   C\n",
        "```\n",
        "\n",
        "\n"
      ],
      "metadata": {
        "id": "P5i7yeuasXPU"
      }
    },
    {
      "cell_type": "markdown",
      "source": [
        "### **Rotações Duplas**\n"
      ],
      "metadata": {
        "id": "YZfFYXXbA-0r"
      }
    },
    {
      "cell_type": "markdown",
      "source": [
        "São aplicadas quando o desbalanceamento ocorre em direções opostas entre o nó desbalanceado e seu filho, caracterizando crescimento assimétrico — subárvore esquerda do nó com subárvore direita do filho (caso LR) ou subárvore direita do nó com subárvore esquerda do filho (caso RL). Nesse cenário, uma única rotação não é suficiente para restaurar o balanceamento estrutural da árvore."
      ],
      "metadata": {
        "id": "_XO6JW8VBEkq"
      }
    },
    {
      "cell_type": "markdown",
      "source": [
        "#### **Rotação Dupla à Esquerda-Direita (LR)**\n"
      ],
      "metadata": {
        "id": "VRK2fqmftB-X"
      }
    },
    {
      "cell_type": "markdown",
      "source": [
        "Ocorre quando um nó fica desbalanceado em razão de um desequilíbrio na subárvore **direita de seu filho esquerdo**. Esse padrão impede que uma rotação simples seja suficiente, exigindo uma **rotação dupla esquerda-direita** para restaurar o balanceamento. Exemplo:\n",
        "\n",
        "```\n",
        "      C (FB=2)\n",
        "     /\n",
        "    A (FB=-1)\n",
        "     \\\n",
        "      B\n",
        "```\n",
        "> A notação **LR** significa: Primeiro L indica que o desequilíbrio está na subárvore esquerda do nó `C`. Segundo R indica que o desequilíbrio está na subárvore direita do filho `A`.\n",
        "\n",
        "Esta situação requer duas rotações:\n",
        "\n",
        "- **Passo 1:** Uma **rotação simples à esquerda** no filho `A`, que transforma a subárvore no caso de uma rotação LL.\n",
        "\n",
        "```\n",
        "      C (FB=2)\n",
        "     /\n",
        "    B (FB=1)\n",
        "   /\n",
        "  A\n",
        "```\n",
        "\n",
        "- **Passo 2:** Uma **rotação simples à direita** no nó original.\n",
        "\n",
        "```\n",
        "      B (FB=0)\n",
        "     / \\\n",
        "    A   C\n",
        "\n",
        "```"
      ],
      "metadata": {
        "id": "r3ybjzJetQM8"
      }
    },
    {
      "cell_type": "markdown",
      "source": [
        "#### **Rotação Dupla à Direita-Esquerda (RL)**"
      ],
      "metadata": {
        "id": "3od6Z0tj4wan"
      }
    },
    {
      "cell_type": "markdown",
      "source": [
        "Ocorre quando um nó fica desbalanceado em razão de um desequilíbrio na subárvore **esquerda de seu filho direito**. Esse padrão impede que uma rotação simples seja suficiente, exigindo uma **rotação dupla direita-esquerda** para restaurar o balanceamento. Exemplo:\n",
        "\n",
        "```\n",
        " A (FB=-2)\n",
        "   \\\n",
        "    C (FB=1)\n",
        "   /\n",
        "  B\n",
        "```\n",
        "\n",
        "> A notação **RL** significa: Primeiro R indica o desequilíbrio na subárvore direita do nó `A`. Segundo L indica o desequilíbrio na subárvore esquerda do filho `C`.\n",
        "\n",
        "Esta situação requer duas rotações:\n",
        "\n",
        "- **Passo 1:** Uma **rotação simples à direita** no filho `C`, que transforma a subárvore no caso de uma rotação RR.\n",
        "\n",
        "```\n",
        "  A (FB=-2)\n",
        "   \\\n",
        "    B (FB=-1)\n",
        "     \\\n",
        "      C\n",
        "```\n",
        "\n",
        "- **Passo 2:** Uma **rotação simples à esquerda** no nó original `A`.\n",
        "\n",
        "```\n",
        "      B (FB=0)\n",
        "     / \\\n",
        "    A   C\n",
        "\n",
        "```"
      ],
      "metadata": {
        "id": "jusqZkEz5H9m"
      }
    },
    {
      "cell_type": "markdown",
      "source": [
        "## **Exercícios**"
      ],
      "metadata": {
        "id": "nteJxpDUsNyI"
      }
    },
    {
      "cell_type": "markdown",
      "source": [
        "### **Exercício 1 — Inserção na ordem: $20$, $10$, $30$.**"
      ],
      "metadata": {
        "id": "gvCZbOvH_eK-"
      }
    },
    {
      "cell_type": "markdown",
      "source": [
        "```\n",
        "20 (FB=0)   →   20 (FB=1)   →   20 (FB=0)\n",
        "               /               /  \\\n",
        "             10 (FB=0)       10   30 (FB=0)\n",
        "\n",
        "Árvore permanece balanceada, não há necessidade de rotações.\n",
        "```\n"
      ],
      "metadata": {
        "id": "mI5UbCV0_l93"
      }
    },
    {
      "cell_type": "markdown",
      "source": [
        "### **Exercício 2 — Inserção na ordem: $30$, $20$, $10$.**"
      ],
      "metadata": {
        "id": "gE4HnF5Q6wU9"
      }
    },
    {
      "cell_type": "markdown",
      "source": [
        "\n",
        "\n",
        "```\n",
        "30 (FB=0)  →  30 (FB=1)  →  30 (FB=2)\n",
        "               /             /\n",
        "             20 (FB=0)     20 (FB=1)\n",
        "                            /\n",
        "                          10 (FB=0)\n",
        "\n",
        "→ Rotação Simples à Direita em 30\n",
        "\n",
        "Resultado final:\n",
        "\n",
        "       20 (FB=0)\n",
        "      /   \\\n",
        "  10 (FB=0) 30 (FB=0)\n",
        "\n",
        "```"
      ],
      "metadata": {
        "id": "xXZ4Ba5A66AB"
      }
    },
    {
      "cell_type": "markdown",
      "source": [
        "### **Exercício 3 - Inserção na ordem: $10$, $20$, $30$.**"
      ],
      "metadata": {
        "id": "qRcxJ1Jk70rA"
      }
    },
    {
      "cell_type": "markdown",
      "source": [
        "```\n",
        "10 (FB=0)  →  10 (FB=-1)  →  10 (FB=-2)\n",
        "                 \\              \\\n",
        "                20 (FB=0)       20 (FB=-1)\n",
        "                                  \\\n",
        "                                  30 (FB=0)\n",
        "\n",
        "→ Rotação Simples à Esquerda em 10\n",
        "\n",
        "Resultado final:\n",
        "\n",
        "       20 (FB=0)\n",
        "      /   \\\n",
        "  10 (FB=0) 30 (FB=0)\n",
        "```"
      ],
      "metadata": {
        "id": "smQbJ7WW78EK"
      }
    },
    {
      "cell_type": "markdown",
      "source": [
        "### **Exercício 4 — Inserção na ordem: $30$, $10$, $20$.**"
      ],
      "metadata": {
        "id": "ZS-_V46I8lkP"
      }
    },
    {
      "cell_type": "markdown",
      "source": [
        "```\n",
        "30 (FB=0)   →   30 (FB=1)   →   30 (FB=2)\n",
        "               /               /\n",
        "            10 (FB=0)       10 (FB=-1)\n",
        "                               \\\n",
        "                               20 (FB=0)\n",
        "\n",
        "→ Rotação Simples à Esquerda em 10\n",
        "\n",
        "       30 (FB=2)\n",
        "      /\n",
        "    20 (FB=1)\n",
        "   /\n",
        " 10 (FB=0)\n",
        "\n",
        "→ Rotação Simples à Direita em 30\n",
        "\n",
        "       20 (FB=0)\n",
        "      /    \\\n",
        "  10 (FB=0) 30 (FB=0)\n",
        "\n",
        "```"
      ],
      "metadata": {
        "id": "bUHiI5u2-KuO"
      }
    },
    {
      "cell_type": "markdown",
      "source": [
        "### **Exercício 5 — Dada a seguinte árvore, remova o nó $80$.**"
      ],
      "metadata": {
        "id": "WabAJ4rmCFtu"
      }
    },
    {
      "cell_type": "markdown",
      "source": [
        "Antes da remoção:\n",
        "\n",
        "```\n",
        "        50\n",
        "       /  \\\n",
        "     30    70\n",
        "     / \\   / \\\n",
        "   20  40 60 80\n",
        "\n",
        "```\n",
        "\n",
        "Após remoção\n",
        "\n",
        "```\n",
        "        50\n",
        "       /  \\\n",
        "     30    70\n",
        "     / \\   /\n",
        "   20  40 60\n",
        "\n",
        "```\n",
        "\n",
        "Fatores de balanceamento:\n",
        "\n",
        "| Nó | FB |\n",
        "| -- | -- |\n",
        "| 20 | 0  |\n",
        "| 40 | 0  |\n",
        "| 60 | 0  |\n",
        "| 70 | 1  |\n",
        "| 30 | 0  |\n",
        "| 50 | 0  |\n",
        "\n",
        "Árvore continua balanceada. Nenhuma rotação é necessária.\n"
      ],
      "metadata": {
        "id": "6wOJIQISCK8s"
      }
    },
    {
      "cell_type": "markdown",
      "source": [
        "### **Exercício 6 — Dada a seguinte árvore, remova o nó $80$.**"
      ],
      "metadata": {
        "id": "vLPQIaZNC-rD"
      }
    },
    {
      "cell_type": "markdown",
      "source": [
        "Construa com: 50, 30, 70, 20, 40, 60, 80, 65. Remova 80.\n",
        "\n",
        "Antes da remoção:\n",
        "```\n",
        "        50\n",
        "       /  \\\n",
        "     30    70\n",
        "     / \\   / \\\n",
        "   20  40 60  80\n",
        "           \\\n",
        "            65\n",
        "\n",
        "```\n",
        "\n",
        "Após remover 80\n",
        "\n",
        "```\n",
        "        50\n",
        "       /  \\\n",
        "     30    70\n",
        "     / \\   /\n",
        "   20  40 60\n",
        "             \\\n",
        "              65\n",
        "\n",
        "```\n",
        "\n",
        "Fatores de balanceamento:\n",
        "\n",
        "| Nó | FB |\n",
        "| -- | ---|\n",
        "| 20 | 0  |\n",
        "| 40 | 0  |\n",
        "| 65 | 0  |\n",
        "| 60 | -1 |\n",
        "| 70 | -2 |\n",
        "| 30 | 0  |\n",
        "| 50 | -1 |\n",
        "\n",
        "Desbalanceado no nó 70 (FB = -2), padrão RL (esquerda do filho direito).\n",
        "\n",
        "- Passo 1 — Rotação simples à direita em 60:\n",
        "\n",
        "```\n",
        "        50\n",
        "       /  \\\n",
        "     30    70\n",
        "     / \\   /\n",
        "   20  40 65\n",
        "           /\n",
        "         60\n",
        "\n",
        "```\n",
        "\n",
        "- Passo 2 — Rotação simples à esquerda em 70:\n",
        "\n",
        "```\n",
        "        50\n",
        "       /  \\\n",
        "     30    65\n",
        "     / \\   / \\\n",
        "   20  40 60 70\n",
        "\n",
        "```\n",
        "\n",
        "Fatores de balanceamento:\n",
        "\n",
        "| Nó | FB |\n",
        "| -- | -- |\n",
        "| 20 | 0  |\n",
        "| 40 | 0  |\n",
        "| 60 | 0  |\n",
        "| 70 | 0  |\n",
        "| 30 | 0  |\n",
        "| 65 | 0  |\n",
        "| 50 | 0  |"
      ],
      "metadata": {
        "id": "vlj07KUUD31f"
      }
    },
    {
      "cell_type": "markdown",
      "source": [
        "## **Desafios**"
      ],
      "metadata": {
        "id": "_76ZWJpIFqQs"
      }
    },
    {
      "cell_type": "markdown",
      "source": [
        "### **Desafio 1 - Inserção na ordem: $40$, $20$, $60$, $10$, $25$, $30$.**\n",
        "- Verifique onde ocorre o desbalanceamento.\n",
        "- Dica: Há uma necessidade de rotação dupla (LR)."
      ],
      "metadata": {
        "id": "3u8PCgb7FsKq"
      }
    },
    {
      "cell_type": "markdown",
      "source": [
        "### **Desafio 2 — Inserção na ordem: $50$, $30$, $70$, $60$, $80$, $90$.**\n",
        "- Insira na ordem e observe que haverá um desbalanceamento.\n",
        "- Dica: Uma rotação simples à esquerda resolve o problema."
      ],
      "metadata": {
        "id": "RlOJVOJRHO81"
      }
    },
    {
      "cell_type": "markdown",
      "source": [
        "### **Desafio 3 — Inserção na ordem: $50$, $30$, $70$, $10$, $40$, $80$, $90$, $85$.**\n",
        "- Analise onde surge o desbalanceamento após inserir 85.\n",
        "- Dica: O padrão é RL (Direita do filho esquerdo). Exige uma rotação dupla."
      ],
      "metadata": {
        "id": "4i-U12nQHh5C"
      }
    },
    {
      "cell_type": "markdown",
      "source": [
        "### **Desafio 4 — Remoção do nó $50$ na seguinte árvore:**\n",
        "\n",
        "Antes da remoção:\n",
        "\n",
        "```\n",
        "        50\n",
        "       /  \\\n",
        "     30    70\n",
        "     / \\   / \\\n",
        "   20  40 60  80\n",
        "```\n"
      ],
      "metadata": {
        "id": "WlpcI8DSHu0Q"
      }
    },
    {
      "cell_type": "markdown",
      "source": [
        "### **Desafio 5 — Desafio Completo (Inserção + Remoção)**\n",
        "Inserção na ordem: $60$, $40$, $80$, $20$, $50$, $70$, $90$, $10$, $30$, $25$.\n",
        "\n",
        "- Após inserir todos, remova os nós $70$ e $80$.\n",
        "- Avalie os fatores de balanceamento após cada remoção.\n",
        "- Dica: Esse desafio exige múltiplas rotações, incluindo duplas."
      ],
      "metadata": {
        "id": "L8hsQUl7IQGq"
      }
    },
    {
      "cell_type": "markdown",
      "source": [
        "## **Vantagens e Desvantagens das Árvores AVL**\n"
      ],
      "metadata": {
        "id": "p_es9YHb6qaP"
      }
    },
    {
      "cell_type": "markdown",
      "source": [
        "### **Vantagens**"
      ],
      "metadata": {
        "id": "Hv5-5-8F6ubQ"
      }
    },
    {
      "cell_type": "markdown",
      "source": [
        "- **Busca Eficiente:** A busca em uma árvore AVL é garantidamente $O(\\log n)$, pois a árvore está sempre balanceada.\n",
        "- **Operações Previsíveis:** As operações de inserção e remoção também possuem complexidade $O(\\log n)$ no pior caso."
      ],
      "metadata": {
        "id": "xkY5Q0Xp6x_4"
      }
    },
    {
      "cell_type": "markdown",
      "source": [
        "### **Desvantagens**"
      ],
      "metadata": {
        "id": "8DxdlH447MNv"
      }
    },
    {
      "cell_type": "markdown",
      "source": [
        "- **Implementação Complexa:** A necessidade de calcular fatores de balanceamento e implementar as quatro lógicas de rotação torna o código mais complexo do que o de uma BST padrão.\n",
        "- **Custo de Inserção e Remoção:** Embora a complexidade seja $O(\\log n)$, as operações de inserção e remoção podem ser mais lentas na prática em comparação com outras árvores balanceadas (como a rubro-negra), devido à necessidade de realizar rotações para manter o critério de balanceamento mais estrito.\n",
        "- **Uso de Memória:** Cada nó precisa armazenar informação adicional para o fator de balanceamento (ou a altura), o que acarreta um pequeno custo de memória extra por nó."
      ],
      "metadata": {
        "id": "nMvV3sHF7QpO"
      }
    },
    {
      "cell_type": "markdown",
      "source": [
        "## **Implementação**"
      ],
      "metadata": {
        "id": "DDgJs0at7umK"
      }
    },
    {
      "cell_type": "markdown",
      "source": [
        "Para implementar uma árvore AVL, precisaremos de:\n",
        "\n",
        "1.  **Classe `NoAVL`**: Representa um nó na árvore, contendo o valor, referências para os filhos, e o fator de balanceamento ou altura.\n",
        "2.  **Classe `ArvoreAVL`**: Gerencia a árvore, incluindo métodos para inserção, remoção, busca, cálculo de altura e rotações."
      ],
      "metadata": {
        "id": "v919khVuhNqi"
      }
    },
    {
      "cell_type": "markdown",
      "source": [
        "### **Classe `NoAVL`**"
      ],
      "metadata": {
        "id": "CoXqZPdlzmOd"
      }
    },
    {
      "cell_type": "code",
      "source": [
        "class NoAVL:\n",
        "    def __init__(self, valor):\n",
        "        self.valor = valor\n",
        "        self.esquerda = None\n",
        "        self.direita = None\n",
        "        self.altura = 1  # Altura do nó (folha tem altura 1)\n",
        "\n",
        "    def __repr__(self):\n",
        "        return str(self.valor)"
      ],
      "metadata": {
        "id": "4URlSuqUhlXm"
      },
      "execution_count": 1,
      "outputs": []
    },
    {
      "cell_type": "markdown",
      "source": [
        "### **Classe `ArvoreAVL`**"
      ],
      "metadata": {
        "id": "vX_kTxgkkEj4"
      }
    },
    {
      "cell_type": "code",
      "source": [
        "class ArvoreAVL:\n",
        "    def __init__(self):\n",
        "        self.raiz = None\n",
        "\n",
        "    def _altura(self, no):\n",
        "        if no is None:\n",
        "            return 0\n",
        "        return no.altura\n",
        "\n",
        "    def _fator_balanceamento(self, no):\n",
        "        if no is None:\n",
        "            return 0\n",
        "        return self._altura(no.esquerda) - self._altura(no.direita)\n",
        "\n",
        "    def _atualizar_altura(self, no):\n",
        "        if no is not None:\n",
        "            no.altura = 1 + max(self._altura(no.esquerda), self._altura(no.direita))\n",
        "\n",
        "    def _rotacao_direita(self, y):\n",
        "        x = y.esquerda\n",
        "        T2 = x.direita\n",
        "\n",
        "        # Realiza a rotação\n",
        "        x.direita = y\n",
        "        y.esquerda = T2\n",
        "\n",
        "        # Atualiza alturas\n",
        "        self._atualizar_altura(y)\n",
        "        self._atualizar_altura(x)\n",
        "\n",
        "        return x\n",
        "\n",
        "    def _rotacao_esquerda(self, x):\n",
        "        y = x.direita\n",
        "        T2 = y.esquerda\n",
        "\n",
        "        # Realiza a rotação\n",
        "        y.esquerda = x\n",
        "        x.direita = T2\n",
        "\n",
        "        # Atualiza alturas\n",
        "        self._atualizar_altura(x)\n",
        "        self._atualizar_altura(y)\n",
        "\n",
        "        return y\n",
        "\n",
        "    def inserir(self, valor):\n",
        "        self.raiz = self._inserir_recursivo(self.raiz, valor)\n",
        "\n",
        "    def _inserir_recursivo(self, no, valor):\n",
        "        # 1. Realiza a inserção normal de BST\n",
        "        if no is None:\n",
        "            return NoAVL(valor)\n",
        "\n",
        "        if valor < no.valor:\n",
        "            no.esquerda = self._inserir_recursivo(no.esquerda, valor)\n",
        "        else:\n",
        "            no.direita = self._inserir_recursivo(no.direita, valor)\n",
        "\n",
        "        # 2. Atualiza a altura do nó ancestral\n",
        "        self._atualizar_altura(no)\n",
        "\n",
        "        # 3. Obtém o fator de balanceamento\n",
        "        fator = self._fator_balanceamento(no)\n",
        "\n",
        "        # 4. Se o nó está desbalanceado, então há 4 casos\n",
        "\n",
        "        # Caso LL (Left Left)\n",
        "        if fator > 1 and valor < no.esquerda.valor:\n",
        "            return self._rotacao_direita(no)\n",
        "\n",
        "        # Caso RR (Right Right)\n",
        "        if fator < -1 and valor > no.direita.valor:\n",
        "            return self._rotacao_esquerda(no)\n",
        "\n",
        "        # Caso LR (Left Right)\n",
        "        if fator > 1 and valor > no.esquerda.valor:\n",
        "            no.esquerda = self._rotacao_esquerda(no.esquerda)\n",
        "            return self._rotacao_direita(no)\n",
        "\n",
        "        # Caso RL (Right Left)\n",
        "        if fator < -1 and valor < no.direita.valor:\n",
        "            no.direita = self._rotacao_direita(no.direita)\n",
        "            return self._rotacao_esquerda(no)\n",
        "\n",
        "        return no\n",
        "\n",
        "    def _menor_valor_no(self, no):\n",
        "        atual = no\n",
        "        while atual.esquerda is not None:\n",
        "            atual = atual.esquerda\n",
        "        return atual\n",
        "\n",
        "    def remover(self, valor):\n",
        "        self.raiz = self._remover_recursivo(self.raiz, valor)\n",
        "\n",
        "    def _remover_recursivo(self, no, valor):\n",
        "        # 1. Realiza a remoção normal de BST\n",
        "        if no is None:\n",
        "            return no\n",
        "\n",
        "        if valor < no.valor:\n",
        "            no.esquerda = self._remover_recursivo(no.esquerda, valor)\n",
        "        elif valor > no.valor:\n",
        "            no.direita = self._remover_recursivo(no.direita, valor)\n",
        "        else:\n",
        "            # Nó com um ou nenhum filho\n",
        "            if no.esquerda is None:\n",
        "                temp = no.direita\n",
        "                no = None\n",
        "                return temp\n",
        "            elif no.direita is None:\n",
        "                temp = no.esquerda\n",
        "                no = None\n",
        "                return temp\n",
        "\n",
        "            # Nó com dois filhos: obtém o sucessor in-order (menor na subárvore direita)\n",
        "            temp = self._menor_valor_no(no.direita)\n",
        "            no.valor = temp.valor\n",
        "            no.direita = self._remover_recursivo(no.direita, temp.valor)\n",
        "\n",
        "        if no is None:\n",
        "            return no\n",
        "\n",
        "        # 2. Atualiza a altura do nó atual\n",
        "        self._atualizar_altura(no)\n",
        "\n",
        "        # 3. Obtém o fator de balanceamento\n",
        "        fator = self._fator_balanceamento(no)\n",
        "\n",
        "        # 4. Se o nó está desbalanceado, então há 4 casos\n",
        "\n",
        "        # Caso LL\n",
        "        if fator > 1 and self._fator_balanceamento(no.esquerda) >= 0:\n",
        "            return self._rotacao_direita(no)\n",
        "\n",
        "        # Caso LR\n",
        "        if fator > 1 and self._fator_balanceamento(no.esquerda) < 0:\n",
        "            no.esquerda = self._rotacao_esquerda(no.esquerda)\n",
        "            return self._rotacao_direita(no)\n",
        "\n",
        "        # Caso RR\n",
        "        if fator < -1 and self._fator_balanceamento(no.direita) <= 0:\n",
        "            return self._rotacao_esquerda(no)\n",
        "\n",
        "        # Caso RL\n",
        "        if fator < -1 and self._fator_balanceamento(no.direita) > 0:\n",
        "            no.direita = self._rotacao_direita(no.direita)\n",
        "            return self._rotacao_esquerda(no)\n",
        "\n",
        "        return no\n",
        "\n",
        "    def buscar(self, valor):\n",
        "        return self._buscar_recursivo(self.raiz, valor)\n",
        "\n",
        "    def _buscar_recursivo(self, no, valor):\n",
        "        if no is None or no.valor == valor:\n",
        "            return no\n",
        "        if valor < no.valor:\n",
        "            return self._buscar_recursivo(no.esquerda, valor)\n",
        "        else:\n",
        "            return self._buscar_recursivo(no.direita, valor)\n",
        "\n",
        "    def _imprimir_arvore(self, no, nivel=0, prefixo=\"Raiz: \"):\n",
        "        if no is not None:\n",
        "            print(\"  \" * nivel + prefixo + str(no.valor) + f\" (FB: {self._fator_balanceamento(no)}, Altura: {no.altura})\")\n",
        "            self._imprimir_arvore(no.esquerda, nivel + 1, \"E: \")\n",
        "            self._imprimir_arvore(no.direita, nivel + 1, \"D: \")\n",
        "\n",
        "    def imprimir(self):\n",
        "        self._imprimir_arvore(self.raiz)\n",
        "\n",
        "    def __str__(self):\n",
        "        linhas = []\n",
        "        self._coletar_linhas(self.raiz, \"\", linhas)\n",
        "        return \"\\n\".join(linhas)\n",
        "\n",
        "    def _coletar_linhas(self, no, prefixo, linhas):\n",
        "        if no is not None:\n",
        "            self._coletar_linhas(no.direita, prefixo + \"   \", linhas)\n",
        "            linhas.append(prefixo + str(no.valor))\n",
        "            self._coletar_linhas(no.esquerda, prefixo + \"   \", linhas)\n"
      ],
      "metadata": {
        "id": "OeXBPBZPztjM"
      },
      "execution_count": 2,
      "outputs": []
    },
    {
      "cell_type": "markdown",
      "source": [
        "### **Exemplo de Uso**"
      ],
      "metadata": {
        "id": "1qLH4-z0kYsj"
      }
    },
    {
      "cell_type": "code",
      "source": [
        "arvore_avl = ArvoreAVL()\n",
        "valores = [10, 20, 30, 40, 50, 25]\n",
        "\n",
        "print(\"Inserindo valores na árvore AVL:\")\n",
        "for valor in valores:\n",
        "    arvore_avl.inserir(valor)\n",
        "    print(f\"\\nApós inserir {valor}:\")\n",
        "    arvore_avl.imprimir()\n",
        "\n",
        "print(\"\\nÁrvore AVL final:\")\n",
        "arvore_avl.imprimir()\n",
        "\n",
        "print(\"\\nBuscando valor 30:\")\n",
        "no_encontrado = arvore_avl.buscar(30)\n",
        "if no_encontrado:\n",
        "    print(f\"Valor 30 encontrado: {no_encontrado.valor}\")\n",
        "else:\n",
        "    print(\"Valor 30 não encontrado.\")\n",
        "\n",
        "print(\"\\nRemovendo valor 20:\")\n",
        "arvore_avl.remover(20)\n",
        "print(\"\\nApós remover 20:\")\n",
        "arvore_avl.imprimir()"
      ],
      "metadata": {
        "colab": {
          "base_uri": "https://localhost:8080/"
        },
        "id": "ZhgcPc5IkeF5",
        "outputId": "b98dde1a-7c73-49a8-bea9-917edc1ff046"
      },
      "execution_count": 3,
      "outputs": [
        {
          "output_type": "stream",
          "name": "stdout",
          "text": [
            "Inserindo valores na árvore AVL:\n",
            "\n",
            "Após inserir 10:\n",
            "Raiz: 10 (FB: 0, Altura: 1)\n",
            "\n",
            "Após inserir 20:\n",
            "Raiz: 10 (FB: -1, Altura: 2)\n",
            "  D: 20 (FB: 0, Altura: 1)\n",
            "\n",
            "Após inserir 30:\n",
            "Raiz: 20 (FB: 0, Altura: 2)\n",
            "  E: 10 (FB: 0, Altura: 1)\n",
            "  D: 30 (FB: 0, Altura: 1)\n",
            "\n",
            "Após inserir 40:\n",
            "Raiz: 20 (FB: -1, Altura: 3)\n",
            "  E: 10 (FB: 0, Altura: 1)\n",
            "  D: 30 (FB: -1, Altura: 2)\n",
            "    D: 40 (FB: 0, Altura: 1)\n",
            "\n",
            "Após inserir 50:\n",
            "Raiz: 20 (FB: -1, Altura: 3)\n",
            "  E: 10 (FB: 0, Altura: 1)\n",
            "  D: 40 (FB: 0, Altura: 2)\n",
            "    E: 30 (FB: 0, Altura: 1)\n",
            "    D: 50 (FB: 0, Altura: 1)\n",
            "\n",
            "Após inserir 25:\n",
            "Raiz: 30 (FB: 0, Altura: 3)\n",
            "  E: 20 (FB: 0, Altura: 2)\n",
            "    E: 10 (FB: 0, Altura: 1)\n",
            "    D: 25 (FB: 0, Altura: 1)\n",
            "  D: 40 (FB: -1, Altura: 2)\n",
            "    D: 50 (FB: 0, Altura: 1)\n",
            "\n",
            "Árvore AVL final:\n",
            "Raiz: 30 (FB: 0, Altura: 3)\n",
            "  E: 20 (FB: 0, Altura: 2)\n",
            "    E: 10 (FB: 0, Altura: 1)\n",
            "    D: 25 (FB: 0, Altura: 1)\n",
            "  D: 40 (FB: -1, Altura: 2)\n",
            "    D: 50 (FB: 0, Altura: 1)\n",
            "\n",
            "Buscando valor 30:\n",
            "Valor 30 encontrado: 30\n",
            "\n",
            "Removendo valor 20:\n",
            "\n",
            "Após remover 20:\n",
            "Raiz: 30 (FB: 0, Altura: 3)\n",
            "  E: 25 (FB: 1, Altura: 2)\n",
            "    E: 10 (FB: 0, Altura: 1)\n",
            "  D: 40 (FB: -1, Altura: 2)\n",
            "    D: 50 (FB: 0, Altura: 1)\n"
          ]
        }
      ]
    }
  ],
  "metadata": {
    "kernelspec": {
      "display_name": "Python 3",
      "language": "python",
      "name": "python3"
    },
    "language_info": {
      "codemirror_mode": {
        "name": "ipython",
        "version": 3
      },
      "file_extension": ".py",
      "mimetype": "text/x-python",
      "name": "python",
      "nbconvert_exporter": "python",
      "pygments_lexer": "ipython3",
      "version": "3.10.12"
    },
    "colab": {
      "provenance": [],
      "include_colab_link": true
    }
  },
  "nbformat": 4,
  "nbformat_minor": 0
}