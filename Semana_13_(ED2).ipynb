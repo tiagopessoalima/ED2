{
  "cells": [
    {
      "cell_type": "markdown",
      "metadata": {
        "id": "view-in-github",
        "colab_type": "text"
      },
      "source": [
        "<a href=\"https://colab.research.google.com/github/tiagopessoalima/ED2/blob/main/Semana_13_(ED2).ipynb\" target=\"_parent\"><img src=\"https://colab.research.google.com/assets/colab-badge.svg\" alt=\"Open In Colab\"/></a>"
      ]
    },
    {
      "cell_type": "markdown",
      "metadata": {
        "id": "GmH0zYM7hmh3"
      },
      "source": [
        "# **Balanceamento e Eficiência**"
      ]
    },
    {
      "cell_type": "markdown",
      "source": [
        "Árvores BSTs permitem operações eficientes de busca, inserção e remoção com complexidade média de $O(\\log n)$, desde que a árvore esteja balanceada. No entanto, ao inserir elementos em uma ordem específica — como crescente ou decrescente — a árvore pode degenerar em uma estrutura semelhante a uma lista ligada. Nesses casos, a altura da árvore se torna $O(n)$, o que degrada o desempenho das operações para $O(n)$. Para evitar esse problema, foram desenvolvidas árvores auto-balanceadas, como as Árvores AVL — nomeadas em homenagem a seus criadores, Adelson-Velsky e Landis. Essas estruturas garantem que a altura da árvore permaneça $O(\\log n)$ mesmo no pior caso, por meio de mecanismos automáticos de balanceamento aplicados após inserções e remoções."
      ],
      "metadata": {
        "id": "XCM0Uc_qgq5H"
      }
    },
    {
      "cell_type": "markdown",
      "source": [
        "## **O que são Árvores AVL?**"
      ],
      "metadata": {
        "id": "cg7-zRfthHAZ"
      }
    },
    {
      "cell_type": "markdown",
      "source": [
        "São BSTs com uma propriedade adicional: para cada nó, o módulo da diferença entre as alturas das subárvores esquerda e direita — conhecida como **Fator de Balanceamento** — não pode exceder 1. Formalmente: $\\forall n \\in \\text{AVL},\\ |h_{esq}(n) - h_{dir}(n)| \\leq 1$. Essa restrição garante que a árvore permaneça aproximadamente balanceada, preservando a eficiência das operações com complexidade $O(\\log n)$."
      ],
      "metadata": {
        "id": "3QGQB5k8k18P"
      }
    },
    {
      "cell_type": "markdown",
      "source": [
        "### **Exemplo de Árvore AVL**"
      ],
      "metadata": {
        "id": "P_Ec97NsnR3_"
      }
    },
    {
      "cell_type": "markdown",
      "source": [
        "```\n",
        "       30\n",
        "      /  \\\n",
        "     20   40\n",
        "    / \\     \\\n",
        "   10  25    50\n",
        "```\n",
        "\n",
        "Cálculo das alturas:\n",
        "- Nó 10, 25 e 50: folhas ⇒ altura = 0\n",
        "- Nó 20: filhos 10 e 25 ⇒ altura = 1\n",
        "- Nó 40: filho direito 50 ⇒ altura = 1\n",
        "- Nó 30: filhos 20 (altura 1) e 40 (altura 1) ⇒ altura = 2\n",
        "\n",
        "| Nó  | Altura Esq | Altura Dir | FB  |\n",
        "| --- | ---------- | ---------- | --- |\n",
        "| 10  | —          | —          | 0   |\n",
        "| 25  | —          | —          | 0   |\n",
        "| 50  | —          | —          | 0   |\n",
        "| 20  | 0          | 0          | 0   |\n",
        "| 40  | 0          | 0          | -1  |\n",
        "| 30  | 1          | 1          | 0   |\n",
        "\n",
        "Como todos os fatores de balanceamento estão entre -1 e 1, a estrutura atende perfeitamente aos critérios de uma Árvore AVL.\n",
        "\n",
        "> Se, após uma inserção ou remoção, o Fator de Balanceamento de qualquer nó se tornar -2 ou +2, a árvore é considerada desbalanceada, e um rebalanceamento é acionado.\n",
        "\n"
      ],
      "metadata": {
        "id": "zVndhcilnWrh"
      }
    },
    {
      "cell_type": "markdown",
      "source": [
        "## **Rotações para Balanceamento**"
      ],
      "metadata": {
        "id": "xLvYm-JIjHXI"
      }
    },
    {
      "cell_type": "markdown",
      "source": [
        "O rebalanceamento de uma árvore AVL é realizado através de operações chamadas rotações. As rotações são ajustes locais na estrutura da árvore que restauram a propriedade de balanceamento, preservando a propriedade de uma árvore binária de busca. Existem quatro tipos de rotações, que são aplicadas dependendo da causa do desbalanceamento:"
      ],
      "metadata": {
        "id": "4Ta6zl80pZWp"
      }
    },
    {
      "cell_type": "markdown",
      "source": [
        "### **Rotação Simples à Direita (LL)**"
      ],
      "metadata": {
        "id": "peeJP7m7pqN3"
      }
    },
    {
      "cell_type": "markdown",
      "source": [
        "É aplicada quando um nó se torna desbalanceado devido à inserção na subárvore **esquerda de seu filho esquerdo**. Nesse caso, uma **rotação simples à direita** é suficiente para restaurar o balanceamento.\n",
        "\n",
        "```\n",
        "      C (FB=-2)\n",
        "     /\n",
        "    B (FB=-1)\n",
        "   /\n",
        "  A\n",
        "```\n",
        "Após a rotação simples à direita em `C`, o nó `B` assume a posição de `C`, e `C` se torna o filho direito de `B`. A subárvore direita de `B`, se existir, torna-se a subárvore esquerda de `C`. O resultado é uma árvore balanceada:\n",
        "\n",
        "```\n",
        "      B (FB=0)\n",
        "     / \\\n",
        "    A   C\n",
        "\n",
        "```"
      ],
      "metadata": {
        "id": "Hz-LGekqps75"
      }
    },
    {
      "cell_type": "markdown",
      "source": [
        "### **Rotação Simples à Esquerda (RR)**"
      ],
      "metadata": {
        "id": "3W-Le8kGsQWd"
      }
    },
    {
      "cell_type": "markdown",
      "source": [
        "É aplicada quando um nó se torna desbalanceado devido a um desequilíbrio na subárvore **direita de seu filho direito**. Nesse caso, uma **rotação simples à esquerda** é suficiente para restaurar o balanceamento. Exemplo:\n",
        "\n",
        "```\n",
        "  A (FB=+2)\n",
        "   \\\n",
        "    B (FB=+1)\n",
        "     \\\n",
        "      C\n",
        "```\n",
        "Após a rotação simples à esquerda em `A`, o nó `B` sobe, `A` desce para a esquerda, e a subárvore esquerda de `B`, se houver, torna-se a subárvore direita de `A`:\n",
        "```\n",
        "      B (FB=0)\n",
        "     / \\\n",
        "    A   C\n",
        "```\n",
        "\n",
        "\n"
      ],
      "metadata": {
        "id": "P5i7yeuasXPU"
      }
    },
    {
      "cell_type": "markdown",
      "source": [
        "### **Rotação Dupla à Esquerda-Direita (LR)**\n"
      ],
      "metadata": {
        "id": "VRK2fqmftB-X"
      }
    },
    {
      "cell_type": "markdown",
      "source": [
        "Ocorre quando um nó fica desbalanceado em razão de um desequilíbrio na subárvore **direita de seu filho esquerdo**. Esse padrão impede que uma rotação simples seja suficiente, exigindo uma **rotação dupla esquerda-direita (ER)** para restaurar o balanceamento. Exemplo:\n",
        "\n",
        "```\n",
        "      C (FB=-2)\n",
        "     /\n",
        "    A (FB=+1)\n",
        "     \\\n",
        "      B\n",
        "```\n",
        "\n",
        "Esta situação requer duas rotações:\n",
        "\n",
        "- **Passo 1:** Uma **rotação simples à esquerda** no filho `A`, que transforma a subárvore no caso de uma rotação LL.\n",
        "\n",
        "```\n",
        "      C\n",
        "     /\n",
        "    B\n",
        "   /\n",
        "  A\n",
        "\n",
        "```\n",
        "\n",
        "- **Passo 2:** Uma **rotação simples à direita** no nó original.\n",
        "\n",
        "```\n",
        "      B\n",
        "     / \\\n",
        "    A   C\n",
        "\n",
        "```\n",
        "\n"
      ],
      "metadata": {
        "id": "r3ybjzJetQM8"
      }
    },
    {
      "cell_type": "markdown",
      "source": [
        "### **Rotação Dupla à Direita-Esquerda (RL)**"
      ],
      "metadata": {
        "id": "3od6Z0tj4wan"
      }
    },
    {
      "cell_type": "markdown",
      "source": [
        "Ocorre quando um nó fica desbalanceado em razão de um desequilíbrio na subárvore **esquerda de seu filho direito**. Esse padrão impede que uma rotação simples seja suficiente, exigindo uma **rotação dupla direita-esquerda (RL)** para restaurar o balanceamento. Exemplo:\n",
        "\n",
        "```\n",
        " A (FB=+2)\n",
        "   \\\n",
        "    C (FB=-1)\n",
        "   /\n",
        "  B\n",
        "```\n",
        "Esta situação requer duas rotações:\n",
        "\n",
        "- **Passo 1:** Uma **rotação simples à direita** no filho `C`, que transforma a subárvore no caso de uma rotação RR.\n",
        "\n",
        "```\n",
        "  A\n",
        "   \\\n",
        "    B\n",
        "     \\\n",
        "      C\n",
        "\n",
        "```\n",
        "- **Passo 2:** Uma **rotação simples à esquerda** no nó original `A`.\n",
        "\n",
        "```\n",
        "      B\n",
        "     / \\\n",
        "    A   C\n",
        "\n",
        "```"
      ],
      "metadata": {
        "id": "jusqZkEz5H9m"
      }
    },
    {
      "cell_type": "markdown",
      "source": [
        "## **Vantagens e Desvantagens das Árvores AV**L\n"
      ],
      "metadata": {
        "id": "p_es9YHb6qaP"
      }
    },
    {
      "cell_type": "markdown",
      "source": [
        "### **Vantagens**"
      ],
      "metadata": {
        "id": "Hv5-5-8F6ubQ"
      }
    },
    {
      "cell_type": "markdown",
      "source": [
        "- **Busca Eficiente:** A busca em uma árvore AVL é garantidamente $O(\\log n)$, pois a árvore está sempre balanceada.\n",
        "- **Operações Previsíveis:** As operações de inserção e remoção também possuem complexidade $O(\\log n)$ no pior caso."
      ],
      "metadata": {
        "id": "xkY5Q0Xp6x_4"
      }
    },
    {
      "cell_type": "markdown",
      "source": [
        "### **Desvantagens**"
      ],
      "metadata": {
        "id": "8DxdlH447MNv"
      }
    },
    {
      "cell_type": "markdown",
      "source": [
        "- **Implementação Complexa:** A necessidade de calcular fatores de balanceamento e implementar as quatro lógicas de rotação torna o código mais complexo do que o de uma BST padrão.\n",
        "- **Custo de Inserção e Remoção:** Embora a complexidade seja $O(\\log n)$, as operações de inserção e remoção podem ser mais lentas na prática em comparação com outras árvores balanceadas (como a rubro-negra), devido à necessidade de realizar rotações para manter o critério de balanceamento mais estrito.\n",
        "- **Uso de Memória:** Cada nó precisa armazenar informação adicional para o fator de balanceamento (ou a altura), o que acarreta um pequeno custo de memória extra por nó."
      ],
      "metadata": {
        "id": "nMvV3sHF7QpO"
      }
    },
    {
      "cell_type": "markdown",
      "source": [
        "## **Implementação**"
      ],
      "metadata": {
        "id": "DDgJs0at7umK"
      }
    }
  ],
  "metadata": {
    "kernelspec": {
      "display_name": "Python 3",
      "language": "python",
      "name": "python3"
    },
    "language_info": {
      "codemirror_mode": {
        "name": "ipython",
        "version": 3
      },
      "file_extension": ".py",
      "mimetype": "text/x-python",
      "name": "python",
      "nbconvert_exporter": "python",
      "pygments_lexer": "ipython3",
      "version": "3.10.12"
    },
    "colab": {
      "provenance": [],
      "include_colab_link": true
    }
  },
  "nbformat": 4,
  "nbformat_minor": 0
}