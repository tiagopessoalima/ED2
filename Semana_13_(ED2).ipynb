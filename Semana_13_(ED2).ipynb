{
  "cells": [
    {
      "cell_type": "markdown",
      "metadata": {
        "id": "view-in-github",
        "colab_type": "text"
      },
      "source": [
        "<a href=\"https://colab.research.google.com/github/tiagopessoalima/ED2/blob/main/Semana_13_(ED2).ipynb\" target=\"_parent\"><img src=\"https://colab.research.google.com/assets/colab-badge.svg\" alt=\"Open In Colab\"/></a>"
      ]
    },
    {
      "cell_type": "markdown",
      "metadata": {
        "id": "GmH0zYM7hmh3"
      },
      "source": [
        "# **Balanceamento e Eficiência**"
      ]
    },
    {
      "cell_type": "markdown",
      "source": [
        "Árvores BSTs permitem operações eficientes de busca, inserção e remoção com complexidade média de $O(\\log n)$, desde que a árvore esteja balanceada. No entanto, ao inserir elementos em uma ordem específica — como crescente ou decrescente — a árvore pode degenerar em uma estrutura semelhante a uma lista ligada. Nesses casos, a altura da árvore se torna $O(n)$, o que degrada o desempenho das operações para $O(n)$. Para evitar esse problema, foram desenvolvidas árvores auto-balanceadas, como as Árvores AVL — nomeadas em homenagem a seus criadores, Adelson-Velsky e Landis. Essas estruturas garantem que a altura da árvore permaneça $O(\\log n)$ mesmo no pior caso, por meio de mecanismos automáticos de balanceamento aplicados após inserções e remoções."
      ],
      "metadata": {
        "id": "XCM0Uc_qgq5H"
      }
    },
    {
      "cell_type": "markdown",
      "source": [
        "## **O que são Árvores AVL?**"
      ],
      "metadata": {
        "id": "cg7-zRfthHAZ"
      }
    },
    {
      "cell_type": "markdown",
      "source": [
        "São BSTs com uma propriedade adicional: para cada nó, o módulo da diferença entre as alturas das subárvores esquerda e direita — conhecida como **Fator de Balanceamento** — não pode exceder 1. Formalmente: $\\forall n \\in \\text{AVL},\\ |h_{esq}(n) - h_{dir}(n)| \\leq 1$. Essa restrição garante que a árvore permaneça aproximadamente balanceada, preservando a eficiência das operações com complexidade $O(\\log n)$."
      ],
      "metadata": {
        "id": "3QGQB5k8k18P"
      }
    },
    {
      "cell_type": "markdown",
      "source": [
        "### **Exemplo de Árvore AVL**"
      ],
      "metadata": {
        "id": "P_Ec97NsnR3_"
      }
    },
    {
      "cell_type": "markdown",
      "source": [
        "```\n",
        "       30\n",
        "      /  \\\n",
        "     20   40\n",
        "    / \\     \\\n",
        "   10  25    50\n",
        "```\n",
        "\n",
        "Cálculo das alturas:\n",
        "- Nó 10, 25 e 50: folhas ⇒ altura = 0\n",
        "- Nó 20: filhos 10 e 25 ⇒ altura = 1\n",
        "- Nó 40: filho direito 50 ⇒ altura = 1\n",
        "- Nó 30: filhos 20 (altura 1) e 40 (altura 1) ⇒ altura = 2\n",
        "\n",
        "| Nó  | Altura Esq | Altura Dir | FB  |\n",
        "| --- | ---------- | ---------- | --- |\n",
        "| 10  | —          | —          | 0   |\n",
        "| 25  | —          | —          | 0   |\n",
        "| 50  | —          | —          | 0   |\n",
        "| 20  | 0          | 0          | 0   |\n",
        "| 40  | 0          | 0          | -1  |\n",
        "| 30  | 1          | 1          | 0   |\n",
        "\n",
        "Como todos os fatores de balanceamento estão entre -1 e 1, a estrutura atende perfeitamente aos critérios de uma Árvore AVL.\n",
        "\n",
        "> Se, após uma inserção ou remoção, o Fator de Balanceamento de qualquer nó se tornar -2 ou +2, a árvore é considerada desbalanceada, e um rebalanceamento é acionado.\n",
        "\n"
      ],
      "metadata": {
        "id": "zVndhcilnWrh"
      }
    },
    {
      "cell_type": "markdown",
      "source": [
        "## **Rotações para Balanceamento**"
      ],
      "metadata": {
        "id": "xLvYm-JIjHXI"
      }
    },
    {
      "cell_type": "markdown",
      "source": [
        "O rebalanceamento de uma árvore AVL é realizado através de operações chamadas rotações. As rotações são ajustes locais na estrutura da árvore que restauram a propriedade de balanceamento, preservando a propriedade de uma árvore binária de busca. Existem quatro tipos de rotações, que são aplicadas dependendo da causa do desbalanceamento:"
      ],
      "metadata": {
        "id": "4Ta6zl80pZWp"
      }
    },
    {
      "cell_type": "markdown",
      "source": [
        "### **Rotação Simples à Direita (LL)**"
      ],
      "metadata": {
        "id": "peeJP7m7pqN3"
      }
    },
    {
      "cell_type": "markdown",
      "source": [
        "É aplicada quando um nó se torna desbalanceado devido à inserção na subárvore **esquerda de seu filho esquerdo**. Nesse caso, uma **rotação simples à direita** é suficiente para restaurar o balanceamento.\n",
        "\n",
        "```\n",
        "      C (FB=-2)\n",
        "     /\n",
        "    B (FB=-1)\n",
        "   /\n",
        "  A\n",
        "```\n",
        "Após a rotação simples à direita em `C`, o nó `B` assume a posição de `C`, e `C` se torna o filho direito de `B`. A subárvore direita de `B`, se existir, torna-se a subárvore esquerda de `C`. O resultado é uma árvore balanceada:\n",
        "\n",
        "```\n",
        "      B (FB=0)\n",
        "     / \\\n",
        "    A   C\n",
        "\n",
        "```"
      ],
      "metadata": {
        "id": "Hz-LGekqps75"
      }
    },
    {
      "cell_type": "markdown",
      "source": [
        "### **Rotação Simples à Esquerda (RR)**"
      ],
      "metadata": {
        "id": "3W-Le8kGsQWd"
      }
    },
    {
      "cell_type": "markdown",
      "source": [
        "É aplicada quando um nó se torna desbalanceado devido a um desequilíbrio na subárvore **direita de seu filho direito**. Nesse caso, uma **rotação simples à esquerda** é suficiente para restaurar o balanceamento. Exemplo:\n",
        "\n",
        "```\n",
        "  A (FB=+2)\n",
        "   \\\n",
        "    B (FB=+1)\n",
        "     \\\n",
        "      C\n",
        "```\n",
        "Após a rotação simples à esquerda em `A`, o nó `B` sobe, `A` desce para a esquerda, e a subárvore esquerda de `B`, se houver, torna-se a subárvore direita de `A`:\n",
        "```\n",
        "      B (FB=0)\n",
        "     / \\\n",
        "    A   C\n",
        "```\n",
        "\n",
        "\n"
      ],
      "metadata": {
        "id": "P5i7yeuasXPU"
      }
    },
    {
      "cell_type": "markdown",
      "source": [
        "### **Rotação Dupla à Esquerda-Direita (LR)**\n"
      ],
      "metadata": {
        "id": "VRK2fqmftB-X"
      }
    },
    {
      "cell_type": "markdown",
      "source": [
        "Ocorre quando um nó fica desbalanceado em razão de um desequilíbrio na subárvore **direita de seu filho esquerdo**. Esse padrão impede que uma rotação simples seja suficiente, exigindo uma **rotação dupla esquerda-direita (ER)** para restaurar o balanceamento. Exemplo:\n",
        "\n",
        "```\n",
        "      C (FB=-2)\n",
        "     /\n",
        "    A (FB=+1)\n",
        "     \\\n",
        "      B\n",
        "```\n",
        "\n",
        "Esta situação requer duas rotações:\n",
        "\n",
        "- **Passo 1:** Uma **rotação simples à esquerda** no filho `A`, que transforma a subárvore no caso de uma rotação LL.\n",
        "\n",
        "```\n",
        "      C\n",
        "     /\n",
        "    B\n",
        "   /\n",
        "  A\n",
        "\n",
        "```\n",
        "\n",
        "- **Passo 2:** Uma **rotação simples à direita** no nó original.\n",
        "\n",
        "```\n",
        "      B\n",
        "     / \\\n",
        "    A   C\n",
        "\n",
        "```\n",
        "\n"
      ],
      "metadata": {
        "id": "r3ybjzJetQM8"
      }
    },
    {
      "cell_type": "markdown",
      "source": [
        "### **Rotação Dupla à Direita-Esquerda (RL)**"
      ],
      "metadata": {
        "id": "3od6Z0tj4wan"
      }
    },
    {
      "cell_type": "markdown",
      "source": [
        "Ocorre quando um nó fica desbalanceado em razão de um desequilíbrio na subárvore **esquerda de seu filho direito**. Esse padrão impede que uma rotação simples seja suficiente, exigindo uma **rotação dupla direita-esquerda (RL)** para restaurar o balanceamento. Exemplo:\n",
        "\n",
        "```\n",
        " A (FB=+2)\n",
        "   \\\n",
        "    C (FB=-1)\n",
        "   /\n",
        "  B\n",
        "```\n",
        "Esta situação requer duas rotações:\n",
        "\n",
        "- **Passo 1:** Uma **rotação simples à direita** no filho `C`, que transforma a subárvore no caso de uma rotação RR.\n",
        "\n",
        "```\n",
        "  A\n",
        "   \\\n",
        "    B\n",
        "     \\\n",
        "      C\n",
        "\n",
        "```\n",
        "- **Passo 2:** Uma **rotação simples à esquerda** no nó original `A`.\n",
        "\n",
        "```\n",
        "      B\n",
        "     / \\\n",
        "    A   C\n",
        "\n",
        "```"
      ],
      "metadata": {
        "id": "jusqZkEz5H9m"
      }
    },
    {
      "cell_type": "markdown",
      "source": [
        "## **Vantagens e Desvantagens das Árvores AV**L\n"
      ],
      "metadata": {
        "id": "p_es9YHb6qaP"
      }
    },
    {
      "cell_type": "markdown",
      "source": [
        "### **Vantagens**"
      ],
      "metadata": {
        "id": "Hv5-5-8F6ubQ"
      }
    },
    {
      "cell_type": "markdown",
      "source": [
        "- **Busca Eficiente:** A busca em uma árvore AVL é garantidamente $O(\\log n)$, pois a árvore está sempre balanceada.\n",
        "- **Operações Previsíveis:** As operações de inserção e remoção também possuem complexidade $O(\\log n)$ no pior caso."
      ],
      "metadata": {
        "id": "xkY5Q0Xp6x_4"
      }
    },
    {
      "cell_type": "markdown",
      "source": [
        "### **Desvantagens**"
      ],
      "metadata": {
        "id": "8DxdlH447MNv"
      }
    },
    {
      "cell_type": "markdown",
      "source": [
        "- **Implementação Complexa:** A necessidade de calcular fatores de balanceamento e implementar as quatro lógicas de rotação torna o código mais complexo do que o de uma BST padrão.\n",
        "- **Custo de Inserção e Remoção:** Embora a complexidade seja $O(\\log n)$, as operações de inserção e remoção podem ser mais lentas na prática em comparação com outras árvores balanceadas (como a rubro-negra), devido à necessidade de realizar rotações para manter o critério de balanceamento mais estrito.\n",
        "- **Uso de Memória:** Cada nó precisa armazenar informação adicional para o fator de balanceamento (ou a altura), o que acarreta um pequeno custo de memória extra por nó."
      ],
      "metadata": {
        "id": "nMvV3sHF7QpO"
      }
    },
    {
      "cell_type": "markdown",
      "source": [
        "## **Implementação**"
      ],
      "metadata": {
        "id": "DDgJs0at7umK"
      }
    },
    {
      "cell_type": "markdown",
      "source": [
        "### **Classe No**"
      ],
      "metadata": {
        "id": "CoXqZPdlzmOd"
      }
    },
    {
      "cell_type": "markdown",
      "source": [
        "Adicionamos o atributo `altura`, que será inicializado com $0$, pois todo novo nó é inserido como uma folha."
      ],
      "metadata": {
        "id": "St2fgCW10-Q2"
      }
    },
    {
      "cell_type": "code",
      "source": [
        "class No:\n",
        "    \"\"\"\n",
        "    Classe que representa um nó em uma árvore AVL.\n",
        "    \"\"\"\n",
        "    def __init__(self, valor):\n",
        "        self.valor = valor\n",
        "        self.esquerda = None\n",
        "        self.direita = None\n",
        "        self.altura = 0  # Altura inicial de uma folha é 0\n",
        "\n",
        "    def __repr__(self):\n",
        "        return str(self.valor)"
      ],
      "metadata": {
        "id": "OeXBPBZPztjM"
      },
      "execution_count": 5,
      "outputs": []
    },
    {
      "cell_type": "markdown",
      "source": [
        "### **Classe ArvoreBinaria**"
      ],
      "metadata": {
        "id": "1O142UDbzsaF"
      }
    },
    {
      "cell_type": "markdown",
      "source": [
        "Árvore binária da aula 11, com métodos para altura, tamanho, percursos e visualização, sem inserção."
      ],
      "metadata": {
        "id": "bVjqeTg20V4_"
      }
    },
    {
      "cell_type": "code",
      "source": [
        "class ArvoreBinaria:\n",
        "    \"\"\"\n",
        "    Implementação de uma árvore binária com métodos para:\n",
        "    - Verificar se está vazia\n",
        "    - Calcular altura e tamanho\n",
        "    - Gerar representações textuais\n",
        "    - Percorrer a árvore (pré-ordem, em ordem e pós-ordem)\n",
        "\n",
        "    Nota: Esta classe não implementa inserção ou remoção de nós.\n",
        "    \"\"\"\n",
        "\n",
        "    def __init__(self, raiz=None):\n",
        "        \"\"\"\n",
        "        Inicializa uma árvore binária.\n",
        "\n",
        "        Parâmetros:\n",
        "        - raiz (No): nó raiz da árvore (default: None)\n",
        "        \"\"\"\n",
        "        self.raiz = raiz\n",
        "\n",
        "    def esta_vazia(self):\n",
        "        \"\"\"\n",
        "        Verifica se a árvore está vazia.\n",
        "\n",
        "        Retorno:\n",
        "        - bool: True se vazia, False caso contrário.\n",
        "\n",
        "        Complexidade: O(1)\n",
        "        \"\"\"\n",
        "        return self.raiz is None\n",
        "\n",
        "    def altura(self):\n",
        "        \"\"\"\n",
        "        Calcula a altura da árvore binária.\n",
        "\n",
        "        Retorno:\n",
        "        - int: altura da árvore. -1 se a árvore estiver vazia.\n",
        "\n",
        "        Complexidade: O(n), onde n é o número de nós.\n",
        "        \"\"\"\n",
        "        return self._altura_recursiva(self.raiz)\n",
        "\n",
        "    def _altura_recursiva(self, no):\n",
        "        if no is None:\n",
        "            return -1\n",
        "        return 1 + max(self._altura_recursiva(no.esquerda),\n",
        "                       self._altura_recursiva(no.direita))\n",
        "\n",
        "    def __len__(self):\n",
        "        \"\"\"\n",
        "        Calcula o número total de nós da árvore.\n",
        "\n",
        "        Retorno:\n",
        "        - int: total de nós.\n",
        "\n",
        "        Complexidade: O(n), onde n é o número de nós.\n",
        "        \"\"\"\n",
        "        return self._tamanho_recursivo(self.raiz)\n",
        "\n",
        "    def _tamanho_recursivo(self, no):\n",
        "        if no is None:\n",
        "            return 0\n",
        "        return 1 + self._tamanho_recursivo(no.esquerda) + self._tamanho_recursivo(no.direita)\n",
        "\n",
        "    def __repr__(self):\n",
        "        \"\"\"\n",
        "        Retorna uma representação técnica da árvore binária, útil para depuração.\n",
        "\n",
        "        Exemplo: ArvoreBinaria(raiz=No(10))\n",
        "        \"\"\"\n",
        "        return f\"{self.__class__.__name__}(raiz={repr(self.raiz)})\"\n",
        "\n",
        "    def __str__(self):\n",
        "        \"\"\"\n",
        "        Retorna uma representação textual da árvore binária.\n",
        "\n",
        "        Permite o uso de `print(arvore)`.\n",
        "\n",
        "        Complexidade: O(n)\n",
        "        \"\"\"\n",
        "        linhas = []\n",
        "        self._coletar_linhas(self.raiz, \"\", linhas)\n",
        "        return \"\\n\".join(linhas)\n",
        "\n",
        "    def _coletar_linhas(self, no, prefixo, linhas):\n",
        "        if no is not None:\n",
        "            self._coletar_linhas(no.direita, prefixo + \"   \", linhas)\n",
        "            linhas.append(prefixo + str(no.valor))\n",
        "            self._coletar_linhas(no.esquerda, prefixo + \"   \", linhas)\n",
        "\n",
        "    def percurso_pre_ordem(self):\n",
        "        \"\"\"\n",
        "        Retorna uma lista com os valores dos nós no percurso pré-ordem.\n",
        "\n",
        "        Complexidade: O(n)\n",
        "        \"\"\"\n",
        "        return self._pre_ordem(self.raiz)\n",
        "\n",
        "    def _pre_ordem(self, no):\n",
        "        if no is None:\n",
        "            return []\n",
        "        return [no.valor] + self._pre_ordem(no.esquerda) + self._pre_ordem(no.direita)\n",
        "\n",
        "    def percurso_em_ordem(self):\n",
        "        \"\"\"\n",
        "        Retorna uma lista com os valores dos nós no percurso em ordem.\n",
        "\n",
        "        Complexidade: O(n)\n",
        "        \"\"\"\n",
        "        return self._em_ordem(self.raiz)\n",
        "\n",
        "    def _em_ordem(self, no):\n",
        "        if no is None:\n",
        "            return []\n",
        "        return self._em_ordem(no.esquerda) + [no.valor] + self._em_ordem(no.direita)\n",
        "\n",
        "    def percurso_pos_ordem(self):\n",
        "        \"\"\"\n",
        "        Retorna uma lista com os valores dos nós no percurso pós-ordem.\n",
        "\n",
        "        Complexidade: O(n)\n",
        "        \"\"\"\n",
        "        return self._pos_ordem(self.raiz)\n",
        "\n",
        "    def _pos_ordem(self, no):\n",
        "        if no is None:\n",
        "            return []\n",
        "        return self._pos_ordem(no.esquerda) + self._pos_ordem(no.direita) + [no.valor]"
      ],
      "metadata": {
        "id": "4b9kE6-QzuWw"
      },
      "execution_count": 6,
      "outputs": []
    },
    {
      "cell_type": "markdown",
      "source": [
        "### **Classe ArvoreBinaria**"
      ],
      "metadata": {
        "id": "DozfyCaqzvQ4"
      }
    },
    {
      "cell_type": "markdown",
      "source": [
        "Árvore binária de busca da aula 12, com métodos para inserção, busca e remoção."
      ],
      "metadata": {
        "id": "rjPcCD5k3KNP"
      }
    },
    {
      "cell_type": "code",
      "source": [
        "class ArvoreBinariaBusca(ArvoreBinaria):\n",
        "    \"\"\"\n",
        "    Possui métodos para inserção, busca e remoção de elementos,\n",
        "    mantendo a propriedade de ordenação da ABB.\n",
        "    \"\"\"\n",
        "\n",
        "    def buscar(self, valor):\n",
        "        \"\"\"\n",
        "        Busca um valor na árvore.\n",
        "\n",
        "        Parâmetros:\n",
        "        - valor: valor a ser buscado.\n",
        "\n",
        "        Retorno:\n",
        "        - No: referência ao nó contendo o valor, ou None se não encontrado.\n",
        "\n",
        "        Complexidade: O(h), onde h é a altura da árvore.\n",
        "        \"\"\"\n",
        "        return self._buscar_recursivo(self.raiz, valor)\n",
        "\n",
        "    def _buscar_recursivo(self, no, valor):\n",
        "        if no is None or no.valor == valor:\n",
        "            return no\n",
        "        if valor < no.valor:\n",
        "            return self._buscar_recursivo(no.esquerda, valor)\n",
        "        else:\n",
        "            return self._buscar_recursivo(no.direita, valor)\n",
        "\n",
        "    def inserir(self, valor):\n",
        "        \"\"\"\n",
        "        Insere um valor na árvore, mantendo a propriedade da ABB.\n",
        "\n",
        "        Parâmetros:\n",
        "        - valor: valor a ser inserido.\n",
        "\n",
        "        Complexidade: O(h), onde h é a altura da árvore.\n",
        "        \"\"\"\n",
        "        self.raiz = self._inserir_recursivo(self.raiz, valor)\n",
        "\n",
        "    def _inserir_recursivo(self, no, valor):\n",
        "        if no is None:\n",
        "            return No(valor)\n",
        "        if valor < no.valor:\n",
        "            no.esquerda = self._inserir_recursivo(no.esquerda, valor)\n",
        "        else:\n",
        "            no.direita = self._inserir_recursivo(no.direita, valor)\n",
        "        return no\n",
        "\n",
        "    def remover(self, valor):\n",
        "        \"\"\"\n",
        "        Remove um valor da árvore, se existir.\n",
        "\n",
        "        Parâmetros:\n",
        "        - valor: valor a ser removido.\n",
        "\n",
        "        Complexidade: O(h), onde h é a altura da árvore.\n",
        "        \"\"\"\n",
        "        self.raiz = self._remover_recursivo(self.raiz, valor)\n",
        "\n",
        "    def _remover_recursivo(self, no, valor):\n",
        "        if no is None:\n",
        "            return None\n",
        "\n",
        "        if valor < no.valor:\n",
        "            no.esquerda = self._remover_recursivo(no.esquerda, valor)\n",
        "        elif valor > no.valor:\n",
        "            no.direita = self._remover_recursivo(no.direita, valor)\n",
        "        else:\n",
        "            # Caso 1: Nó sem filhos\n",
        "            if no.esquerda is None and no.direita is None:\n",
        "                return None\n",
        "            # Caso 2: Um filho apenas\n",
        "            if no.esquerda is None:\n",
        "                return no.direita\n",
        "            elif no.direita is None:\n",
        "                return no.esquerda\n",
        "            # Caso 3: Dois filhos\n",
        "            sucessor = self._menor_valor(no.direita)\n",
        "            no.valor = sucessor.valor\n",
        "            no.direita = self._remover_recursivo(no.direita, sucessor.valor)\n",
        "\n",
        "        return no\n",
        "\n",
        "    def _menor_valor(self, no):\n",
        "        \"\"\"\n",
        "        Encontra o nó com o menor valor na subárvore a partir de 'no'.\n",
        "\n",
        "        Parâmetros:\n",
        "        - no (No): nó de referência.\n",
        "\n",
        "        Retorno:\n",
        "        - No: nó com o menor valor.\n",
        "\n",
        "        Complexidade: O(h), onde h é a altura da subárvore.\n",
        "        \"\"\"\n",
        "        atual = no\n",
        "        while atual.esquerda is not None:\n",
        "            atual = atual.esquerda\n",
        "        return atual"
      ],
      "metadata": {
        "id": "OJLHx6vm27mZ"
      },
      "execution_count": 7,
      "outputs": []
    },
    {
      "cell_type": "markdown",
      "source": [
        "### **Classe AVL**"
      ],
      "metadata": {
        "id": "jXG2L5uG3DDV"
      }
    },
    {
      "cell_type": "markdown",
      "source": [
        "Herdamos de `ArvoreBinariaBusca` e sobrescrevemos os métodos de inserção e remoção, incorporando o auto-balanceamento da árvore."
      ],
      "metadata": {
        "id": "4vq0rhHL3Xco"
      }
    },
    {
      "cell_type": "code",
      "source": [
        "class ArvoreAVL(ArvoreBinariaBusca):\n",
        "    \"\"\"\n",
        "    Implementação completa de uma Árvore AVL com inserção e remoção.\n",
        "    \"\"\"\n",
        "    # --- Métodos Auxiliares de Balanceamento ---\n",
        "\n",
        "    def altura_no(self, no):\n",
        "        return -1 if no is None else no.altura\n",
        "\n",
        "    def _atualizar_altura(self, no):\n",
        "        if no is not None:\n",
        "            no.altura = self._altura_recursiva(no)\n",
        "\n",
        "    def fator_balanceamento(self, no):\n",
        "        return 0 if no is None else self.altura_no(no.esquerda) - self.altura_no(no.direita)\n",
        "\n",
        "    # --- Rotações ---\n",
        "\n",
        "    def _rotacao_direita(self, z):\n",
        "        y = z.esquerda\n",
        "        T3 = y.direita\n",
        "        y.direita = z\n",
        "        z.esquerda = T3\n",
        "        self._atualizar_altura(z)\n",
        "        self._atualizar_altura(y)\n",
        "        return y\n",
        "\n",
        "    def _rotacao_esquerda(self, z):\n",
        "        y = z.direita\n",
        "        T2 = y.esquerda\n",
        "        y.esquerda = z\n",
        "        z.direita = T2\n",
        "        self._atualizar_altura(z)\n",
        "        self._atualizar_altura(y)\n",
        "        return y\n",
        "\n",
        "    # --- Lógica de Balanceamento (pós-inserção/remoção) ---\n",
        "\n",
        "    def _balancear(self, no):\n",
        "        self._atualizar_altura(no)\n",
        "        fb = self.fator_balanceamento(no)\n",
        "\n",
        "        # Caso Esquerda-Pesado\n",
        "        if fb > 1:\n",
        "            # Caso LL\n",
        "            if self.fator_balanceamento(no.esquerda) >= 0:\n",
        "                return self._rotacao_direita(no)\n",
        "            # Caso LR\n",
        "            else:\n",
        "                no.esquerda = self._rotacao_esquerda(no.esquerda)\n",
        "                return self._rotacao_direita(no)\n",
        "\n",
        "        # Caso Direita-Pesado\n",
        "        if fb < -1:\n",
        "            # Caso RR\n",
        "            if self.fator_balanceamento(no.direita) <= 0:\n",
        "                return self._rotacao_esquerda(no)\n",
        "            # Caso RL\n",
        "            else:\n",
        "                no.direita = self._rotacao_direita(no.direita)\n",
        "                return self._rotacao_esquerda(no)\n",
        "\n",
        "        return no\n",
        "\n",
        "    # --- Inserção ---\n",
        "\n",
        "    def inserir(self, valor):\n",
        "        self.raiz = self._inserir_avl(self.raiz, valor)\n",
        "\n",
        "    def _inserir_avl(self, no_atual, valor):\n",
        "        if no_atual is None:\n",
        "            return No(valor)\n",
        "\n",
        "        if valor < no_atual.valor:\n",
        "            no_atual.esquerda = self._inserir_avl(no_atual.esquerda, valor)\n",
        "        elif valor > no_atual.valor:\n",
        "            no_atual.direita = self._inserir_avl(no_atual.direita, valor)\n",
        "        else:\n",
        "            return no_atual # Ignora valores duplicados\n",
        "\n",
        "        return self._balancear(no_atual)\n",
        "\n",
        "    # --- Remoção ---\n",
        "\n",
        "    def remover(self, valor):\n",
        "        self.raiz = self._remover_avl(self.raiz, valor)\n",
        "\n",
        "    def _remover_avl(self, no_atual, valor):\n",
        "        if no_atual is None:\n",
        "            return no_atual\n",
        "\n",
        "        if valor < no_atual.valor:\n",
        "            no_atual.esquerda = self._remover_avl(no_atual.esquerda, valor)\n",
        "        elif valor > no_atual.valor:\n",
        "            no_atual.direita = self._remover_avl(no_atual.direita, valor)\n",
        "        else: # Nó encontrado\n",
        "            if no_atual.esquerda is None:\n",
        "                return no_atual.direita\n",
        "            elif no_atual.direita is None:\n",
        "                return no_atual.esquerda\n",
        "\n",
        "            sucessor = self._menor_valor(no_atual.direita)\n",
        "            no_atual.valor = sucessor.valor\n",
        "            no_atual.direita = self._remover_avl(no_atual.direita, sucessor.valor)\n",
        "\n",
        "        if no_atual is None:\n",
        "            return no_atual # Pode acontecer se a remoção esvaziou a subárvore\n",
        "\n",
        "        return self._balancear(no_atual)"
      ],
      "metadata": {
        "id": "IK3XKPdf4b2p"
      },
      "execution_count": 10,
      "outputs": []
    },
    {
      "cell_type": "code",
      "source": [
        "if __name__ == \"__main__\":\n",
        "    avl = ArvoreAVL()\n",
        "\n",
        "    print(\"--- FASE DE INSERÇÃO ---\")\n",
        "    elementos = [10, 20, 30, 40, 50, 25]\n",
        "    for i, el in enumerate(elementos):\n",
        "        print(f\"Inserindo: {el}\")\n",
        "        avl.inserir(el)\n",
        "        print(avl)\n",
        "        print(\"-\" * 25)\n",
        "\n",
        "    print(\"\\n\\n--- FASE DE REMOÇÃO ---\")\n",
        "\n",
        "    # Removendo 40, o que deve causar uma rotação RL no nó 50\n",
        "    print(\"Removendo: 40\")\n",
        "    avl.remover(40)\n",
        "    print(avl)\n",
        "    print(\"-\" * 25)\n",
        "\n",
        "    # Removendo 25\n",
        "    print(\"Removendo: 25\")\n",
        "    avl.remover(25)\n",
        "    print(avl)\n",
        "    print(\"-\" * 25)\n",
        "\n",
        "    # Removendo 30, o que deve causar uma rotação RR no nó 20\n",
        "    print(\"Removendo: 30\")\n",
        "    avl.remover(30)\n",
        "    print(avl)\n",
        "    print(\"-\" * 25)\n",
        "\n",
        "    print(\"Árvore Final:\")\n",
        "    print(avl)"
      ],
      "metadata": {
        "colab": {
          "base_uri": "https://localhost:8080/"
        },
        "id": "KBfni1l65RuO",
        "outputId": "68ca2227-070a-4040-b22b-24b2053b8fe7"
      },
      "execution_count": 11,
      "outputs": [
        {
          "output_type": "stream",
          "name": "stdout",
          "text": [
            "--- FASE DE INSERÇÃO ---\n",
            "Inserindo: 10\n",
            "10\n",
            "-------------------------\n",
            "Inserindo: 20\n",
            "   20\n",
            "10\n",
            "-------------------------\n",
            "Inserindo: 30\n",
            "   30\n",
            "20\n",
            "   10\n",
            "-------------------------\n",
            "Inserindo: 40\n",
            "      40\n",
            "   30\n",
            "20\n",
            "   10\n",
            "-------------------------\n",
            "Inserindo: 50\n",
            "      50\n",
            "   40\n",
            "      30\n",
            "20\n",
            "   10\n",
            "-------------------------\n",
            "Inserindo: 25\n",
            "      50\n",
            "   40\n",
            "30\n",
            "      25\n",
            "   20\n",
            "      10\n",
            "-------------------------\n",
            "\n",
            "\n",
            "--- FASE DE REMOÇÃO ---\n",
            "Removendo: 40\n",
            "   50\n",
            "30\n",
            "      25\n",
            "   20\n",
            "      10\n",
            "-------------------------\n",
            "Removendo: 25\n",
            "   50\n",
            "30\n",
            "   20\n",
            "      10\n",
            "-------------------------\n",
            "Removendo: 30\n",
            "   50\n",
            "20\n",
            "   10\n",
            "-------------------------\n",
            "Árvore Final:\n",
            "   50\n",
            "20\n",
            "   10\n"
          ]
        }
      ]
    }
  ],
  "metadata": {
    "kernelspec": {
      "display_name": "Python 3",
      "language": "python",
      "name": "python3"
    },
    "language_info": {
      "codemirror_mode": {
        "name": "ipython",
        "version": 3
      },
      "file_extension": ".py",
      "mimetype": "text/x-python",
      "name": "python",
      "nbconvert_exporter": "python",
      "pygments_lexer": "ipython3",
      "version": "3.10.12"
    },
    "colab": {
      "provenance": [],
      "include_colab_link": true
    }
  },
  "nbformat": 4,
  "nbformat_minor": 0
}