{
  "cells": [
    {
      "cell_type": "markdown",
      "metadata": {
        "id": "view-in-github",
        "colab_type": "text"
      },
      "source": [
        "<a href=\"https://colab.research.google.com/github/tiagopessoalima/ED2/blob/main/Semana_11_(ED2).ipynb\" target=\"_parent\"><img src=\"https://colab.research.google.com/assets/colab-badge.svg\" alt=\"Open In Colab\"/></a>"
      ]
    },
    {
      "cell_type": "markdown",
      "metadata": {
        "id": "bXu0wHdW0v33"
      },
      "source": [
        "# **Introdução a Árvores**"
      ]
    },
    {
      "cell_type": "markdown",
      "source": [
        "Este documento apresenta uma exploração técnica de árvores em Python, abordando desde os fundamentos teóricos até implementações. O material cobre conceitos essenciais, algoritmos, análise de complexidade e exercícios práticos."
      ],
      "metadata": {
        "id": "ZPt4MqVW-1so"
      }
    },
    {
      "cell_type": "markdown",
      "source": [
        "## **Conceitos Fundamentais**"
      ],
      "metadata": {
        "id": "rgf-V7vG07Ey"
      }
    },
    {
      "cell_type": "markdown",
      "source": [
        "### **O que são Árvores?**"
      ],
      "metadata": {
        "id": "2YzN3Mlb09Qq"
      }
    },
    {
      "cell_type": "markdown",
      "source": [
        "São estruturas hierárquicas onde cada nó (exceto a raiz) tem um pai e pode ter vários filhos. Diferem das listas ligadas por modelarem relações não lineares, o que permite buscas, inserções e remoções eficientes, com complexidade média de $O(\\log n)$ em árvores balanceadas. Exemplo:\n",
        "\n",
        "```\n",
        "        A\n",
        "      /   \\\n",
        "     B     C          \n",
        "    / \\     \\\n",
        "   D   E     F        \n",
        "        \\\n",
        "         G            \n",
        "```"
      ],
      "metadata": {
        "id": "RltBjJrz_INV"
      }
    },
    {
      "cell_type": "markdown",
      "source": [
        "### **Terminologia Básica**"
      ],
      "metadata": {
        "id": "ZSjvuhiA1HWf"
      }
    },
    {
      "cell_type": "markdown",
      "source": [
        "- **Raiz**: Nó inicial da árvore\n",
        "  - A é a raiz da árvore (é o nó inicial, sem pai).\n",
        "\n",
        "- **Nó Pai**: Nó que possui filhos\n",
        "  - A é pai de B e C.\n",
        "  - B é pai de D e E.\n",
        "  - E é pai de G.\n",
        "\n",
        "- **Nó Filho**: Nó que possui um pai\n",
        "  - B e C são filhos de A.\n",
        "  - G é filho de E.\n",
        "\n",
        "- **Irmãos**: Nós que compartilham o mesmo pai\n",
        "  - D e E são irmãos (mesmo pai: B).\n",
        "\n",
        "- **Folha**: Nó sem filhos.\n",
        "  - D, F, e G são folhas (não têm filhos).\n",
        "\n",
        "- **Subárvore**: Árvore formada por um nó e seus descendentes.\n",
        "  - A subárvore enraizada em B:\n",
        "\n",
        "```\n",
        "    B\n",
        "   / \\\n",
        "  D   E\n",
        "       \\\n",
        "        G\n",
        "```\n",
        "\n",
        "- **Nível**: Distância de um nó até a raiz (a raiz está no nível 0).\n",
        "  - A: nível 0\n",
        "  - B, C: nível 1\n",
        "  - D, E, F: nível 2\n",
        "  - G: nível 3\n",
        "\n",
        "- **Altura**: Maior nível de qualquer nó na árvore.\n",
        "  - É a maior profundidade/nível da árvore: 3 (da raiz A até G).\n",
        "\n",
        "- **Profundidade**: Número de arestas do caminho da raiz até o nó.\n",
        "  - G tem profundidade 3 (3 arestas até a raiz A).\n",
        "\n",
        "- **Grau**: Número de filhos de um nó.\n",
        "  - A tem grau 2 (dois filhos: B e C).\n",
        "  - E tem grau 1 (um filho: G).\n",
        "  - F tem grau 0 (é uma folha)."
      ],
      "metadata": {
        "id": "1D_Fkzar1Jrc"
      }
    },
    {
      "cell_type": "markdown",
      "source": [
        "### **Aplicações Práticas**"
      ],
      "metadata": {
        "id": "Xn8YD0i9Kw95"
      }
    },
    {
      "cell_type": "markdown",
      "source": [
        "As árvores são utilizadas em diversas aplicações, como:\n",
        "\n",
        "- Sistemas de arquivos (diretórios e subdiretórios)\n",
        "- Bancos de dados (índices para otimização de consultas)\n",
        "- Compiladores (árvores sintáticas)\n",
        "- Compressão de dados (árvores de Huffman)\n",
        "- Algoritmos de roteamento\n",
        "- Inteligência artificial (árvores de decisão)\n",
        "- Estruturas de dados avançadas (árvores AVL, árvores rubro-negras, etc.)"
      ],
      "metadata": {
        "id": "VBSfck3fKxDv"
      }
    },
    {
      "cell_type": "markdown",
      "metadata": {
        "id": "BdhDW_yy0v37"
      },
      "source": [
        "### **Árvores Binárias**"
      ]
    },
    {
      "cell_type": "markdown",
      "source": [
        "É um tipo especial de árvore em que cada nó pode ter no máximo dois filhos, geralmente referidos como filho esquerdo e filho direito. Esta restrição simplifica a implementação e permite algoritmos eficientes para diversas operações."
      ],
      "metadata": {
        "id": "4U-m22fC1YGT"
      }
    },
    {
      "cell_type": "markdown",
      "source": [
        "#### **Propriedades Matemáticas**"
      ],
      "metadata": {
        "id": "TL_nXuHoBdgY"
      }
    },
    {
      "cell_type": "markdown",
      "source": [
        "As árvores possuem propriedades matemáticas importantes que ajudam a compreender sua estrutura e desempenho em algoritmos.\n",
        "\n",
        "- Máximo de nós no nível $i$: $2^i$.\n",
        "- Máximo de nós em uma árvore de altura $h$: $2^{h+1}-1$.\n",
        "- Altura mínima para $n$ nós: $\\log_2 n$."
      ],
      "metadata": {
        "id": "yRi_lTe4BiF0"
      }
    },
    {
      "cell_type": "markdown",
      "source": [
        "#### **Tipos de Árvores Binárias**"
      ],
      "metadata": {
        "id": "ymQi03ZY1Y1l"
      }
    },
    {
      "cell_type": "markdown",
      "source": [
        "1. **Árvore Binária Completa**: Uma árvore binária é completa quando todos os níveis, exceto possivelmente o último, estão completamente preenchidos, e todos os nós estão o mais à esquerda possível. Ex:\n",
        "```\n",
        "        1\n",
        "      /   \\\n",
        "     2     3\n",
        "    / \\   /\n",
        "   4   5 6\n",
        "```"
      ],
      "metadata": {
        "id": "70IgIH8FMDrz"
      }
    },
    {
      "cell_type": "markdown",
      "source": [
        "2. **Árvore Binária Cheia**: Uma árvore binária é cheia quando cada nó tem 0 ou 2 filhos (nunca apenas 1 filho). Ex:\n",
        "\n",
        "```\n",
        "        1\n",
        "      /   \\\n",
        "     2     3\n",
        "    / \\   / \\\n",
        "   4   5 6   7\n",
        "\n",
        "```"
      ],
      "metadata": {
        "id": "K9xFEUKDMdGk"
      }
    },
    {
      "cell_type": "markdown",
      "source": [
        "3. **Árvore Binária Perfeita**: Uma árvore binária é perfeita quando todos os nós internos têm exatamente dois filhos e todas as folhas estão no mesmo nível. Ex:\n",
        "\n",
        "```\n",
        "        1\n",
        "      /   \\\n",
        "     2     3\n",
        "    / \\   / \\\n",
        "   4   5 6   7\n",
        "\n",
        "```"
      ],
      "metadata": {
        "id": "I75xjhFINBN_"
      }
    },
    {
      "cell_type": "markdown",
      "source": [
        "4. **Árvore Binária de Busca (BST)**: Árvore binária onde para cada nó, todos os elementos na subárvore esquerda são menores que o nó, e todos os elementos na subárvore direita são maiores. Ex:\n",
        "\n",
        "```\n",
        "        8\n",
        "      /   \\\n",
        "     3     10\n",
        "    / \\      \\\n",
        "   1   6      14\n",
        "      / \\     /\n",
        "     4   7   13\n",
        "\n",
        "```"
      ],
      "metadata": {
        "id": "wjA-DnWWNKxW"
      }
    },
    {
      "cell_type": "markdown",
      "metadata": {
        "id": "dAo9aYzp0v38"
      },
      "source": [
        "5. **Árvore Binária Balanceada**: Uma árvore binária é balanceada quando a diferença entre as alturas das subárvores esquerda e direita de qualquer nó não é maior que 1. Ex:\n",
        "\n",
        "```\n",
        "        5\n",
        "      /   \\\n",
        "     3     8\n",
        "    / \\   / \\\n",
        "   1   4 6   9\n",
        "\n",
        "```"
      ]
    },
    {
      "cell_type": "markdown",
      "source": [
        "## **Implementação**"
      ],
      "metadata": {
        "id": "fnSMjgxPD1by"
      }
    },
    {
      "cell_type": "markdown",
      "source": [
        "### **Classe No**"
      ],
      "metadata": {
        "id": "hf-ECwWrD7Ja"
      }
    },
    {
      "cell_type": "markdown",
      "source": [
        "Representa um nó genérico com valor e referências aos filhos."
      ],
      "metadata": {
        "id": "COzpTr0YD6H5"
      }
    },
    {
      "cell_type": "code",
      "source": [
        "class No:\n",
        "    \"\"\"\n",
        "    Classe que representa um nó em uma árvore binária.\n",
        "    \"\"\"\n",
        "    def __init__(self, valor):\n",
        "        self.valor = valor\n",
        "        self.esquerda = None\n",
        "        self.direita = None\n",
        "\n",
        "    def __repr__(self):\n",
        "        return str(self.valor)"
      ],
      "metadata": {
        "id": "4HnJeRtGETjW"
      },
      "execution_count": null,
      "outputs": []
    },
    {
      "cell_type": "markdown",
      "source": [
        "### **Classe ArvoreBinaria**\n"
      ],
      "metadata": {
        "id": "_5lX7iSREa6P"
      }
    },
    {
      "cell_type": "markdown",
      "source": [
        "Gerencia a estrutura da árvore binária, oferecendo métodos básicos como verificação de vazio, cálculo da altura e do tamanho."
      ],
      "metadata": {
        "id": "t_X9PfEWEdvM"
      }
    },
    {
      "cell_type": "code",
      "source": [
        "class ArvoreBinaria:\n",
        "    \"\"\"\n",
        "    Implementação de uma árvore binária com métodos para inserção,\n",
        "    cálculo de altura, tamanho e visualização da estrutura.\n",
        "    \"\"\"\n",
        "    def __init__(self, raiz=None):\n",
        "        \"\"\"\n",
        "        Inicializa uma árvore binária.\n",
        "\n",
        "        Parâmetros:\n",
        "        - raiz (No): nó raiz da árvore (default: None)\n",
        "        \"\"\"\n",
        "        self.raiz = raiz\n",
        "\n",
        "    def esta_vazia(self):\n",
        "        \"\"\"\n",
        "        Verifica se a árvore está vazia.\n",
        "\n",
        "        Retorno:\n",
        "        - bool: True se vazia, False caso contrário.\n",
        "\n",
        "        Complexidade: O(1)\n",
        "        \"\"\"\n",
        "        return self.raiz is None\n",
        "\n",
        "    def altura(self):\n",
        "        \"\"\"\n",
        "        Calcula a altura da árvore binária.\n",
        "\n",
        "        Retorno:\n",
        "        - int: altura da árvore. -1 para árvore vazia.\n",
        "\n",
        "        Complexidade: O(n), onde n é o número de nós.\n",
        "        \"\"\"\n",
        "        return self._altura_recursiva(self.raiz)\n",
        "\n",
        "    def _altura_recursiva(self, no):\n",
        "        \"\"\"\n",
        "        Método auxiliar recursivo para cálculo da altura.\n",
        "\n",
        "        Parâmetros:\n",
        "        - no (No): nó atual\n",
        "\n",
        "        Retorno:\n",
        "        - int: altura da subárvore a partir do nó dado\n",
        "        \"\"\"\n",
        "        if no is None:\n",
        "            return -1  # Altura de árvore vazia\n",
        "        return 1 + max(self._altura_recursiva(no.esquerda),\n",
        "                       self._altura_recursiva(no.direita))\n",
        "\n",
        "    def __len__(self):\n",
        "        \"\"\"\n",
        "        Calcula o número total de nós da árvore.\n",
        "\n",
        "        Retorno:\n",
        "        - int: total de nós\n",
        "\n",
        "        Complexidade: O(n), onde n é o número de nós.\n",
        "        \"\"\"\n",
        "        return self._tamanho_recursivo(self.raiz)\n",
        "\n",
        "    def _tamanho_recursivo(self, no):\n",
        "        \"\"\"\n",
        "        Método auxiliar recursivo para cálculo do tamanho da árvore.\n",
        "\n",
        "        Parâmetros:\n",
        "        - no (No): nó atual\n",
        "\n",
        "        Retorno:\n",
        "        - int: número de nós na subárvore\n",
        "        \"\"\"\n",
        "        if no is None:\n",
        "            return 0\n",
        "        return 1 + self._tamanho_recursivo(no.esquerda) + self._tamanho_recursivo(no.direita)\n",
        "\n",
        "    def __repr__(self):\n",
        "        \"\"\"\n",
        "        Retorna uma representação técnica da árvore binária, útil para depuração.\n",
        "\n",
        "        Exemplo: ArvoreBinaria(raiz=No(10))\n",
        "        \"\"\"\n",
        "        return f\"{self.__class__.__name__}(raiz={repr(self.raiz)})\"\n",
        "\n",
        "    def __str__(self):\n",
        "        \"\"\"\n",
        "        Retorna uma representação textual da árvore binária.\n",
        "\n",
        "        Permite o uso de `print(arvore)`.\n",
        "\n",
        "        Complexidade: O(n)\n",
        "        \"\"\"\n",
        "        linhas = []\n",
        "        self._coletar_linhas(self.raiz, \"\", linhas)\n",
        "        return \"\\n\".join(linhas)\n",
        "\n",
        "    def _coletar_linhas(self, no, prefixo, linhas):\n",
        "        if no is not None:\n",
        "            self._coletar_linhas(no.direita, prefixo + \"   \", linhas)\n",
        "            linhas.append(prefixo + str(no.valor))\n",
        "            self._coletar_linhas(no.esquerda, prefixo + \"   \", linhas)\n"
      ],
      "metadata": {
        "id": "arPdkGogEiHZ"
      },
      "execution_count": null,
      "outputs": []
    },
    {
      "cell_type": "markdown",
      "source": [
        "### **Exemplo de Árvore**"
      ],
      "metadata": {
        "id": "ESwjfPTIFt2o"
      }
    },
    {
      "cell_type": "markdown",
      "source": [
        "Vamos construir a seguinte árvore:"
      ],
      "metadata": {
        "id": "utuDQ77VF6xr"
      }
    },
    {
      "cell_type": "markdown",
      "source": [
        "```\n",
        "       10\n",
        "      /  \\\n",
        "     5    15\n",
        "    /\n",
        "   3\n",
        "\n",
        "```"
      ],
      "metadata": {
        "id": "nOtKfpL-FwpW"
      }
    },
    {
      "cell_type": "code",
      "source": [
        "# Criando os nós\n",
        "raiz = No(10)\n",
        "raiz.esquerda = No(5)\n",
        "raiz.direita = No(15)\n",
        "raiz.esquerda.esquerda = No(3)\n",
        "\n",
        "# Criando a árvore\n",
        "arvore = ArvoreBinaria(raiz)"
      ],
      "metadata": {
        "id": "wsgSLah4GDTM"
      },
      "execution_count": null,
      "outputs": []
    },
    {
      "cell_type": "markdown",
      "source": [
        "#### **Representações**"
      ],
      "metadata": {
        "id": "r89iNgk2Ahxd"
      }
    },
    {
      "cell_type": "code",
      "source": [
        "# Representação técnica (__repr__)\n",
        "print(repr(arvore))"
      ],
      "metadata": {
        "colab": {
          "base_uri": "https://localhost:8080/"
        },
        "id": "u3_FtxDN-RUr",
        "outputId": "d81c0275-5909-412b-8da7-4da1b5f3f16d"
      },
      "execution_count": null,
      "outputs": [
        {
          "output_type": "stream",
          "name": "stdout",
          "text": [
            "ArvoreBinaria(raiz=10)\n"
          ]
        }
      ]
    },
    {
      "cell_type": "code",
      "source": [
        "# Representação visual (__str__)\n",
        "print(arvore)"
      ],
      "metadata": {
        "colab": {
          "base_uri": "https://localhost:8080/"
        },
        "id": "XtG6Mbk7Arih",
        "outputId": "6a8f88f3-4164-4c49-8955-ff3e2e8630eb"
      },
      "execution_count": null,
      "outputs": [
        {
          "output_type": "stream",
          "name": "stdout",
          "text": [
            "   15\n",
            "10\n",
            "   5\n",
            "      3\n"
          ]
        }
      ]
    },
    {
      "cell_type": "markdown",
      "source": [
        "#### **Testando os métodos**\n"
      ],
      "metadata": {
        "id": "oIFJ7pV4GNPO"
      }
    },
    {
      "cell_type": "code",
      "source": [
        "print(arvore.esta_vazia()) # Saída: False"
      ],
      "metadata": {
        "colab": {
          "base_uri": "https://localhost:8080/"
        },
        "id": "T9uHx59jGQ7t",
        "outputId": "8fd78dc9-5390-45fe-ea52-6a4dabcb10df"
      },
      "execution_count": null,
      "outputs": [
        {
          "output_type": "stream",
          "name": "stdout",
          "text": [
            "False\n"
          ]
        }
      ]
    },
    {
      "cell_type": "code",
      "source": [
        "print(arvore.altura())     # Saída: 2"
      ],
      "metadata": {
        "colab": {
          "base_uri": "https://localhost:8080/"
        },
        "id": "X0-cZ0EtH_2o",
        "outputId": "e3892749-f75d-4cef-a0a7-0239d229675c"
      },
      "execution_count": null,
      "outputs": [
        {
          "output_type": "stream",
          "name": "stdout",
          "text": [
            "2\n"
          ]
        }
      ]
    },
    {
      "cell_type": "markdown",
      "source": [
        "O algoritmo percorre a árvore recursivamente, somando 1 a cada nível até alcançar os nós folhas.\n",
        "\n",
        "Acompanhe a execução:\n",
        "\n",
        "* `altura(10)`\n",
        "\n",
        "  * esquerda → `altura(5)`\n",
        "\n",
        "    * esquerda → `altura(3)`\n",
        "\n",
        "      * esquerda/direita são `None` → retorna -1\n",
        "      * altura de 3 = 1 + max(-1, -1) = 0\n",
        "    * direita é `None` → retorna -1\n",
        "    * altura de 5 = 1 + max(0, -1) = 1\n",
        "  * direita → `altura(15)`\n",
        "\n",
        "    * esquerda/direita são `None` → retorna -1\n",
        "    * altura de 15 = 1 + max(-1, -1) = 0\n",
        "  * altura de 10 = 1 + max(1, 0) = **2**\n"
      ],
      "metadata": {
        "id": "GxZ--z7tIIH_"
      }
    },
    {
      "cell_type": "code",
      "source": [
        "print(len(arvore))         # Saída: 4"
      ],
      "metadata": {
        "colab": {
          "base_uri": "https://localhost:8080/"
        },
        "id": "5D20T_L1IC64",
        "outputId": "bb4c02f7-52ae-447a-d3b2-c00155ea6496"
      },
      "execution_count": null,
      "outputs": [
        {
          "output_type": "stream",
          "name": "stdout",
          "text": [
            "4\n"
          ]
        }
      ]
    },
    {
      "cell_type": "markdown",
      "source": [
        "Vamos acompanhar a chamada `len(arvore)`:\n",
        "\n",
        "* `tamanho(10)`\n",
        "\n",
        "  * esquerda → `tamanho(5)`\n",
        "\n",
        "    * esquerda → `tamanho(3)`\n",
        "\n",
        "      * esquerda/direita são `None` → retorna 0\n",
        "      * total = 1 + 0 + 0 = 1 (subárvore de 3)\n",
        "    * direita é `None` → retorna 0\n",
        "    * total = 1 + 1 + 0 = 2 (subárvore de 5)\n",
        "  * direita → `tamanho(15)`\n",
        "\n",
        "    * esquerda/direita são `None` → retorna 0\n",
        "    * total = 1 + 0 + 0 = 1 (subárvore de 15)\n",
        "  * total = 1 + 2 + 1 = **4**"
      ],
      "metadata": {
        "id": "FK01wf9cK2pk"
      }
    },
    {
      "cell_type": "markdown",
      "source": [
        "## **Percursos em Árvores Binárias**"
      ],
      "metadata": {
        "id": "Xb1nI38d2Lpc"
      }
    },
    {
      "cell_type": "markdown",
      "metadata": {
        "id": "3g27xxGZ0v4B"
      },
      "source": [
        "São formas de visitar todos os nós de uma árvore binária. Eles são fundamentais para diversas aplicações, como avaliação de expressões, serialização de estruturas de dados e algoritmos de busca. Existem três formas principais de percorrer uma árvore binária:\n",
        "\n",
        "1. **Pré-ordem (Pre-order)**: Visita a raiz, depois a subárvore esquerda e por fim a subárvore direita.\n",
        "2. **Em-ordem (In-order)**: Visita a subárvore esquerda, depois a raiz e por fim a subárvore direita.\n",
        "3. **Pós-ordem (Post-order)**: Visita a subárvore esquerda, depois a subárvore direita e por fim a raiz.\n",
        "\n",
        "Vamos implementar esses três tipos de percurso:"
      ]
    },
    {
      "cell_type": "code",
      "source": [
        "def pre_ordem(no):\n",
        "    if no is None:\n",
        "        return []\n",
        "\n",
        "    resultado = [no.valor]                   # Visita o nó atual\n",
        "    resultado.extend(pre_ordem(no.esquerda)) # Visita a subárvore esquerda\n",
        "    resultado.extend(pre_ordem(no.direita))  # Visita a subárvore direita\n",
        "\n",
        "    return resultado\n",
        "\n",
        "# Testando os percurso\n",
        "print(f\"Percurso em pré-ordem: {pre_ordem(raiz)}\")"
      ],
      "metadata": {
        "colab": {
          "base_uri": "https://localhost:8080/"
        },
        "id": "aKQygQ_i4J0B",
        "outputId": "a12a69b6-451d-46a1-9308-75e0e60a19ea"
      },
      "execution_count": null,
      "outputs": [
        {
          "output_type": "stream",
          "name": "stdout",
          "text": [
            "Percurso em pré-ordem: [10, 5, 3, 15]\n"
          ]
        }
      ]
    },
    {
      "cell_type": "code",
      "source": [
        "def em_ordem(no):\n",
        "    if no is None:\n",
        "        return []\n",
        "\n",
        "    resultado = em_ordem(no.esquerda)      # Visita a subárvore esquerda\n",
        "    resultado.append(no.valor)             # Visita o nó atual\n",
        "    resultado.extend(em_ordem(no.direita)) # Visita a subárvore direita\n",
        "\n",
        "    return resultado\n",
        "\n",
        "# Testando os percurso\n",
        "print(f\"Percurso em em-ordem: {em_ordem(raiz)}\")"
      ],
      "metadata": {
        "colab": {
          "base_uri": "https://localhost:8080/"
        },
        "id": "00bGqTAi4LrN",
        "outputId": "4ff3df5b-a8bd-4226-d557-c929daa4f4ae"
      },
      "execution_count": null,
      "outputs": [
        {
          "output_type": "stream",
          "name": "stdout",
          "text": [
            "Percurso em em-ordem: [3, 5, 10, 15]\n"
          ]
        }
      ]
    },
    {
      "cell_type": "code",
      "source": [
        "def pos_ordem(no):\n",
        "    if no is None:\n",
        "        return []\n",
        "\n",
        "    resultado = pos_ordem(no.esquerda)      # Visita a subárvore esquerda\n",
        "    resultado.extend(pos_ordem(no.direita)) # Visita a subárvore direita\n",
        "    resultado.append(no.valor)              # Visita o nó atual\n",
        "\n",
        "    return resultado\n",
        "\n",
        "# Testando os percurso\n",
        "print(f\"Percurso em pós-ordem: {pos_ordem(raiz)}\")"
      ],
      "metadata": {
        "colab": {
          "base_uri": "https://localhost:8080/"
        },
        "id": "ZV2d6e_14NMl",
        "outputId": "7a04d839-2659-43e7-dfa1-59c742811caf"
      },
      "execution_count": null,
      "outputs": [
        {
          "output_type": "stream",
          "name": "stdout",
          "text": [
            "Percurso em pós-ordem: [3, 5, 15, 10]\n"
          ]
        }
      ]
    },
    {
      "cell_type": "markdown",
      "metadata": {
        "id": "QI41oIQn0v4C"
      },
      "source": [
        "Além dos percursos em profundidade (pré-ordem, em-ordem e pós-ordem), também podemos percorrer a árvore em largura, visitando todos os nós de um nível antes de passar para o próximo nível. Para isso, usamos uma fila:"
      ]
    },
    {
      "cell_type": "code",
      "source": [
        "from collections import deque\n",
        "\n",
        "def largura(raiz):\n",
        "    if raiz is None:\n",
        "        return []\n",
        "\n",
        "    fila = deque([raiz])\n",
        "    resultado = []\n",
        "\n",
        "    while fila:\n",
        "        no = fila.popleft()          # Remove da frente da fila\n",
        "        resultado.append(no.valor)   # Visita o nó atual\n",
        "\n",
        "        if no.esquerda:\n",
        "            fila.append(no.esquerda) # Adiciona filho esquerdo\n",
        "        if no.direita:\n",
        "            fila.append(no.direita)  # Adiciona filho direito\n",
        "\n",
        "    return resultado\n",
        "\n",
        "# Testando os percurso\n",
        "print(f\"Percurso em largura: {largura(raiz)}\")  # [10, 5, 15, 3]"
      ],
      "metadata": {
        "colab": {
          "base_uri": "https://localhost:8080/"
        },
        "id": "D387H-Ay6NzC",
        "outputId": "5f977c77-0a34-4e72-a23d-2a2c9b492e0a"
      },
      "execution_count": null,
      "outputs": [
        {
          "output_type": "stream",
          "name": "stdout",
          "text": [
            "Percurso em largura: [10, 5, 15, 3]\n"
          ]
        }
      ]
    },
    {
      "cell_type": "markdown",
      "source": [
        "## **Exercícios Práticos**"
      ],
      "metadata": {
        "id": "mjCPX5FO3FTz"
      }
    },
    {
      "cell_type": "markdown",
      "source": [
        "**Exercício 1:** Verificar se a Árvore é Estritamente Binária. Uma árvore é estritamente binária se cada nó tem 0 ou 2 filhos."
      ],
      "metadata": {
        "id": "xSSrDWV09fqo"
      }
    },
    {
      "cell_type": "code",
      "source": [
        "def eh_estritamente_binaria(raiz):\n",
        "    if raiz is None:\n",
        "        return True  # Árvore vazia é estritamente binária\n",
        "\n",
        "    # Verifica condição do nó atual\n",
        "    if (raiz.esquerda is None and raiz.direita is not None) or \\\n",
        "       (raiz.esquerda is not None and raiz.direita is None):\n",
        "        return False\n",
        "\n",
        "    # Visita os filhos da esquerda e direita\n",
        "    return eh_estritamente_binaria(raiz.esquerda) and eh_estritamente_binaria(raiz.direita)"
      ],
      "metadata": {
        "id": "ZmBmWE0p9fxG"
      },
      "execution_count": null,
      "outputs": []
    },
    {
      "cell_type": "markdown",
      "source": [
        "**Exercício 2:** Busca de Valor. Implemente um método `buscar(valor)` que retorne `True` se o valor estiver na árvore, ou `False` caso contrário."
      ],
      "metadata": {
        "id": "1BkMZeVM7qJq"
      }
    },
    {
      "cell_type": "code",
      "source": [],
      "metadata": {
        "id": "xjdr17Wu8BVr"
      },
      "execution_count": null,
      "outputs": []
    },
    {
      "cell_type": "markdown",
      "source": [
        "**Exercício 3:** Contar Folhas. Implemente um método que conte o número de nós folha (nós que não têm filhos)."
      ],
      "metadata": {
        "id": "HXzsgF7Y8FMI"
      }
    },
    {
      "cell_type": "code",
      "source": [
        "def contar_folhas(raiz):\n",
        "    if raiz is None:\n",
        "        return 0\n",
        "\n",
        "    # Nó folha: não tem filhos\n",
        "    if raiz.esquerda is None and raiz.direita is None:\n",
        "        return 1\n",
        "\n",
        "    # Visitar os nós da esquerda e direita\n",
        "    return contar_folhas(raiz.esquerda) + contar_folhas(raiz.direita)"
      ],
      "metadata": {
        "id": "7uJjOZOi8Knv"
      },
      "execution_count": null,
      "outputs": []
    },
    {
      "cell_type": "markdown",
      "source": [
        "**Exercício 4:** Verificar Igualdade. Implemente um método `sao_identicas(outra_arvore)` que retorne `True` se a estrutura e os valores de ambas as árvores forem idênticos, ou `False` caso contrário."
      ],
      "metadata": {
        "id": "VHE5iGnt8y4s"
      }
    },
    {
      "cell_type": "code",
      "source": [
        "def sao_identicas(self, outra_arvore):\n",
        "  return self._sao_identicas_recursivo(self.raiz, outra_arvore.raiz)\n",
        "\n",
        "def _sao_identicas_recursivo(self, no1, no2):\n",
        "  if no1 is None and no2 is None:\n",
        "    return True\n",
        "  if no1 is not None and no2 is not None:\n",
        "    return (\n",
        "      no1.valor == no2.valor and\n",
        "      self._sao_identicas_recursivo(no1.esquerda, no2.esquerda) and\n",
        "      self._sao_identicas_recursivo(no1.direita, no2.direita)\n",
        "      )\n",
        "  # Se um é None e o outro não, são diferentes\n",
        "  return False"
      ],
      "metadata": {
        "id": "F3jnnIIF9HXQ"
      },
      "execution_count": null,
      "outputs": []
    },
    {
      "cell_type": "markdown",
      "source": [
        "**Exercício 5:** Caminho até um Valor. Implemente um método que retorne o caminho da raiz até um determinado valor como uma lista.\n"
      ],
      "metadata": {
        "id": "ogPFaqBG9OHP"
      }
    },
    {
      "cell_type": "code",
      "source": [],
      "metadata": {
        "id": "fcQN7Icd93aZ"
      },
      "execution_count": null,
      "outputs": []
    },
    {
      "cell_type": "markdown",
      "source": [
        "**Exercício 6:** Espelhar a Árvore. Implemente um método que modifique a árvore trocando os filhos esquerdo e direito de todos os nós."
      ],
      "metadata": {
        "id": "mBJWcrE3930p"
      }
    },
    {
      "cell_type": "code",
      "source": [
        "def espelhar(self):\n",
        "  self._espelhar_recursivo(self.raiz)\n",
        "\n",
        "def _espelhar_recursivo(self, no):\n",
        "  if no is None:\n",
        "    return\n",
        "  # Troca os filhos esquerdo e direito\n",
        "  no.esquerda, no.direita = no.direita, no.esquerda\n",
        "\n",
        "  # Chama recursivamente para os filhos\n",
        "  self._espelhar_recursivo(no.esquerda)\n",
        "  self._espelhar_recursivo(no.direita)"
      ],
      "metadata": {
        "id": "AAzVBJrI9747"
      },
      "execution_count": null,
      "outputs": []
    }
  ],
  "metadata": {
    "kernelspec": {
      "display_name": "Python 3",
      "language": "python",
      "name": "python3"
    },
    "language_info": {
      "codemirror_mode": {
        "name": "ipython",
        "version": 3
      },
      "file_extension": ".py",
      "mimetype": "text/x-python",
      "name": "python",
      "nbconvert_exporter": "python",
      "pygments_lexer": "ipython3",
      "version": "3.10.12"
    },
    "colab": {
      "provenance": [],
      "include_colab_link": true
    }
  },
  "nbformat": 4,
  "nbformat_minor": 0
}