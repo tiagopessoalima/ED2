{
  "cells": [
    {
      "cell_type": "markdown",
      "metadata": {
        "id": "view-in-github",
        "colab_type": "text"
      },
      "source": [
        "<a href=\"https://colab.research.google.com/github/tiagopessoalima/ED2/blob/main/Aula_Semana_11_(ED2).ipynb\" target=\"_parent\"><img src=\"https://colab.research.google.com/assets/colab-badge.svg\" alt=\"Open In Colab\"/></a>"
      ]
    },
    {
      "cell_type": "markdown",
      "metadata": {
        "id": "bXu0wHdW0v33"
      },
      "source": [
        "# **Introdução a Árvores Binárias**"
      ]
    },
    {
      "cell_type": "markdown",
      "source": [
        "## **Conceitos Fundamentais**"
      ],
      "metadata": {
        "id": "rgf-V7vG07Ey"
      }
    },
    {
      "cell_type": "markdown",
      "source": [
        "### **O que são Árvores?**"
      ],
      "metadata": {
        "id": "2YzN3Mlb09Qq"
      }
    },
    {
      "cell_type": "markdown",
      "source": [
        "Uma árvore é uma estrutura de dados não-linear, hierárquica, que consiste em nós conectados por arestas. Diferentemente de estruturas lineares como arrays, listas ligadas, pilhas e filas, as árvores são estruturas hierárquicas.\n",
        "\n",
        "Características principais:\n",
        "\n",
        "- Um nó especial chamado **raiz** é o ponto de partida da árvore\n",
        "- Cada nó (exceto a raiz) está conectado por exatamente uma aresta vinda de outro nó\n",
        "- Cada nó pode ter zero ou mais nós filhos\n",
        "- Nós sem filhos são chamados de **folhas** ou nós terminais\n",
        "- Nós com pelo menos um filho são chamados de nós internos"
      ],
      "metadata": {
        "id": "j8_f-vem1BYi"
      }
    },
    {
      "cell_type": "markdown",
      "source": [
        "### **Terminologia Básica**"
      ],
      "metadata": {
        "id": "ZSjvuhiA1HWf"
      }
    },
    {
      "cell_type": "markdown",
      "source": [
        "- **Raiz**: Nó inicial da árvore\n",
        "- **Nó Pai**: Nó que possui filhos\n",
        "- **Nó Filho**: Nó que possui um pai\n",
        "- **Irmãos**: Nós que compartilham o mesmo pai\n",
        "- **Folha**: Nó sem filhos\n",
        "- **Subárvore**: Árvore formada por um nó e seus descendentes\n",
        "- **Nível**: Distância de um nó até a raiz (a raiz está no nível 0)\n",
        "- **Altura**: Maior nível de qualquer nó na árvore\n",
        "- **Profundidade**: Número de arestas do caminho da raiz até o nó\n",
        "- **Grau**: Número de filhos de um nó"
      ],
      "metadata": {
        "id": "1D_Fkzar1Jrc"
      }
    },
    {
      "cell_type": "markdown",
      "metadata": {
        "id": "BdhDW_yy0v37"
      },
      "source": [
        "### **O que são Árvores Binárias?**"
      ]
    },
    {
      "cell_type": "markdown",
      "source": [
        "É um tipo especial de árvore onde cada nó pode ter no máximo dois filhos, geralmente referidos como filho esquerdo e filho direito.\n",
        "\n",
        "Características específicas:\n",
        "\n",
        "- Cada nó tem no máximo dois filhos\n",
        "- Existe uma distinção entre filho esquerdo e filho direito\n",
        "- Pode ser vazia (sem nós)"
      ],
      "metadata": {
        "id": "4U-m22fC1YGT"
      }
    },
    {
      "cell_type": "markdown",
      "source": [
        "#### **Tipos de Árvores Binárias**"
      ],
      "metadata": {
        "id": "ymQi03ZY1Y1l"
      }
    },
    {
      "cell_type": "markdown",
      "metadata": {
        "id": "dAo9aYzp0v38"
      },
      "source": [
        "\n",
        "\n",
        "\n",
        "\n",
        "1. **Árvore Binária Completa**: Todos os níveis, exceto possivelmente o último, estão completamente preenchidos, e todos os nós estão o mais à esquerda possível.\n",
        "\n",
        "2. **Árvore Binária Cheia**: Cada nó tem 0 ou 2 filhos (nunca apenas 1).\n",
        "\n",
        "3. **Árvore Binária Perfeita**: Todos os nós internos têm exatamente dois filhos e todas as folhas estão no mesmo nível.\n",
        "\n",
        "4. **Árvore Binária de Busca (BST)**: Árvore binária onde para cada nó, todos os elementos na subárvore esquerda são menores que o nó, e todos os elementos na subárvore direita são maiores.\n",
        "\n",
        "5. **Árvore Binária Balanceada**: Árvore onde a diferença de altura entre as subárvores esquerda e direita de qualquer nó não é maior que 1 (ex: árvores AVL)."
      ]
    },
    {
      "cell_type": "markdown",
      "source": [
        "## **Representação de Árvores Binárias**"
      ],
      "metadata": {
        "id": "7RpH_F4M1fvo"
      }
    },
    {
      "cell_type": "markdown",
      "metadata": {
        "id": "d-MK3yxy0v39"
      },
      "source": [
        "Existem várias maneiras de representar árvores binárias em código. A abordagem mais comum é usar uma estrutura de nó com referências para os filhos esquerdo e direito."
      ]
    },
    {
      "cell_type": "code",
      "execution_count": 1,
      "metadata": {
        "colab": {
          "base_uri": "https://localhost:8080/"
        },
        "id": "hSB7dN2Y0v39",
        "outputId": "30d3adcd-4046-4fc0-bf1a-4c6545c3e701"
      },
      "outputs": [
        {
          "output_type": "stream",
          "name": "stdout",
          "text": [
            "Raiz: Nó(10)\n",
            "Filho esquerdo da raiz: Nó(5)\n",
            "Filho direito da raiz: Nó(15)\n",
            "Netos da raiz: Nó(3), Nó(7), Nó(20)\n"
          ]
        }
      ],
      "source": [
        "class No:\n",
        "    def __init__(self, valor):\n",
        "        self.valor = valor        # Valor armazenado no nó\n",
        "        self.esquerda = None      # Referência para o filho esquerdo\n",
        "        self.direita = None       # Referência para o filho direito\n",
        "\n",
        "    def __str__(self):\n",
        "        return f\"Nó({self.valor})\"\n",
        "\n",
        "# Exemplo de criação de uma árvore binária simples\n",
        "#       10\n",
        "#      /  \\\n",
        "#     5    15\n",
        "#    / \\     \\\n",
        "#   3   7     20\n",
        "\n",
        "# Criando os nós\n",
        "raiz = No(10)\n",
        "raiz.esquerda = No(5)\n",
        "raiz.direita = No(15)\n",
        "raiz.esquerda.esquerda = No(3)\n",
        "raiz.esquerda.direita = No(7)\n",
        "raiz.direita.direita = No(20)\n",
        "\n",
        "# Verificando a estrutura\n",
        "print(f\"Raiz: {raiz}\")\n",
        "print(f\"Filho esquerdo da raiz: {raiz.esquerda}\")\n",
        "print(f\"Filho direito da raiz: {raiz.direita}\")\n",
        "print(f\"Netos da raiz: {raiz.esquerda.esquerda}, {raiz.esquerda.direita}, {raiz.direita.direita}\")"
      ]
    },
    {
      "cell_type": "markdown",
      "source": [
        "### **Visualização de Árvores Binárias**"
      ],
      "metadata": {
        "id": "AT5dm7BO1xv1"
      }
    },
    {
      "cell_type": "markdown",
      "metadata": {
        "id": "B6Grp-7C0v3_"
      },
      "source": [
        "\n",
        "\n",
        "Para melhor compreensão, vamos criar uma função para visualizar a estrutura de uma árvore binária:"
      ]
    },
    {
      "cell_type": "code",
      "execution_count": 2,
      "metadata": {
        "colab": {
          "base_uri": "https://localhost:8080/"
        },
        "id": "fKh1VShz0v3_",
        "outputId": "45d27ec3-eb8a-4ff5-828e-9850459dc223"
      },
      "outputs": [
        {
          "output_type": "stream",
          "name": "stdout",
          "text": [
            "Estrutura da árvore:\n",
            "Raiz: 10\n",
            "    E── 5\n",
            "        E── 3\n",
            "        D── 7\n",
            "    D── 15\n",
            "        E── None\n",
            "        D── 20\n"
          ]
        }
      ],
      "source": [
        "def imprimir_arvore(no, nivel=0, prefixo=\"Raiz: \"):\n",
        "    if no is not None:\n",
        "        espacos = \"    \" * nivel\n",
        "        print(f\"{espacos}{prefixo}{no.valor}\")\n",
        "        if no.esquerda is not None or no.direita is not None:  # Se tiver pelo menos um filho\n",
        "            if no.esquerda:\n",
        "                imprimir_arvore(no.esquerda, nivel + 1, \"E── \")\n",
        "            else:\n",
        "                print(f\"{espacos}    E── None\")\n",
        "            if no.direita:\n",
        "                imprimir_arvore(no.direita, nivel + 1, \"D── \")\n",
        "            else:\n",
        "                print(f\"{espacos}    D── None\")\n",
        "\n",
        "# Testando a função de visualização\n",
        "print(\"Estrutura da árvore:\")\n",
        "imprimir_arvore(raiz)"
      ]
    },
    {
      "cell_type": "markdown",
      "source": [
        "### **Visualização Gráfica com Matplotlib**"
      ],
      "metadata": {
        "id": "HQ9HyF-w2AR2"
      }
    },
    {
      "cell_type": "markdown",
      "metadata": {
        "id": "Br6Fmdq10v4A"
      },
      "source": [
        "\n",
        "\n",
        "Para uma visualização mais elegante, podemos usar a biblioteca matplotlib:"
      ]
    },
    {
      "cell_type": "code",
      "execution_count": 3,
      "metadata": {
        "colab": {
          "base_uri": "https://localhost:8080/",
          "height": 607
        },
        "id": "1m630bsS0v4B",
        "outputId": "c9b6f4f4-d35a-418b-f308-ed00d51202bc"
      },
      "outputs": [
        {
          "output_type": "display_data",
          "data": {
            "text/plain": [
              "<Figure size 1000x600 with 1 Axes>"
            ],
            "image/png": "[encoded data removed]"
          },
          "metadata": {}
        }
      ],
      "source": [
        "import matplotlib.pyplot as plt\n",
        "import matplotlib.patches as patches\n",
        "import numpy as np\n",
        "\n",
        "def calcular_posicoes(no, nivel=0, offset=0, posicoes=None, largura_nivel=None):\n",
        "    if posicoes is None:\n",
        "        posicoes = {}\n",
        "    if largura_nivel is None:\n",
        "        largura_nivel = {}\n",
        "\n",
        "    if no is None:\n",
        "        return posicoes, largura_nivel\n",
        "\n",
        "    # Inicializa a largura do nível se ainda não existir\n",
        "    if nivel not in largura_nivel:\n",
        "        largura_nivel[nivel] = 0\n",
        "\n",
        "    # Calcula posições para a subárvore esquerda\n",
        "    posicoes, largura_nivel = calcular_posicoes(no.esquerda, nivel + 1, offset, posicoes, largura_nivel)\n",
        "\n",
        "    # Posiciona o nó atual\n",
        "    x = offset + largura_nivel[nivel]\n",
        "    y = nivel\n",
        "    posicoes[no] = (x, y)\n",
        "    largura_nivel[nivel] += 1\n",
        "\n",
        "    # Calcula posições para a subárvore direita\n",
        "    posicoes, largura_nivel = calcular_posicoes(no.direita, nivel + 1, offset + largura_nivel[nivel], posicoes, largura_nivel)\n",
        "\n",
        "    return posicoes, largura_nivel\n",
        "\n",
        "def visualizar_arvore(raiz):\n",
        "    if raiz is None:\n",
        "        print(\"Árvore vazia\")\n",
        "        return\n",
        "\n",
        "    posicoes, _ = calcular_posicoes(raiz)\n",
        "\n",
        "    # Configuração do plot\n",
        "    fig, ax = plt.subplots(figsize=(10, 6))\n",
        "    ax.set_axis_off()\n",
        "\n",
        "    # Desenha os nós e as arestas\n",
        "    for no, (x, y) in posicoes.items():\n",
        "        # Desenha o nó\n",
        "        circle = patches.Circle((x, -y), 0.3, facecolor='lightblue', edgecolor='blue')\n",
        "        ax.add_patch(circle)\n",
        "        ax.text(x, -y, str(no.valor), ha='center', va='center')\n",
        "\n",
        "        # Desenha as arestas para os filhos\n",
        "        if no.esquerda and no.esquerda in posicoes:\n",
        "            child_x, child_y = posicoes[no.esquerda]\n",
        "            ax.plot([x, child_x], [-y, -child_y], 'k-')\n",
        "\n",
        "        if no.direita and no.direita in posicoes:\n",
        "            child_x, child_y = posicoes[no.direita]\n",
        "            ax.plot([x, child_x], [-y, -child_y], 'k-')\n",
        "\n",
        "    # Ajusta os limites do plot\n",
        "    xs = [x for x, y in posicoes.values()]\n",
        "    ys = [-y for x, y in posicoes.values()]\n",
        "    ax.set_xlim(min(xs) - 1, max(xs) + 1)\n",
        "    ax.set_ylim(min(ys) - 1, max(ys) + 1)\n",
        "\n",
        "    plt.title(\"Visualização da Árvore Binária\")\n",
        "    plt.tight_layout()\n",
        "    plt.show()\n",
        "\n",
        "# Testando a visualização gráfica\n",
        "visualizar_arvore(raiz)"
      ]
    },
    {
      "cell_type": "markdown",
      "source": [
        "## **Percursos em Árvores Binárias**"
      ],
      "metadata": {
        "id": "Xb1nI38d2Lpc"
      }
    },
    {
      "cell_type": "markdown",
      "metadata": {
        "id": "3g27xxGZ0v4B"
      },
      "source": [
        "\n",
        "\n",
        "Existem três formas principais de percorrer uma árvore binária:\n",
        "\n",
        "1. **Pré-ordem (Pre-order)**: Visita a raiz, depois a subárvore esquerda e por fim a subárvore direita.\n",
        "2. **Em-ordem (In-order)**: Visita a subárvore esquerda, depois a raiz e por fim a subárvore direita.\n",
        "3. **Pós-ordem (Post-order)**: Visita a subárvore esquerda, depois a subárvore direita e por fim a raiz.\n",
        "\n",
        "Vamos implementar esses três tipos de percurso:"
      ]
    },
    {
      "cell_type": "code",
      "execution_count": 4,
      "metadata": {
        "colab": {
          "base_uri": "https://localhost:8080/"
        },
        "id": "jt-ENjFv0v4C",
        "outputId": "6a14aea2-6d9a-4cdf-d288-65f19aea5e5c"
      },
      "outputs": [
        {
          "output_type": "stream",
          "name": "stdout",
          "text": [
            "Percurso em pré-ordem: [10, 5, 3, 7, 15, 20]\n",
            "Percurso em em-ordem: [3, 5, 7, 10, 15, 20]\n",
            "Percurso em pós-ordem: [3, 7, 5, 20, 15, 10]\n"
          ]
        }
      ],
      "source": [
        "def pre_ordem(no):\n",
        "    if no is None:\n",
        "        return []\n",
        "\n",
        "    resultado = [no.valor]  # Visita o nó atual\n",
        "    resultado.extend(pre_ordem(no.esquerda))  # Visita a subárvore esquerda\n",
        "    resultado.extend(pre_ordem(no.direita))  # Visita a subárvore direita\n",
        "\n",
        "    return resultado\n",
        "\n",
        "def em_ordem(no):\n",
        "    if no is None:\n",
        "        return []\n",
        "\n",
        "    resultado = em_ordem(no.esquerda)  # Visita a subárvore esquerda\n",
        "    resultado.append(no.valor)  # Visita o nó atual\n",
        "    resultado.extend(em_ordem(no.direita))  # Visita a subárvore direita\n",
        "\n",
        "    return resultado\n",
        "\n",
        "def pos_ordem(no):\n",
        "    if no is None:\n",
        "        return []\n",
        "\n",
        "    resultado = pos_ordem(no.esquerda)  # Visita a subárvore esquerda\n",
        "    resultado.extend(pos_ordem(no.direita))  # Visita a subárvore direita\n",
        "    resultado.append(no.valor)  # Visita o nó atual\n",
        "\n",
        "    return resultado\n",
        "\n",
        "# Testando os percursos\n",
        "print(f\"Percurso em pré-ordem: {pre_ordem(raiz)}\")\n",
        "print(f\"Percurso em em-ordem: {em_ordem(raiz)}\")\n",
        "print(f\"Percurso em pós-ordem: {pos_ordem(raiz)}\")"
      ]
    },
    {
      "cell_type": "markdown",
      "source": [
        "### **Percurso em Largura (BFS - Breadth-First Search)**"
      ],
      "metadata": {
        "id": "I08YBRK72Scr"
      }
    },
    {
      "cell_type": "markdown",
      "metadata": {
        "id": "QI41oIQn0v4C"
      },
      "source": [
        "Além dos percursos em profundidade (pré-ordem, em-ordem e pós-ordem), também podemos percorrer a árvore em largura, visitando todos os nós de um nível antes de passar para o próximo nível. Para isso, usamos uma fila:"
      ]
    },
    {
      "cell_type": "code",
      "execution_count": 5,
      "metadata": {
        "colab": {
          "base_uri": "https://localhost:8080/"
        },
        "id": "CVoX3kIr0v4C",
        "outputId": "ac3b7715-8793-4cb5-9f35-a35783353eb4"
      },
      "outputs": [
        {
          "output_type": "stream",
          "name": "stdout",
          "text": [
            "Percurso em largura: [10, 5, 15, 3, 7, 20]\n"
          ]
        }
      ],
      "source": [
        "from collections import deque\n",
        "\n",
        "def percurso_em_largura(raiz):\n",
        "    if raiz is None:\n",
        "        return []\n",
        "\n",
        "    resultado = []\n",
        "    fila = deque([raiz])\n",
        "\n",
        "    while fila:\n",
        "        no = fila.popleft()  # Remove o primeiro nó da fila\n",
        "        resultado.append(no.valor)  # Visita o nó\n",
        "\n",
        "        # Adiciona os filhos à fila\n",
        "        if no.esquerda:\n",
        "            fila.append(no.esquerda)\n",
        "        if no.direita:\n",
        "            fila.append(no.direita)\n",
        "\n",
        "    return resultado\n",
        "\n",
        "# Testando o percurso em largura\n",
        "print(f\"Percurso em largura: {percurso_em_largura(raiz)}\")"
      ]
    },
    {
      "cell_type": "markdown",
      "source": [
        "## **Operações Básicas em Árvores Binárias**"
      ],
      "metadata": {
        "id": "gfmITZrN2ayG"
      }
    },
    {
      "cell_type": "markdown",
      "metadata": {
        "id": "gvxWRSU-0v4C"
      },
      "source": [
        "\n",
        "\n",
        "Vamos implementar algumas operações básicas em árvores binárias:"
      ]
    },
    {
      "cell_type": "code",
      "execution_count": 6,
      "metadata": {
        "colab": {
          "base_uri": "https://localhost:8080/"
        },
        "id": "a3iA1jLv0v4D",
        "outputId": "778a5276-a268-40d0-b0e0-59d5b34ceb73"
      },
      "outputs": [
        {
          "output_type": "stream",
          "name": "stdout",
          "text": [
            "Altura da árvore: 2\n",
            "Número total de nós: 6\n",
            "Número de folhas: 3\n",
            "O valor 7 existe na árvore? True\n",
            "O valor 12 existe na árvore? False\n"
          ]
        }
      ],
      "source": [
        "def altura_arvore(no):\n",
        "    \"\"\"Calcula a altura da árvore.\"\"\"\n",
        "    if no is None:\n",
        "        return -1  # Altura de uma árvore vazia é -1\n",
        "\n",
        "    altura_esquerda = altura_arvore(no.esquerda)\n",
        "    altura_direita = altura_arvore(no.direita)\n",
        "\n",
        "    # A altura é o máximo entre as alturas das subárvores + 1\n",
        "    return max(altura_esquerda, altura_direita) + 1\n",
        "\n",
        "def contar_nos(no):\n",
        "    \"\"\"Conta o número total de nós na árvore.\"\"\"\n",
        "    if no is None:\n",
        "        return 0\n",
        "\n",
        "    return 1 + contar_nos(no.esquerda) + contar_nos(no.direita)\n",
        "\n",
        "def contar_folhas(no):\n",
        "    \"\"\"Conta o número de nós folha na árvore.\"\"\"\n",
        "    if no is None:\n",
        "        return 0\n",
        "\n",
        "    # Se o nó não tem filhos, é uma folha\n",
        "    if no.esquerda is None and no.direita is None:\n",
        "        return 1\n",
        "\n",
        "    return contar_folhas(no.esquerda) + contar_folhas(no.direita)\n",
        "\n",
        "def buscar_valor(no, valor):\n",
        "    \"\"\"Verifica se um valor existe na árvore.\"\"\"\n",
        "    if no is None:\n",
        "        return False\n",
        "\n",
        "    if no.valor == valor:\n",
        "        return True\n",
        "\n",
        "    return buscar_valor(no.esquerda, valor) or buscar_valor(no.direita, valor)\n",
        "\n",
        "# Testando as operações\n",
        "print(f\"Altura da árvore: {altura_arvore(raiz)}\")\n",
        "print(f\"Número total de nós: {contar_nos(raiz)}\")\n",
        "print(f\"Número de folhas: {contar_folhas(raiz)}\")\n",
        "print(f\"O valor 7 existe na árvore? {buscar_valor(raiz, 7)}\")\n",
        "print(f\"O valor 12 existe na árvore? {buscar_valor(raiz, 12)}\")"
      ]
    },
    {
      "cell_type": "markdown",
      "source": [
        "## **Árvore Binária de Busca (BST)**"
      ],
      "metadata": {
        "id": "Zp4YyctI2f7B"
      }
    },
    {
      "cell_type": "markdown",
      "metadata": {
        "id": "2BE1lCmp0v4D"
      },
      "source": [
        "É um tipo especial de árvore binária que mantém uma ordenação específica: para cada nó, todos os elementos na subárvore esquerda são menores que o nó, e todos os elementos na subárvore direita são maiores. Vamos implementar uma classe para representar uma BST e suas operações básicas:"
      ]
    },
    {
      "cell_type": "code",
      "execution_count": 7,
      "metadata": {
        "colab": {
          "base_uri": "https://localhost:8080/",
          "height": 1000
        },
        "id": "95Kv4mS90v4D",
        "outputId": "346f50d3-3bad-4efc-cd72-8862cbaf3c6a"
      },
      "outputs": [
        {
          "output_type": "stream",
          "name": "stdout",
          "text": [
            "Árvore Binária de Busca criada com os valores: [50, 30, 70, 20, 40, 60, 80]\n",
            "Percurso em-ordem (deve estar ordenado): [20, 30, 40, 50, 60, 70, 80]\n",
            "Valor mínimo: 20\n",
            "Valor máximo: 80\n"
          ]
        },
        {
          "output_type": "display_data",
          "data": {
            "text/plain": [
              "<Figure size 1000x600 with 1 Axes>"
            ],
            "image/png": "[encoded data removed]"
          },
          "metadata": {}
        },
        {
          "output_type": "stream",
          "name": "stdout",
          "text": [
            "Busca pelo valor 40: Encontrado\n",
            "\n",
            "Removendo o valor 30...\n",
            "Percurso em-ordem após remoção: [20, 40, 50, 60, 70, 80]\n"
          ]
        },
        {
          "output_type": "display_data",
          "data": {
            "text/plain": [
              "<Figure size 1000x600 with 1 Axes>"
            ],
            "image/png": "[encoded data removed]"
          },
          "metadata": {}
        }
      ],
      "source": [
        "class ArvoreBinariaBusca:\n",
        "    def __init__(self):\n",
        "        self.raiz = None\n",
        "\n",
        "    def inserir(self, valor):\n",
        "        \"\"\"Insere um valor na árvore.\"\"\"\n",
        "        if self.raiz is None:\n",
        "            self.raiz = No(valor)\n",
        "        else:\n",
        "            self._inserir_recursivo(self.raiz, valor)\n",
        "\n",
        "    def _inserir_recursivo(self, no, valor):\n",
        "        \"\"\"Função auxiliar para inserção recursiva.\"\"\"\n",
        "        if valor < no.valor:\n",
        "            if no.esquerda is None:\n",
        "                no.esquerda = No(valor)\n",
        "            else:\n",
        "                self._inserir_recursivo(no.esquerda, valor)\n",
        "        else:  # valor >= no.valor\n",
        "            if no.direita is None:\n",
        "                no.direita = No(valor)\n",
        "            else:\n",
        "                self._inserir_recursivo(no.direita, valor)\n",
        "\n",
        "    def buscar(self, valor):\n",
        "        \"\"\"Busca um valor na árvore.\"\"\"\n",
        "        return self._buscar_recursivo(self.raiz, valor)\n",
        "\n",
        "    def _buscar_recursivo(self, no, valor):\n",
        "        \"\"\"Função auxiliar para busca recursiva.\"\"\"\n",
        "        if no is None or no.valor == valor:\n",
        "            return no\n",
        "\n",
        "        if valor < no.valor:\n",
        "            return self._buscar_recursivo(no.esquerda, valor)\n",
        "        else:\n",
        "            return self._buscar_recursivo(no.direita, valor)\n",
        "\n",
        "    def minimo(self):\n",
        "        \"\"\"Retorna o valor mínimo na árvore.\"\"\"\n",
        "        if self.raiz is None:\n",
        "            return None\n",
        "\n",
        "        atual = self.raiz\n",
        "        while atual.esquerda is not None:\n",
        "            atual = atual.esquerda\n",
        "\n",
        "        return atual.valor\n",
        "\n",
        "    def maximo(self):\n",
        "        \"\"\"Retorna o valor máximo na árvore.\"\"\"\n",
        "        if self.raiz is None:\n",
        "            return None\n",
        "\n",
        "        atual = self.raiz\n",
        "        while atual.direita is not None:\n",
        "            atual = atual.direita\n",
        "\n",
        "        return atual.valor\n",
        "\n",
        "    def remover(self, valor):\n",
        "        \"\"\"Remove um valor da árvore.\"\"\"\n",
        "        self.raiz = self._remover_recursivo(self.raiz, valor)\n",
        "\n",
        "    def _remover_recursivo(self, no, valor):\n",
        "        \"\"\"Função auxiliar para remoção recursiva.\"\"\"\n",
        "        if no is None:\n",
        "            return None\n",
        "\n",
        "        # Busca o nó a ser removido\n",
        "        if valor < no.valor:\n",
        "            no.esquerda = self._remover_recursivo(no.esquerda, valor)\n",
        "        elif valor > no.valor:\n",
        "            no.direita = self._remover_recursivo(no.direita, valor)\n",
        "        else:\n",
        "            # Caso 1: Nó folha (sem filhos)\n",
        "            if no.esquerda is None and no.direita is None:\n",
        "                return None\n",
        "\n",
        "            # Caso 2: Nó com apenas um filho\n",
        "            elif no.esquerda is None:\n",
        "                return no.direita\n",
        "            elif no.direita is None:\n",
        "                return no.esquerda\n",
        "\n",
        "            # Caso 3: Nó com dois filhos\n",
        "            # Encontra o sucessor in-order (menor valor na subárvore direita)\n",
        "            sucessor = self._encontrar_minimo(no.direita)\n",
        "            no.valor = sucessor.valor\n",
        "            no.direita = self._remover_recursivo(no.direita, sucessor.valor)\n",
        "\n",
        "        return no\n",
        "\n",
        "    def _encontrar_minimo(self, no):\n",
        "        \"\"\"Encontra o nó com o valor mínimo na subárvore.\"\"\"\n",
        "        atual = no\n",
        "        while atual.esquerda is not None:\n",
        "            atual = atual.esquerda\n",
        "        return atual\n",
        "\n",
        "    def em_ordem(self):\n",
        "        \"\"\"Retorna os valores da árvore em ordem crescente.\"\"\"\n",
        "        return em_ordem(self.raiz)\n",
        "\n",
        "    def visualizar(self):\n",
        "        \"\"\"Visualiza a árvore.\"\"\"\n",
        "        visualizar_arvore(self.raiz)\n",
        "\n",
        "# Testando a Árvore Binária de Busca\n",
        "bst = ArvoreBinariaBusca()\n",
        "valores = [50, 30, 70, 20, 40, 60, 80]\n",
        "\n",
        "for valor in valores:\n",
        "    bst.inserir(valor)\n",
        "\n",
        "print(\"Árvore Binária de Busca criada com os valores:\", valores)\n",
        "print(f\"Percurso em-ordem (deve estar ordenado): {bst.em_ordem()}\")\n",
        "print(f\"Valor mínimo: {bst.minimo()}\")\n",
        "print(f\"Valor máximo: {bst.maximo()}\")\n",
        "\n",
        "# Visualizando a árvore\n",
        "bst.visualizar()\n",
        "\n",
        "# Testando a busca\n",
        "valor_busca = 40\n",
        "resultado = bst.buscar(valor_busca)\n",
        "print(f\"Busca pelo valor {valor_busca}: {'Encontrado' if resultado else 'Não encontrado'}\")\n",
        "\n",
        "# Testando a remoção\n",
        "valor_remover = 30\n",
        "print(f\"\\nRemovendo o valor {valor_remover}...\")\n",
        "bst.remover(valor_remover)\n",
        "print(f\"Percurso em-ordem após remoção: {bst.em_ordem()}\")\n",
        "\n",
        "# Visualizando a árvore após remoção\n",
        "bst.visualizar()"
      ]
    },
    {
      "cell_type": "markdown",
      "source": [
        "## **Aplicações de Árvores Binárias**"
      ],
      "metadata": {
        "id": "0la9rBHg2yti"
      }
    },
    {
      "cell_type": "markdown",
      "metadata": {
        "id": "BHQ_altp0v4E"
      },
      "source": [
        "\n",
        "\n",
        "Árvores binárias são estruturas de dados versáteis com muitas aplicações práticas:\n",
        "\n",
        "1. **Árvores de Expressão**: Representação de expressões matemáticas para avaliação e compilação.\n",
        "2. **Árvores de Huffman**: Usadas em algoritmos de compressão de dados.\n",
        "3. **Árvores de Busca Binária**: Implementação eficiente de dicionários e conjuntos.\n",
        "4. **Árvores Balanceadas**: AVL, Rubro-Negras, B-Trees para operações eficientes de busca, inserção e remoção.\n",
        "5. **Árvores de Decisão**: Usadas em algoritmos de aprendizado de máquina.\n",
        "6. **Heap Binário**: Implementação de filas de prioridade."
      ]
    },
    {
      "cell_type": "markdown",
      "source": [
        "### **Avaliação de Expressões Matemáticas**"
      ],
      "metadata": {
        "id": "2q4_Mhgu24K6"
      }
    },
    {
      "cell_type": "markdown",
      "source": [
        "Vamos implementar uma árvore de expressão para avaliar expressões matemáticas simples:"
      ],
      "metadata": {
        "id": "wHSHpUnC29rO"
      }
    },
    {
      "cell_type": "code",
      "execution_count": 8,
      "metadata": {
        "colab": {
          "base_uri": "https://localhost:8080/"
        },
        "id": "y_LfN3eh0v4E",
        "outputId": "4534fc81-a4fe-4aa0-da54-f7d55f9a32ef"
      },
      "outputs": [
        {
          "output_type": "stream",
          "name": "stdout",
          "text": [
            "Resultado da expressão (3 + 4) * 5 = 35.0\n"
          ]
        }
      ],
      "source": [
        "class NoExpressao:\n",
        "    def __init__(self, valor):\n",
        "        self.valor = valor\n",
        "        self.esquerda = None\n",
        "        self.direita = None\n",
        "\n",
        "def avaliar_expressao(no):\n",
        "    \"\"\"Avalia uma árvore de expressão.\"\"\"\n",
        "    if no is None:\n",
        "        return 0\n",
        "\n",
        "    # Se o nó é uma folha (operando), retorna seu valor\n",
        "    if no.esquerda is None and no.direita is None:\n",
        "        return float(no.valor)\n",
        "\n",
        "    # Avalia as subárvores esquerda e direita\n",
        "    valor_esquerda = avaliar_expressao(no.esquerda)\n",
        "    valor_direita = avaliar_expressao(no.direita)\n",
        "\n",
        "    # Aplica a operação correspondente\n",
        "    if no.valor == '+':\n",
        "        return valor_esquerda + valor_direita\n",
        "    elif no.valor == '-':\n",
        "        return valor_esquerda - valor_direita\n",
        "    elif no.valor == '*':\n",
        "        return valor_esquerda * valor_direita\n",
        "    elif no.valor == '/':\n",
        "        return valor_esquerda / valor_direita\n",
        "\n",
        "    return 0\n",
        "\n",
        "# Criando uma árvore de expressão para (3 + 4) * 5\n",
        "#      *\n",
        "#     / \\\n",
        "#    +   5\n",
        "#   / \\\n",
        "#  3   4\n",
        "\n",
        "raiz_expr = NoExpressao('*')\n",
        "raiz_expr.esquerda = NoExpressao('+')\n",
        "raiz_expr.direita = NoExpressao('5')\n",
        "raiz_expr.esquerda.esquerda = NoExpressao('3')\n",
        "raiz_expr.esquerda.direita = NoExpressao('4')\n",
        "\n",
        "# Avaliando a expressão\n",
        "resultado = avaliar_expressao(raiz_expr)\n",
        "print(f\"Resultado da expressão (3 + 4) * 5 = {resultado}\")"
      ]
    },
    {
      "cell_type": "markdown",
      "source": [
        "## **Exercícios Práticos**"
      ],
      "metadata": {
        "id": "mjCPX5FO3FTz"
      }
    },
    {
      "cell_type": "markdown",
      "metadata": {
        "id": "XcKdIT3H0v4E"
      },
      "source": [
        "### **Exercício 1:** Verificar se uma árvore binária é uma árvore binária de busca (BST)"
      ]
    },
    {
      "cell_type": "code",
      "execution_count": null,
      "metadata": {
        "id": "0cuPg0Gy0v4E"
      },
      "outputs": [],
      "source": [
        "def eh_bst(no, minimo=float('-inf'), maximo=float('inf')):\n",
        "    \"\"\"Verifica se uma árvore binária é uma árvore binária de busca.\"\"\"\n",
        "    if no is None:\n",
        "        return True\n",
        "\n",
        "    # Verifica se o valor do nó está dentro dos limites permitidos\n",
        "    if no.valor <= minimo or no.valor >= maximo:\n",
        "        return False\n",
        "\n",
        "    # Verifica recursivamente as subárvores\n",
        "    return (eh_bst(no.esquerda, minimo, no.valor) and\n",
        "            eh_bst(no.direita, no.valor, maximo))\n",
        "\n",
        "# Testando com uma BST válida\n",
        "print(f\"A árvore BST criada anteriormente é uma BST válida? {eh_bst(bst.raiz)}\")\n",
        "\n",
        "# Criando uma árvore que não é BST\n",
        "nao_bst = No(10)\n",
        "nao_bst.esquerda = No(5)\n",
        "nao_bst.direita = No(15)\n",
        "nao_bst.esquerda.direita = No(20)  # Viola a propriedade BST (20 > 10)\n",
        "\n",
        "print(f\"A árvore não-BST é uma BST válida? {eh_bst(nao_bst)}\")"
      ]
    },
    {
      "cell_type": "markdown",
      "metadata": {
        "id": "PjCXICmV0v4F"
      },
      "source": [
        "### **Exercício 2:** Encontrar o Menor Ancestral Comum (LCA) de dois nós"
      ]
    },
    {
      "cell_type": "code",
      "execution_count": null,
      "metadata": {
        "id": "Cc6cbBf90v4F"
      },
      "outputs": [],
      "source": [
        "def encontrar_lca(raiz, n1, n2):\n",
        "    \"\"\"Encontra o menor ancestral comum de dois valores na árvore.\"\"\"\n",
        "    if raiz is None:\n",
        "        return None\n",
        "\n",
        "    # Se a raiz é um dos valores, ela é o LCA\n",
        "    if raiz.valor == n1 or raiz.valor == n2:\n",
        "        return raiz\n",
        "\n",
        "    # Procura nas subárvores\n",
        "    lca_esquerda = encontrar_lca(raiz.esquerda, n1, n2)\n",
        "    lca_direita = encontrar_lca(raiz.direita, n1, n2)\n",
        "\n",
        "    # Se ambos os valores foram encontrados em subárvores diferentes, a raiz é o LCA\n",
        "    if lca_esquerda and lca_direita:\n",
        "        return raiz\n",
        "\n",
        "    # Caso contrário, retorna o LCA encontrado em uma das subárvores\n",
        "    return lca_esquerda if lca_esquerda else lca_direita\n",
        "\n",
        "# Testando com a BST criada anteriormente\n",
        "lca = encontrar_lca(bst.raiz, 20, 40)\n",
        "if lca:\n",
        "    print(f\"O menor ancestral comum de 20 e 40 é: {lca.valor}\")\n",
        "else:\n",
        "    print(\"Um ou ambos os valores não foram encontrados na árvore.\")"
      ]
    },
    {
      "cell_type": "markdown",
      "metadata": {
        "id": "83MeIDDX0v4F"
      },
      "source": [
        "### **Exercício 3:** Verificar se duas árvores binárias são idênticas"
      ]
    },
    {
      "cell_type": "code",
      "execution_count": null,
      "metadata": {
        "id": "UPCZaoks0v4F"
      },
      "outputs": [],
      "source": [
        "def sao_identicas(raiz1, raiz2):\n",
        "    \"\"\"Verifica se duas árvores binárias são idênticas.\"\"\"\n",
        "    # Se ambas são nulas, são idênticas\n",
        "    if raiz1 is None and raiz2 is None:\n",
        "        return True\n",
        "\n",
        "    # Se uma é nula e a outra não, não são idênticas\n",
        "    if raiz1 is None or raiz2 is None:\n",
        "        return False\n",
        "\n",
        "    # Verifica se os valores são iguais e se as subárvores são idênticas\n",
        "    return (raiz1.valor == raiz2.valor and\n",
        "            sao_identicas(raiz1.esquerda, raiz2.esquerda) and\n",
        "            sao_identicas(raiz1.direita, raiz2.direita))\n",
        "\n",
        "# Criando duas árvores para teste\n",
        "arvore1 = No(1)\n",
        "arvore1.esquerda = No(2)\n",
        "arvore1.direita = No(3)\n",
        "\n",
        "arvore2 = No(1)\n",
        "arvore2.esquerda = No(2)\n",
        "arvore2.direita = No(3)\n",
        "\n",
        "arvore3 = No(1)\n",
        "arvore3.esquerda = No(3)  # Valor diferente\n",
        "arvore3.direita = No(3)\n",
        "\n",
        "print(f\"Árvore 1 e Árvore 2 são idênticas? {sao_identicas(arvore1, arvore2)}\")\n",
        "print(f\"Árvore 1 e Árvore 3 são idênticas? {sao_identicas(arvore1, arvore3)}\")"
      ]
    },
    {
      "cell_type": "markdown",
      "source": [
        "## **Conclusão**"
      ],
      "metadata": {
        "id": "MAA7k0Vx3WZc"
      }
    },
    {
      "cell_type": "markdown",
      "metadata": {
        "id": "rzuSnRHV0v4F"
      },
      "source": [
        "\n",
        "\n",
        "Neste notebook, exploramos os conceitos fundamentais de árvores binárias, incluindo:\n",
        "\n",
        "- Definição e terminologia de árvores binárias\n",
        "- Representação de árvores binárias em Python\n",
        "- Percursos em árvores binárias (pré-ordem, em-ordem, pós-ordem e em largura)\n",
        "- Operações básicas em árvores binárias\n",
        "- Árvores Binárias de Busca (BST) e suas operações\n",
        "- Aplicações práticas de árvores binárias\n",
        "- Exercícios para praticar os conceitos\n",
        "\n",
        "As árvores binárias são estruturas de dados fundamentais em ciência da computação, com aplicações em diversas áreas como algoritmos de busca, compiladores, compressão de dados e aprendizado de máquina. Dominar os conceitos e operações em árvores binárias é essencial para qualquer programador ou cientista da computação.\n",
        "\n"
      ]
    },
    {
      "cell_type": "markdown",
      "source": [
        "### **Próximos Passos**"
      ],
      "metadata": {
        "id": "KbcfIg7H3f8o"
      }
    },
    {
      "cell_type": "markdown",
      "source": [
        "Para aprofundar seus conhecimentos em árvores binárias, considere estudar:\n",
        "\n",
        "1. Árvores balanceadas (AVL, Rubro-Negras)\n",
        "2. Árvores B e B+\n",
        "3. Heaps e filas de prioridade\n",
        "4. Tries e árvores de sufixo\n",
        "5. Algoritmos de travessia mais avançados\n",
        "6. Aplicações em problemas reais"
      ],
      "metadata": {
        "id": "Q713vN1V3hfs"
      }
    }
  ],
  "metadata": {
    "kernelspec": {
      "display_name": "Python 3",
      "language": "python",
      "name": "python3"
    },
    "language_info": {
      "codemirror_mode": {
        "name": "ipython",
        "version": 3
      },
      "file_extension": ".py",
      "mimetype": "text/x-python",
      "name": "python",
      "nbconvert_exporter": "python",
      "pygments_lexer": "ipython3",
      "version": "3.10.12"
    },
    "colab": {
      "provenance": [],
      "include_colab_link": true
    }
  },
  "nbformat": 4,
  "nbformat_minor": 0
}