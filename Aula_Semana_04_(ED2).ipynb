{
  "nbformat": 4,
  "nbformat_minor": 0,
  "metadata": {
    "colab": {
      "provenance": [],
      "include_colab_link": true
    },
    "kernelspec": {
      "name": "python3",
      "display_name": "Python 3"
    },
    "language_info": {
      "name": "python"
    }
  },
  "cells": [
    {
      "cell_type": "markdown",
      "metadata": {
        "id": "view-in-github",
        "colab_type": "text"
      },
      "source": [
        "<a href=\"https://colab.research.google.com/github/tiagopessoalima/ED2/blob/main/Aula_Semana_04_(ED2).ipynb\" target=\"_parent\"><img src=\"https://colab.research.google.com/assets/colab-badge.svg\" alt=\"Open In Colab\"/></a>"
      ]
    },
    {
      "cell_type": "markdown",
      "source": [
        "# **Listas Simplesmente Ligadas (Encadeadas)**"
      ],
      "metadata": {
        "id": "pS5sFd6XqXHy"
      }
    },
    {
      "cell_type": "markdown",
      "source": [
        "São estruturas de dados **lineares** e **dinâmicas** utilizadas para armazenar coleções de elementos. Diferentemente dos *arrays* (ou listas padrão do Python), que armazenam os elementos em posições **contíguas de memória**, as listas ligadas mantêm os dados dispersos na memória, conectados entre si por **referências**. Cada elemento da lista, chamado de **nó** (*node*), possui dois componentes principais:\n",
        "\n",
        "1. **Valor** armazenado (dado propriamente dito);  \n",
        "2. **Referência (ou ponteiro)** para o próximo nó da sequência.\n",
        "\n",
        "Essa organização oferece vantagens importantes, como inserções e remoções mais eficientes — principalmente quando comparadas aos *arrays*, onde a realocação ou movimentação de elementos pode ser custosa em termos de desempenho. Por outro lado, como cada nó precisa armazenar uma referência, as listas ligadas geralmente consomem mais memória do que *arrays*."
      ],
      "metadata": {
        "id": "SSZmdEBNZF3x"
      }
    },
    {
      "cell_type": "markdown",
      "source": [
        "## **O Bloco de Construção: O Nó (Node)**\n"
      ],
      "metadata": {
        "id": "MhM7BX1paW39"
      }
    },
    {
      "cell_type": "markdown",
      "source": [
        "A estrutura fundamental de uma lista ligada é composta por nós, que são unidades responsáveis por armazenar os dados e manter a ligação entre os elementos da lista. A seguir, a definição da classe que representa um nó em uma lista simplesmente ligada:"
      ],
      "metadata": {
        "id": "loZjbBzObAsT"
      }
    },
    {
      "cell_type": "code",
      "source": [
        "class No:\n",
        "    \"\"\"\n",
        "    Representa um único nó em uma lista simplesmente encadeada.\n",
        "    \"\"\"\n",
        "    def __init__(self, valor):\n",
        "        \"\"\"\n",
        "        Inicializa um novo nó.\n",
        "\n",
        "        Parâmetros:\n",
        "            valor: Dado a ser armazenado no nó.\n",
        "        \"\"\"\n",
        "        self.valor = valor        # Valor armazenado no nó\n",
        "        self.proximo = None       # Referência para o próximo nó (inicialmente nula)\n",
        "\n",
        "    def __repr__(self):\n",
        "        \"\"\"\n",
        "        Representação textual do nó.\n",
        "        \"\"\"\n",
        "        return f\"No({self.valor})\""
      ],
      "metadata": {
        "id": "6t3SVMEcd0lv"
      },
      "execution_count": 1,
      "outputs": []
    },
    {
      "cell_type": "markdown",
      "source": [
        "> A variável `self.proximo` é o que permite o **encadeamento dos nós**. A partir de um nó, é possível navegar sequencialmente pela lista seguindo essa referência — até que ela aponte para `None`, indicando o fim da estrutura."
      ],
      "metadata": {
        "id": "sCZy5wsDhF3n"
      }
    },
    {
      "cell_type": "markdown",
      "source": [
        "### **Exemplo de Criação e Encadeamento de Nós**"
      ],
      "metadata": {
        "id": "L8vot001fu2B"
      }
    },
    {
      "cell_type": "markdown",
      "source": [
        "Abaixo, criamos três nós manualmente e fazemos o encadeamento entre eles, simulando uma lista simples com três elementos.\n"
      ],
      "metadata": {
        "id": "MGkReDQRhqHu"
      }
    },
    {
      "cell_type": "code",
      "source": [
        "# Criando três nós\n",
        "n1 = No(\"A\")\n",
        "n2 = No(\"B\")\n",
        "n3 = No(\"C\")\n",
        "\n",
        "# Encadeando manualmente\n",
        "n1.proximo = n2\n",
        "n2.proximo = n3"
      ],
      "metadata": {
        "id": "FsYXcsE0fvF-"
      },
      "execution_count": 2,
      "outputs": []
    },
    {
      "cell_type": "markdown",
      "source": [
        "### **Imprimindo os Nós Individualmente**\n"
      ],
      "metadata": {
        "id": "_qtyPQsUgCgD"
      }
    },
    {
      "cell_type": "code",
      "source": [
        "print(n1)                  # No(A)\n",
        "print(n1.proximo)          # No(B)\n",
        "print(n1.proximo.proximo)  # No(C)\n",
        "print(n1.proximo.proximo.proximo)  # None (fim da lista)"
      ],
      "metadata": {
        "colab": {
          "base_uri": "https://localhost:8080/"
        },
        "id": "5HxhnOSigKQA",
        "outputId": "f0e22f97-b740-4c99-fb6a-703dd814c96f"
      },
      "execution_count": 3,
      "outputs": [
        {
          "output_type": "stream",
          "name": "stdout",
          "text": [
            "No(A)\n",
            "No(B)\n",
            "No(C)\n",
            "None\n"
          ]
        }
      ]
    },
    {
      "cell_type": "markdown",
      "source": [
        "> A navegação continua até que a referência aponte para `None`, o que indica que atingimos o final da lista.\n"
      ],
      "metadata": {
        "id": "mCVkdVspiETY"
      }
    },
    {
      "cell_type": "markdown",
      "source": [
        "## **Visualização Conceitual**"
      ],
      "metadata": {
        "id": "c8pYThZaicDB"
      }
    },
    {
      "cell_type": "markdown",
      "source": [
        "Abaixo, temos uma representação esquemática da estrutura construída com os três nós. Cada nó contém um valor e uma referência para o próximo nó da sequência. Esse encadeamento é o que permite que a lista seja percorrida dinamicamente, sem a necessidade de elementos estarem em posições contíguas na memória.\n",
        "\n",
        "```\n",
        "n1        n2        n3\n",
        "┌──────┐  ┌──────┐  ┌──────┐\n",
        "│ \"A\"  │→ │ \"B\"  │→ │ \"C\"  │→ None\n",
        "└──────┘  └──────┘  └──────┘\n",
        "```\n",
        "\n",
        "Cada seta (→) representa a ligação entre os nós, estabelecida pelo atributo `.proximo`. O último nó da lista aponta para `None`, indicando o término da estrutura. Esse modelo permite que operações como inserção e remoção de elementos possam ser realizadas com complexidade reduzida, especialmente no início da lista ou em posições intermediárias, sem a necessidade de deslocamento de dados na memória — ao contrário do que ocorre em *arrays* tradicionais.\n",
        "\n",
        "\n",
        "\n",
        "\n"
      ],
      "metadata": {
        "id": "Krx9sOlfimR4"
      }
    },
    {
      "cell_type": "markdown",
      "source": [
        "## **Classe Lista Ligada**"
      ],
      "metadata": {
        "id": "aeMDjASmekqK"
      }
    },
    {
      "cell_type": "markdown",
      "source": [
        "Após estabelecermos a estrutura fundamental de um nó, avançamos agora para a implementação de uma estrutura de dados abstrata que representa uma lista simplesmente encadeada.Essa estrutura é essencial em contextos onde há necessidade de operações dinâmicas e eficientes de inserção e remoção, principalmente quando não se conhece previamente o número de elementos a serem armazenados ou quando os dados sofrem alterações frequentes durante a execução do programa."
      ],
      "metadata": {
        "id": "V-jVPRSEnfP7"
      }
    },
    {
      "cell_type": "markdown",
      "source": [
        "### **Características Computacionais**"
      ],
      "metadata": {
        "id": "_jqKrv3HoxjZ"
      }
    },
    {
      "cell_type": "markdown",
      "source": [
        "Do ponto de vista computacional, essa estrutura apresenta as seguintes características:\n",
        "\n",
        "- Complexidade $O(1)$ para inserção no início da lista;\n",
        "- Complexidade $O(n)$ para inserção no final ou busca por índice;\n",
        "- Acesso sequencial via navegação pelos ponteiros;\n",
        "- Tamanho dinâmico, não sujeito à alocação prévia de memória."
      ],
      "metadata": {
        "id": "Zm1SIrTNoMrh"
      }
    },
    {
      "cell_type": "markdown",
      "source": [
        "### **Integração com a Sintaxe do Python**"
      ],
      "metadata": {
        "id": "SvioH4Ljo_4s"
      }
    },
    {
      "cell_type": "markdown",
      "source": [
        "A classe é projetada com princípios de encapsulamento e modularidade, utilizando métodos especiais do Python para integrar-se naturalmente com a sintaxe da linguagem. Isso permite, por exemplo:\n",
        "\n",
        "- Usar `len(lista)` para consultar o número de elementos (via __len__);\n",
        "- Iterar com for `item in lista` (via __iter__);\n",
        "- Acessar elementos com `lista[i]` (via __getitem__);\n",
        "- Exibir representações legíveis e técnicas (__str__ e __repr__)."
      ],
      "metadata": {
        "id": "mIa_XGbWoOR0"
      }
    },
    {
      "cell_type": "markdown",
      "source": [
        "### **Implementação**"
      ],
      "metadata": {
        "id": "6jBZ33odpLKW"
      }
    },
    {
      "cell_type": "markdown",
      "source": [
        "A seguir, apresentamos a implementação completa da classe `ListaLigada`, com suporte para inserção de elementos tanto no início quanto no final da lista, e com todos os métodos auxiliares para inspeção, iteração e indexação:"
      ],
      "metadata": {
        "id": "bs7Od1n_oPpQ"
      }
    },
    {
      "cell_type": "code",
      "source": [
        "class ListaLigada:\n",
        "    \"\"\"\n",
        "    Implementa uma lista simplesmente encadeada.\n",
        "    \"\"\"\n",
        "    def __init__(self):\n",
        "        \"\"\"\n",
        "        Inicializa a lista como vazia.\n",
        "        \"\"\"\n",
        "        self.inicio = None\n",
        "        self._tamanho = 0\n",
        "\n",
        "    def esta_vazia(self):\n",
        "        \"\"\"\n",
        "        Verifica se a lista está vazia.\n",
        "        \"\"\"\n",
        "        return self.inicio is None\n",
        "\n",
        "    def inserir_no_inicio(self, valor):\n",
        "        \"\"\"\n",
        "        Insere um novo elemento no início da lista.\n",
        "        \"\"\"\n",
        "        novo_no = No(valor)\n",
        "        novo_no.proximo = self.inicio\n",
        "        self.inicio = novo_no\n",
        "        self._tamanho += 1\n",
        "\n",
        "    def inserir_no_final(self, valor):\n",
        "        \"\"\"\n",
        "        Insere um novo elemento no final da lista.\n",
        "        \"\"\"\n",
        "        novo_no = No(valor)\n",
        "        if self.esta_vazia():\n",
        "            self.inicio = novo_no\n",
        "        else:\n",
        "            atual = self.inicio\n",
        "            while atual.proximo:\n",
        "                atual = atual.proximo\n",
        "            atual.proximo = novo_no\n",
        "        self._tamanho += 1\n",
        "\n",
        "    def __contains__(self, valor):\n",
        "        \"\"\"\n",
        "        Permite usar 'valor in lista' para verificar se o elemento está presente.\n",
        "        \"\"\"\n",
        "        atual = self.inicio\n",
        "        while atual:\n",
        "            if atual.valor == valor:\n",
        "                return True\n",
        "            atual = atual.proximo\n",
        "        return False\n",
        "\n",
        "    def __len__(self):\n",
        "        \"\"\"\n",
        "        Permite o uso de len(lista) para obter o número de elementos.\n",
        "        \"\"\"\n",
        "        return self._tamanho\n",
        "\n",
        "    def __str__(self):\n",
        "        \"\"\"\n",
        "        Retorna uma representação visual da lista ao usar print(lista).\n",
        "        \"\"\"\n",
        "        elementos = []\n",
        "        atual = self.inicio\n",
        "        while atual:\n",
        "            elementos.append(str(atual.valor))\n",
        "            atual = atual.proximo\n",
        "        return \" -> \".join(elementos) + \" -> None\"\n",
        "\n",
        "    def __repr__(self):\n",
        "        \"\"\"\n",
        "        Representação técnica da lista para depuração.\n",
        "        \"\"\"\n",
        "        return f\"ListaLigada(tamanho={self._tamanho})\"\n",
        "\n",
        "    def __getitem__(self, indice):\n",
        "        \"\"\"\n",
        "        Permite acessar um elemento da lista com lista[i].\n",
        "        \"\"\"\n",
        "        if indice < 0 or indice >= self._tamanho:\n",
        "            raise IndexError(\"Índice fora do intervalo.\")\n",
        "        atual = self.inicio\n",
        "        for _ in range(indice):\n",
        "            atual = atual.proximo\n",
        "        return atual.valor\n",
        "\n",
        "    def __iter__(self):\n",
        "        \"\"\"\n",
        "        Permite iterar sobre a lista com for item in lista.\n",
        "        \"\"\"\n",
        "        atual = self.inicio\n",
        "        while atual:\n",
        "            yield atual.valor\n",
        "            atual = atual.proximo\n"
      ],
      "metadata": {
        "id": "RvuimI5Gfccw"
      },
      "execution_count": 4,
      "outputs": []
    },
    {
      "cell_type": "markdown",
      "source": [
        "#### **Explicação**\n",
        "\n",
        "\n",
        "\n"
      ],
      "metadata": {
        "id": "zUf-G6nIqKGC"
      }
    },
    {
      "cell_type": "markdown",
      "source": [
        "##### `__init__(self)`\n",
        "- **Finalidade:** Construtor da classe.\n",
        "- **Descrição:**\n",
        "  - Inicializa a lista como vazia.\n",
        "  - Define o ponteiro `inicio` como `None` e `_tamanho` como `0`.\n",
        "- **Importância:** Estabelece o estado inicial da estrutura.\n",
        "\n",
        "\n",
        "##### `esta_vazia(self)`\n",
        "- **Finalidade:** Verifica se a lista está vazia.\n",
        "- **Descrição:** Retorna True se o ponteiro inicio for None.\n",
        "- **Importância:** Útil para controle de fluxo em operações como inserção, remoção ou busca, melhorando a legibilidade e reutilização de código.\n",
        "\n",
        "##### `inserir_no_inicio(self, valor)`\n",
        "- **Finalidade:** Insere um elemento no início da lista.\n",
        "- **Descrição:**\n",
        "  - Cria um novo nó com o valor fornecido.\n",
        "  - Faz o novo nó apontar para o atual início da lista.\n",
        "  - Atualiza o ponteiro de início para o novo nó.\n",
        "  - Incrementa o contador de tamanho.\n",
        "- **Importância:** Operação eficiente com complexidade O(1).\n",
        "\n",
        "\n",
        "##### `inserir_no_final(self, valor)`\n",
        "- **Finalidade:** Insere um elemento no final da lista.\n",
        "- **Descrição:**\n",
        "  - Cria um novo nó com o valor fornecido.\n",
        "  - Se a lista estiver vazia, define-o como início.\n",
        "  - Caso contrário, percorre até o último nó e atualiza o ponteiro `proximo`.\n",
        "  - Incrementa o contador de tamanho.\n",
        "- **Importância:** Permite construir listas de forma sequencial; complexidade O(n).\n",
        "\n",
        "##### `__contains__(self, valor)`\n",
        "- **Finalidade:** Verifica se um valor está presente na lista.\n",
        "- **Descrição:**\n",
        "\n",
        " - Percorre a lista do início até o fim.\n",
        " - Compara cada valor armazenado com o valor fornecido.\n",
        " - Retorna True se encontrar, False caso contrário.\n",
        "\n",
        "- **Importância:** Integra a estrutura com a palavra-chave in do Python (`if x in lista:`), tornando a verificação de pertencimento mais intuitiva.\n",
        "\n",
        "##### `__len__(self)`\n",
        "- **Finalidade:** Retorna o número de elementos da lista.\n",
        "- **Descrição:**\n",
        "  - Retorna o valor de `_tamanho`.\n",
        "- **Importância:** Integra a estrutura com a função nativa `len()` do Python.\n",
        "\n",
        "\n",
        "##### `__str__(self)`\n",
        "- **Finalidade:** Gera uma representação legível da lista.\n",
        "- **Descrição:**\n",
        "  - Percorre os elementos e concatena os valores com setas (`->`).\n",
        "  - Finaliza com `None` para indicar o fim da lista.\n",
        "- **Importância:** Facilita a visualização da estrutura ao imprimir.\n",
        "\n",
        "##### `__repr__(self)`\n",
        "- **Finalidade:** Fornece uma representação técnica da lista.\n",
        "- **Descrição:**\n",
        "  - Retorna uma string com o tipo e o tamanho atual da lista.\n",
        "- **Importância:** Útil para depuração e inspeção em ambientes interativos.\n",
        "\n",
        "##### `__getitem__(self, indice)`\n",
        "- **Finalidade:** Acessa o valor de um elemento pelo índice.\n",
        "- **Descrição:**\n",
        "  - Verifica se o índice está dentro do intervalo.\n",
        "  - Percorre a lista até o índice desejado.\n",
        "  - Retorna o valor armazenado no nó correspondente.\n",
        "- **Importância:** Permite acessar a lista como se fosse uma estrutura indexada (`lista[i]`).\n",
        "\n",
        "##### `__iter__(self)`\n",
        "- **Finalidade:** Torna a lista iterável com `for item in lista`.\n",
        "- **Descrição:**\n",
        "  - Percorre a lista a partir do início.\n",
        "  - A cada iteração, retorna o valor do nó atual.\n",
        "- **Importância:** Permite o uso de estruturas de repetição padrão do Python."
      ],
      "metadata": {
        "id": "LUPMF7vrsVOB"
      }
    },
    {
      "cell_type": "markdown",
      "source": [
        "#### **Resumo**"
      ],
      "metadata": {
        "id": "rva92N7hsO-k"
      }
    },
    {
      "cell_type": "markdown",
      "source": [
        "| Método               | Finalidade                              | Complexidade |\n",
        "|----------------------|------------------------------------------|--------------|\n",
        "| `__init__`           | Inicialização da estrutura               | O(1)         |\n",
        "| `esta_vazia`         | Verifica se a lista está vazia           | O(1)         |\n",
        "| `inserir_no_inicio`  | Inserção no início                       | O(1)         |\n",
        "| `inserir_no_final`   | Inserção no final                        | O(n)         |\n",
        "| `__len__`            | Consulta de tamanho                      | O(1)         |\n",
        "| `__contains__`       | Verifica se valor está na lista (`in`)   | O(n)         |\n",
        "| `__getitem__`        | Acesso por índice                        | O(n)         |\n",
        "| `__iter__`           | Iteração sequencial                      | O(n)         |\n",
        "| `__str__` / `__repr__` | Representações legível e técnica        | O(n)         |\n"
      ],
      "metadata": {
        "id": "C3Q-fgSzsNTc"
      }
    },
    {
      "cell_type": "markdown",
      "source": [
        "#### **Exemplos de Uso**"
      ],
      "metadata": {
        "id": "-SZNVU_Lt1Cx"
      }
    },
    {
      "cell_type": "markdown",
      "source": [
        "A seguir, demonstramos como utilizar os principais métodos da classe `ListaLigada`:"
      ],
      "metadata": {
        "id": "uGReCD_FuCNW"
      }
    },
    {
      "cell_type": "markdown",
      "source": [
        "##### **Criando uma Lista Encadeada**\n"
      ],
      "metadata": {
        "id": "MVsABKa-uGBQ"
      }
    },
    {
      "cell_type": "code",
      "source": [
        "lista = ListaLigada()"
      ],
      "metadata": {
        "id": "ArkrrFlRuM2f"
      },
      "execution_count": 5,
      "outputs": []
    },
    {
      "cell_type": "markdown",
      "source": [
        "##### **Verificando se a Lista Está Vazia**"
      ],
      "metadata": {
        "id": "nnC6uv4wz0IW"
      }
    },
    {
      "cell_type": "code",
      "source": [
        "print(lista.esta_vazia())\n",
        "# Saída: True"
      ],
      "metadata": {
        "colab": {
          "base_uri": "https://localhost:8080/"
        },
        "id": "JBFrym9Oz6Ks",
        "outputId": "9c0fadd5-e0fa-4cf6-a14b-fff34b05ff0c"
      },
      "execution_count": 6,
      "outputs": [
        {
          "output_type": "stream",
          "name": "stdout",
          "text": [
            "True\n"
          ]
        }
      ]
    },
    {
      "cell_type": "markdown",
      "source": [
        "##### **Inserindo Elementos no Início**"
      ],
      "metadata": {
        "id": "0HinHjnmuPwX"
      }
    },
    {
      "cell_type": "code",
      "source": [
        "lista.inserir_no_inicio(\"C\")  # Lista: C\n",
        "lista.inserir_no_inicio(\"B\")  # Lista: B -> C\n",
        "lista.inserir_no_inicio(\"A\")  # Lista: A -> B -> C"
      ],
      "metadata": {
        "id": "qbZ1NS9zul-7"
      },
      "execution_count": 7,
      "outputs": []
    },
    {
      "cell_type": "markdown",
      "source": [
        "##### **Inserindo Elementos no Final**"
      ],
      "metadata": {
        "id": "PBI7_4gXuqfQ"
      }
    },
    {
      "cell_type": "code",
      "source": [
        "lista.inserir_no_final(\"D\")   # Lista: A -> B -> C -> D\n",
        "lista.inserir_no_final(\"E\")   # Lista: A -> B -> C -> D -> E"
      ],
      "metadata": {
        "id": "TOIgvlnJusKC"
      },
      "execution_count": 8,
      "outputs": []
    },
    {
      "cell_type": "markdown",
      "source": [
        "##### **Exibindo a Lista**"
      ],
      "metadata": {
        "id": "OIBrXBHjuyFG"
      }
    },
    {
      "cell_type": "code",
      "source": [
        "print(lista)\n",
        "# Saída: A -> B -> C -> D -> E -> None"
      ],
      "metadata": {
        "colab": {
          "base_uri": "https://localhost:8080/"
        },
        "id": "M5i3Je95u5Wo",
        "outputId": "4e1483b3-fc51-4abb-8b49-dd7455317e95"
      },
      "execution_count": 9,
      "outputs": [
        {
          "output_type": "stream",
          "name": "stdout",
          "text": [
            "A -> B -> C -> D -> E -> None\n"
          ]
        }
      ]
    },
    {
      "cell_type": "markdown",
      "source": [
        "##### **Tamanho da Lista**"
      ],
      "metadata": {
        "id": "i3GSkQKKu-k4"
      }
    },
    {
      "cell_type": "code",
      "source": [
        "print(len(lista))\n",
        "# Saída: 5"
      ],
      "metadata": {
        "colab": {
          "base_uri": "https://localhost:8080/"
        },
        "id": "XYExKtzyvZDK",
        "outputId": "dd5aab56-ace7-460e-da4a-c05d9414d5ec"
      },
      "execution_count": 10,
      "outputs": [
        {
          "output_type": "stream",
          "name": "stdout",
          "text": [
            "5\n"
          ]
        }
      ]
    },
    {
      "cell_type": "markdown",
      "source": [
        "##### **Acessando Elemento pelo Índice**"
      ],
      "metadata": {
        "id": "8dR1E4ppvfHQ"
      }
    },
    {
      "cell_type": "code",
      "source": [
        "print(lista[2])\n",
        "# Saída: C"
      ],
      "metadata": {
        "colab": {
          "base_uri": "https://localhost:8080/"
        },
        "id": "lZYMGmQDvmXz",
        "outputId": "045e3299-22a6-4095-e3df-df4217e51dd8"
      },
      "execution_count": 11,
      "outputs": [
        {
          "output_type": "stream",
          "name": "stdout",
          "text": [
            "C\n"
          ]
        }
      ]
    },
    {
      "cell_type": "markdown",
      "source": [
        "##### **Iterando Sobre os Elementos**\n"
      ],
      "metadata": {
        "id": "uB2J245avrxH"
      }
    },
    {
      "cell_type": "code",
      "source": [
        "for valor in lista:\n",
        "    print(valor, end=\" | \")\n",
        "# Saída: A | B | C | D | E |"
      ],
      "metadata": {
        "colab": {
          "base_uri": "https://localhost:8080/"
        },
        "id": "tw4nZ5bwvx32",
        "outputId": "9442520b-b113-4726-c301-3ca5caa3bfdd"
      },
      "execution_count": 12,
      "outputs": [
        {
          "output_type": "stream",
          "name": "stdout",
          "text": [
            "A | B | C | D | E | "
          ]
        }
      ]
    },
    {
      "cell_type": "markdown",
      "source": [
        "##### **Verificando se um Elemento Está na Lista (Usando `in`)**\n"
      ],
      "metadata": {
        "id": "B8fUsHOt0Cfz"
      }
    },
    {
      "cell_type": "code",
      "source": [
        "print(\"C\" in lista)\n",
        "# Saída: True\n",
        "\n",
        "print(\"Z\" in lista)\n",
        "# Saída: False"
      ],
      "metadata": {
        "colab": {
          "base_uri": "https://localhost:8080/"
        },
        "id": "cFWyBpDv0I73",
        "outputId": "06f6598d-d10a-48c1-e326-b217fafc6644"
      },
      "execution_count": 13,
      "outputs": [
        {
          "output_type": "stream",
          "name": "stdout",
          "text": [
            "True\n",
            "False\n"
          ]
        }
      ]
    },
    {
      "cell_type": "markdown",
      "source": [
        "## **Exercícios**"
      ],
      "metadata": {
        "id": "Ga966sx30XyS"
      }
    },
    {
      "cell_type": "code",
      "source": [
        "import time\n",
        "import matplotlib.pyplot as plt\n",
        "\n",
        "# ---------- Função Genérica para Testes com Média de Execuções ----------\n",
        "\n",
        "def calcular_tempo_medio(func, qtd, execucoes=30):\n",
        "    tempos = []\n",
        "    for _ in range(execucoes):\n",
        "        inicio = time.perf_counter()\n",
        "        func(qtd)\n",
        "        fim = time.perf_counter()\n",
        "        tempos.append(fim - inicio)\n",
        "    return sum(tempos) / execucoes\n",
        "\n",
        "# ---------- Testes Específicos para Cada Estrutura ----------\n",
        "\n",
        "def teste_lista_ligada(qtd):\n",
        "    lista = ListaLigada()\n",
        "    for i in range(qtd):\n",
        "        lista.inserir_no_inicio(i)\n",
        "\n",
        "def teste_lista_python(qtd):\n",
        "    vetor = []\n",
        "    for i in range(qtd):\n",
        "        vetor.insert(0, i)  # Inserção no início de lista Python (ineficiente)\n",
        "\n",
        "# ---------- Execução dos Testes ----------\n",
        "\n",
        "tamanhos = [10**i for i in range(1, 7)]\n",
        "tempos_ligada = []\n",
        "tempos_python = []\n",
        "\n",
        "for tamanho in tamanhos:\n",
        "    print(f\"Testando inserção de {tamanho} elementos (média de 30 execuções)...\")\n",
        "\n",
        "    tempo_ll = calcular_tempo_medio(teste_lista_ligada, tamanho)\n",
        "    tempo_py = calcular_tempo_medio(teste_lista_python, tamanho)\n",
        "\n",
        "    print(f\"  Lista Ligada: {tempo_ll:.6f}s | List (Python): {tempo_py:.6f}s\")\n",
        "\n",
        "    tempos_ligada.append(tempo_ll)\n",
        "    tempos_python.append(tempo_py)\n",
        "\n",
        "# ---------- Gráfico ----------\n",
        "\n",
        "plt.figure(figsize=(10, 6))\n",
        "plt.plot(tamanhos, tempos_ligada, label='Lista Ligada', marker='o')\n",
        "plt.plot(tamanhos, tempos_python, label='List (Python)', marker='s')\n",
        "plt.xscale('log')\n",
        "plt.yscale('log')\n",
        "plt.xlabel('Quantidade de Elementos (escala log)')\n",
        "plt.ylabel('Tempo Médio (segundos, escala log)')\n",
        "plt.title('Comparação de Tempo Médio de Inserção no Início (30 execuções)')\n",
        "plt.legend()\n",
        "plt.grid(True, which=\"both\", linestyle=\"--\", alpha=0.6)\n",
        "plt.tight_layout()\n",
        "plt.show()\n"
      ],
      "metadata": {
        "colab": {
          "base_uri": "https://localhost:8080/"
        },
        "id": "rzMxOzZu1IbU",
        "outputId": "0e950d43-a679-457a-e6f1-dc1f6b429034"
      },
      "execution_count": null,
      "outputs": [
        {
          "output_type": "stream",
          "name": "stdout",
          "text": [
            "Testando inserção de 10 elementos (média de 30 execuções)...\n",
            "  Lista Ligada: 0.000006s | List (Python): 0.000002s\n",
            "Testando inserção de 100 elementos (média de 30 execuções)...\n",
            "  Lista Ligada: 0.000080s | List (Python): 0.000012s\n",
            "Testando inserção de 1000 elementos (média de 30 execuções)...\n",
            "  Lista Ligada: 0.000528s | List (Python): 0.000177s\n",
            "Testando inserção de 10000 elementos (média de 30 execuções)...\n",
            "  Lista Ligada: 0.009740s | List (Python): 0.014772s\n",
            "Testando inserção de 100000 elementos (média de 30 execuções)...\n",
            "  Lista Ligada: 0.132491s | List (Python): 1.638361s\n",
            "Testando inserção de 1000000 elementos (média de 30 execuções)...\n"
          ]
        }
      ]
    }
  ]
}