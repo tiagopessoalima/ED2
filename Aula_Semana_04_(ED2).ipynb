{
  "cells": [
    {
      "cell_type": "markdown",
      "metadata": {
        "id": "view-in-github",
        "colab_type": "text"
      },
      "source": [
        "<a href=\"https://colab.research.google.com/github/tiagopessoalima/ED2/blob/main/Aula_Semana_04_(ED2).ipynb\" target=\"_parent\"><img src=\"https://colab.research.google.com/assets/colab-badge.svg\" alt=\"Open In Colab\"/></a>"
      ]
    },
    {
      "cell_type": "markdown",
      "metadata": {
        "id": "pS5sFd6XqXHy"
      },
      "source": [
        "# **Listas Simplesmente Ligadas (Encadeadas)**"
      ]
    },
    {
      "cell_type": "markdown",
      "metadata": {
        "id": "SSZmdEBNZF3x"
      },
      "source": [
        "São estruturas de dados **lineares** e **dinâmicas** utilizadas para armazenar coleções de elementos. Diferentemente dos *arrays* (ou listas padrão do Python), que armazenam os elementos em posições **contíguas de memória**, as listas ligadas mantêm os dados dispersos na memória, conectados entre si por **referências**. Cada elemento da lista, chamado de **nó** (*node*), possui dois componentes principais:\n",
        "\n",
        "1. **Valor** armazenado (dado propriamente dito);  \n",
        "2. **Referência (ou ponteiro)** para o próximo nó da sequência.\n",
        "\n",
        "Essa organização oferece vantagens importantes, como inserções e remoções mais eficientes — principalmente quando comparadas aos *arrays*, onde a realocação ou movimentação de elementos pode ser custosa em termos de desempenho. Por outro lado, como cada nó precisa armazenar uma referência, as listas ligadas geralmente consomem mais memória do que *arrays*."
      ]
    },
    {
      "cell_type": "markdown",
      "metadata": {
        "id": "MhM7BX1paW39"
      },
      "source": [
        "## **O Bloco de Construção: O Nó (Node)**\n"
      ]
    },
    {
      "cell_type": "markdown",
      "metadata": {
        "id": "loZjbBzObAsT"
      },
      "source": [
        "A estrutura fundamental de uma lista ligada é composta por nós, que são unidades responsáveis por armazenar os dados e manter a ligação entre os elementos da lista. A seguir, a definição da classe que representa um nó em uma lista simplesmente ligada:"
      ]
    },
    {
      "cell_type": "code",
      "execution_count": 1,
      "metadata": {
        "id": "6t3SVMEcd0lv"
      },
      "outputs": [],
      "source": [
        "class No:\n",
        "    \"\"\"\n",
        "    Representa um único nó em uma lista simplesmente encadeada.\n",
        "    \"\"\"\n",
        "    def __init__(self, valor):\n",
        "        \"\"\"\n",
        "        Inicializa um novo nó.\n",
        "\n",
        "        Parâmetros:\n",
        "            valor: Dado a ser armazenado no nó.\n",
        "        \"\"\"\n",
        "        self.valor = valor        # Valor armazenado no nó\n",
        "        self.proximo = None       # Referência para o próximo nó (inicialmente nula)\n",
        "\n",
        "    def __repr__(self):\n",
        "        \"\"\"\n",
        "        Representação textual do nó.\n",
        "        \"\"\"\n",
        "        return f\"No({self.valor})\"\n",
        "\n",
        "    def __eq__(self, outro):\n",
        "        \"\"\"\n",
        "        Compara dois nós com base no valor armazenado.\n",
        "        \"\"\"\n",
        "        if isinstance(outro, No):\n",
        "            return self.valor == outro.valor\n",
        "        return False"
      ]
    },
    {
      "cell_type": "markdown",
      "metadata": {
        "id": "sCZy5wsDhF3n"
      },
      "source": [
        "> A variável `self.proximo` é o que permite o **encadeamento dos nós**. A partir de um nó, é possível navegar sequencialmente pela lista seguindo essa referência — até que ela aponte para `None`, indicando o fim da estrutura."
      ]
    },
    {
      "cell_type": "markdown",
      "metadata": {
        "id": "L8vot001fu2B"
      },
      "source": [
        "### **Exemplo de Criação e Encadeamento de Nós**"
      ]
    },
    {
      "cell_type": "markdown",
      "metadata": {
        "id": "MGkReDQRhqHu"
      },
      "source": [
        "Abaixo, criamos três nós manualmente e fazemos o encadeamento entre eles, simulando uma lista simples com três elementos.\n"
      ]
    },
    {
      "cell_type": "code",
      "execution_count": 2,
      "metadata": {
        "id": "FsYXcsE0fvF-"
      },
      "outputs": [],
      "source": [
        "# Criando três nós\n",
        "n1 = No(\"A\")\n",
        "n2 = No(\"B\")\n",
        "n3 = No(\"C\")\n",
        "\n",
        "# Encadeando manualmente\n",
        "n1.proximo = n2\n",
        "n2.proximo = n3"
      ]
    },
    {
      "cell_type": "markdown",
      "metadata": {
        "id": "_qtyPQsUgCgD"
      },
      "source": [
        "### **Imprimindo os Nós Individualmente**\n"
      ]
    },
    {
      "cell_type": "code",
      "execution_count": 3,
      "metadata": {
        "colab": {
          "base_uri": "https://localhost:8080/"
        },
        "id": "5HxhnOSigKQA",
        "outputId": "faedb2fa-0570-43eb-9973-2840a28bfc09"
      },
      "outputs": [
        {
          "output_type": "stream",
          "name": "stdout",
          "text": [
            "No(A)\n",
            "No(B)\n",
            "No(C)\n",
            "None\n"
          ]
        }
      ],
      "source": [
        "print(n1)                  # No(A)\n",
        "print(n1.proximo)          # No(B)\n",
        "print(n1.proximo.proximo)  # No(C)\n",
        "print(n1.proximo.proximo.proximo)  # None (fim da lista)"
      ]
    },
    {
      "cell_type": "markdown",
      "metadata": {
        "id": "mCVkdVspiETY"
      },
      "source": [
        "> A navegação continua até que a referência aponte para `None`, o que indica que atingimos o final da lista.\n"
      ]
    },
    {
      "cell_type": "markdown",
      "metadata": {
        "id": "c8pYThZaicDB"
      },
      "source": [
        "## **Visualização Conceitual**"
      ]
    },
    {
      "cell_type": "markdown",
      "metadata": {
        "id": "Krx9sOlfimR4"
      },
      "source": [
        "Abaixo, temos uma representação esquemática da estrutura construída com os três nós. Cada nó contém um valor e uma referência para o próximo nó da sequência. Esse encadeamento é o que permite que a lista seja percorrida dinamicamente, sem a necessidade de elementos estarem em posições contíguas na memória.\n",
        "\n",
        "```\n",
        "n1        n2        n3\n",
        "┌──────┐  ┌──────┐  ┌──────┐\n",
        "│ \"A\"  │→ │ \"B\"  │→ │ \"C\"  │→ None\n",
        "└──────┘  └──────┘  └──────┘\n",
        "```\n",
        "\n",
        "Cada seta (→) representa a ligação entre os nós, estabelecida pelo atributo `.proximo`. O último nó da lista aponta para `None`, indicando o término da estrutura. Esse modelo permite que operações como inserção e remoção de elementos possam ser realizadas com complexidade reduzida, especialmente no início da lista ou em posições intermediárias, sem a necessidade de deslocamento de dados na memória — ao contrário do que ocorre em *arrays* tradicionais.\n",
        "\n",
        "\n",
        "\n",
        "\n"
      ]
    },
    {
      "cell_type": "markdown",
      "metadata": {
        "id": "aeMDjASmekqK"
      },
      "source": [
        "## **Classe Lista Ligada**"
      ]
    },
    {
      "cell_type": "markdown",
      "metadata": {
        "id": "V-jVPRSEnfP7"
      },
      "source": [
        "Após estabelecermos a estrutura fundamental de um nó, avançamos agora para a implementação de uma estrutura de dados abstrata que representa uma lista simplesmente encadeada.Essa estrutura é essencial em contextos onde há necessidade de operações dinâmicas e eficientes de inserção e remoção, principalmente quando não se conhece previamente o número de elementos a serem armazenados ou quando os dados sofrem alterações frequentes durante a execução do programa."
      ]
    },
    {
      "cell_type": "markdown",
      "metadata": {
        "id": "SvioH4Ljo_4s"
      },
      "source": [
        "### **Integração com a Sintaxe do Python**"
      ]
    },
    {
      "cell_type": "markdown",
      "metadata": {
        "id": "mIa_XGbWoOR0"
      },
      "source": [
        "A classe é projetada com princípios de encapsulamento e modularidade, utilizando métodos especiais do Python para se integrar de forma natural com a sintaxe da linguagem. Isso permite que a lista comporta-se como as estruturas de dados nativas do Python:\n",
        "\n",
        "- Usar `len(lista)` para consultar o número de elementos (via __len__);\n",
        "- Iterar com for `item in lista` (via __iter__);\n",
        "- Acessar elementos com `lista[i]` (via __getitem__);\n",
        "- Modificar elementos com lista[i] = valor (via __setitem__);\n",
        "- Verificar presença com `valor in lista` (via __contains__);\n",
        "- Exibir representações legíveis e técnicas (__str__ e __repr__)."
      ]
    },
    {
      "cell_type": "markdown",
      "metadata": {
        "id": "6jBZ33odpLKW"
      },
      "source": [
        "### **Implementação**"
      ]
    },
    {
      "cell_type": "markdown",
      "metadata": {
        "id": "bs7Od1n_oPpQ"
      },
      "source": [
        "A seguir, apresentamos a implementação completa da classe `ListaLigada`, com suporte para inserção de elementos tanto no início quanto no final da lista, e com todos os métodos auxiliares para inspeção, iteração e indexação:"
      ]
    },
    {
      "cell_type": "code",
      "execution_count": 4,
      "metadata": {
        "id": "RvuimI5Gfccw"
      },
      "outputs": [],
      "source": [
        "class ListaLigada:\n",
        "    \"\"\"\n",
        "    Implementa uma lista simplesmente encadeada.\n",
        "    \"\"\"\n",
        "\n",
        "    def __init__(self):\n",
        "        \"\"\"\n",
        "        Inicializa a lista como vazia.\n",
        "        \"\"\"\n",
        "        self.inicio = None\n",
        "        self._tamanho = 0\n",
        "\n",
        "    def limpar(self) -> None:\n",
        "        \"\"\"\n",
        "        Remove todos os elementos da lista.\n",
        "        \"\"\"\n",
        "        # Poderia iterar e quebrar as referências para ajudar o GC,\n",
        "        # mas reatribuir inicio é suficiente em Python.\n",
        "        self.inicio = None\n",
        "        self._tamanho = 0\n",
        "\n",
        "    def esta_vazia(self) -> bool:\n",
        "        \"\"\"\n",
        "        Verifica se a lista está vazia.\n",
        "        \"\"\"\n",
        "        return self._tamanho == 0\n",
        "\n",
        "    def no_em(self, posicao: int) -> No:\n",
        "        \"\"\"\n",
        "        Retorna o nó da posição especificada.\n",
        "        \"\"\"\n",
        "        if not 0 <= posicao < self._tamanho:\n",
        "            raise IndexError(\"Índice fora do intervalo.\")\n",
        "\n",
        "        no = self.inicio\n",
        "        for _ in range(posicao):\n",
        "            no = no.proximo\n",
        "        return no\n",
        "\n",
        "    def inserir_no_inicio(self, valor: any) -> None:\n",
        "        \"\"\"\n",
        "        Insere um novo elemento no início da lista.\n",
        "        \"\"\"\n",
        "        novo_no = No(valor)\n",
        "        novo_no.proximo = self.inicio\n",
        "        self.inicio = novo_no\n",
        "        self._tamanho += 1\n",
        "\n",
        "    def inserir_no_final(self, valor: any) -> None:\n",
        "        \"\"\"\n",
        "        Insere um novo elemento no final da lista.\n",
        "        \"\"\"\n",
        "        novo_no = No(valor)\n",
        "        if self.esta_vazia():\n",
        "            self.inicio = novo_no\n",
        "        else:\n",
        "            ultimo = self.no_em(self._tamanho - 1)\n",
        "            ultimo.proximo = novo_no\n",
        "        self._tamanho += 1\n",
        "\n",
        "    def inserir_em(self, posicao: int, valor: any) -> None:\n",
        "        \"\"\"\n",
        "        Insere um novo elemento em uma posição específica da lista.\n",
        "        \"\"\"\n",
        "        if not 0 <= posicao <= self._tamanho:\n",
        "            raise IndexError(\"Índice fora do intervalo.\")\n",
        "\n",
        "        if posicao == 0:\n",
        "            self.inserir_no_inicio(valor)\n",
        "        else:\n",
        "            anterior = self.no_em(posicao - 1)\n",
        "            novo_no = No(valor)\n",
        "            novo_no.proximo = anterior.proximo\n",
        "            anterior.proximo = novo_no\n",
        "            self._tamanho += 1\n",
        "\n",
        "    def remover_do_inicio(self) -> any:\n",
        "        \"\"\"\n",
        "        Remove e retorna o primeiro elemento da lista.\n",
        "        \"\"\"\n",
        "        if self.esta_vazia():\n",
        "            raise IndexError(\"A lista está vazia.\")\n",
        "\n",
        "        removido = self.inicio\n",
        "        self.inicio = removido.proximo\n",
        "        self._tamanho -= 1\n",
        "        return removido.valor\n",
        "\n",
        "    def remover_do_final(self) -> any:\n",
        "        \"\"\"\n",
        "        Remove e retorna o último elemento da lista.\n",
        "        \"\"\"\n",
        "        if self.esta_vazia():\n",
        "            raise IndexError(\"A lista está vazia.\")\n",
        "\n",
        "        if self._tamanho == 1:\n",
        "            return self.remover_do_inicio()\n",
        "\n",
        "        penultimo = self.no_em(self._tamanho - 2)\n",
        "        valor = penultimo.proximo.valor\n",
        "        penultimo.proximo = None\n",
        "        self._tamanho -= 1\n",
        "        return valor\n",
        "\n",
        "    def remover_em(self, posicao: int) -> any:\n",
        "        \"\"\"\n",
        "        Remove e retorna o elemento da posição especificada.\n",
        "        \"\"\"\n",
        "        if not 0 <= posicao < self._tamanho:\n",
        "            raise IndexError(\"Índice fora do intervalo.\")\n",
        "\n",
        "        if posicao == 0:\n",
        "            return self.remover_do_inicio()\n",
        "\n",
        "        anterior = self.no_em(posicao - 1)\n",
        "        removido = anterior.proximo\n",
        "        anterior.proximo = removido.proximo\n",
        "        self._tamanho -= 1\n",
        "        return removido.valor\n",
        "\n",
        "    def posicao_de(self, valor: any) -> int:\n",
        "        \"\"\"\n",
        "        Retorna o índice da primeira ocorrência do valor na lista, ou -1 se não encontrado.\n",
        "        \"\"\"\n",
        "        atual = self.inicio\n",
        "        pos = 0\n",
        "        while atual:\n",
        "            if atual.valor == valor:\n",
        "                return pos\n",
        "            atual = atual.proximo\n",
        "            pos += 1\n",
        "        return -1\n",
        "\n",
        "    def __contains__(self, valor: any) -> bool:\n",
        "        \"\"\"\n",
        "        Permite o uso de 'valor in lista'.\n",
        "        \"\"\"\n",
        "        return self.posicao_de(valor) != -1\n",
        "\n",
        "    def __len__(self) -> int:\n",
        "        \"\"\"\n",
        "        Retorna o número de elementos da lista.\n",
        "        \"\"\"\n",
        "        return self._tamanho\n",
        "\n",
        "    def __getitem__(self, posicao: int) -> any:\n",
        "        \"\"\"\n",
        "        Permite acessar o valor de um elemento usando colchetes (ex: lista[2]).\n",
        "        \"\"\"\n",
        "        return self.no_em(posicao).valor\n",
        "\n",
        "    def __setitem__(self, posicao: int, valor: any) -> None:\n",
        "        \"\"\"\n",
        "        Permite modificar o valor de um elemento usando colchetes, como em lista[i] = novo_valor.\n",
        "        \"\"\"\n",
        "        no = self.no_em(posicao)\n",
        "        no.valor = valor\n",
        "\n",
        "    def __iter__(self):\n",
        "        \"\"\"\n",
        "        Permite iterar sobre os elementos da lista.\n",
        "        \"\"\"\n",
        "        atual = self.inicio\n",
        "        while atual:\n",
        "            yield atual.valor\n",
        "            atual = atual.proximo\n",
        "\n",
        "    def __str__(self) -> str:\n",
        "        \"\"\"\n",
        "        Retorna uma representação amigável da lista.\n",
        "        \"\"\"\n",
        "        return \" -> \".join(str(valor) for valor in self) + \" -> None\"\n",
        "\n",
        "    def __repr__(self) -> str:\n",
        "        \"\"\"\n",
        "        Retorna uma representação técnica da lista.\n",
        "        \"\"\"\n",
        "        return f\"ListaLigada(tamanho={self._tamanho})\""
      ]
    },
    {
      "cell_type": "markdown",
      "metadata": {
        "id": "rva92N7hsO-k"
      },
      "source": [
        "#### **Análise de Complexidade**"
      ]
    },
    {
      "cell_type": "markdown",
      "source": [
        "A classe `ListaLigada` implementa uma lista simplesmente encadeada com operações fundamentais como inserção, remoção, busca e iteração. Cada método tem uma complexidade associada ao seu custo computacional, dependendo do tamanho da lista ($n$). Abaixo, apresentamos uma tabela com as principais operações e suas respectivas complexidades."
      ],
      "metadata": {
        "id": "rLQMssx7OFMM"
      }
    },
    {
      "cell_type": "markdown",
      "metadata": {
        "id": "C3Q-fgSzsNTc"
      },
      "source": [
        "| Método                | Finalidade                                                                 | Complexidade |\n",
        "|-----------------------|---------------------------------------------------------------------------|--------------|\n",
        "| `__init__`            | Inicializa a lista como vazia                                              | O(1)         |\n",
        "| `limpar`              | Remove todos os elementos da lista                                         | O(1)         |\n",
        "| `esta_vazia`          | Verifica se a lista está vazia                                             | O(1)         |\n",
        "| `__len__`             | Retorna o número de elementos com `len(lista)`                             | O(1)         |\n",
        "| `__contains__`        | Verifica se um valor está na lista com `valor in lista`                    | O(n)         |\n",
        "| `__getitem__`         | Acessa um elemento por índice com `lista[i]`                               | O(n)         |\n",
        "| `__setitem__`         | Modifica um elemento por índice com `lista[i] = valor`                     | O(n)         |\n",
        "| `__iter__`            | Permite iteração com `for item in lista`                                   | O(n)         |\n",
        "| `__str__`             | Retorna uma representação legível da lista com `print(lista)`              | O(n)         |\n",
        "| `__repr__`            | Retorna uma representação técnica para debug e inspeção                    | O(1)         |\n",
        "| `inserir_no_inicio`   | Insere um novo elemento no início da lista                                 | O(1)         |\n",
        "| `inserir_no_final`    | Insere um novo elemento no final da lista                                  | O(n)         |\n",
        "| `inserir_em`          | Insere um novo elemento em uma posição específica                          | O(n)         |\n",
        "| `remover_do_inicio`   | Remove e retorna o primeiro elemento da lista                              | O(1)         |\n",
        "| `remover_do_final`    | Remove e retorna o último elemento da lista                                | O(n)         |\n",
        "| `remover_em`          | Remove e retorna o elemento de uma posição específica                      | O(n)         |\n",
        "| `no_em`               | Retorna o nó da posição informada (interno; usado por outros métodos)      | O(n)         |"
      ]
    },
    {
      "cell_type": "markdown",
      "metadata": {
        "id": "-SZNVU_Lt1Cx"
      },
      "source": [
        "#### **Exemplos de Uso**"
      ]
    },
    {
      "cell_type": "markdown",
      "metadata": {
        "id": "uGReCD_FuCNW"
      },
      "source": [
        "A seguir, demonstramos como utilizar os principais métodos da classe `ListaLigada`:"
      ]
    },
    {
      "cell_type": "markdown",
      "metadata": {
        "id": "MVsABKa-uGBQ"
      },
      "source": [
        "##### **Criando uma Lista Encadeada**\n"
      ]
    },
    {
      "cell_type": "code",
      "execution_count": 5,
      "metadata": {
        "id": "ArkrrFlRuM2f"
      },
      "outputs": [],
      "source": [
        "lista = ListaLigada()"
      ]
    },
    {
      "cell_type": "markdown",
      "metadata": {
        "id": "nnC6uv4wz0IW"
      },
      "source": [
        "##### **Verificando se a Lista Está Vazia**"
      ]
    },
    {
      "cell_type": "code",
      "execution_count": 6,
      "metadata": {
        "colab": {
          "base_uri": "https://localhost:8080/"
        },
        "id": "JBFrym9Oz6Ks",
        "outputId": "49433bf5-d7e0-477d-c3ac-2aee1f723b0f"
      },
      "outputs": [
        {
          "output_type": "stream",
          "name": "stdout",
          "text": [
            "True\n"
          ]
        }
      ],
      "source": [
        "print(lista.esta_vazia()) # Saída: True"
      ]
    },
    {
      "cell_type": "markdown",
      "metadata": {
        "id": "0HinHjnmuPwX"
      },
      "source": [
        "##### **Inserindo Elementos no Início**"
      ]
    },
    {
      "cell_type": "code",
      "execution_count": 7,
      "metadata": {
        "id": "qbZ1NS9zul-7"
      },
      "outputs": [],
      "source": [
        "lista.inserir_no_inicio(\"C\")  # Lista: C -> None\n",
        "lista.inserir_no_inicio(\"B\")  # Lista: B -> C -> None\n",
        "lista.inserir_no_inicio(\"A\")  # Lista: A -> B -> C -> None"
      ]
    },
    {
      "cell_type": "markdown",
      "metadata": {
        "id": "PBI7_4gXuqfQ"
      },
      "source": [
        "##### **Inserindo Elementos no Final**"
      ]
    },
    {
      "cell_type": "code",
      "execution_count": 8,
      "metadata": {
        "id": "TOIgvlnJusKC"
      },
      "outputs": [],
      "source": [
        "lista.inserir_no_final(\"D\")   # Lista: A -> B -> C -> D -> None\n",
        "lista.inserir_no_final(\"E\")   # Lista: A -> B -> C -> D -> E -> None"
      ]
    },
    {
      "cell_type": "markdown",
      "metadata": {
        "id": "OIBrXBHjuyFG"
      },
      "source": [
        "##### **Exibindo a Lista**"
      ]
    },
    {
      "cell_type": "code",
      "execution_count": 9,
      "metadata": {
        "colab": {
          "base_uri": "https://localhost:8080/"
        },
        "id": "M5i3Je95u5Wo",
        "outputId": "b051f605-9a5f-4473-d040-6bd5c025ff1f"
      },
      "outputs": [
        {
          "output_type": "stream",
          "name": "stdout",
          "text": [
            "A -> B -> C -> D -> E -> None\n"
          ]
        }
      ],
      "source": [
        "print(lista)\n",
        "# Saída: A -> B -> C -> D -> E -> None"
      ]
    },
    {
      "cell_type": "markdown",
      "source": [
        "##### **Representação da Lista**"
      ],
      "metadata": {
        "id": "IJNc0oEL596V"
      }
    },
    {
      "cell_type": "code",
      "source": [
        "lista"
      ],
      "metadata": {
        "colab": {
          "base_uri": "https://localhost:8080/"
        },
        "id": "X5RUwFgk51ju",
        "outputId": "f0067308-ccb7-449e-e2c6-243cca6cca3a"
      },
      "execution_count": 10,
      "outputs": [
        {
          "output_type": "execute_result",
          "data": {
            "text/plain": [
              "ListaLigada(tamanho=5)"
            ]
          },
          "metadata": {},
          "execution_count": 10
        }
      ]
    },
    {
      "cell_type": "markdown",
      "source": [
        "##### **Removendo Elementos no Início**"
      ],
      "metadata": {
        "id": "tmTH6nJM9rWu"
      }
    },
    {
      "cell_type": "code",
      "source": [
        "lista.remover_do_inicio()\n",
        "# Saída: A. Lista: B -> C -> D -> E -> None"
      ],
      "metadata": {
        "colab": {
          "base_uri": "https://localhost:8080/",
          "height": 36
        },
        "id": "DrHqJ3Mn9vYG",
        "outputId": "fa25e7ed-4b8e-4636-92ff-cf7c0e6663f9"
      },
      "execution_count": 11,
      "outputs": [
        {
          "output_type": "execute_result",
          "data": {
            "text/plain": [
              "'A'"
            ],
            "application/vnd.google.colaboratory.intrinsic+json": {
              "type": "string"
            }
          },
          "metadata": {},
          "execution_count": 11
        }
      ]
    },
    {
      "cell_type": "code",
      "source": [
        "print(lista)"
      ],
      "metadata": {
        "colab": {
          "base_uri": "https://localhost:8080/"
        },
        "id": "CdIsPDHd7Yr9",
        "outputId": "f399c0ba-9668-4999-bf4d-9080f4c45277"
      },
      "execution_count": 12,
      "outputs": [
        {
          "output_type": "stream",
          "name": "stdout",
          "text": [
            "B -> C -> D -> E -> None\n"
          ]
        }
      ]
    },
    {
      "cell_type": "markdown",
      "source": [
        "##### **Removendo Elementos no Fim**"
      ],
      "metadata": {
        "id": "haZXDsZT97xM"
      }
    },
    {
      "cell_type": "code",
      "source": [
        "lista.remover_do_final()\n",
        "# Saída: E. Lista: B -> C -> D -> None"
      ],
      "metadata": {
        "colab": {
          "base_uri": "https://localhost:8080/",
          "height": 36
        },
        "id": "Yko0Gcn49-CS",
        "outputId": "f7a7c6f8-38e2-4bae-941e-2ad6e0cbde75"
      },
      "execution_count": 13,
      "outputs": [
        {
          "output_type": "execute_result",
          "data": {
            "text/plain": [
              "'E'"
            ],
            "application/vnd.google.colaboratory.intrinsic+json": {
              "type": "string"
            }
          },
          "metadata": {},
          "execution_count": 13
        }
      ]
    },
    {
      "cell_type": "code",
      "source": [
        "print(lista)"
      ],
      "metadata": {
        "colab": {
          "base_uri": "https://localhost:8080/"
        },
        "id": "CsAvIhz086MC",
        "outputId": "e35da490-cb2c-4b05-e172-046eb2dffde0"
      },
      "execution_count": 14,
      "outputs": [
        {
          "output_type": "stream",
          "name": "stdout",
          "text": [
            "B -> C -> D -> None\n"
          ]
        }
      ]
    },
    {
      "cell_type": "markdown",
      "metadata": {
        "id": "i3GSkQKKu-k4"
      },
      "source": [
        "##### **Tamanho da Lista**"
      ]
    },
    {
      "cell_type": "code",
      "execution_count": 15,
      "metadata": {
        "colab": {
          "base_uri": "https://localhost:8080/"
        },
        "id": "XYExKtzyvZDK",
        "outputId": "083e4923-e50d-4b5f-f9be-afdb787e0273"
      },
      "outputs": [
        {
          "output_type": "stream",
          "name": "stdout",
          "text": [
            "3\n"
          ]
        }
      ],
      "source": [
        "print(len(lista))\n",
        "# Saída: 3"
      ]
    },
    {
      "cell_type": "markdown",
      "metadata": {
        "id": "8dR1E4ppvfHQ"
      },
      "source": [
        "##### **Acessando Elemento pelo Índice**"
      ]
    },
    {
      "cell_type": "code",
      "execution_count": 16,
      "metadata": {
        "colab": {
          "base_uri": "https://localhost:8080/"
        },
        "id": "lZYMGmQDvmXz",
        "outputId": "e43367e9-5431-466e-d378-d12b1e703eb1"
      },
      "outputs": [
        {
          "output_type": "stream",
          "name": "stdout",
          "text": [
            "D\n"
          ]
        }
      ],
      "source": [
        "print(lista[2])\n",
        "# Saída: D"
      ]
    },
    {
      "cell_type": "markdown",
      "metadata": {
        "id": "uB2J245avrxH"
      },
      "source": [
        "##### **Iterando Sobre os Elementos**\n"
      ]
    },
    {
      "cell_type": "code",
      "execution_count": 17,
      "metadata": {
        "colab": {
          "base_uri": "https://localhost:8080/"
        },
        "id": "tw4nZ5bwvx32",
        "outputId": "c3fc50cd-2170-432b-c039-f6a01b8d316c"
      },
      "outputs": [
        {
          "output_type": "stream",
          "name": "stdout",
          "text": [
            "B | C | D | "
          ]
        }
      ],
      "source": [
        "for valor in lista:\n",
        "    print(valor, end=\" | \")\n",
        "# Saída: B | C | D |"
      ]
    },
    {
      "cell_type": "markdown",
      "metadata": {
        "id": "B8fUsHOt0Cfz"
      },
      "source": [
        "##### **Verificando se um Elemento Está na Lista (Usando `in`)**\n"
      ]
    },
    {
      "cell_type": "code",
      "execution_count": 18,
      "metadata": {
        "colab": {
          "base_uri": "https://localhost:8080/"
        },
        "id": "cFWyBpDv0I73",
        "outputId": "3e293941-7b54-4d03-d005-cee5f1e3c58c"
      },
      "outputs": [
        {
          "output_type": "stream",
          "name": "stdout",
          "text": [
            "True\n",
            "False\n"
          ]
        }
      ],
      "source": [
        "print(\"C\" in lista)\n",
        "# Saída: True\n",
        "\n",
        "print(\"Z\" in lista)\n",
        "# Saída: False"
      ]
    },
    {
      "cell_type": "markdown",
      "metadata": {
        "id": "Ga966sx30XyS"
      },
      "source": [
        "## **Benchmark: Lista Encadeada vs Lista Nativa do Python**"
      ]
    },
    {
      "cell_type": "markdown",
      "source": [
        "Este teste compara o desempenho da operação de inserção no início entre duas estruturas: a lista encadeada implementada manualmente e a lista nativa do Python (`list`). A inserção no início de uma `list` é **O(n)**, pois requer o deslocamento dos elementos. Já na lista encadeada, é **O(1)**, com simples atualização de ponteiros. A análise mede o tempo médio de execução para diferentes tamanhos de entrada (`10¹` a `10⁵`), repetindo cada teste 30 vezes. Os dados são apresentados em gráfico log-log, evidenciando o crescimento do custo conforme o tamanho aumenta. Essa comparação destaca como a escolha da estrutura impacta diretamente a performance das operações."
      ],
      "metadata": {
        "id": "baDLLQJTo7NJ"
      }
    },
    {
      "cell_type": "code",
      "execution_count": 19,
      "metadata": {
        "colab": {
          "base_uri": "https://localhost:8080/",
          "height": 781
        },
        "id": "rzMxOzZu1IbU",
        "outputId": "f061aa20-cf24-4159-8da5-46941dea46c1"
      },
      "outputs": [
        {
          "output_type": "stream",
          "name": "stdout",
          "text": [
            "Testando inserção de 10 elementos (média de 30 execuções)...\n",
            "  Lista Ligada: 0.000006s | List (Python): 0.000002s\n",
            "Testando inserção de 100 elementos (média de 30 execuções)...\n",
            "  Lista Ligada: 0.000055s | List (Python): 0.000013s\n",
            "Testando inserção de 1000 elementos (média de 30 execuções)...\n",
            "  Lista Ligada: 0.001464s | List (Python): 0.000607s\n",
            "Testando inserção de 10000 elementos (média de 30 execuções)...\n",
            "  Lista Ligada: 0.026129s | List (Python): 0.027222s\n",
            "Testando inserção de 100000 elementos (média de 30 execuções)...\n",
            "  Lista Ligada: 0.352865s | List (Python): 1.758724s\n"
          ]
        },
        {
          "output_type": "display_data",
          "data": {
            "text/plain": [
              "<Figure size 1000x600 with 1 Axes>"
            ],
            "image/png": "[encoded data removed]"
          },
          "metadata": {}
        }
      ],
      "source": [
        "import time\n",
        "import matplotlib.pyplot as plt\n",
        "\n",
        "# Função para Testes com Média de Execuções\n",
        "def calcular_tempo_medio(func, qtd, execucoes=30):\n",
        "    tempos = []\n",
        "    for _ in range(execucoes):\n",
        "        inicio = time.perf_counter()\n",
        "        func(qtd)\n",
        "        fim = time.perf_counter()\n",
        "        tempos.append(fim - inicio)\n",
        "    return sum(tempos) / execucoes\n",
        "\n",
        "# Testes Específicos para Cada Estrutura\n",
        "\n",
        "def teste_lista_ligada(qtd):\n",
        "    lista = ListaLigada()\n",
        "    for i in range(qtd):\n",
        "        lista.inserir_no_inicio(i)\n",
        "\n",
        "def teste_lista_python(qtd):\n",
        "    vetor = []\n",
        "    for i in range(qtd):\n",
        "        vetor.insert(0, i)  # Inserção no início de lista Python (ineficiente)\n",
        "\n",
        "# Execução dos Testes\n",
        "\n",
        "tamanhos = [10**i for i in range(1, 6)]\n",
        "tempos_ligada = []\n",
        "tempos_python = []\n",
        "\n",
        "for tamanho in tamanhos:\n",
        "    print(f\"Testando inserção de {tamanho} elementos (média de 30 execuções)...\")\n",
        "\n",
        "    tempo_ll = calcular_tempo_medio(teste_lista_ligada, tamanho)\n",
        "    tempo_py = calcular_tempo_medio(teste_lista_python, tamanho)\n",
        "\n",
        "    print(f\"  Lista Ligada: {tempo_ll:.6f}s | List (Python): {tempo_py:.6f}s\")\n",
        "\n",
        "    tempos_ligada.append(tempo_ll)\n",
        "    tempos_python.append(tempo_py)\n",
        "\n",
        "# Gráfico\n",
        "\n",
        "plt.figure(figsize=(10, 6))\n",
        "plt.plot(tamanhos, tempos_ligada, label='Lista Ligada', marker='o')\n",
        "plt.plot(tamanhos, tempos_python, label='List (Python)', marker='s')\n",
        "plt.xscale('log')\n",
        "plt.yscale('log')\n",
        "plt.xlabel('Quantidade de Elementos (escala log)')\n",
        "plt.ylabel('Tempo Médio (segundos, escala log)')\n",
        "plt.title('Comparação de Tempo Médio de Inserção no Início (30 execuções)')\n",
        "plt.legend()\n",
        "plt.tight_layout()\n",
        "plt.show()"
      ]
    },
    {
      "cell_type": "markdown",
      "source": [
        "### **Análise de Desempenho: Inserção no Início**\n",
        "\n",
        "Os testes comparativos entre listas ligadas e listas nativas do Python revelam padrões distintos de desempenho:\n",
        "\n",
        "#### **Pequenas quantidades de dados**\n",
        "- Para volumes reduzidos de inserção, as listas nativas tendem a ser mais rápidas.\n",
        "- Isso ocorre devido à otimização interna do Python e à ausência de sobrecarga com alocação dinâmica de nós.\n",
        "- O custo adicional de criar objetos e manipular ponteiros em listas ligadas impacta mais quando o volume é pequeno.\n",
        "\n",
        "#### **Crescimento da escala**\n",
        "- À medida que a quantidade de inserções aumenta, o custo da operação `insert(0, valor)` em listas nativas cresce proporcionalmente, pois exige o deslocamento de todos os elementos.\n",
        "- Listas ligadas mantêm complexidade constante para inserção no início, tornando-se mais vantajosas com o aumento do tamanho.\n",
        "\n",
        "### **Ponto de virada**\n",
        "- Em determinado ponto, o tempo de inserção da lista ligada se torna inferior ao da lista nativa.\n",
        "- Esse ponto destaca a vantagem da lista ligada para inserções no início.\n",
        "\n"
      ],
      "metadata": {
        "id": "MDjt8noEqRrU"
      }
    },
    {
      "cell_type": "markdown",
      "source": [
        "## **Exercícios**"
      ],
      "metadata": {
        "id": "GD59pJ9dpomx"
      }
    },
    {
      "cell_type": "markdown",
      "source": [
        "**1. Remover Todos os Nós com Valor Repetido:** Implemente um método `remover_repetidos()` que remove todos os nós duplicados, mantendo apenas a primeira ocorrência de cada valor.\n",
        "\n",
        "\n"
      ],
      "metadata": {
        "id": "fkCWKi814veX"
      }
    },
    {
      "cell_type": "code",
      "source": [
        "# Exemplo:\n",
        "# Entrada: A → B → A → C → B → D\n",
        "# Saída:   A → B → C → D"
      ],
      "metadata": {
        "id": "reF4ZqpF4_K4"
      },
      "execution_count": 20,
      "outputs": []
    },
    {
      "cell_type": "markdown",
      "source": [
        "**2. Inverter a Lista:** Crie um método `inverter()` que inverte a ordem dos elementos da lista sem usar estruturas auxiliares (pilhas/filas)."
      ],
      "metadata": {
        "id": "bNOu2ZJh5ANl"
      }
    },
    {
      "cell_type": "code",
      "source": [
        "# Entrada: 1 → 2 → 3 → 4\n",
        "# Saída:   4 → 3 → 2 → 1"
      ],
      "metadata": {
        "id": "fqSbJ3MF5M08"
      },
      "execution_count": 21,
      "outputs": []
    },
    {
      "cell_type": "markdown",
      "source": [
        "**3. Intercalar com Outra Lista:** Implemente intercalar(outra_lista) que recebe outra lista ligada e intercala seus nós com os da lista atual.\n"
      ],
      "metadata": {
        "id": "bPDOiBEV5XIP"
      }
    },
    {
      "cell_type": "code",
      "source": [
        "# Lista 1: A → C → E\n",
        "# Lista 2: B → D → F\n",
        "# Resultado: A → B → C → D → E → F"
      ],
      "metadata": {
        "id": "Zi9o3uEf5iUb"
      },
      "execution_count": 22,
      "outputs": []
    },
    {
      "cell_type": "markdown",
      "source": [
        "**4. Remover Nós com Valor Maior que X:** Crie um método `remover_maiores_que(x)` que remove todos os nós com valor maior que `x`."
      ],
      "metadata": {
        "id": "DtJVggqh5knr"
      }
    },
    {
      "cell_type": "code",
      "source": [
        "# Lista: 3 → 7 → 2 → 9 → 1\n",
        "# x = 5 → Saída: 3 → 2 → 1"
      ],
      "metadata": {
        "id": "6jvMqO6p54pg"
      },
      "execution_count": 23,
      "outputs": []
    },
    {
      "cell_type": "markdown",
      "source": [
        "**5. Dividir em Duas Metades:** Crie `dividir_em_metades()` que divide a lista ao meio e retorna duas novas listas ligadas."
      ],
      "metadata": {
        "id": "bckFop_96Az2"
      }
    },
    {
      "cell_type": "code",
      "source": [
        "# Entrada: A → B → C → D → E\n",
        "# Saída:\n",
        "# Lista 1: A → B → C\n",
        "# Lista 2: D → E"
      ],
      "metadata": {
        "id": "eAlpxaRo6SMr"
      },
      "execution_count": 24,
      "outputs": []
    },
    {
      "cell_type": "markdown",
      "source": [
        "**6. Ordenar a Lista:** Implemente `ordenar()` que ordena a lista ligada, utilizando ordenação por inserção ou merge sort."
      ],
      "metadata": {
        "id": "UMbIPR8F6WUV"
      }
    },
    {
      "cell_type": "code",
      "source": [
        "# Lista original: D → B → A → F → C → E\n",
        "# ordenar()\n",
        "# Resultado: A → B → C → D → E → F"
      ],
      "metadata": {
        "id": "HEMcPVKV62vN"
      },
      "execution_count": 25,
      "outputs": []
    },
    {
      "cell_type": "markdown",
      "source": [
        "**7. Remover Intervalo:** Crie `remover_intervalo(inicio, fim)` que remove todos os nós entre os índices inicio e fim (inclusive)."
      ],
      "metadata": {
        "id": "sVGeBT8Q69ZV"
      }
    },
    {
      "cell_type": "code",
      "source": [
        "# Lista: A → B → C → D → E → F\n",
        "# remover_intervalo(2, 4)\n",
        "# Resultado: A → B → F"
      ],
      "metadata": {
        "id": "RrkvntJh7XaD"
      },
      "execution_count": 26,
      "outputs": []
    },
    {
      "cell_type": "markdown",
      "source": [
        "**8. Comparar Igualdade:** Implemente `eh_igual(outra_lista)` que verifica se duas listas possuem os mesmos valores, na mesma ordem."
      ],
      "metadata": {
        "id": "5hhqo6hf7bH2"
      }
    },
    {
      "cell_type": "code",
      "source": [
        "# Lista 1: A → B → C → D\n",
        "# Lista 2: A → B → C → D\n",
        "# eh_igual(lista1, lista2)\n",
        "# Resultado: True\n",
        "\n",
        "# Lista 3: A → B → X → D\n",
        "# eh_igual(lista1, lista3)\n",
        "# Resultado: False"
      ],
      "metadata": {
        "id": "oMO1W9vF7p7L"
      },
      "execution_count": 27,
      "outputs": []
    }
  ],
  "metadata": {
    "colab": {
      "provenance": [],
      "include_colab_link": true
    },
    "kernelspec": {
      "display_name": "Python 3",
      "name": "python3"
    },
    "language_info": {
      "name": "python"
    }
  },
  "nbformat": 4,
  "nbformat_minor": 0
}