{
  "cells": [
    {
      "cell_type": "markdown",
      "metadata": {
        "id": "view-in-github",
        "colab_type": "text"
      },
      "source": [
        "<a href=\"https://colab.research.google.com/github/tiagopessoalima/ED2/blob/main/Aula_Semana_04_(ED2).ipynb\" target=\"_parent\"><img src=\"https://colab.research.google.com/assets/colab-badge.svg\" alt=\"Open In Colab\"/></a>"
      ]
    },
    {
      "cell_type": "markdown",
      "metadata": {
        "id": "pS5sFd6XqXHy"
      },
      "source": [
        "# **Listas Simplesmente Ligadas (Encadeadas)**"
      ]
    },
    {
      "cell_type": "markdown",
      "metadata": {
        "id": "SSZmdEBNZF3x"
      },
      "source": [
        "São estruturas de dados **lineares** e **dinâmicas** utilizadas para armazenar coleções de elementos. Diferentemente dos *arrays* (ou listas padrão do Python), que armazenam os elementos em posições **contíguas de memória**, as listas ligadas mantêm os dados dispersos na memória, conectados entre si por **referências**. Cada elemento da lista, chamado de **nó** (*node*), possui dois componentes principais:\n",
        "\n",
        "1. **Valor** armazenado (dado propriamente dito);  \n",
        "2. **Referência (ou ponteiro)** para o próximo nó da sequência.\n",
        "\n",
        "Essa organização oferece vantagens importantes, como inserções e remoções mais eficientes — principalmente quando comparadas aos *arrays*, onde a realocação ou movimentação de elementos pode ser custosa em termos de desempenho. Por outro lado, como cada nó precisa armazenar uma referência, as listas ligadas geralmente consomem mais memória do que *arrays*."
      ]
    },
    {
      "cell_type": "markdown",
      "metadata": {
        "id": "MhM7BX1paW39"
      },
      "source": [
        "## **O Bloco de Construção: O Nó (Node)**\n"
      ]
    },
    {
      "cell_type": "markdown",
      "metadata": {
        "id": "loZjbBzObAsT"
      },
      "source": [
        "A estrutura fundamental de uma lista ligada é composta por nós, que são unidades responsáveis por armazenar os dados e manter a ligação entre os elementos da lista. A seguir, a definição da classe que representa um nó em uma lista simplesmente ligada:"
      ]
    },
    {
      "cell_type": "code",
      "execution_count": 66,
      "metadata": {
        "id": "6t3SVMEcd0lv"
      },
      "outputs": [],
      "source": [
        "class No:\n",
        "    \"\"\"\n",
        "    Representa um único nó em uma lista simplesmente encadeada.\n",
        "    \"\"\"\n",
        "    def __init__(self, valor):\n",
        "        \"\"\"\n",
        "        Inicializa um novo nó.\n",
        "\n",
        "        Parâmetros:\n",
        "            valor: Dado a ser armazenado no nó.\n",
        "        \"\"\"\n",
        "        self.valor = valor        # Valor armazenado no nó\n",
        "        self.proximo = None       # Referência para o próximo nó (inicialmente nula)\n",
        "\n",
        "    def __repr__(self):\n",
        "        \"\"\"\n",
        "        Representação textual do nó.\n",
        "        \"\"\"\n",
        "        return f\"No({self.valor})\""
      ]
    },
    {
      "cell_type": "markdown",
      "metadata": {
        "id": "sCZy5wsDhF3n"
      },
      "source": [
        "> A variável `self.proximo` é o que permite o **encadeamento dos nós**. A partir de um nó, é possível navegar sequencialmente pela lista seguindo essa referência — até que ela aponte para `None`, indicando o fim da estrutura."
      ]
    },
    {
      "cell_type": "markdown",
      "metadata": {
        "id": "L8vot001fu2B"
      },
      "source": [
        "### **Exemplo de Criação e Encadeamento de Nós**"
      ]
    },
    {
      "cell_type": "markdown",
      "metadata": {
        "id": "MGkReDQRhqHu"
      },
      "source": [
        "Abaixo, criamos três nós manualmente e fazemos o encadeamento entre eles, simulando uma lista simples com três elementos.\n"
      ]
    },
    {
      "cell_type": "code",
      "execution_count": 67,
      "metadata": {
        "id": "FsYXcsE0fvF-"
      },
      "outputs": [],
      "source": [
        "# Criando três nós\n",
        "n1 = No(\"A\")\n",
        "n2 = No(\"B\")\n",
        "n3 = No(\"C\")\n",
        "\n",
        "# Encadeando manualmente\n",
        "n1.proximo = n2\n",
        "n2.proximo = n3"
      ]
    },
    {
      "cell_type": "markdown",
      "metadata": {
        "id": "_qtyPQsUgCgD"
      },
      "source": [
        "### **Imprimindo os Nós Individualmente**\n"
      ]
    },
    {
      "cell_type": "code",
      "execution_count": 68,
      "metadata": {
        "colab": {
          "base_uri": "https://localhost:8080/"
        },
        "id": "5HxhnOSigKQA",
        "outputId": "f4ac5f61-921b-411e-cd4d-8c756f9f4bf8"
      },
      "outputs": [
        {
          "output_type": "stream",
          "name": "stdout",
          "text": [
            "No(A)\n",
            "No(B)\n",
            "No(C)\n",
            "None\n"
          ]
        }
      ],
      "source": [
        "print(n1)                  # No(A)\n",
        "print(n1.proximo)          # No(B)\n",
        "print(n1.proximo.proximo)  # No(C)\n",
        "print(n1.proximo.proximo.proximo)  # None (fim da lista)"
      ]
    },
    {
      "cell_type": "markdown",
      "metadata": {
        "id": "mCVkdVspiETY"
      },
      "source": [
        "> A navegação continua até que a referência aponte para `None`, o que indica que atingimos o final da lista.\n"
      ]
    },
    {
      "cell_type": "markdown",
      "metadata": {
        "id": "c8pYThZaicDB"
      },
      "source": [
        "## **Visualização Conceitual**"
      ]
    },
    {
      "cell_type": "markdown",
      "metadata": {
        "id": "Krx9sOlfimR4"
      },
      "source": [
        "Abaixo, temos uma representação esquemática da estrutura construída com os três nós. Cada nó contém um valor e uma referência para o próximo nó da sequência. Esse encadeamento é o que permite que a lista seja percorrida dinamicamente, sem a necessidade de elementos estarem em posições contíguas na memória.\n",
        "\n",
        "```\n",
        "n1        n2        n3\n",
        "┌──────┐  ┌──────┐  ┌──────┐\n",
        "│ \"A\"  │→ │ \"B\"  │→ │ \"C\"  │→ None\n",
        "└──────┘  └──────┘  └──────┘\n",
        "```\n",
        "\n",
        "Cada seta (→) representa a ligação entre os nós, estabelecida pelo atributo `.proximo`. O último nó da lista aponta para `None`, indicando o término da estrutura. Esse modelo permite que operações como inserção e remoção de elementos possam ser realizadas com complexidade reduzida, especialmente no início da lista ou em posições intermediárias, sem a necessidade de deslocamento de dados na memória — ao contrário do que ocorre em *arrays* tradicionais.\n",
        "\n",
        "\n",
        "\n",
        "\n"
      ]
    },
    {
      "cell_type": "markdown",
      "metadata": {
        "id": "aeMDjASmekqK"
      },
      "source": [
        "## **Classe Lista Ligada**"
      ]
    },
    {
      "cell_type": "markdown",
      "metadata": {
        "id": "V-jVPRSEnfP7"
      },
      "source": [
        "Após estabelecermos a estrutura fundamental de um nó, avançamos agora para a implementação de uma estrutura de dados abstrata que representa uma lista simplesmente encadeada.Essa estrutura é essencial em contextos onde há necessidade de operações dinâmicas e eficientes de inserção e remoção, principalmente quando não se conhece previamente o número de elementos a serem armazenados ou quando os dados sofrem alterações frequentes durante a execução do programa."
      ]
    },
    {
      "cell_type": "markdown",
      "metadata": {
        "id": "SvioH4Ljo_4s"
      },
      "source": [
        "### **Integração com a Sintaxe do Python**"
      ]
    },
    {
      "cell_type": "markdown",
      "metadata": {
        "id": "mIa_XGbWoOR0"
      },
      "source": [
        "A classe é projetada com princípios de encapsulamento e modularidade, utilizando métodos especiais do Python para integrar-se naturalmente com a sintaxe da linguagem. Isso permite, por exemplo:\n",
        "\n",
        "- Usar `len(lista)` para consultar o número de elementos (via __len__);\n",
        "- Iterar com for `item in lista` (via __iter__);\n",
        "- Acessar elementos com `lista[i]` (via __getitem__);\n",
        "- Verificar presença com `valor in lista` (via __contains__);\n",
        "- Exibir representações legíveis e técnicas (__str__ e __repr__)."
      ]
    },
    {
      "cell_type": "markdown",
      "metadata": {
        "id": "6jBZ33odpLKW"
      },
      "source": [
        "### **Implementação**"
      ]
    },
    {
      "cell_type": "markdown",
      "metadata": {
        "id": "bs7Od1n_oPpQ"
      },
      "source": [
        "A seguir, apresentamos a implementação completa da classe `ListaLigada`, com suporte para inserção de elementos tanto no início quanto no final da lista, e com todos os métodos auxiliares para inspeção, iteração e indexação:"
      ]
    },
    {
      "cell_type": "code",
      "execution_count": 69,
      "metadata": {
        "id": "RvuimI5Gfccw"
      },
      "outputs": [],
      "source": [
        "class ListaLigada:\n",
        "    \"\"\"\n",
        "    Implementa uma lista simplesmente encadeada.\n",
        "    \"\"\"\n",
        "\n",
        "    def __init__(self):\n",
        "        \"\"\"\n",
        "        Inicializa a lista como vazia.\n",
        "        \"\"\"\n",
        "        self.inicio = None\n",
        "        self._tamanho = 0\n",
        "\n",
        "    def limpar(self) -> None:\n",
        "        \"\"\"\n",
        "        Remove todos os elementos da lista.\n",
        "        \"\"\"\n",
        "        self.inicio = None\n",
        "        self._tamanho = 0\n",
        "\n",
        "    def esta_vazia(self) -> bool:\n",
        "        \"\"\"\n",
        "        Verifica se a lista está vazia.\n",
        "        \"\"\"\n",
        "        return self._tamanho == 0\n",
        "\n",
        "    def no_em(self, posicao: int) -> No:\n",
        "        \"\"\"\n",
        "        Retorna o nó da posição especificada.\n",
        "        \"\"\"\n",
        "        if not 0 <= posicao < self._tamanho:\n",
        "            raise IndexError(\"Índice fora do intervalo.\")\n",
        "\n",
        "        atual = self.inicio\n",
        "        for _ in range(posicao):\n",
        "            atual = atual.proximo\n",
        "        return atual\n",
        "\n",
        "    def inserir_no_inicio(self, valor: any) -> None:\n",
        "        \"\"\"\n",
        "        Insere um novo elemento no início da lista.\n",
        "        \"\"\"\n",
        "        novo_no = No(valor)\n",
        "        novo_no.proximo = self.inicio\n",
        "        self.inicio = novo_no\n",
        "        self._tamanho += 1\n",
        "\n",
        "    def inserir_no_final(self, valor: any) -> None:\n",
        "        \"\"\"\n",
        "        Insere um novo elemento no final da lista.\n",
        "        \"\"\"\n",
        "        novo_no = No(valor)\n",
        "        if self.esta_vazia():\n",
        "            self.inicio = novo_no\n",
        "        else:\n",
        "            ultimo = self.no_em(self._tamanho - 1)\n",
        "            ultimo.proximo = novo_no\n",
        "        self._tamanho += 1\n",
        "\n",
        "    def inserir_em(self, posicao: int, valor: any) -> None:\n",
        "        \"\"\"\n",
        "        Insere um novo elemento em uma posição específica da lista.\n",
        "        \"\"\"\n",
        "        if not 0 <= posicao <= self._tamanho:\n",
        "            raise IndexError(\"Índice fora do intervalo.\")\n",
        "\n",
        "        if posicao == 0:\n",
        "            self.inserir_no_inicio(valor)\n",
        "        else:\n",
        "            anterior = self.no_em(posicao - 1)\n",
        "            novo_no = No(valor)\n",
        "            novo_no.proximo = anterior.proximo\n",
        "            anterior.proximo = novo_no\n",
        "            self._tamanho += 1\n",
        "\n",
        "    def remover_do_inicio(self) -> any:\n",
        "        \"\"\"\n",
        "        Remove e retorna o primeiro elemento da lista.\n",
        "        \"\"\"\n",
        "        if self.esta_vazia():\n",
        "            raise IndexError(\"A lista está vazia.\")\n",
        "\n",
        "        removido = self.inicio\n",
        "        self.inicio = removido.proximo\n",
        "        self._tamanho -= 1\n",
        "        return removido.valor\n",
        "\n",
        "    def remover_do_final(self) -> any:\n",
        "        \"\"\"\n",
        "        Remove e retorna o último elemento da lista.\n",
        "        \"\"\"\n",
        "        if self.esta_vazia():\n",
        "            raise IndexError(\"A lista está vazia.\")\n",
        "\n",
        "        if self._tamanho == 1:\n",
        "            return self.remover_do_inicio()\n",
        "\n",
        "        anterior = self.no_em(self._tamanho - 2)\n",
        "        valor = anterior.proximo.valor\n",
        "        anterior.proximo = None\n",
        "        self._tamanho -= 1\n",
        "        return valor\n",
        "\n",
        "    def remover_em(self, posicao: int) -> any:\n",
        "        \"\"\"\n",
        "        Remove e retorna o elemento da posição especificada.\n",
        "        \"\"\"\n",
        "        if not 0 <= posicao < self._tamanho:\n",
        "            raise IndexError(\"Índice fora do intervalo.\")\n",
        "\n",
        "        if posicao == 0:\n",
        "            return self.remover_do_inicio()\n",
        "\n",
        "        anterior = self.no_em(posicao - 1)\n",
        "        removido = anterior.proximo\n",
        "        anterior.proximo = removido.proximo\n",
        "        self._tamanho -= 1\n",
        "        return removido.valor\n",
        "\n",
        "    def posicao_de(self, valor: any) -> int:\n",
        "        \"\"\"\n",
        "        Retorna o índice da primeira ocorrência do valor na lista, ou -1 se não encontrado.\n",
        "        \"\"\"\n",
        "        atual = self.inicio\n",
        "        pos = 0\n",
        "        while atual:\n",
        "            if atual.valor == valor:\n",
        "                return pos\n",
        "            atual = atual.proximo\n",
        "            pos += 1\n",
        "        return -1\n",
        "\n",
        "    def __contains__(self, valor: any) -> bool:\n",
        "        \"\"\"\n",
        "        Permite o uso de 'valor in lista'.\n",
        "        \"\"\"\n",
        "        return self.posicao_de(valor) != -1\n",
        "\n",
        "    def __len__(self) -> int:\n",
        "        \"\"\"\n",
        "        Retorna o número de elementos da lista.\n",
        "        \"\"\"\n",
        "        return self._tamanho\n",
        "\n",
        "    def __getitem__(self, posicao: int) -> any:\n",
        "        \"\"\"\n",
        "        Permite acessar o valor de um elemento usando colchetes (ex: lista[2]).\n",
        "        \"\"\"\n",
        "        return self.no_em(posicao).valor\n",
        "\n",
        "    def __iter__(self):\n",
        "        \"\"\"\n",
        "        Permite iterar sobre os elementos da lista.\n",
        "        \"\"\"\n",
        "        atual = self.inicio\n",
        "        while atual:\n",
        "            yield atual.valor\n",
        "            atual = atual.proximo\n",
        "\n",
        "    def __str__(self) -> str:\n",
        "        \"\"\"\n",
        "        Retorna uma representação amigável da lista.\n",
        "        \"\"\"\n",
        "        return \" -> \".join(str(valor) for valor in self) + \" -> None\"\n",
        "\n",
        "    def __repr__(self) -> str:\n",
        "        \"\"\"\n",
        "        Retorna uma representação técnica da lista.\n",
        "        \"\"\"\n",
        "        return f\"ListaLigada(tamanho={self._tamanho})\"\n"
      ]
    },
    {
      "cell_type": "markdown",
      "metadata": {
        "id": "rva92N7hsO-k"
      },
      "source": [
        "#### **Análise de Complexidade**"
      ]
    },
    {
      "cell_type": "markdown",
      "source": [
        "A classe `ListaLigada` implementa uma lista simplesmente encadeada com operações fundamentais como inserção, remoção, busca e iteração. Cada método tem uma complexidade associada ao seu custo computacional, dependendo do tamanho da lista ($n$). Abaixo, apresentamos uma tabela com as principais operações e suas respectivas complexidades."
      ],
      "metadata": {
        "id": "rLQMssx7OFMM"
      }
    },
    {
      "cell_type": "markdown",
      "metadata": {
        "id": "C3Q-fgSzsNTc"
      },
      "source": [
        "| Método               | Finalidade                                        | Complexidade |\n",
        "|----------------------|--------------------------------------------------|--------------|\n",
        "| `__init__`           | Inicialização da estrutura                       | O(1)         |\n",
        "| `esta_vazia`         | Verifica se a lista está vazia                   | O(1)         |\n",
        "| `inserir_no_inicio`  | Inserção de elemento no início                   | O(1)         |\n",
        "| `inserir_no_final`   | Inserção de elemento no final                    | O(n)         |\n",
        "| `remover_do_inicio`  | Remoção do primeiro elemento                     | O(1)         |\n",
        "| `remover_do_final`   | Remoção do último elemento                       | O(n)         |\n",
        "| `__contains__`       | Verificação de existência (`valor in lista`)     | O(n)         |\n",
        "| `__len__`            | Retorna o número de elementos                    | O(1)         |\n",
        "| `__getitem__`        | Acesso por índice (`lista[i]`)                   | O(n)         |\n",
        "| `__iter__`           | Permite iteração com `for item in lista`         | O(n)         |\n",
        "| `__str__`            | Representação legível (visual) da lista          | O(n)         |\n",
        "| `__repr__`           | Representação técnica da lista                   | O(1)         |"
      ]
    },
    {
      "cell_type": "markdown",
      "metadata": {
        "id": "-SZNVU_Lt1Cx"
      },
      "source": [
        "#### **Exemplos de Uso**"
      ]
    },
    {
      "cell_type": "markdown",
      "metadata": {
        "id": "uGReCD_FuCNW"
      },
      "source": [
        "A seguir, demonstramos como utilizar os principais métodos da classe `ListaLigada`:"
      ]
    },
    {
      "cell_type": "markdown",
      "metadata": {
        "id": "MVsABKa-uGBQ"
      },
      "source": [
        "##### **Criando uma Lista Encadeada**\n"
      ]
    },
    {
      "cell_type": "code",
      "execution_count": 70,
      "metadata": {
        "id": "ArkrrFlRuM2f"
      },
      "outputs": [],
      "source": [
        "lista = ListaLigada()"
      ]
    },
    {
      "cell_type": "markdown",
      "metadata": {
        "id": "nnC6uv4wz0IW"
      },
      "source": [
        "##### **Verificando se a Lista Está Vazia**"
      ]
    },
    {
      "cell_type": "code",
      "execution_count": 71,
      "metadata": {
        "colab": {
          "base_uri": "https://localhost:8080/"
        },
        "id": "JBFrym9Oz6Ks",
        "outputId": "379cfdc2-cc26-4a1c-bbf1-5590d422cf0f"
      },
      "outputs": [
        {
          "output_type": "stream",
          "name": "stdout",
          "text": [
            "True\n"
          ]
        }
      ],
      "source": [
        "print(lista.esta_vazia())\n",
        "# Saída: True"
      ]
    },
    {
      "cell_type": "markdown",
      "metadata": {
        "id": "0HinHjnmuPwX"
      },
      "source": [
        "##### **Inserindo Elementos no Início**"
      ]
    },
    {
      "cell_type": "code",
      "execution_count": 72,
      "metadata": {
        "id": "qbZ1NS9zul-7"
      },
      "outputs": [],
      "source": [
        "lista.inserir_no_inicio(\"C\")  # Lista: C\n",
        "lista.inserir_no_inicio(\"B\")  # Lista: B -> C\n",
        "lista.inserir_no_inicio(\"A\")  # Lista: A -> B -> C"
      ]
    },
    {
      "cell_type": "markdown",
      "metadata": {
        "id": "PBI7_4gXuqfQ"
      },
      "source": [
        "##### **Inserindo Elementos no Final**"
      ]
    },
    {
      "cell_type": "code",
      "execution_count": 73,
      "metadata": {
        "id": "TOIgvlnJusKC"
      },
      "outputs": [],
      "source": [
        "lista.inserir_no_final(\"D\")   # Lista: A -> B -> C -> D\n",
        "lista.inserir_no_final(\"E\")   # Lista: A -> B -> C -> D -> E"
      ]
    },
    {
      "cell_type": "markdown",
      "metadata": {
        "id": "OIBrXBHjuyFG"
      },
      "source": [
        "##### **Exibindo a Lista**"
      ]
    },
    {
      "cell_type": "code",
      "execution_count": 74,
      "metadata": {
        "colab": {
          "base_uri": "https://localhost:8080/"
        },
        "id": "M5i3Je95u5Wo",
        "outputId": "baf71e9c-b28b-4d4e-cda8-298724499b44"
      },
      "outputs": [
        {
          "output_type": "stream",
          "name": "stdout",
          "text": [
            "A -> B -> C -> D -> E -> None\n"
          ]
        }
      ],
      "source": [
        "print(lista)\n",
        "# Saída: A -> B -> C -> D -> E -> None"
      ]
    },
    {
      "cell_type": "markdown",
      "metadata": {
        "id": "i3GSkQKKu-k4"
      },
      "source": [
        "##### **Tamanho da Lista**"
      ]
    },
    {
      "cell_type": "code",
      "execution_count": 75,
      "metadata": {
        "colab": {
          "base_uri": "https://localhost:8080/"
        },
        "id": "XYExKtzyvZDK",
        "outputId": "a15bbdaf-8014-43f9-82f7-59119754aec3"
      },
      "outputs": [
        {
          "output_type": "stream",
          "name": "stdout",
          "text": [
            "5\n"
          ]
        }
      ],
      "source": [
        "print(len(lista))\n",
        "# Saída: 5"
      ]
    },
    {
      "cell_type": "markdown",
      "metadata": {
        "id": "8dR1E4ppvfHQ"
      },
      "source": [
        "##### **Acessando Elemento pelo Índice**"
      ]
    },
    {
      "cell_type": "code",
      "execution_count": 76,
      "metadata": {
        "colab": {
          "base_uri": "https://localhost:8080/"
        },
        "id": "lZYMGmQDvmXz",
        "outputId": "655e9804-210c-47f1-a41d-29a501fefd56"
      },
      "outputs": [
        {
          "output_type": "stream",
          "name": "stdout",
          "text": [
            "C\n"
          ]
        }
      ],
      "source": [
        "print(lista[2])\n",
        "# Saída: C"
      ]
    },
    {
      "cell_type": "markdown",
      "metadata": {
        "id": "uB2J245avrxH"
      },
      "source": [
        "##### **Iterando Sobre os Elementos**\n"
      ]
    },
    {
      "cell_type": "code",
      "execution_count": 77,
      "metadata": {
        "colab": {
          "base_uri": "https://localhost:8080/"
        },
        "id": "tw4nZ5bwvx32",
        "outputId": "7edcc76e-1af7-43ce-aca0-c4192f95296c"
      },
      "outputs": [
        {
          "output_type": "stream",
          "name": "stdout",
          "text": [
            "A | B | C | D | E | "
          ]
        }
      ],
      "source": [
        "for valor in lista:\n",
        "    print(valor, end=\" | \")\n",
        "# Saída: A | B | C | D | E |"
      ]
    },
    {
      "cell_type": "markdown",
      "metadata": {
        "id": "B8fUsHOt0Cfz"
      },
      "source": [
        "##### **Verificando se um Elemento Está na Lista (Usando `in`)**\n"
      ]
    },
    {
      "cell_type": "code",
      "execution_count": 78,
      "metadata": {
        "colab": {
          "base_uri": "https://localhost:8080/"
        },
        "id": "cFWyBpDv0I73",
        "outputId": "061f7683-e671-4f88-f297-f884a5b62abe"
      },
      "outputs": [
        {
          "output_type": "stream",
          "name": "stdout",
          "text": [
            "True\n",
            "False\n"
          ]
        }
      ],
      "source": [
        "print(\"C\" in lista)\n",
        "# Saída: True\n",
        "\n",
        "print(\"Z\" in lista)\n",
        "# Saída: False"
      ]
    },
    {
      "cell_type": "markdown",
      "metadata": {
        "id": "Ga966sx30XyS"
      },
      "source": [
        "## **Exercícios**"
      ]
    },
    {
      "cell_type": "code",
      "execution_count": 79,
      "metadata": {
        "colab": {
          "base_uri": "https://localhost:8080/",
          "height": 781
        },
        "id": "rzMxOzZu1IbU",
        "outputId": "ad002772-3c42-480a-b446-2d5a9804d4a2"
      },
      "outputs": [
        {
          "output_type": "stream",
          "name": "stdout",
          "text": [
            "Testando inserção de 10 elementos (média de 30 execuções)...\n",
            "  Lista Ligada: 0.000007s | List (Python): 0.000002s\n",
            "Testando inserção de 100 elementos (média de 30 execuções)...\n",
            "  Lista Ligada: 0.000051s | List (Python): 0.000012s\n",
            "Testando inserção de 1000 elementos (média de 30 execuções)...\n",
            "  Lista Ligada: 0.000545s | List (Python): 0.000180s\n",
            "Testando inserção de 10000 elementos (média de 30 execuções)...\n",
            "  Lista Ligada: 0.011685s | List (Python): 0.015094s\n",
            "Testando inserção de 100000 elementos (média de 30 execuções)...\n",
            "  Lista Ligada: 0.137270s | List (Python): 1.578841s\n"
          ]
        },
        {
          "output_type": "display_data",
          "data": {
            "text/plain": [
              "<Figure size 1000x600 with 1 Axes>"
            ],
            "image/png": "[encoded data removed]"
          },
          "metadata": {}
        }
      ],
      "source": [
        "import time\n",
        "import matplotlib.pyplot as plt\n",
        "\n",
        "# ---------- Função Genérica para Testes com Média de Execuções ----------\n",
        "\n",
        "def calcular_tempo_medio(func, qtd, execucoes=30):\n",
        "    tempos = []\n",
        "    for _ in range(execucoes):\n",
        "        inicio = time.perf_counter()\n",
        "        func(qtd)\n",
        "        fim = time.perf_counter()\n",
        "        tempos.append(fim - inicio)\n",
        "    return sum(tempos) / execucoes\n",
        "\n",
        "# ---------- Testes Específicos para Cada Estrutura ----------\n",
        "\n",
        "def teste_lista_ligada(qtd):\n",
        "    lista = ListaLigada()\n",
        "    for i in range(qtd):\n",
        "        lista.inserir_no_inicio(i)\n",
        "\n",
        "def teste_lista_python(qtd):\n",
        "    vetor = []\n",
        "    for i in range(qtd):\n",
        "        vetor.insert(0, i)  # Inserção no início de lista Python (ineficiente)\n",
        "\n",
        "# ---------- Execução dos Testes ----------\n",
        "\n",
        "tamanhos = [10**i for i in range(1, 6)]\n",
        "tempos_ligada = []\n",
        "tempos_python = []\n",
        "\n",
        "for tamanho in tamanhos:\n",
        "    print(f\"Testando inserção de {tamanho} elementos (média de 30 execuções)...\")\n",
        "\n",
        "    tempo_ll = calcular_tempo_medio(teste_lista_ligada, tamanho)\n",
        "    tempo_py = calcular_tempo_medio(teste_lista_python, tamanho)\n",
        "\n",
        "    print(f\"  Lista Ligada: {tempo_ll:.6f}s | List (Python): {tempo_py:.6f}s\")\n",
        "\n",
        "    tempos_ligada.append(tempo_ll)\n",
        "    tempos_python.append(tempo_py)\n",
        "\n",
        "# ---------- Gráfico ----------\n",
        "\n",
        "plt.figure(figsize=(10, 6))\n",
        "plt.plot(tamanhos, tempos_ligada, label='Lista Ligada', marker='o')\n",
        "plt.plot(tamanhos, tempos_python, label='List (Python)', marker='s')\n",
        "plt.xscale('log')\n",
        "plt.yscale('log')\n",
        "plt.xlabel('Quantidade de Elementos (escala log)')\n",
        "plt.ylabel('Tempo Médio (segundos, escala log)')\n",
        "plt.title('Comparação de Tempo Médio de Inserção no Início (30 execuções)')\n",
        "plt.legend()\n",
        "plt.tight_layout()\n",
        "plt.show()\n"
      ]
    }
  ],
  "metadata": {
    "colab": {
      "provenance": [],
      "include_colab_link": true
    },
    "kernelspec": {
      "display_name": "Python 3",
      "name": "python3"
    },
    "language_info": {
      "name": "python"
    }
  },
  "nbformat": 4,
  "nbformat_minor": 0
}