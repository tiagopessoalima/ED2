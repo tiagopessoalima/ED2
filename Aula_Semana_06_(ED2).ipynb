{
  "nbformat": 4,
  "nbformat_minor": 0,
  "metadata": {
    "colab": {
      "provenance": [],
      "authorship_tag": "ABX9TyPB2ohvBzL4xhPc8Kglo7Ed",
      "include_colab_link": true
    },
    "kernelspec": {
      "name": "python3",
      "display_name": "Python 3"
    },
    "language_info": {
      "name": "python"
    }
  },
  "cells": [
    {
      "cell_type": "markdown",
      "metadata": {
        "id": "view-in-github",
        "colab_type": "text"
      },
      "source": [
        "<a href=\"https://colab.research.google.com/github/tiagopessoalima/ED2/blob/main/Aula_Semana_06_(ED2).ipynb\" target=\"_parent\"><img src=\"https://colab.research.google.com/assets/colab-badge.svg\" alt=\"Open In Colab\"/></a>"
      ]
    },
    {
      "cell_type": "markdown",
      "source": [
        "# **Listas Circulares (Encadeadas)**"
      ],
      "metadata": {
        "id": "o7DCMKqtzf1E"
      }
    },
    {
      "cell_type": "markdown",
      "source": [
        "É uma estrutura de dados caracterizada pela configuração de ponteiros de seus nós. Distingue-se de listas ligadas lineares pelo fato de que o ponteiro do último nó não aponta para um valor nulo (`None`), mas sim referencia o primeiro nó da lista. Esta configuração estabelece um ciclo fechado, eliminando a demarcação explícita de fim de sequência."
      ],
      "metadata": {
        "id": "h5QgL7-lzqUf"
      }
    },
    {
      "cell_type": "markdown",
      "source": [
        "## **Definição Formal**"
      ],
      "metadata": {
        "id": "Jsh7BHA93ir5"
      }
    },
    {
      "cell_type": "markdown",
      "source": [
        "Seja uma lista composta por nós $N_0, N_1, \\ldots, N_{n-1}$, com estrutura circular, temos as seguintes variantes:\n",
        "\n",
        "1. **Lista Circular Simplesmente Ligada:**\n",
        "   Cada nó $N_i$ contém um ponteiro `próximo`, tal que:\n",
        "\n",
        "   $$\n",
        "   N_i.\\text{próximo} = N_{i+1}, \\quad \\text{para } 0 \\leq i < n - 1\n",
        "   $$\n",
        "\n",
        "   e o ponteiro `próximo` do último nó $N_{n-1}$ referencia o primeiro nó da lista:\n",
        "\n",
        "   $$\n",
        "   N_{n-1}.\\text{próximo} = N_0\n",
        "   $$\n",
        "\n",
        "2. **Lista Circular Duplamente Ligada:**\n",
        "   Cada nó $N_i$ contém dois ponteiros: `próximo` e `anterior`, tais que:\n",
        "\n",
        "   $$\n",
        "   N_i.\\text{próximo} = N_{i+1}, \\quad N_i.\\text{anterior} = N_{i-1}, \\quad \\text{para } 1 \\leq i \\leq n - 2\n",
        "   $$\n",
        "\n",
        "   com as extremidades conectadas circularmente:\n",
        "\n",
        "   $$\n",
        "   N_{n-1}.\\text{próximo} = N_0, \\quad N_0.\\text{anterior} = N_{n-1}\n",
        "   $$"
      ],
      "metadata": {
        "id": "LejkC8Eu3n0t"
      }
    },
    {
      "cell_type": "markdown",
      "source": [
        "## **O Bloco de Construção: O Nó Circular**"
      ],
      "metadata": {
        "id": "FbpziIUl9CBE"
      }
    },
    {
      "cell_type": "markdown",
      "source": [
        " Embora as listas ligadas circulares possam ser simplesmente ligadas (onde o nó possui apenas referência para o próximo elemento, e o último aponta para o primeiro), nossa atenção será direcionada para o nó conforme utilizado em uma lista duplamente ligada circular."
      ],
      "metadata": {
        "id": "Hce5nmut9dMF"
      }
    },
    {
      "cell_type": "code",
      "source": [
        "class NoCircular:\n",
        "    \"\"\"\n",
        "    Representa um único nó em uma lista duplamente ligada circular.\n",
        "    \"\"\"\n",
        "    def __init__(self, valor):\n",
        "        \"\"\"\n",
        "        Inicializa um novo nó circular.\n",
        "\n",
        "        Parâmetros:\n",
        "            valor: Dado a ser armazenado no nó.\n",
        "        \"\"\"\n",
        "        self.valor = valor          # Valor armazenado no nó\n",
        "        self.proximo = self         # Aponta inicialmente para si mesmo\n",
        "        self.anterior = self        # Aponta inicialmente para si mesmo\n",
        "\n",
        "    def __repr__(self):\n",
        "        \"\"\"\n",
        "        Representação textual do nó circular.\n",
        "        \"\"\"\n",
        "        return f\"NoCircular({self.valor})\""
      ],
      "metadata": {
        "id": "Pld55St_9DX5"
      },
      "execution_count": null,
      "outputs": []
    },
    {
      "cell_type": "markdown",
      "source": [
        "### **Exemplo de Criação e Encadeamento de Nós**"
      ],
      "metadata": {
        "id": "Ss9KG-Ca94aY"
      }
    },
    {
      "cell_type": "code",
      "source": [
        "# Criando quatro nós\n",
        "n1 = NoCircular(\"A\")\n",
        "n2 = NoCircular(\"B\")\n",
        "n3 = NoCircular(\"C\")\n",
        "n4 = NoCircular(\"D\")\n",
        "\n",
        "# Encadeando para frente\n",
        "n1.proximo = n2\n",
        "n2.proximo = n3\n",
        "n3.proximo = n4\n",
        "n4.proximo = n1  # Fecha o ciclo: último aponta para o primeiro\n",
        "\n",
        "# Encadeando para trás\n",
        "n2.anterior = n1\n",
        "n3.anterior = n2\n",
        "n4.anterior = n3\n",
        "n1.anterior = n4  # Fecha o ciclo: primeiro aponta para o último"
      ],
      "metadata": {
        "id": "cOR7EOxf-Gic"
      },
      "execution_count": null,
      "outputs": []
    },
    {
      "cell_type": "markdown",
      "source": [
        "### **Imprimindo e Navegando nos Nós**"
      ],
      "metadata": {
        "id": "g2OSj6Kk-6Fl"
      }
    },
    {
      "cell_type": "code",
      "source": [
        "# Navegação para frente\n",
        "print(n4)                                  # NoDuplo(D)\n",
        "print(n4.proximo)                          # NoDuplo(A)\n",
        "print(n4.proximo.proximo)                  # NoDuplo(B)\n",
        "print(n4.proximo.proximo.proximo)          # NoDuplo(C)\n",
        "print(n4.proximo.proximo.proximo.proximo)  # NoDuplo(D)"
      ],
      "metadata": {
        "colab": {
          "base_uri": "https://localhost:8080/"
        },
        "id": "kMZ32fzt-8_I",
        "outputId": "2a215fe2-e07d-4592-dda1-faece941daa1"
      },
      "execution_count": null,
      "outputs": [
        {
          "output_type": "stream",
          "name": "stdout",
          "text": [
            "NoCircular(D)\n",
            "NoCircular(A)\n",
            "NoCircular(B)\n",
            "NoCircular(C)\n",
            "NoCircular(D)\n"
          ]
        }
      ]
    },
    {
      "cell_type": "code",
      "source": [
        "# Navegação para trás\n",
        "print(n1)                                     # NoDuplo(A)\n",
        "print(n1.anterior)                            # NoDuplo(D)\n",
        "print(n1.anterior.anterior)                   # NoDuplo(C)\n",
        "print(n1.anterior.anterior.anterior)          # NoDuplo(B)\n",
        "print(n1.anterior.anterior.anterior.anterior) # NoDuplo(A)"
      ],
      "metadata": {
        "colab": {
          "base_uri": "https://localhost:8080/"
        },
        "id": "Bg1nbgno_quk",
        "outputId": "416dc27d-ec7b-4459-c59d-c5adc57f1e89"
      },
      "execution_count": null,
      "outputs": [
        {
          "output_type": "stream",
          "name": "stdout",
          "text": [
            "NoCircular(A)\n",
            "NoCircular(D)\n",
            "NoCircular(C)\n",
            "NoCircular(B)\n",
            "NoCircular(A)\n"
          ]
        }
      ]
    },
    {
      "cell_type": "markdown",
      "source": [
        "> Em uma lista ligada circular, nunca atingimos None. Ao tentar ir para anterior a partir do primeiro nó, a referência nos leva ao último nó. De forma similar, ao tentar ir para proximo a partir do último nó, a referência nos leva de volta ao primeiro nó.\n",
        "\n",
        "\n",
        "\n",
        "\n",
        "\n",
        "\n"
      ],
      "metadata": {
        "id": "QZ-mHB3EAUsx"
      }
    },
    {
      "cell_type": "markdown",
      "source": [
        "## **Visualização Conceitual**"
      ],
      "metadata": {
        "id": "Odfa3Kli7f-D"
      }
    },
    {
      "cell_type": "markdown",
      "source": [
        "```\n",
        "      Nó Início / Cabeça                                       Nó Último / Cauda\n",
        "      ┌───────────┐     ┌───────────┐     ┌───────────┐     ┌───────────┐\n",
        "┌─────│ anterior  │<----│ anterior  │<----│ anterior  │<----│ anterior  │<────┐ (Ponteiros Anterior)\n",
        "|     │     \"A\"   │     │     \"B\"   │     │     \"C\"   │     │     \"D\"   │     |\n",
        "|     │  proximo  │---->│  proximo  │---->│  proximo  │---->│  proximo  │─────|─┐ (Ponteiros Proximo)\n",
        "|     └───────────┘     └───────────┘     └───────────┘     └───────────┘     |   |\n",
        "|        ▲                                                                    |   |\n",
        "|        |                                                                    |   |\n",
        "|        | (Aponta para o Nó \"D\")                                             |   |\n",
        "|        |                                                                    |   |\n",
        "└────────|--------------------------------------------------------------------┘   |\n",
        "         └-----------------------------------------------------------------------┘ (Aponta para o Nó \"A\")\n",
        "```"
      ],
      "metadata": {
        "id": "QonPSIzv6V7n"
      }
    },
    {
      "cell_type": "markdown",
      "source": [
        "## **Classe Lista Circular**"
      ],
      "metadata": {
        "id": "M_9IP96TAhXS"
      }
    },
    {
      "cell_type": "markdown",
      "source": [
        "Será implementada uma estrutura que mantém uma única referência ao nó `inicio` (head), sendo o nó `fim` (tail) acessível por meio do ponteiro `inicio.anterior`. Devido à conectividade bidirecional dos nós e à característica circular da lista, operações de inserção e remoção em ambas as extremidades possuem complexidade **O(1)**. Essa eficiência contrasta com a das listas simplesmente ligadas, nas quais tais operações podem requerer **tempo O(n)**, especialmente na extremidade final, devido à necessidade de percorrer os nós."
      ],
      "metadata": {
        "id": "NS0UC5fjAj01"
      }
    },
    {
      "cell_type": "markdown",
      "source": [
        "### **Integração com a Sintaxe do Python**"
      ],
      "metadata": {
        "id": "2O1qwSmLuNx8"
      }
    },
    {
      "cell_type": "markdown",
      "source": [
        "A classe também implementa métodos especiais (*dunder methods*) que viabilizam sua integração com as operações nativas da linguagem Python, como `len()` (através de `__len__`), iteração com `for` (`__iter__` e `__next__`), acesso indexado (`__getitem__`), verificação de pertencimento (`__contains__`) e representação textual (`__str__` e `__repr__`). Essa sobrecarga de operadores torna a estrutura compatível com o protocolo de coleções do Python, promovendo uma interface mais idiomática e alinhada às expectativas da linguagem.\n"
      ],
      "metadata": {
        "id": "2nArbgMDuPA_"
      }
    },
    {
      "cell_type": "markdown",
      "source": [
        "### **Implementação**"
      ],
      "metadata": {
        "id": "AcmnA2F8uc72"
      }
    },
    {
      "cell_type": "code",
      "source": [
        "class NoCircular:\n",
        "    def __init__(self, valor=None):\n",
        "        self.valor = valor\n",
        "        self.proximo = self  # Aponta para ele mesmo (sentinela no caso de lista circular)\n",
        "        self.anterior = self  # Aponta para ele mesmo (sentinela no caso de lista circular)\n",
        "\n",
        "class ListaCircularDupla:\n",
        "    \"\"\"\n",
        "    Implementa uma lista duplamente ligada circular com sentinela.\n",
        "    \"\"\"\n",
        "\n",
        "    def __init__(self):\n",
        "        \"\"\"\n",
        "        Inicializa a lista como vazia.\n",
        "        \"\"\"\n",
        "        self.sentinela = NoCircular()  # Nó sentinela, sem valor\n",
        "        self.sentinela.proximo = self.sentinela\n",
        "        self.sentinela.anterior = self.sentinela\n",
        "        self._tamanho = 0\n",
        "\n",
        "    def limpar(self) -> None:\n",
        "        \"\"\"\n",
        "        Remove todos os elementos da lista.\n",
        "        \"\"\"\n",
        "        self.sentinela.proximo = self.sentinela\n",
        "        self.sentinela.anterior = self.sentinela\n",
        "        self._tamanho = 0\n",
        "\n",
        "    def esta_vazia(self) -> bool:\n",
        "        \"\"\"\n",
        "        Verifica se a lista está vazia.\n",
        "        \"\"\"\n",
        "        return self._tamanho == 0\n",
        "\n",
        "    def _no_em(self, posicao: int) -> NoCircular:\n",
        "        \"\"\"\n",
        "        Retorna o nó da posição especificada, utilizando busca circular eficiente.\n",
        "        (Método interno)\n",
        "        \"\"\"\n",
        "        if not 0 <= posicao < self._tamanho:\n",
        "            raise IndexError(\"Índice fora do intervalo.\")\n",
        "\n",
        "        no = self.sentinela.proximo\n",
        "        if posicao < self._tamanho // 2:\n",
        "            for _ in range(posicao):\n",
        "                no = no.proximo\n",
        "        else:\n",
        "            no = self.sentinela\n",
        "            for _ in range(self._tamanho - posicao):\n",
        "                no = no.anterior\n",
        "        return no\n",
        "\n",
        "    def inserir_no_inicio(self, valor: any) -> None:\n",
        "        \"\"\"\n",
        "        Insere um novo elemento no início da lista. O(1)\n",
        "        \"\"\"\n",
        "        novo_no = NoCircular(valor)\n",
        "        if self.esta_vazia():\n",
        "            self.sentinela.proximo = novo_no\n",
        "            self.sentinela.anterior = novo_no\n",
        "            novo_no.proximo = self.sentinela\n",
        "            novo_no.anterior = self.sentinela\n",
        "        else:\n",
        "            primeiro = self.sentinela.proximo\n",
        "            self.sentinela.proximo = novo_no\n",
        "            novo_no.proximo = primeiro\n",
        "            novo_no.anterior = self.sentinela\n",
        "            primeiro.anterior = novo_no\n",
        "        self._tamanho += 1\n",
        "\n",
        "    def inserir_no_final(self, valor: any) -> None:\n",
        "        \"\"\"\n",
        "        Insere um novo elemento no final da lista. O(1)\n",
        "        \"\"\"\n",
        "        if self.esta_vazia():\n",
        "            self.inserir_no_inicio(valor)\n",
        "        else:\n",
        "            novo_no = NoCircular(valor)\n",
        "            ultimo = self.sentinela.anterior\n",
        "            ultimo.proximo = novo_no\n",
        "            novo_no.anterior = ultimo\n",
        "            novo_no.proximo = self.sentinela\n",
        "            self.sentinela.anterior = novo_no\n",
        "        self._tamanho += 1\n",
        "\n",
        "    def remover_do_inicio(self) -> any:\n",
        "        \"\"\"\n",
        "        Remove e retorna o primeiro elemento da lista. O(1)\n",
        "        \"\"\"\n",
        "        if self.esta_vazia():\n",
        "            raise IndexError(\"A lista está vazia.\")\n",
        "\n",
        "        primeiro = self.sentinela.proximo\n",
        "        valor_removido = primeiro.valor\n",
        "        if self._tamanho == 1:\n",
        "            self.sentinela.proximo = self.sentinela\n",
        "            self.sentinela.anterior = self.sentinela\n",
        "        else:\n",
        "            self.sentinela.proximo = primeiro.proximo\n",
        "            primeiro.proximo.anterior = self.sentinela\n",
        "        self._tamanho -= 1\n",
        "        return valor_removido\n",
        "\n",
        "    def remover_do_final(self) -> any:\n",
        "        \"\"\"\n",
        "        Remove e retorna o último elemento da lista. O(1)\n",
        "        \"\"\"\n",
        "        if self.esta_vazia():\n",
        "            raise IndexError(\"A lista está vazia.\")\n",
        "\n",
        "        ultimo = self.sentinela.anterior\n",
        "        valor_removido = ultimo.valor\n",
        "        if self._tamanho == 1:\n",
        "            self.sentinela.proximo = self.sentinela\n",
        "            self.sentinela.anterior = self.sentinela\n",
        "        else:\n",
        "            self.sentinela.anterior = ultimo.anterior\n",
        "            ultimo.anterior.proximo = self.sentinela\n",
        "        self._tamanho -= 1\n",
        "        return valor_removido\n",
        "\n",
        "    def __len__(self) -> int:\n",
        "        \"\"\"\n",
        "        Retorna o número de elementos da lista.\n",
        "        \"\"\"\n",
        "        return self._tamanho\n",
        "\n",
        "    def __iter__(self):\n",
        "        \"\"\"\n",
        "        Permite iteração direta sobre a lista com `for`.\n",
        "        \"\"\"\n",
        "        atual = self.sentinela.proximo\n",
        "        for _ in range(self._tamanho):\n",
        "            yield atual.valor\n",
        "            atual = atual.proximo\n",
        "\n",
        "    def __getitem__(self, posicao: int) -> any:\n",
        "        \"\"\"\n",
        "        Permite acesso por índice, como em listas comuns.\n",
        "        \"\"\"\n",
        "        return self._no_em(posicao).valor\n",
        "\n",
        "    def __contains__(self, valor: any) -> bool:\n",
        "        \"\"\"\n",
        "        Verifica se um valor está presente na lista.\n",
        "        \"\"\"\n",
        "        return any(elemento == valor for elemento in self)\n",
        "\n",
        "    def __repr__(self) -> str:\n",
        "        \"\"\"\n",
        "        Representação textual da lista.\n",
        "        \"\"\"\n",
        "        elementos = [str(valor) for valor in self]\n",
        "        return \" <-> \".join(elementos) + \" (circular)\"\n"
      ],
      "metadata": {
        "id": "tEUKnL1xusZm"
      },
      "execution_count": null,
      "outputs": []
    },
    {
      "cell_type": "markdown",
      "source": [
        "#### **Análise de Complexidade**"
      ],
      "metadata": {
        "id": "F7TJLR5ivVWE"
      }
    },
    {
      "cell_type": "markdown",
      "source": [
        "O uso de um nó sentinela com ligações circulares, junto aos ponteiros anterior e proximo em cada nó, permite otimizar operações nas extremidades e simplifica a lógica da lista."
      ],
      "metadata": {
        "id": "HaTyzaicwHq_"
      }
    },
    {
      "cell_type": "markdown",
      "source": [
        "### Métodos de uma Lista Duplamente Encadeada Circular\n",
        "\n",
        "| Método              | Finalidade                                                      | Complexidade | Notas                                                                 |\n",
        "|---------------------|------------------------------------------------------------------|--------------|-----------------------------------------------------------------------|\n",
        "| `__init__`          | Inicializa a lista vazia                                         | O(1)         | Nó sentinela pode ser usado para facilitar circularidade              |\n",
        "| `limpar`            | Remove todos os elementos                                        | O(1)         | Apenas reseta ponteiros no nó sentinela                               |\n",
        "| `esta_vazia`        | Verifica se a lista está vazia                                   | O(1)         | Verifica se o nó sentinela aponta para ele mesmo                      |\n",
        "| `__len__`           | Retorna o número de elementos (`len(lista)`)                     | O(1)         | Mantém contador interno                                               |\n",
        "| `__contains__`      | Verifica se um valor está na lista (`valor in lista`)            | O(n)         | Percorre nós até voltar ao sentinela                                  |\n",
        "| `__getitem__`       | Acessa um elemento por índice (`lista[i]`)                       | O(n)         | Pode iniciar do início ou fim (circularidade otimiza wraparound)      |\n",
        "| `__setitem__`       | Modifica um elemento por índice (`lista[i] = valor`)             | O(n)         | Mesmo acesso otimizado que o `__getitem__`                            |\n",
        "| `__iter__`          | Permite iteração `for item in lista` (início → fim)              | O(n)         | Itera até encontrar o sentinela novamente                             |\n",
        "| `__reversed__`      | Permite iteração `for item in reversed(lista)` (fim → início)    | O(n)         | Vantagem da dupla ligação e circularidade                             |\n",
        "| `__str__`           | Representação legível (`print(lista)`)                           | O(n)         | Percorre até retornar ao início                                       |\n",
        "| `__repr__`          | Representação técnica                                             | O(1)         | Apenas nome e tamanho                                                 |\n",
        "| `inserir_no_inicio` | Insere no início da lista                                        | O(1)         | Entre sentinela e primeiro elemento                                   |\n",
        "| `inserir_no_final`  | Insere no final da lista                                         | O(1)         | Entre último elemento e sentinela                                     |\n",
        "| `inserir_em`        | Insere em posição específica                                     | O(n)         | Pode usar `_no_em` para acesso otimizado                              |\n",
        "| `remover_do_inicio` | Remove e retorna o primeiro elemento                             | O(1)         | Remove o nó após o sentinela                                          |\n",
        "| `remover_do_final`  | Remove e retorna o último elemento                               | O(1)         | Remove o nó antes do sentinela                                        |\n",
        "| `remover_em`        | Remove e retorna o elemento de posição específica                | O(n)         | Usa `_no_em` para encontrar o nó                                      |\n",
        "| `_no_em` (interno)  | Retorna o nó da posição (otimizado)                              | O(n)         | Usa direção com menor distância (início/fim)                          |\n",
        "| `posicao_de`        | Encontra índice do valor                                         | O(n)         | Para quando encontra valor ou retorna ao sentinela                    |\n"
      ],
      "metadata": {
        "id": "qQ9vkh7qvWZA"
      }
    },
    {
      "cell_type": "markdown",
      "source": [
        "#### **Exemplos de Uso**"
      ],
      "metadata": {
        "id": "TudxMNr4wRHR"
      }
    },
    {
      "cell_type": "markdown",
      "source": [
        "A seguir, demonstramos como utilizar os principais métodos da classe ListaCircularDupla:"
      ],
      "metadata": {
        "id": "h3oGlDnEwZHn"
      }
    },
    {
      "cell_type": "markdown",
      "source": [
        "##### **Criando uma Lista**"
      ],
      "metadata": {
        "id": "JbNF3GNMwkhT"
      }
    },
    {
      "cell_type": "code",
      "source": [
        "lista_circular = ListaCircularDupla()"
      ],
      "metadata": {
        "id": "fSosbZoJwTOZ"
      },
      "execution_count": null,
      "outputs": []
    },
    {
      "cell_type": "markdown",
      "source": [
        "##### **Verificando se a Lista Está Vazia**"
      ],
      "metadata": {
        "id": "MmmcUjXRwryH"
      }
    },
    {
      "cell_type": "code",
      "source": [
        "print(lista_circular.esta_vazia()) # Saída: True"
      ],
      "metadata": {
        "colab": {
          "base_uri": "https://localhost:8080/"
        },
        "id": "UxBhIvmgwr73",
        "outputId": "79000c7a-cf40-4b65-ab6a-d12e1447a160"
      },
      "execution_count": null,
      "outputs": [
        {
          "output_type": "stream",
          "name": "stdout",
          "text": [
            "True\n"
          ]
        }
      ]
    },
    {
      "cell_type": "markdown",
      "source": [
        "##### **Inserindo Elementos no Início**"
      ],
      "metadata": {
        "id": "XATkgj9jw-ns"
      }
    },
    {
      "cell_type": "code",
      "source": [
        "lista_circular.inserir_no_inicio(\"C\")  # Lista: C (circular)\n",
        "lista_circular.inserir_no_inicio(\"B\")  # Lista: B <-> C (circular)\n",
        "lista_circular.inserir_no_inicio(\"A\")  # Lista: A <-> B <-> C (circular)"
      ],
      "metadata": {
        "id": "jXKg10DNw-zt"
      },
      "execution_count": null,
      "outputs": []
    },
    {
      "cell_type": "markdown",
      "source": [
        "##### **Inserindo Elementos no Final**"
      ],
      "metadata": {
        "id": "QInuBne6xYP7"
      }
    },
    {
      "cell_type": "code",
      "source": [
        "lista_circular.inserir_no_final(\"D\")   # Lista: A <-> B <-> C <-> D (circular)\n",
        "lista_circular.inserir_no_final(\"E\")   # Lista: A <-> B <-> C <-> D <-> E (circular)"
      ],
      "metadata": {
        "id": "BX8xLRGTxbMj"
      },
      "execution_count": null,
      "outputs": []
    },
    {
      "cell_type": "markdown",
      "source": [
        "##### **Exibindo a Lista**"
      ],
      "metadata": {
        "id": "gi2C2H8oxozf"
      }
    },
    {
      "cell_type": "code",
      "source": [
        "print(lista_circular) # Saída: A <-> B <-> C <-> D <-> E (circular)"
      ],
      "metadata": {
        "colab": {
          "base_uri": "https://localhost:8080/"
        },
        "id": "S6hDkjLuxpRF",
        "outputId": "27207ba2-0835-4243-e6fa-4c6dc2062674"
      },
      "execution_count": null,
      "outputs": [
        {
          "output_type": "stream",
          "name": "stdout",
          "text": [
            "A <-> B <-> C <-> D <-> E (circular)\n"
          ]
        }
      ]
    },
    {
      "cell_type": "markdown",
      "source": [
        "##### **Removendo Elementos no Início**"
      ],
      "metadata": {
        "id": "2TfJUj6_xxQY"
      }
    },
    {
      "cell_type": "code",
      "source": [
        "lista_circular.remover_do_inicio() # Saída: A. Lista: B <-> C <-> D <-> E (circular)"
      ],
      "metadata": {
        "colab": {
          "base_uri": "https://localhost:8080/",
          "height": 35
        },
        "id": "GwJwFh_pxx54",
        "outputId": "7c7dab6e-867f-4b55-8e04-f253069b3a8c"
      },
      "execution_count": null,
      "outputs": [
        {
          "output_type": "execute_result",
          "data": {
            "text/plain": [
              "'A'"
            ],
            "application/vnd.google.colaboratory.intrinsic+json": {
              "type": "string"
            }
          },
          "metadata": {},
          "execution_count": 11
        }
      ]
    },
    {
      "cell_type": "markdown",
      "source": [
        "##### **Removendo Elementos no Fim**"
      ],
      "metadata": {
        "id": "B6uE-0J5x7kY"
      }
    },
    {
      "cell_type": "code",
      "source": [
        "lista_circular.remover_do_final() # Saída: E. Lista: B <-> C <-> D (circular)"
      ],
      "metadata": {
        "colab": {
          "base_uri": "https://localhost:8080/",
          "height": 35
        },
        "id": "p0lA1lQGx8ZG",
        "outputId": "f34afd09-7209-409c-dc33-1c2d4cd30109"
      },
      "execution_count": null,
      "outputs": [
        {
          "output_type": "execute_result",
          "data": {
            "text/plain": [
              "'E'"
            ],
            "application/vnd.google.colaboratory.intrinsic+json": {
              "type": "string"
            }
          },
          "metadata": {},
          "execution_count": 12
        }
      ]
    },
    {
      "cell_type": "markdown",
      "source": [
        "##### **Tamanho da Lista**"
      ],
      "metadata": {
        "id": "ifOzxK1ayKoh"
      }
    },
    {
      "cell_type": "code",
      "source": [
        "print(len(lista_circular)) # Saída: 3"
      ],
      "metadata": {
        "colab": {
          "base_uri": "https://localhost:8080/"
        },
        "id": "zPEpiJT3yLQV",
        "outputId": "778e50fd-0df5-428e-ea2c-8cb8177d9ebb"
      },
      "execution_count": null,
      "outputs": [
        {
          "output_type": "stream",
          "name": "stdout",
          "text": [
            "3\n"
          ]
        }
      ]
    },
    {
      "cell_type": "markdown",
      "source": [
        "##### **Acessando Elemento pelo Índice**"
      ],
      "metadata": {
        "id": "GvYH8m6nySXt"
      }
    },
    {
      "cell_type": "code",
      "source": [
        "print(lista_circular[2]) # Saída: D"
      ],
      "metadata": {
        "colab": {
          "base_uri": "https://localhost:8080/"
        },
        "id": "uLKLuODXyS8C",
        "outputId": "dc91d159-01aa-4483-f205-4b34ceec8ac1"
      },
      "execution_count": null,
      "outputs": [
        {
          "output_type": "stream",
          "name": "stdout",
          "text": [
            "D\n"
          ]
        }
      ]
    },
    {
      "cell_type": "markdown",
      "source": [
        "##### **Iterando Sobre os Elementos**"
      ],
      "metadata": {
        "id": "OvWFWv1CyYMh"
      }
    },
    {
      "cell_type": "code",
      "source": [
        "for valor in lista_circular: # Saída: B | C | D |\n",
        "    print(valor, end=\" | \")"
      ],
      "metadata": {
        "colab": {
          "base_uri": "https://localhost:8080/"
        },
        "id": "G5wOMKeAyZJT",
        "outputId": "d3bdd955-548c-4f76-89dd-6ecea3a5bb57"
      },
      "execution_count": null,
      "outputs": [
        {
          "output_type": "stream",
          "name": "stdout",
          "text": [
            "B | C | D | "
          ]
        }
      ]
    },
    {
      "cell_type": "markdown",
      "source": [
        "##### **Verificando se um Elemento Está na Lista (Usando `in`)**"
      ],
      "metadata": {
        "id": "UbI9GTB-ylJg"
      }
    },
    {
      "cell_type": "code",
      "source": [
        "print(\"C\" in lista_circular) # Saída: True\n",
        "\n",
        "print(\"Z\" in lista_circular) # Saída: False"
      ],
      "metadata": {
        "colab": {
          "base_uri": "https://localhost:8080/"
        },
        "id": "VI70TZecymLQ",
        "outputId": "81b0c23e-22b9-473a-ce03-a5d60b340dd7"
      },
      "execution_count": null,
      "outputs": [
        {
          "output_type": "stream",
          "name": "stdout",
          "text": [
            "True\n",
            "False\n"
          ]
        }
      ]
    },
    {
      "cell_type": "markdown",
      "source": [
        "## **Exercícios**"
      ],
      "metadata": {
        "id": "CcsVABDIzJTP"
      }
    },
    {
      "cell_type": "markdown",
      "source": [
        "1. Crie um método `rotacionar(direcao, n)` que rotacione a lista circular `n` vezes para a esquerda ou para a direita."
      ],
      "metadata": {
        "id": "cmsKrG_9xvXS"
      }
    },
    {
      "cell_type": "code",
      "source": [
        "lista = ListaCircularDupla()\n",
        "for i in [10, 20, 30, 40]:\n",
        "  lista.inserir_no_final(i)\n",
        "lista.rotacionar('dir', 1)\n",
        "# Resultado: [40, 10, 20, 30]\n",
        "lista.rotacionar('esq', 2)\n",
        "# Resultado: [20, 30, 40, 10]"
      ],
      "metadata": {
        "id": "b2c3XH4PyHwf"
      },
      "execution_count": null,
      "outputs": []
    },
    {
      "cell_type": "markdown",
      "source": [
        "2. Crie um método `inverter()` que inverta a ordem dos elementos na lista circular em O(n).\n",
        "\n"
      ],
      "metadata": {
        "id": "WtDQmPD0yexy"
      }
    },
    {
      "cell_type": "code",
      "source": [
        "lista = ListaCircularDupla()\n",
        "for i in [1, 2, 3, 4]:\n",
        "  lista.inserir_no_final(i)\n",
        "lista.inverter()\n",
        "# Resultado: [4, 3, 2, 1]"
      ],
      "metadata": {
        "id": "oEBQquonytkV"
      },
      "execution_count": null,
      "outputs": []
    },
    {
      "cell_type": "markdown",
      "source": [
        "3. Crie `remover_todos(valor)`, que percorre a lista e remove todas as ocorrências do `valor` informado."
      ],
      "metadata": {
        "id": "ibn7hJNsyydl"
      }
    },
    {
      "cell_type": "code",
      "source": [
        "lista = ListaCircularDupla()\n",
        "for i in [2, 3, 2, 4, 2]:\n",
        "  lista.inserir_no_final(i)\n",
        "lista.remover_todos(2)\n",
        "# Resultado: [3, 4]"
      ],
      "metadata": {
        "id": "WMt9LUTxy8qj"
      },
      "execution_count": null,
      "outputs": []
    },
    {
      "cell_type": "markdown",
      "source": [
        "4. Crie um método `intercalar(outra_lista)` que intercale a lista atual com outra lista circular."
      ],
      "metadata": {
        "id": "h1NnfiPyzBlE"
      }
    },
    {
      "cell_type": "code",
      "source": [
        "l1 = ListaCircularDupla()\n",
        "l2 = ListaCircularDupla()\n",
        "for i in [1, 3, 5]:\n",
        "  l1.inserir_no_final(i)\n",
        "for i in [2, 4, 6]:\n",
        "  l2.inserir_no_final(i)\n",
        "l1.intercalar(l2)\n",
        "# Resultado: [1, 2, 3, 4, 5, 6]"
      ],
      "metadata": {
        "id": "MbN_rSjvzJWO"
      },
      "execution_count": null,
      "outputs": []
    },
    {
      "cell_type": "markdown",
      "source": [
        "5. Crie um método `dividir_em_metade()` que retorne duas novas listas circulares com a primeira e segunda metade da original."
      ],
      "metadata": {
        "id": "-pRjACThzPK3"
      }
    },
    {
      "cell_type": "code",
      "source": [
        "lista = ListaCircularDupla()\n",
        "for i in [10, 20, 30, 40]:\n",
        "  lista.inserir_no_final(i)\n",
        "metade1, metade2 = lista.dividir_em_metade()\n",
        "# metade1: [10, 20]\n",
        "# metade2: [30, 40]"
      ],
      "metadata": {
        "id": "o02SVbcnzSju"
      },
      "execution_count": null,
      "outputs": []
    },
    {
      "cell_type": "markdown",
      "source": [
        "6. Crie um método `remover_intervalo(inicio, fim)` que remova os nós entre as posições `inicio` e `fim` (inclusive)."
      ],
      "metadata": {
        "id": "WxiMjRrhzX85"
      }
    },
    {
      "cell_type": "code",
      "source": [
        "lista = ListaCircularDupla()\n",
        "for i in [10, 20, 30, 40, 50]:\n",
        "  lista.inserir_no_final(i)\n",
        "lista.remover_intervalo(1, 3)\n",
        "# Resultado: [10, 50]"
      ],
      "metadata": {
        "id": "XC5jdJ3H0Kao"
      },
      "execution_count": null,
      "outputs": []
    },
    {
      "cell_type": "markdown",
      "source": [
        "7. Crie um método `duplicar_valores()` que insere uma cópia de cada elemento logo após ele mesmo."
      ],
      "metadata": {
        "id": "y4vRP1Jh0I3f"
      }
    },
    {
      "cell_type": "code",
      "source": [
        "lista = ListaCircularDupla()\n",
        "for i in [1, 2, 3]:\n",
        "  lista.inserir_no_final(i)\n",
        "lista.duplicar_valores()\n",
        "# Resultado: [1, 1, 2, 2, 3, 3]"
      ],
      "metadata": {
        "id": "1O8Y6psF0Wk2"
      },
      "execution_count": null,
      "outputs": []
    },
    {
      "cell_type": "markdown",
      "source": [
        "8. Crie `ordenar()` para ordenar a lista circular in-place, usando qualquer algoritmo de ordenação (ex: inserção, merge).\n",
        "\n"
      ],
      "metadata": {
        "id": "iMxnIvxH0YTG"
      }
    },
    {
      "cell_type": "code",
      "source": [
        "lista = ListaCircularDupla()\n",
        "for i in [5, 2, 4, 1, 3]: lista.inserir_no_final(i)\n",
        "lista.ordenar()\n",
        "# Resultado: [1, 2, 3, 4, 5]"
      ],
      "metadata": {
        "id": "3t06U25B0hRi"
      },
      "execution_count": null,
      "outputs": []
    },
    {
      "cell_type": "markdown",
      "source": [
        "9. Crie `concatenar(outra_lista)` que junte outra lista circular ao final da atual, sem quebrar a circularidade.\n",
        "\n"
      ],
      "metadata": {
        "id": "iqCvoVik0mhh"
      }
    },
    {
      "cell_type": "code",
      "source": [
        "l1 = ListaCircularDupla()\n",
        "l2 = ListaCircularDupla()\n",
        "for i in [1, 2, 3]:\n",
        "  l1.inserir_no_final(i)\n",
        "for i in [4, 5]:\n",
        "  l2.inserir_no_final(i)\n",
        "l1.concatenar(l2)\n",
        "# l1: [1, 2, 3, 4, 5]\n",
        "# l2: [] (vazia)"
      ],
      "metadata": {
        "id": "L9rFZWGa0t1V"
      },
      "execution_count": null,
      "outputs": []
    },
    {
      "cell_type": "markdown",
      "source": [
        "10. Crie um método `eliminar_n_em_n(n)` que implemente uma variação do problema de Josephus: a cada n saltos, elimina o próximo nó até restar um só.\n",
        "\n"
      ],
      "metadata": {
        "id": "btllRSMu0SiD"
      }
    },
    {
      "cell_type": "code",
      "source": [
        "lista = ListaCircularDupla()\n",
        "for i in range(1, 6):\n",
        "  lista.inserir_no_final(i)\n",
        "sobrevivente = lista.eliminar_n_em_n(2)\n",
        "# Eliminação: [2, 4, 1, 5]\n",
        "# Resultado final: 3"
      ],
      "metadata": {
        "id": "fHqS_4HS03dm"
      },
      "execution_count": null,
      "outputs": []
    }
  ]
}