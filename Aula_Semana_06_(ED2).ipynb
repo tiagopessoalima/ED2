{
  "nbformat": 4,
  "nbformat_minor": 0,
  "metadata": {
    "colab": {
      "provenance": [],
      "authorship_tag": "ABX9TyOxKwYmZ7/5tjEw/Zs9Tphc",
      "include_colab_link": true
    },
    "kernelspec": {
      "name": "python3",
      "display_name": "Python 3"
    },
    "language_info": {
      "name": "python"
    }
  },
  "cells": [
    {
      "cell_type": "markdown",
      "metadata": {
        "id": "view-in-github",
        "colab_type": "text"
      },
      "source": [
        "<a href=\"https://colab.research.google.com/github/tiagopessoalima/ED2/blob/main/Aula_Semana_06_(ED2).ipynb\" target=\"_parent\"><img src=\"https://colab.research.google.com/assets/colab-badge.svg\" alt=\"Open In Colab\"/></a>"
      ]
    },
    {
      "cell_type": "markdown",
      "source": [
        "# **Listas Circulares (Encadeadas)**"
      ],
      "metadata": {
        "id": "o7DCMKqtzf1E"
      }
    },
    {
      "cell_type": "markdown",
      "source": [
        "É uma estrutura de dados caracterizada pela configuração de ponteiros de seus nós. Distingue-se de listas ligadas lineares pelo fato de que o ponteiro do último nó (nó `fim` ou `tail`) não aponta para um valor nulo (NULL/None), mas sim referencia o primeiro nó (nó `inicio` ou head) da lista. Esta configuração estabelece um ciclo fechado, eliminando a demarcação explícita de fim de sequência.\n",
        "\n",
        "Estruturalmente, podem ser:\n",
        "\n",
        "1.  **Simplesmente Ligada:** Cada nó $N_i$ possui um ponteiro `próximo` referenciando $N_{i+1}$. O ponteiro `próximo` do nó terminal $N_{fim}$ referencia $N_{inicio}$.\n",
        "2.  **Duplamente Ligada:** Cada nó $N_i$ possui ponteiros `próximo` (referenciando $N_{i+1}$) e `anterior` (referenciando $N_{i-1}$). O ponteiro `próximo` do nó terminal $N_{fim}$ referencia $N_{inicio}$, e o ponteiro `anterior` do nó inicial $N_{inicio}$ referencia $N_{fim}$.\n",
        "\n",
        "A ausência de um terminador nulo implica que operações de travessia e manipulação requerem um mecanismo explícito para identificar o ponto de início e determinar a condição de parada, geralmente comparando o nó atual com uma referência conhecida, como o nó *inicio*.\n"
      ],
      "metadata": {
        "id": "h5QgL7-lzqUf"
      }
    },
    {
      "cell_type": "markdown",
      "source": [
        "## **O Bloco de Construção: O Nó Duplo**"
      ],
      "metadata": {
        "id": "FbpziIUl9CBE"
      }
    },
    {
      "cell_type": "markdown",
      "source": [
        " Embora as listas ligadas circulares possam ser simplesmente ligadas (onde o nó possui apenas referência para o próximo elemento, e o último aponta para o primeiro), nossa atenção será direcionada para o nó conforme utilizado em uma lista duplamente ligada circular."
      ],
      "metadata": {
        "id": "Hce5nmut9dMF"
      }
    },
    {
      "cell_type": "code",
      "source": [
        "class NoDuplo:\n",
        "    \"\"\"\n",
        "    Representa um único nó em uma lista duplamente encadeada.\n",
        "    \"\"\"\n",
        "    def __init__(self, valor):\n",
        "        \"\"\"\n",
        "        Inicializa um novo nó duplo.\n",
        "\n",
        "        Parâmetros:\n",
        "            valor: Dado a ser armazenado no nó.\n",
        "        \"\"\"\n",
        "        self.valor = valor      # Valor armazenado no nó\n",
        "        self.proximo = None     # Referência para o próximo nó (inicialmente nula)\n",
        "        self.anterior = None    # Referência para o nó anterior (inicialmente nula)\n",
        "\n",
        "    def __repr__(self):\n",
        "        \"\"\"\n",
        "        Representação textual do nó duplo.\n",
        "        \"\"\"\n",
        "        return f\"NoDuplo({self.valor})\""
      ],
      "metadata": {
        "id": "Pld55St_9DX5"
      },
      "execution_count": null,
      "outputs": []
    },
    {
      "cell_type": "markdown",
      "source": [
        "### **Exemplo de Criação e Encadeamento de Nós**"
      ],
      "metadata": {
        "id": "Ss9KG-Ca94aY"
      }
    },
    {
      "cell_type": "code",
      "source": [
        "# Criando quatro nós\n",
        "n1 = NoDuplo(\"A\")\n",
        "n2 = NoDuplo(\"B\")\n",
        "n3 = NoDuplo(\"C\")\n",
        "n4 = NoDuplo(\"D\")\n",
        "\n",
        "# Encadeando para frente\n",
        "n1.proximo = n2\n",
        "n2.proximo = n3\n",
        "n3.proximo = n4\n",
        "n4.proximo = n1  # Fecha o ciclo: último aponta para o primeiro\n",
        "\n",
        "# Encadeando para trás\n",
        "n2.anterior = n1\n",
        "n3.anterior = n2\n",
        "n4.anterior = n3\n",
        "n1.anterior = n4  # Fecha o ciclo: primeiro aponta para o último"
      ],
      "metadata": {
        "id": "cOR7EOxf-Gic"
      },
      "execution_count": null,
      "outputs": []
    },
    {
      "cell_type": "markdown",
      "source": [
        "### **Imprimindo e Navegando nos Nós**"
      ],
      "metadata": {
        "id": "g2OSj6Kk-6Fl"
      }
    },
    {
      "cell_type": "code",
      "source": [
        "# Navegação para frente\n",
        "print(n4)                                  # NoDuplo(D)\n",
        "print(n4.proximo)                          # NoDuplo(A)\n",
        "print(n4.proximo.proximo)                  # NoDuplo(B)\n",
        "print(n4.proximo.proximo.proximo)          # NoDuplo(C)\n",
        "print(n4.proximo.proximo.proximo.proximo)  # NoDuplo(D)"
      ],
      "metadata": {
        "colab": {
          "base_uri": "https://localhost:8080/"
        },
        "id": "kMZ32fzt-8_I",
        "outputId": "774abff9-798a-4ae1-872a-cc5ec956e85c"
      },
      "execution_count": null,
      "outputs": [
        {
          "output_type": "stream",
          "name": "stdout",
          "text": [
            "NoDuplo(D)\n",
            "NoDuplo(A)\n",
            "NoDuplo(B)\n",
            "NoDuplo(C)\n",
            "NoDuplo(D)\n"
          ]
        }
      ]
    },
    {
      "cell_type": "code",
      "source": [
        "# Navegação para trás\n",
        "print(n1)                                     # NoDuplo(A)\n",
        "print(n1.anterior)                            # NoDuplo(D)\n",
        "print(n1.anterior.anterior)                   # NoDuplo(C)\n",
        "print(n1.anterior.anterior.anterior)          # NoDuplo(B)\n",
        "print(n1.anterior.anterior.anterior.anterior) # NoDuplo(A)"
      ],
      "metadata": {
        "colab": {
          "base_uri": "https://localhost:8080/"
        },
        "id": "Bg1nbgno_quk",
        "outputId": "0d505dd3-0e6d-4932-b1f3-96c65bab1921"
      },
      "execution_count": null,
      "outputs": [
        {
          "output_type": "stream",
          "name": "stdout",
          "text": [
            "NoDuplo(A)\n",
            "NoDuplo(D)\n",
            "NoDuplo(C)\n",
            "NoDuplo(B)\n",
            "NoDuplo(A)\n"
          ]
        }
      ]
    },
    {
      "cell_type": "markdown",
      "source": [
        "> Em uma lista ligada circular, nunca atingimos None. Ao tentar ir para anterior a partir do primeiro nó, a referência nos leva ao último nó. De forma similar, ao tentar ir para proximo a partir do último nó, a referência nos leva de volta ao primeiro nó.\n",
        "\n",
        "\n",
        "\n",
        "\n",
        "\n",
        "\n"
      ],
      "metadata": {
        "id": "QZ-mHB3EAUsx"
      }
    },
    {
      "cell_type": "markdown",
      "source": [
        "## **Visualização Conceitual**"
      ],
      "metadata": {
        "id": "Odfa3Kli7f-D"
      }
    },
    {
      "cell_type": "markdown",
      "source": [
        "```\n",
        "      Nó Início / Cabeça                                       Nó Último / Cauda\n",
        "      ┌───────────┐     ┌───────────┐     ┌───────────┐     ┌───────────┐\n",
        "┌─────│ anterior  │<----│ anterior  │<----│ anterior  │<----│ anterior  │<────┐ (Ponteiros Anterior)\n",
        "|     │     \"A\"   │     │     \"B\"   │     │     \"C\"   │     │     \"D\"   │     |\n",
        "|     │  proximo  │---->│  proximo  │---->│  proximo  │---->│  proximo  │─────|─┐ (Ponteiros Proximo)\n",
        "|     └───────────┘     └───────────┘     └───────────┘     └───────────┘     |   |\n",
        "|        ▲                                                                    |   |\n",
        "|        |                                                                    |   |\n",
        "|        | (Aponta para o Nó \"D\")                                             |   |\n",
        "|        |                                                                    |   |\n",
        "└────────|--------------------------------------------------------------------┘   |\n",
        "         └-----------------------------------------------------------------------┘ (Aponta para o Nó \"A\")\n",
        "```"
      ],
      "metadata": {
        "id": "QonPSIzv6V7n"
      }
    },
    {
      "cell_type": "markdown",
      "source": [
        "## **Classe Lista Circular**"
      ],
      "metadata": {
        "id": "M_9IP96TAhXS"
      }
    },
    {
      "cell_type": "markdown",
      "source": [
        "Implementaremos uma **lista duplamente ligada circular**. Essa estrutura mantém uma única referência ao nó `inicio` (head), sendo que o nó `fim` (tail) é diretamente acessível via `inicio.anterior`. Devido à natureza circular e à ligação bidirecional, operações de inserção e remoção em ambas as extremidades da lista são realizadas em **tempo constante O(1)**. Isso representa uma melhoria significativa em relação às listas simplesmente ligadas, nas quais essas operações podem exigir tempo linear **O(n)**."
      ],
      "metadata": {
        "id": "NS0UC5fjAj01"
      }
    }
  ]
}