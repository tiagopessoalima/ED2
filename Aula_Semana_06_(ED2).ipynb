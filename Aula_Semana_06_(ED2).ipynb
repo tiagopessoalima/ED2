{
  "nbformat": 4,
  "nbformat_minor": 0,
  "metadata": {
    "colab": {
      "provenance": [],
      "authorship_tag": "ABX9TyMuRwsmKceFYcIrKDrc3cJa",
      "include_colab_link": true
    },
    "kernelspec": {
      "name": "python3",
      "display_name": "Python 3"
    },
    "language_info": {
      "name": "python"
    }
  },
  "cells": [
    {
      "cell_type": "markdown",
      "metadata": {
        "id": "view-in-github",
        "colab_type": "text"
      },
      "source": [
        "<a href=\"https://colab.research.google.com/github/tiagopessoalima/ED2/blob/main/Aula_Semana_06_(ED2).ipynb\" target=\"_parent\"><img src=\"https://colab.research.google.com/assets/colab-badge.svg\" alt=\"Open In Colab\"/></a>"
      ]
    },
    {
      "cell_type": "markdown",
      "source": [
        "# **Listas Circulares (Encadeadas)**"
      ],
      "metadata": {
        "id": "o7DCMKqtzf1E"
      }
    },
    {
      "cell_type": "markdown",
      "source": [
        "É uma estrutura de dados caracterizada pela configuração de ponteiros de seus nós. Distingue-se de listas ligadas lineares pelo fato de que o ponteiro do último nó (nó `fim` ou `tail`) não aponta para um valor nulo (NULL/None), mas sim referencia o primeiro nó (nó `inicio` ou head) da lista. Esta configuração estabelece um ciclo fechado, eliminando a demarcação explícita de fim de sequência.\n",
        "\n",
        "Estruturalmente, podem ser:\n",
        "\n",
        "1.  **Simplesmente Ligada:** Cada nó $N_i$ possui um ponteiro `próximo` referenciando $N_{i+1}$. O ponteiro `próximo` do nó terminal $N_{fim}$ referencia $N_{inicio}$.\n",
        "2.  **Duplamente Ligada:** Cada nó $N_i$ possui ponteiros `próximo` (referenciando $N_{i+1}$) e `anterior` (referenciando $N_{i-1}$). O ponteiro `próximo` do nó terminal $N_{fim}$ referencia $N_{inicio}$, e o ponteiro `anterior` do nó inicial $N_{inicio}$ referencia $N_{fim}$.\n",
        "\n",
        "A ausência de um terminador nulo implica que operações de travessia e manipulação requerem um mecanismo explícito para identificar o ponto de início e determinar a condição de parada, geralmente comparando o nó atual com uma referência conhecida, como o nó *inicio*.\n"
      ],
      "metadata": {
        "id": "h5QgL7-lzqUf"
      }
    },
    {
      "cell_type": "markdown",
      "source": [
        "## **O Bloco de Construção: O Nó Circular**"
      ],
      "metadata": {
        "id": "FbpziIUl9CBE"
      }
    },
    {
      "cell_type": "markdown",
      "source": [
        " Embora as listas ligadas circulares possam ser simplesmente ligadas (onde o nó possui apenas referência para o próximo elemento, e o último aponta para o primeiro), nossa atenção será direcionada para o nó conforme utilizado em uma lista duplamente ligada circular."
      ],
      "metadata": {
        "id": "Hce5nmut9dMF"
      }
    },
    {
      "cell_type": "code",
      "source": [
        "class NoCircular:\n",
        "    \"\"\"\n",
        "    Representa um único nó em uma lista duplamente ligada circular.\n",
        "    \"\"\"\n",
        "    def __init__(self, valor):\n",
        "        \"\"\"\n",
        "        Inicializa um novo nó circular.\n",
        "\n",
        "        Parâmetros:\n",
        "            valor: Dado a ser armazenado no nó.\n",
        "        \"\"\"\n",
        "        self.valor = valor          # Valor armazenado no nó\n",
        "        self.proximo = self         # Aponta inicialmente para si mesmo\n",
        "        self.anterior = self        # Aponta inicialmente para si mesmo\n",
        "\n",
        "    def __repr__(self):\n",
        "        \"\"\"\n",
        "        Representação textual do nó circular.\n",
        "        \"\"\"\n",
        "        return f\"NoCircular({self.valor})\""
      ],
      "metadata": {
        "id": "Pld55St_9DX5"
      },
      "execution_count": 1,
      "outputs": []
    },
    {
      "cell_type": "markdown",
      "source": [
        "### **Exemplo de Criação e Encadeamento de Nós**"
      ],
      "metadata": {
        "id": "Ss9KG-Ca94aY"
      }
    },
    {
      "cell_type": "code",
      "source": [
        "# Criando quatro nós\n",
        "n1 = NoCircular(\"A\")\n",
        "n2 = NoCircular(\"B\")\n",
        "n3 = NoCircular(\"C\")\n",
        "n4 = NoCircular(\"D\")\n",
        "\n",
        "# Encadeando para frente\n",
        "n1.proximo = n2\n",
        "n2.proximo = n3\n",
        "n3.proximo = n4\n",
        "n4.proximo = n1  # Fecha o ciclo: último aponta para o primeiro\n",
        "\n",
        "# Encadeando para trás\n",
        "n2.anterior = n1\n",
        "n3.anterior = n2\n",
        "n4.anterior = n3\n",
        "n1.anterior = n4  # Fecha o ciclo: primeiro aponta para o último"
      ],
      "metadata": {
        "id": "cOR7EOxf-Gic"
      },
      "execution_count": 2,
      "outputs": []
    },
    {
      "cell_type": "markdown",
      "source": [
        "### **Imprimindo e Navegando nos Nós**"
      ],
      "metadata": {
        "id": "g2OSj6Kk-6Fl"
      }
    },
    {
      "cell_type": "code",
      "source": [
        "# Navegação para frente\n",
        "print(n4)                                  # NoDuplo(D)\n",
        "print(n4.proximo)                          # NoDuplo(A)\n",
        "print(n4.proximo.proximo)                  # NoDuplo(B)\n",
        "print(n4.proximo.proximo.proximo)          # NoDuplo(C)\n",
        "print(n4.proximo.proximo.proximo.proximo)  # NoDuplo(D)"
      ],
      "metadata": {
        "colab": {
          "base_uri": "https://localhost:8080/"
        },
        "id": "kMZ32fzt-8_I",
        "outputId": "2a215fe2-e07d-4592-dda1-faece941daa1"
      },
      "execution_count": 3,
      "outputs": [
        {
          "output_type": "stream",
          "name": "stdout",
          "text": [
            "NoCircular(D)\n",
            "NoCircular(A)\n",
            "NoCircular(B)\n",
            "NoCircular(C)\n",
            "NoCircular(D)\n"
          ]
        }
      ]
    },
    {
      "cell_type": "code",
      "source": [
        "# Navegação para trás\n",
        "print(n1)                                     # NoDuplo(A)\n",
        "print(n1.anterior)                            # NoDuplo(D)\n",
        "print(n1.anterior.anterior)                   # NoDuplo(C)\n",
        "print(n1.anterior.anterior.anterior)          # NoDuplo(B)\n",
        "print(n1.anterior.anterior.anterior.anterior) # NoDuplo(A)"
      ],
      "metadata": {
        "colab": {
          "base_uri": "https://localhost:8080/"
        },
        "id": "Bg1nbgno_quk",
        "outputId": "416dc27d-ec7b-4459-c59d-c5adc57f1e89"
      },
      "execution_count": 4,
      "outputs": [
        {
          "output_type": "stream",
          "name": "stdout",
          "text": [
            "NoCircular(A)\n",
            "NoCircular(D)\n",
            "NoCircular(C)\n",
            "NoCircular(B)\n",
            "NoCircular(A)\n"
          ]
        }
      ]
    },
    {
      "cell_type": "markdown",
      "source": [
        "> Em uma lista ligada circular, nunca atingimos None. Ao tentar ir para anterior a partir do primeiro nó, a referência nos leva ao último nó. De forma similar, ao tentar ir para proximo a partir do último nó, a referência nos leva de volta ao primeiro nó.\n",
        "\n",
        "\n",
        "\n",
        "\n",
        "\n",
        "\n"
      ],
      "metadata": {
        "id": "QZ-mHB3EAUsx"
      }
    },
    {
      "cell_type": "markdown",
      "source": [
        "## **Visualização Conceitual**"
      ],
      "metadata": {
        "id": "Odfa3Kli7f-D"
      }
    },
    {
      "cell_type": "markdown",
      "source": [
        "```\n",
        "      Nó Início / Cabeça                                       Nó Último / Cauda\n",
        "      ┌───────────┐     ┌───────────┐     ┌───────────┐     ┌───────────┐\n",
        "┌─────│ anterior  │<----│ anterior  │<----│ anterior  │<----│ anterior  │<────┐ (Ponteiros Anterior)\n",
        "|     │     \"A\"   │     │     \"B\"   │     │     \"C\"   │     │     \"D\"   │     |\n",
        "|     │  proximo  │---->│  proximo  │---->│  proximo  │---->│  proximo  │─────|─┐ (Ponteiros Proximo)\n",
        "|     └───────────┘     └───────────┘     └───────────┘     └───────────┘     |   |\n",
        "|        ▲                                                                    |   |\n",
        "|        |                                                                    |   |\n",
        "|        | (Aponta para o Nó \"D\")                                             |   |\n",
        "|        |                                                                    |   |\n",
        "└────────|--------------------------------------------------------------------┘   |\n",
        "         └-----------------------------------------------------------------------┘ (Aponta para o Nó \"A\")\n",
        "```"
      ],
      "metadata": {
        "id": "QonPSIzv6V7n"
      }
    },
    {
      "cell_type": "markdown",
      "source": [
        "## **Classe Lista Circular**"
      ],
      "metadata": {
        "id": "M_9IP96TAhXS"
      }
    },
    {
      "cell_type": "markdown",
      "source": [
        "Será implementada uma estrutura que mantém uma única referência ao nó `inicio` (head), sendo o nó `fim` (tail) acessível por meio do ponteiro `inicio.anterior`. Devido à conectividade bidirecional dos nós e à característica circular da lista, operações de inserção e remoção em ambas as extremidades possuem complexidade **O(1)**. Essa eficiência contrasta com a das listas simplesmente ligadas, nas quais tais operações podem requerer **tempo O(n)**, especialmente na extremidade final, devido à necessidade de percorrer os nós."
      ],
      "metadata": {
        "id": "NS0UC5fjAj01"
      }
    },
    {
      "cell_type": "markdown",
      "source": [
        "### **Integração com a Sintaxe do Python**"
      ],
      "metadata": {
        "id": "2O1qwSmLuNx8"
      }
    },
    {
      "cell_type": "markdown",
      "source": [
        "A classe também implementa métodos especiais (*dunder methods*) que viabilizam sua integração com as operações nativas da linguagem Python, como `len()` (através de `__len__`), iteração com `for` (`__iter__` e `__next__`), acesso indexado (`__getitem__`), verificação de pertencimento (`__contains__`) e representação textual (`__str__` e `__repr__`). Essa sobrecarga de operadores torna a estrutura compatível com o protocolo de coleções do Python, promovendo uma interface mais idiomática e alinhada às expectativas da linguagem.\n"
      ],
      "metadata": {
        "id": "2nArbgMDuPA_"
      }
    },
    {
      "cell_type": "markdown",
      "source": [
        "### **Implementação**"
      ],
      "metadata": {
        "id": "AcmnA2F8uc72"
      }
    },
    {
      "cell_type": "code",
      "source": [
        "class NoCircular:\n",
        "    def __init__(self, valor=None):\n",
        "        self.valor = valor\n",
        "        self.proximo = self  # Aponta para ele mesmo (sentinela no caso de lista circular)\n",
        "        self.anterior = self  # Aponta para ele mesmo (sentinela no caso de lista circular)\n",
        "\n",
        "class ListaCircularDupla:\n",
        "    \"\"\"\n",
        "    Implementa uma lista duplamente ligada circular com sentinela.\n",
        "    \"\"\"\n",
        "\n",
        "    def __init__(self):\n",
        "        \"\"\"\n",
        "        Inicializa a lista como vazia.\n",
        "        \"\"\"\n",
        "        self.sentinela = NoCircular()  # Nó sentinela, sem valor\n",
        "        self.sentinela.proximo = self.sentinela\n",
        "        self.sentinela.anterior = self.sentinela\n",
        "        self._tamanho = 0\n",
        "\n",
        "    def limpar(self) -> None:\n",
        "        \"\"\"\n",
        "        Remove todos os elementos da lista.\n",
        "        \"\"\"\n",
        "        self.sentinela.proximo = self.sentinela\n",
        "        self.sentinela.anterior = self.sentinela\n",
        "        self._tamanho = 0\n",
        "\n",
        "    def esta_vazia(self) -> bool:\n",
        "        \"\"\"\n",
        "        Verifica se a lista está vazia.\n",
        "        \"\"\"\n",
        "        return self._tamanho == 0\n",
        "\n",
        "    def _no_em(self, posicao: int) -> NoCircular:\n",
        "        \"\"\"\n",
        "        Retorna o nó da posição especificada, utilizando busca circular eficiente.\n",
        "        (Método interno)\n",
        "        \"\"\"\n",
        "        if not 0 <= posicao < self._tamanho:\n",
        "            raise IndexError(\"Índice fora do intervalo.\")\n",
        "\n",
        "        no = self.sentinela.proximo\n",
        "        if posicao < self._tamanho // 2:\n",
        "            for _ in range(posicao):\n",
        "                no = no.proximo\n",
        "        else:\n",
        "            no = self.sentinela\n",
        "            for _ in range(self._tamanho - posicao):\n",
        "                no = no.anterior\n",
        "        return no\n",
        "\n",
        "    def inserir_no_inicio(self, valor: any) -> None:\n",
        "        \"\"\"\n",
        "        Insere um novo elemento no início da lista. O(1)\n",
        "        \"\"\"\n",
        "        novo_no = NoCircular(valor)\n",
        "        if self.esta_vazia():\n",
        "            self.sentinela.proximo = novo_no\n",
        "            self.sentinela.anterior = novo_no\n",
        "            novo_no.proximo = self.sentinela\n",
        "            novo_no.anterior = self.sentinela\n",
        "        else:\n",
        "            primeiro = self.sentinela.proximo\n",
        "            self.sentinela.proximo = novo_no\n",
        "            novo_no.proximo = primeiro\n",
        "            novo_no.anterior = self.sentinela\n",
        "            primeiro.anterior = novo_no\n",
        "        self._tamanho += 1\n",
        "\n",
        "    def inserir_no_final(self, valor: any) -> None:\n",
        "        \"\"\"\n",
        "        Insere um novo elemento no final da lista. O(1)\n",
        "        \"\"\"\n",
        "        if self.esta_vazia():\n",
        "            self.inserir_no_inicio(valor)\n",
        "        else:\n",
        "            novo_no = NoCircular(valor)\n",
        "            ultimo = self.sentinela.anterior\n",
        "            ultimo.proximo = novo_no\n",
        "            novo_no.anterior = ultimo\n",
        "            novo_no.proximo = self.sentinela\n",
        "            self.sentinela.anterior = novo_no\n",
        "        self._tamanho += 1\n",
        "\n",
        "    def remover_do_inicio(self) -> any:\n",
        "        \"\"\"\n",
        "        Remove e retorna o primeiro elemento da lista. O(1)\n",
        "        \"\"\"\n",
        "        if self.esta_vazia():\n",
        "            raise IndexError(\"A lista está vazia.\")\n",
        "\n",
        "        primeiro = self.sentinela.proximo\n",
        "        valor_removido = primeiro.valor\n",
        "        if self._tamanho == 1:\n",
        "            self.sentinela.proximo = self.sentinela\n",
        "            self.sentinela.anterior = self.sentinela\n",
        "        else:\n",
        "            self.sentinela.proximo = primeiro.proximo\n",
        "            primeiro.proximo.anterior = self.sentinela\n",
        "        self._tamanho -= 1\n",
        "        return valor_removido\n",
        "\n",
        "    def remover_do_final(self) -> any:\n",
        "        \"\"\"\n",
        "        Remove e retorna o último elemento da lista. O(1)\n",
        "        \"\"\"\n",
        "        if self.esta_vazia():\n",
        "            raise IndexError(\"A lista está vazia.\")\n",
        "\n",
        "        ultimo = self.sentinela.anterior\n",
        "        valor_removido = ultimo.valor\n",
        "        if self._tamanho == 1:\n",
        "            self.sentinela.proximo = self.sentinela\n",
        "            self.sentinela.anterior = self.sentinela\n",
        "        else:\n",
        "            self.sentinela.anterior = ultimo.anterior\n",
        "            ultimo.anterior.proximo = self.sentinela\n",
        "        self._tamanho -= 1\n",
        "        return valor_removido\n",
        "\n",
        "    def __len__(self) -> int:\n",
        "        \"\"\"\n",
        "        Retorna o número de elementos da lista.\n",
        "        \"\"\"\n",
        "        return self._tamanho\n",
        "\n",
        "    def __iter__(self):\n",
        "        \"\"\"\n",
        "        Permite iteração direta sobre a lista com `for`.\n",
        "        \"\"\"\n",
        "        atual = self.sentinela.proximo\n",
        "        for _ in range(self._tamanho):\n",
        "            yield atual.valor\n",
        "            atual = atual.proximo\n",
        "\n",
        "    def __getitem__(self, posicao: int) -> any:\n",
        "        \"\"\"\n",
        "        Permite acesso por índice, como em listas comuns.\n",
        "        \"\"\"\n",
        "        return self._no_em(posicao).valor\n",
        "\n",
        "    def __contains__(self, valor: any) -> bool:\n",
        "        \"\"\"\n",
        "        Verifica se um valor está presente na lista.\n",
        "        \"\"\"\n",
        "        return any(elemento == valor for elemento in self)\n",
        "\n",
        "    def __repr__(self) -> str:\n",
        "        \"\"\"\n",
        "        Representação textual da lista.\n",
        "        \"\"\"\n",
        "        elementos = [str(valor) for valor in self]\n",
        "        return \" <-> \".join(elementos) + \" (circular)\"\n"
      ],
      "metadata": {
        "id": "tEUKnL1xusZm"
      },
      "execution_count": 5,
      "outputs": []
    },
    {
      "cell_type": "markdown",
      "source": [
        "#### **Análise de Complexidade**"
      ],
      "metadata": {
        "id": "F7TJLR5ivVWE"
      }
    },
    {
      "cell_type": "markdown",
      "source": [
        "O uso de um nó sentinela com ligações circulares, junto aos ponteiros anterior e proximo em cada nó, permite otimizar operações nas extremidades e simplifica a lógica da lista."
      ],
      "metadata": {
        "id": "HaTyzaicwHq_"
      }
    },
    {
      "cell_type": "markdown",
      "source": [
        "### Métodos de uma Lista Duplamente Encadeada Circular\n",
        "\n",
        "| Método              | Finalidade                                                      | Complexidade | Notas                                                                 |\n",
        "|---------------------|------------------------------------------------------------------|--------------|-----------------------------------------------------------------------|\n",
        "| `__init__`          | Inicializa a lista vazia                                         | O(1)         | Nó sentinela pode ser usado para facilitar circularidade              |\n",
        "| `limpar`            | Remove todos os elementos                                        | O(1)         | Apenas reseta ponteiros no nó sentinela                               |\n",
        "| `esta_vazia`        | Verifica se a lista está vazia                                   | O(1)         | Verifica se o nó sentinela aponta para ele mesmo                      |\n",
        "| `__len__`           | Retorna o número de elementos (`len(lista)`)                     | O(1)         | Mantém contador interno                                               |\n",
        "| `__contains__`      | Verifica se um valor está na lista (`valor in lista`)            | O(n)         | Percorre nós até voltar ao sentinela                                  |\n",
        "| `__getitem__`       | Acessa um elemento por índice (`lista[i]`)                       | O(n)         | Pode iniciar do início ou fim (circularidade otimiza wraparound)      |\n",
        "| `__setitem__`       | Modifica um elemento por índice (`lista[i] = valor`)             | O(n)         | Mesmo acesso otimizado que o `__getitem__`                            |\n",
        "| `__iter__`          | Permite iteração `for item in lista` (início → fim)              | O(n)         | Itera até encontrar o sentinela novamente                             |\n",
        "| `__reversed__`      | Permite iteração `for item in reversed(lista)` (fim → início)    | O(n)         | Vantagem da dupla ligação e circularidade                             |\n",
        "| `__str__`           | Representação legível (`print(lista)`)                           | O(n)         | Percorre até retornar ao início                                       |\n",
        "| `__repr__`          | Representação técnica                                             | O(1)         | Apenas nome e tamanho                                                 |\n",
        "| `inserir_no_inicio` | Insere no início da lista                                        | O(1)         | Entre sentinela e primeiro elemento                                   |\n",
        "| `inserir_no_final`  | Insere no final da lista                                         | O(1)         | Entre último elemento e sentinela                                     |\n",
        "| `inserir_em`        | Insere em posição específica                                     | O(n)         | Pode usar `_no_em` para acesso otimizado                              |\n",
        "| `remover_do_inicio` | Remove e retorna o primeiro elemento                             | O(1)         | Remove o nó após o sentinela                                          |\n",
        "| `remover_do_final`  | Remove e retorna o último elemento                               | O(1)         | Remove o nó antes do sentinela                                        |\n",
        "| `remover_em`        | Remove e retorna o elemento de posição específica                | O(n)         | Usa `_no_em` para encontrar o nó                                      |\n",
        "| `_no_em` (interno)  | Retorna o nó da posição (otimizado)                              | O(n)         | Usa direção com menor distância (início/fim)                          |\n",
        "| `posicao_de`        | Encontra índice do valor                                         | O(n)         | Para quando encontra valor ou retorna ao sentinela                    |\n"
      ],
      "metadata": {
        "id": "qQ9vkh7qvWZA"
      }
    },
    {
      "cell_type": "markdown",
      "source": [
        "#### **Exemplos de Uso**"
      ],
      "metadata": {
        "id": "TudxMNr4wRHR"
      }
    },
    {
      "cell_type": "markdown",
      "source": [
        "A seguir, demonstramos como utilizar os principais métodos da classe ListaCircularDupla:"
      ],
      "metadata": {
        "id": "h3oGlDnEwZHn"
      }
    },
    {
      "cell_type": "markdown",
      "source": [
        "##### **Criando uma Lista**"
      ],
      "metadata": {
        "id": "JbNF3GNMwkhT"
      }
    },
    {
      "cell_type": "code",
      "source": [
        "lista_circular = ListaCircularDupla()"
      ],
      "metadata": {
        "id": "fSosbZoJwTOZ"
      },
      "execution_count": 6,
      "outputs": []
    },
    {
      "cell_type": "markdown",
      "source": [
        "##### **Verificando se a Lista Está Vazia**"
      ],
      "metadata": {
        "id": "MmmcUjXRwryH"
      }
    },
    {
      "cell_type": "code",
      "source": [
        "print(lista_circular.esta_vazia()) # Saída: True"
      ],
      "metadata": {
        "colab": {
          "base_uri": "https://localhost:8080/"
        },
        "id": "UxBhIvmgwr73",
        "outputId": "79000c7a-cf40-4b65-ab6a-d12e1447a160"
      },
      "execution_count": 7,
      "outputs": [
        {
          "output_type": "stream",
          "name": "stdout",
          "text": [
            "True\n"
          ]
        }
      ]
    },
    {
      "cell_type": "markdown",
      "source": [
        "##### **Inserindo Elementos no Início**"
      ],
      "metadata": {
        "id": "XATkgj9jw-ns"
      }
    },
    {
      "cell_type": "code",
      "source": [
        "lista_circular.inserir_no_inicio(\"C\")  # Lista: C (circular)\n",
        "lista_circular.inserir_no_inicio(\"B\")  # Lista: B <-> C (circular)\n",
        "lista_circular.inserir_no_inicio(\"A\")  # Lista: A <-> B <-> C (circular)"
      ],
      "metadata": {
        "id": "jXKg10DNw-zt"
      },
      "execution_count": 8,
      "outputs": []
    },
    {
      "cell_type": "markdown",
      "source": [
        "##### **Inserindo Elementos no Final**"
      ],
      "metadata": {
        "id": "QInuBne6xYP7"
      }
    },
    {
      "cell_type": "code",
      "source": [
        "lista_circular.inserir_no_final(\"D\")   # Lista: A <-> B <-> C <-> D (circular)\n",
        "lista_circular.inserir_no_final(\"E\")   # Lista: A <-> B <-> C <-> D <-> E (circular)"
      ],
      "metadata": {
        "id": "BX8xLRGTxbMj"
      },
      "execution_count": 9,
      "outputs": []
    },
    {
      "cell_type": "markdown",
      "source": [
        "##### **Exibindo a Lista**"
      ],
      "metadata": {
        "id": "gi2C2H8oxozf"
      }
    },
    {
      "cell_type": "code",
      "source": [
        "print(lista_circular) # Saída: A <-> B <-> C <-> D <-> E (circular)"
      ],
      "metadata": {
        "colab": {
          "base_uri": "https://localhost:8080/"
        },
        "id": "S6hDkjLuxpRF",
        "outputId": "27207ba2-0835-4243-e6fa-4c6dc2062674"
      },
      "execution_count": 10,
      "outputs": [
        {
          "output_type": "stream",
          "name": "stdout",
          "text": [
            "A <-> B <-> C <-> D <-> E (circular)\n"
          ]
        }
      ]
    },
    {
      "cell_type": "markdown",
      "source": [
        "##### **Removendo Elementos no Início**"
      ],
      "metadata": {
        "id": "2TfJUj6_xxQY"
      }
    },
    {
      "cell_type": "code",
      "source": [
        "lista_circular.remover_do_inicio() # Saída: A. Lista: B <-> C <-> D <-> E (circular)"
      ],
      "metadata": {
        "colab": {
          "base_uri": "https://localhost:8080/",
          "height": 35
        },
        "id": "GwJwFh_pxx54",
        "outputId": "7c7dab6e-867f-4b55-8e04-f253069b3a8c"
      },
      "execution_count": 11,
      "outputs": [
        {
          "output_type": "execute_result",
          "data": {
            "text/plain": [
              "'A'"
            ],
            "application/vnd.google.colaboratory.intrinsic+json": {
              "type": "string"
            }
          },
          "metadata": {},
          "execution_count": 11
        }
      ]
    },
    {
      "cell_type": "markdown",
      "source": [
        "##### **Removendo Elementos no Fim**"
      ],
      "metadata": {
        "id": "B6uE-0J5x7kY"
      }
    },
    {
      "cell_type": "code",
      "source": [
        "lista_circular.remover_do_final() # Saída: E. Lista: B <-> C <-> D (circular)"
      ],
      "metadata": {
        "colab": {
          "base_uri": "https://localhost:8080/",
          "height": 35
        },
        "id": "p0lA1lQGx8ZG",
        "outputId": "f34afd09-7209-409c-dc33-1c2d4cd30109"
      },
      "execution_count": 12,
      "outputs": [
        {
          "output_type": "execute_result",
          "data": {
            "text/plain": [
              "'E'"
            ],
            "application/vnd.google.colaboratory.intrinsic+json": {
              "type": "string"
            }
          },
          "metadata": {},
          "execution_count": 12
        }
      ]
    },
    {
      "cell_type": "markdown",
      "source": [
        "##### **Tamanho da Lista**"
      ],
      "metadata": {
        "id": "ifOzxK1ayKoh"
      }
    },
    {
      "cell_type": "code",
      "source": [
        "print(len(lista_circular)) # Saída: 3"
      ],
      "metadata": {
        "colab": {
          "base_uri": "https://localhost:8080/"
        },
        "id": "zPEpiJT3yLQV",
        "outputId": "778e50fd-0df5-428e-ea2c-8cb8177d9ebb"
      },
      "execution_count": 13,
      "outputs": [
        {
          "output_type": "stream",
          "name": "stdout",
          "text": [
            "3\n"
          ]
        }
      ]
    },
    {
      "cell_type": "markdown",
      "source": [
        "##### **Acessando Elemento pelo Índice**"
      ],
      "metadata": {
        "id": "GvYH8m6nySXt"
      }
    },
    {
      "cell_type": "code",
      "source": [
        "print(lista_circular[2]) # Saída: D"
      ],
      "metadata": {
        "colab": {
          "base_uri": "https://localhost:8080/"
        },
        "id": "uLKLuODXyS8C",
        "outputId": "dc91d159-01aa-4483-f205-4b34ceec8ac1"
      },
      "execution_count": 14,
      "outputs": [
        {
          "output_type": "stream",
          "name": "stdout",
          "text": [
            "D\n"
          ]
        }
      ]
    },
    {
      "cell_type": "markdown",
      "source": [
        "##### **Iterando Sobre os Elementos**"
      ],
      "metadata": {
        "id": "OvWFWv1CyYMh"
      }
    },
    {
      "cell_type": "code",
      "source": [
        "for valor in lista_circular: # Saída: B | C | D |\n",
        "    print(valor, end=\" | \")"
      ],
      "metadata": {
        "colab": {
          "base_uri": "https://localhost:8080/"
        },
        "id": "G5wOMKeAyZJT",
        "outputId": "d3bdd955-548c-4f76-89dd-6ecea3a5bb57"
      },
      "execution_count": 15,
      "outputs": [
        {
          "output_type": "stream",
          "name": "stdout",
          "text": [
            "B | C | D | "
          ]
        }
      ]
    },
    {
      "cell_type": "markdown",
      "source": [
        "##### **Verificando se um Elemento Está na Lista (Usando `in`)**"
      ],
      "metadata": {
        "id": "UbI9GTB-ylJg"
      }
    },
    {
      "cell_type": "code",
      "source": [
        "print(\"C\" in lista_circular) # Saída: True\n",
        "\n",
        "print(\"Z\" in lista_circular) # Saída: False"
      ],
      "metadata": {
        "colab": {
          "base_uri": "https://localhost:8080/"
        },
        "id": "VI70TZecymLQ",
        "outputId": "81b0c23e-22b9-473a-ce03-a5d60b340dd7"
      },
      "execution_count": 16,
      "outputs": [
        {
          "output_type": "stream",
          "name": "stdout",
          "text": [
            "True\n",
            "False\n"
          ]
        }
      ]
    },
    {
      "cell_type": "markdown",
      "source": [],
      "metadata": {
        "id": "CcsVABDIzJTP"
      }
    },
    {
      "cell_type": "code",
      "source": [
        "import time\n",
        "import matplotlib.pyplot as plt\n",
        "\n",
        "# Lista Simplesmente Ligada\n",
        "class NoSimples:\n",
        "    def __init__(self, valor):\n",
        "        self.valor = valor\n",
        "        self.proximo = None\n",
        "\n",
        "class ListaSimples:\n",
        "    def __init__(self):\n",
        "        self.inicio = None\n",
        "\n",
        "    def inserir_no_final(self, valor):\n",
        "        novo = NoSimples(valor)\n",
        "        if self.inicio is None:\n",
        "            self.inicio = novo\n",
        "        else:\n",
        "            atual = self.inicio\n",
        "            while atual.proximo:\n",
        "                atual = atual.proximo\n",
        "            atual.proximo = novo\n",
        "\n",
        "    def remover_do_inicio(self):\n",
        "        if self.inicio:\n",
        "            self.inicio = self.inicio.proximo\n",
        "\n",
        "# Lista Duplamente Ligada\n",
        "class NoDuplo:\n",
        "    def __init__(self, valor):\n",
        "        self.valor = valor\n",
        "        self.proximo = None\n",
        "        self.anterior = None\n",
        "\n",
        "class ListaDupla:\n",
        "    def __init__(self):\n",
        "        self.inicio = None\n",
        "        self.fim = None\n",
        "\n",
        "    def inserir_no_final(self, valor):\n",
        "        novo = NoDuplo(valor)\n",
        "        if self.inicio is None:\n",
        "            self.inicio = self.fim = novo\n",
        "        else:\n",
        "            self.fim.proximo = novo\n",
        "            novo.anterior = self.fim\n",
        "            self.fim = novo\n",
        "\n",
        "    def remover_do_inicio(self):\n",
        "        if self.inicio:\n",
        "            self.inicio = self.inicio.proximo\n",
        "            if self.inicio:\n",
        "                self.inicio.anterior = None\n",
        "\n",
        "# Lista Circular Duplamente Ligada\n",
        "class NoCircularDuplo:\n",
        "    def __init__(self, valor=None):\n",
        "        self.valor = valor\n",
        "        self.proximo = self\n",
        "        self.anterior = self\n",
        "\n",
        "class ListaCircularDupla:\n",
        "    def __init__(self):\n",
        "        self.sentinela = NoCircularDuplo()  # Nó sentinela, sem valor\n",
        "\n",
        "    def inserir_no_inicio(self, valor):\n",
        "        novo = NoCircularDuplo(valor)\n",
        "        # Insere entre o sentinela e o próximo\n",
        "        novo.proximo = self.sentinela.proximo\n",
        "        novo.anterior = self.sentinela\n",
        "        self.sentinela.proximo.anterior = novo\n",
        "        self.sentinela.proximo = novo\n",
        "\n",
        "    def inserir_no_final(self, valor):\n",
        "        novo = NoCircularDuplo(valor)\n",
        "        novo.proximo = self.sentinela\n",
        "        novo.anterior = self.sentinela.anterior\n",
        "        self.sentinela.anterior.proximo = novo\n",
        "        self.sentinela.anterior = novo\n",
        "\n",
        "    def remover_do_inicio(self):\n",
        "        if self.sentinela.proximo != self.sentinela:\n",
        "            self.sentinela.proximo = self.sentinela.proximo.proximo\n",
        "            self.sentinela.proximo.anterior = self.sentinela\n",
        "\n",
        "# Função para Testes com Média de Execuções\n",
        "def calcular_tempo_medio(func, qtd, execucoes=30):\n",
        "    tempos = []\n",
        "    for _ in range(execucoes):\n",
        "        inicio = time.perf_counter()\n",
        "        func(qtd)\n",
        "        fim = time.perf_counter()\n",
        "        tempos.append(fim - inicio)\n",
        "    return sum(tempos) / execucoes\n",
        "\n",
        "# Testes Específicos para Cada Estrutura\n",
        "def teste_lista_dupla_final(qtd):\n",
        "    lista = ListaDupla()\n",
        "    for i in range(qtd):\n",
        "        lista.inserir_no_final(i)\n",
        "    lista.remover_do_inicio()  # Remover do início para testarmos a eficiência\n",
        "\n",
        "def teste_lista_simples_final(qtd):\n",
        "    lista = ListaSimples()\n",
        "    for i in range(qtd):\n",
        "        lista.inserir_no_final(i)\n",
        "    lista.remover_do_inicio()  # Remover do início para testarmos a eficiência\n",
        "\n",
        "def teste_lista_circular_final(qtd):\n",
        "    lista = ListaCircularDupla()\n",
        "    for i in range(qtd):\n",
        "        lista.inserir_no_final(i)\n",
        "    lista.remover_do_inicio()  # Remover do início para testarmos a eficiência\n",
        "\n",
        "# Execução dos Testes\n",
        "tamanhos = [10**i for i in range(1, 5)]\n",
        "tempos_dupla = []\n",
        "tempos_simples = []\n",
        "tempos_circular = []\n",
        "\n",
        "print(\"Iniciando benchmark de inserção e remoção...\")\n",
        "for tamanho in tamanhos:\n",
        "    print(f\"Testando inserção e remoção de {tamanho} elementos (média de 30 execuções)...\")\n",
        "\n",
        "    tempo_ldl = calcular_tempo_medio(teste_lista_dupla_final, tamanho)\n",
        "    tempo_lcd = calcular_tempo_medio(teste_lista_circular_final, tamanho)\n",
        "\n",
        "    if tamanho <= 10000:\n",
        "        tempo_lsl = calcular_tempo_medio(teste_lista_simples_final, tamanho)\n",
        "    else:\n",
        "        tempo_lsl = float('inf')\n",
        "        print(\"  Skipping Lista Simplesmente Ligada (O(n) insert at end is too slow)\")\n",
        "\n",
        "    print(f\"  Lista Dupla: {tempo_ldl:.6f}s | Lista Circular: {tempo_lcd:.6f}s | Lista Simples: {tempo_lsl:.6f}s\")\n",
        "\n",
        "    tempos_dupla.append(tempo_ldl)\n",
        "    tempos_circular.append(tempo_lcd)\n",
        "    tempos_simples.append(tempo_lsl)\n",
        "\n",
        "print(\"Benchmark concluído.\")\n",
        "\n",
        "# Gráfico\n",
        "plt.figure(figsize=(10, 6))\n",
        "plt.plot(tamanhos, tempos_dupla, label='Lista Dupla Ligada (O(1))', marker='o')\n",
        "plt.plot(tamanhos, tempos_circular, label='Lista Circular Dupla (O(1))', marker='s')\n",
        "if any(t != float('inf') for t in tempos_simples):\n",
        "    plt.plot(\n",
        "        tamanhos[:len([t for t in tempos_simples if t != float('inf')])],\n",
        "        [t for t in tempos_simples if t != float('inf')],\n",
        "        label='Lista Simples Ligada (O(n))', marker='x'\n",
        "    )\n",
        "\n",
        "plt.xscale('log')\n",
        "plt.yscale('log')\n",
        "plt.xlabel('Quantidade de Elementos (escala log)')\n",
        "plt.ylabel('Tempo Médio (segundos, escala log)')\n",
        "plt.title('Comparação de Tempo Médio de Inserção e Remoção (30 execuções)')\n",
        "plt.legend()\n",
        "plt.tight_layout()\n",
        "plt.show()\n"
      ],
      "metadata": {
        "colab": {
          "base_uri": "https://localhost:8080/",
          "height": 781
        },
        "id": "8DAWkaPGzJb5",
        "outputId": "1b8cf016-46b9-4e83-a200-84aaca90681e"
      },
      "execution_count": 17,
      "outputs": [
        {
          "output_type": "stream",
          "name": "stdout",
          "text": [
            "Iniciando benchmark de inserção e remoção...\n",
            "Testando inserção e remoção de 10 elementos (média de 30 execuções)...\n",
            "  Lista Dupla: 0.000008s | Lista Circular: 0.000016s | Lista Simples: 0.000008s\n",
            "Testando inserção e remoção de 100 elementos (média de 30 execuções)...\n",
            "  Lista Dupla: 0.000071s | Lista Circular: 0.000076s | Lista Simples: 0.000276s\n",
            "Testando inserção e remoção de 1000 elementos (média de 30 execuções)...\n",
            "  Lista Dupla: 0.000931s | Lista Circular: 0.003562s | Lista Simples: 0.024486s\n",
            "Testando inserção e remoção de 10000 elementos (média de 30 execuções)...\n",
            "  Lista Dupla: 0.016120s | Lista Circular: 0.017560s | Lista Simples: 1.656077s\n",
            "Benchmark concluído.\n"
          ]
        },
        {
          "output_type": "display_data",
          "data": {
            "text/plain": [
              "<Figure size 1000x600 with 1 Axes>"
            ],
            "image/png": "[encoded data removed]"
          },
          "metadata": {}
        }
      ]
    }
  ]
}