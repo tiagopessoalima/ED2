{
  "nbformat": 4,
  "nbformat_minor": 0,
  "metadata": {
    "colab": {
      "provenance": [],
      "authorship_tag": "ABX9TyMEQDBBRCt3m+I5JV7pjFCJ",
      "include_colab_link": true
    },
    "kernelspec": {
      "name": "python3",
      "display_name": "Python 3"
    },
    "language_info": {
      "name": "python"
    }
  },
  "cells": [
    {
      "cell_type": "markdown",
      "metadata": {
        "id": "view-in-github",
        "colab_type": "text"
      },
      "source": [
        "<a href=\"https://colab.research.google.com/github/tiagopessoalima/ED2/blob/main/Aula_Semana_01_(EDII).ipynb\" target=\"_parent\"><img src=\"https://colab.research.google.com/assets/colab-badge.svg\" alt=\"Open In Colab\"/></a>"
      ]
    },
    {
      "cell_type": "markdown",
      "source": [
        "# **Recapitulação de Complexidade Algorítmica**\n"
      ],
      "metadata": {
        "id": "9NHamZLmvHTN"
      }
    },
    {
      "cell_type": "markdown",
      "source": [
        "## **Introdução**"
      ],
      "metadata": {
        "id": "IGlmsLiC-a4l"
      }
    },
    {
      "cell_type": "markdown",
      "source": [
        "A notação Big O é uma ferramenta matemática essencial na análise de algoritmos. Ela permite descrever a eficiência de um algoritmo em termos de tempo de execução ou uso de espaço, conforme o tamanho da entrada cresce. Neste material, nosso foco será a complexidade de tempo, que mede o tempo necessário para executar um algoritmo em função do tamanho da entrada, geralmente representado por $n$."
      ],
      "metadata": {
        "id": "611XDwWz-eSV"
      }
    },
    {
      "cell_type": "markdown",
      "source": [
        "## **O que é a Notação Big O?**"
      ],
      "metadata": {
        "id": "hrMQEkbv_C06"
      }
    },
    {
      "cell_type": "markdown",
      "source": [
        "É uma \"medida\" para saber o quão rápido ou devagar uma função (ou algoritmo) cresce à medida que o tamanho da entrada aumenta. Em termos simples, nos diz qual é o limite máximo que o tempo de execução (ou o espaço usado) de um algoritmo pode atingir.\n",
        "\n",
        "\n"
      ],
      "metadata": {
        "id": "TVJgLF4UyEwp"
      }
    },
    {
      "cell_type": "markdown",
      "source": [
        "### **Definição Formal**"
      ],
      "metadata": {
        "id": "QEjTOR2c1-Hn"
      }
    },
    {
      "cell_type": "markdown",
      "source": [
        "Dizemos que uma função $f(n)$ é $O(g(n))$ se existirem constantes positivas $c$ e $n_0$ tais que:\n",
        "\n",
        "<center> $0≤f(n)≤c⋅g(n)$ para todo $n≥n_0$ </center>\n",
        "\n",
        "\n",
        "\n",
        "Isso significa que, para entradas suficientemente grandes $n≥n_0$, o crescimento de $f(n)$ nunca ultrapassa $g(n)$ multiplicado por uma constante $c$. Essa definição permite comparar algoritmos e prever seu comportamento em larga escala."
      ],
      "metadata": {
        "id": "ItP-4LkF2BOm"
      }
    },
    {
      "cell_type": "markdown",
      "source": [
        "#### **O que é a constante $c$?**"
      ],
      "metadata": {
        "id": "kPEIcNe57v50"
      }
    },
    {
      "cell_type": "markdown",
      "source": [
        "É um **fator de escala** que ajusta a função de referência $g(n)$, garantindo que ela sempre cresça mais rápido ou igual a $f(n)$ a partir de um certo ponto. Pense nisso como um \"ajuste de margem de segurança\". Se temos duas funções:\n",
        "\n",
        "- $f(n) = n^2 + 2n + 5$\n",
        "- $g(n) = n^2$\n",
        "\n",
        "O termo $2n + 5$ pode ser ignorado para valores grandes de $n$, mas para garantir que $g(n)$ sempre seja um **limite superior**, podemos multiplicá-la por uma constante $c$.\n",
        "\n",
        "Se escolhermos $c = 2$, ficamos com:\n",
        "\n",
        "<center> $c \\cdot g(n) = 2 \\cdot n^2$ </center>\n",
        "\n",
        "Agora, verificamos se existe algum ponto $n_0$ a partir do qual $f(n) \\leq 2n^2$ sempre se mantém verdadeiro."
      ],
      "metadata": {
        "id": "JpolwdkA7zDR"
      }
    },
    {
      "cell_type": "markdown",
      "source": [
        "#### **O que é $n_0$?**"
      ],
      "metadata": {
        "id": "_eDlwoJx_Hdn"
      }
    },
    {
      "cell_type": "markdown",
      "source": [
        "Representa um **ponto de corte**, ou seja, um valor a partir do qual a desigualdade $f(n) \\leq c \\cdot g(n)$ passa a ser sempre válida.\n",
        "\n",
        "Podemos pensar nisso como um **limite inferior** para a análise assintótica. Para valores pequenos de $n$, $f(n)$ pode ser maior que $c \\cdot g(n)$, mas para valores suficientemente grandes, $g(n)$ cresce mais rápido.\n",
        "\n",
        "Vamos testar um exemplo:\n",
        "\n",
        "Se $f(n) = n^2 + 2n + 5$ e escolhemos $c = 2$, queremos encontrar um $n_0$ tal que:\n",
        "\n",
        "<center> $n^2 + 2n + 5 \\leq 2n^2$ </center>\n",
        "\n",
        "Rearranjamos:\n",
        "\n",
        "<center> $n^2 + 2n + 5 - 2n^2 \\leq 0$ </center>\n",
        "<center> $-n^2 + 2n + 5 \\leq 0$ </center>\n",
        "\n",
        "Resolvendo $-n^2 + 2n + 5 = 0$ (ignorando o $≤ 0$) por enquanto), encontramos as raízes da equação quadrática:\n",
        "\n",
        "<center> $n = \\frac{-2 \\pm \\sqrt{(2)^2 - 4(-1)(5)}}{2(-1)}$ </center>\n",
        "\n",
        "<center> $n = \\frac{-2 \\pm \\sqrt{4 + 20}}{-2}$ </center>\n",
        "\n",
        "<center> $n = \\frac{-2 \\pm \\sqrt{24}}{-2}$ </center>\n",
        "\n",
        "<center> $n = \\frac{-2 \\pm 4.89}{-2}$ </center>\n",
        "\n",
        "<center> $n_1 \\approx 3.44, \\quad n_2 \\approx -1.44$ </center>\n",
        "\n",
        "Como $n$ deve ser positivo, escolhemos $n_0 = 4$, pois a desigualdade se mantém verdadeira para $n \\geq 4$."
      ],
      "metadata": {
        "id": "0Sz-cnUI9Evh"
      }
    },
    {
      "cell_type": "markdown",
      "source": [
        "### **Visualizando o Conceito**"
      ],
      "metadata": {
        "id": "93AlJknX3Bf3"
      }
    },
    {
      "cell_type": "markdown",
      "source": [
        "Para compreender esse limite, podemos observar um gráfico que ilustra a relação entre $f(n)$ e $g(n)$. A ideia é mostrar que, para valores grandes de $n$, a função $f(n)$ é limitada por uma versão escalada de $g(n)$, garantindo que seu crescimento não ultrapasse esse limite.\n",
        "\n",
        "O gráfico a seguir representa:\n",
        "- $f(n)=n^2 +2n+5$ (curva azul): uma função de crescimento quadrático com termos adicionais.\n",
        "- $g(n)=n^2$ (curva verde tracejada): a função de referência para análise assintótica.\n",
        "- $c⋅g(n)$ com $c=2$ (curva vermelha pontilhada): um limite superior que demonstra como $f(n)$ fica abaixo desse valor para $n$ grande.\n",
        "\n",
        "Agora, vejamos o gráfico:"
      ],
      "metadata": {
        "id": "LEYpLxri3Nwz"
      }
    },
    {
      "cell_type": "code",
      "source": [
        "import numpy as np\n",
        "import matplotlib.pyplot as plt\n",
        "\n",
        "# Definição das funções\n",
        "n = np.linspace(1, 100, 100)\n",
        "f_n = n**2 + 2*n + 5  # Exemplo de f(n)\n",
        "g_n = n**2            # Exemplo de g(n)\n",
        "\n",
        "# Escolhendo uma constante c para satisfazer O(g(n))\n",
        "c = 2\n",
        "upper_bound = c * g_n\n",
        "\n",
        "# Criando o gráfico\n",
        "plt.figure(figsize=(8, 5))\n",
        "plt.plot(n, f_n, label=r'$f(n) = n^2 + 2n + 5$', color='blue')\n",
        "plt.plot(n, g_n, label=r'$g(n) = n^2$', color='green')\n",
        "plt.plot(n, upper_bound, label=r'$c \\cdot g(n)$ com $c=2$', color='red')\n",
        "\n",
        "# Adicionando detalhes ao gráfico\n",
        "plt.xlabel('n')\n",
        "plt.ylabel('Crescimento das funções')\n",
        "plt.title('Notação Big-O: Limite Superior do Crescimento')\n",
        "plt.legend()\n",
        "plt.grid(True)\n",
        "\n",
        "# Exibir o gráfico\n",
        "plt.show()"
      ],
      "metadata": {
        "colab": {
          "base_uri": "https://localhost:8080/",
          "height": 487
        },
        "id": "1yvTx8ae4JR8",
        "outputId": "cf7f5f05-63d3-4f65-a288-9cf372eaf8b5"
      },
      "execution_count": null,
      "outputs": [
        {
          "output_type": "display_data",
          "data": {
            "text/plain": [
              "<Figure size 800x500 with 1 Axes>"
            ],
            "image/png": "[encoded data removed]"
          },
          "metadata": {}
        }
      ]
    },
    {
      "cell_type": "markdown",
      "source": [
        "O gráfico acima ilustra o conceito de **limite superior assintótico** na notação Big-O.\n",
        "\n",
        "- A **curva azul** representa $f(n) = n^2 + 3n + 7$, uma função que cresce com um termo quadrático dominante.\n",
        "- A **curva verde** representa $g(n) = n^2$, a função de referência para análise assintótica.\n",
        "- A **curva vermelha** representa $c \\cdot g(n) = 2n^2$, onde $c = 2$, servindo como um limite superior para $f(n)$ a partir de um certo ponto $n_0$.\n",
        "\n",
        "Esse gráfico demonstra que, para valores suficientemente grandes de $n$, a função $f(n)$ cresce no máximo como $g(n)$ multiplicado por uma constante, o que confirma que $f(n)$ pertence a $O(n^2)$."
      ],
      "metadata": {
        "id": "Q9833tSv5G8b"
      }
    },
    {
      "cell_type": "markdown",
      "source": [
        "## **Por que Usar a Notação Big O?**"
      ],
      "metadata": {
        "id": "p6xIhjbhA0tx"
      }
    },
    {
      "cell_type": "markdown",
      "source": [
        "- **Comparar Algoritmos:** Permite avaliar qual algoritmo é mais eficiente para grandes entradas.\n",
        "\n",
        "- **Prever Desempenho:** Identifica se um algoritmo pode se tornar impraticável conforme os dados crescem.\n",
        "\n",
        "- **Gerenciar Recursos:** Avalia tanto tempo de execução quanto consumo de memória."
      ],
      "metadata": {
        "id": "DVR4PuHNA4TA"
      }
    },
    {
      "cell_type": "markdown",
      "source": [
        "## **Complexidade de Tempo vs. Complexidade de Espaço**"
      ],
      "metadata": {
        "id": "2tQUDcINAV3p"
      }
    },
    {
      "cell_type": "markdown",
      "source": [
        "Ao projetar algoritmos, muitas vezes há um compromisso entre tempo e espaço. Alguns algoritmos são mais rápidos, mas usam mais memória, enquanto outros economizam espaço, mas são mais lentos. Por exemplo:\n",
        "\n",
        "- A busca binária ($O(\\log n)$ de tempo e $O(1)$ de espaço) usa pouca memória, mas requer dados ordenados.\n",
        "\n",
        "- O Merge Sort ($O(n \\log n)$ de tempo e $O(n)$ de espaço) é eficiente, mas consome mais memória devido à recursão.\n",
        "\n",
        "- O Quick Sort ($O(n^2)$ no pior caso, mas geralmente $O(n \\log n)$, e apenas $O(\\log n)$ de espaço) equilibra bem os recursos."
      ],
      "metadata": {
        "id": "FzxEo_tYAbEu"
      }
    },
    {
      "cell_type": "markdown",
      "source": [
        "## **Como Calcular a Complexidade Big O: Passo a Passo**"
      ],
      "metadata": {
        "id": "AXyxTBYjF_FP"
      }
    },
    {
      "cell_type": "markdown",
      "source": [
        "Para determinar a complexidade de um algoritmo usando a notação Big O, siga este processo:\n",
        "\n",
        "1. **Contar Operações Básicas:** Analise o código e identifique as operações fundamentais que impactam significativamente o tempo de execução (como comparações, atribuições e acessos a memória).\n",
        "2. **Expressar em Função de $n$:** Determine quantas vezes essas operações são executadas em relação ao tamanho da entrada $n$.\n",
        "3. **Simplificar a Expressão:** Descarte constantes multiplicativas e termos de menor ordem, mantendo apenas o termo de maior crescimento.\n",
        "4. **Definir a Notação Big O:** Atribua a complexidade $O(g(n))$ com base no termo dominante, garantindo que ele represente um limite superior para o crescimento do algoritmo.\n",
        "\n",
        "Agora, vamos aplicar esse método em exemplos práticos."
      ],
      "metadata": {
        "id": "jAmaqIkMGLI9"
      }
    },
    {
      "cell_type": "markdown",
      "source": [
        "### **Exemplos Detalhados com Cálculos Passo a Passo**"
      ],
      "metadata": {
        "id": "-Xf3-DqOHJTN"
      }
    },
    {
      "cell_type": "markdown",
      "source": [
        "Nos exemplos a seguir, focaremos na análise de pior caso para entender como o algoritmo se comporta na situação mais desfavorável. Vamos ver como o tempo de execução do algoritmo pode crescer dependendo do tamanho da entrada, considerando o cenário em que o algoritmo realiza o maior número de operações possíveis."
      ],
      "metadata": {
        "id": "rTAi7tRXl2Gh"
      }
    },
    {
      "cell_type": "markdown",
      "source": [
        "#### **Exemplo 1: Soma de Elementos em um Array**"
      ],
      "metadata": {
        "id": "6OHVkICDHLmw"
      }
    },
    {
      "cell_type": "code",
      "source": [
        "def somaArray(array):\n",
        "    soma = 0\n",
        "    for i in range(len(array)):\n",
        "        soma += array[i]\n",
        "    return soma"
      ],
      "metadata": {
        "id": "6ZNQ3wG7HQGl"
      },
      "execution_count": null,
      "outputs": []
    },
    {
      "cell_type": "markdown",
      "source": [
        "**Análise de Complexidade:**\n",
        "\n",
        "1. **Contar Operações Básicas**\n",
        "\n",
        "- Inicialização: A atribuição `soma = 0` é uma operação constante ($1$ operação).\n",
        "- Laço de Repetição:  \n",
        "  O `for` percorre todos os elementos do vetor, ou seja, executa $n$ vezes.  \n",
        "  Em cada iteração, realizamos:\n",
        "  - Acesso ao elemento `array[i]` ($1$ operação).\n",
        "  - Soma `soma + array[i]` ($1$ operação).\n",
        "  - Atribuição do resultado a `soma` ($1$ operação).\n",
        "\n",
        "  Portanto, em cada iteração temos aproximadamente $3$ operações.\n",
        "\n",
        "2. **Expressar em Função de $n$**\n",
        "\n",
        "- Total de operações:  \n",
        "  - Inicialização: $1$ operação.\n",
        "  - Laço: $( n \\times 3 )$ operações.\n",
        "  \n",
        "  Logo, o número total de operações pode ser expresso como: $T(n) = 1 + 3n$\n",
        "\n",
        "3. **Simplificar a Expressão**\n",
        "\n",
        "- Ao simplificar, ignoramos constantes e termos de menor ordem. Assim, a expressão $1 + 3n$ se torna dominada pelo termo $3n$.\n",
        "- Ignorando a constante $3$, ficamos com $n$.\n",
        "\n",
        "4. **Definir a Notação Big O**\n",
        "\n",
        "- Com base na análise, o termo dominante é $n$.\n",
        "- Portanto, a complexidade do algoritmo é: $O(n)$"
      ],
      "metadata": {
        "id": "afFC2ZxGHZ3y"
      }
    },
    {
      "cell_type": "markdown",
      "source": [
        "#### **Exemplo 2: Busca Linear**"
      ],
      "metadata": {
        "id": "drfPLz6gI5cq"
      }
    },
    {
      "cell_type": "code",
      "source": [
        "def buscaLinear(array, alvo):\n",
        "    for i in range(len(array)):\n",
        "        if array[i] == alvo:\n",
        "            return i\n",
        "    return -1"
      ],
      "metadata": {
        "id": "L2J44Dy2JvBa"
      },
      "execution_count": null,
      "outputs": []
    },
    {
      "cell_type": "markdown",
      "source": [
        "**Análise de Complexidade**\n",
        "\n",
        "1. **Contar Operações Básicas**\n",
        "- Laço de Repetição:  \n",
        "  O `for` itera de 0 até $n-1$, totalizando $n$ iterações.\n",
        "  - Comparação: Em cada iteração, é feita a verificação `array[i] == alvo`, que é uma operação básica.\n",
        "  - Retorno: Se a condição for satisfeita, o índice é retornado imediatamente, interrompendo a execução.\n",
        "- Caso pior: Quando o `alvo` não está presente no vetor ou está na última posição, o laço realiza $n$  comparações.\n",
        "\n",
        "2. **Expressar em Função de $n$**\n",
        "- No pior caso, o total de operações é proporcional a $n$ (ou seja, $T(n) \\approx n$\\) comparações).\n",
        "\n",
        "3. **Simplificar a Expressão**\n",
        "- Ao ignorar constantes e termos de menor ordem, a função $T(n)$ se reduz a $n$.\n",
        "\n",
        "4. **Definir a Notação Big O**\n",
        "- O termo dominante é $n$, então a complexidade do algoritmo é: $O(n)$."
      ],
      "metadata": {
        "id": "avicamt7J2j_"
      }
    },
    {
      "cell_type": "markdown",
      "source": [
        "#### **Exemplo 3: Bubble Sort (Ordenação por Bolha)**"
      ],
      "metadata": {
        "id": "hdCS9q2TL8-J"
      }
    },
    {
      "cell_type": "code",
      "source": [
        "def bubbleSort(array):\n",
        "    n = len(array)\n",
        "    for i in range(n):\n",
        "        for j in range(n - i - 1):\n",
        "            if array[j] > array[j + 1]:\n",
        "                array[j], array[j + 1] = array[j + 1], array[j]\n",
        "    return array"
      ],
      "metadata": {
        "id": "CsqC_XKnMA6l"
      },
      "execution_count": null,
      "outputs": []
    },
    {
      "cell_type": "markdown",
      "source": [
        "**Análise de Complexidade**\n",
        "\n",
        "1. **Identificar a Entrada**\n",
        "- Entrada: Um vetor `array`.\n",
        "- Tamanho da entrada $(n)$: `n = len(array)`\n",
        "\n",
        "2. **Contar Operações Básicas**\n",
        "- Laço Externo:  \n",
        "  Executa $n$ iterações.\n",
        "- Laço Interno:  \n",
        "  Para cada iteração do laço externo, o laço interno realiza $n-i-1$ iterações.\n",
        "- Comparação e Troca:  \n",
        "  Em cada iteração do laço interno, há uma comparação (`if array[j] > array[j+1]`). Se a condição for verdadeira, ocorre a troca dos elementos, que também é considerada uma operação básica.\n",
        "\n",
        "3. **Expressar em Função de $n$**\n",
        "- Número Total de Comparações:  \n",
        "\n",
        "  $(n-1) + (n-2) + (n-3) + ... + 2 + 1 + 0 = \\sum_{i=0}^{n-1} (n-i-1) = \\frac{n(n-1)}{2}$\n",
        "  \n",
        "  Portanto, no pior caso, o número de operações é proporcional a $\\frac{n(n-1)}{2}$.\n",
        "\n",
        "4. **Simplificar a Expressão**\n",
        "- Ao simplificar, ignoramos as constantes e termos de menor ordem. Assim, $\\frac{n(n-1)}{2}$ se torna aproximadamente $n^2$ para $n$ grande.\n",
        "\n",
        "5. **Definir a Notação Big O**\n",
        "- O termo dominante é $n^2$, logo a complexidade do algoritmo é: $O(n^2)$."
      ],
      "metadata": {
        "id": "6dWxKKpyMPZt"
      }
    },
    {
      "cell_type": "markdown",
      "source": [
        "#### **Exemplo 4: Busca Binária**"
      ],
      "metadata": {
        "id": "b-RtcsM6Qg1m"
      }
    },
    {
      "cell_type": "code",
      "source": [
        "def buscaBinaria(array, alvo):\n",
        "    inicio = 0\n",
        "    fim = len(array) - 1\n",
        "    while inicio <= fim:\n",
        "        meio = (inicio + fim) // 2  # divisão inteira\n",
        "        if array[meio] == alvo:\n",
        "            return meio\n",
        "        elif array[meio] < alvo:\n",
        "            inicio = meio + 1\n",
        "        else:\n",
        "            fim = meio - 1\n",
        "    return -1"
      ],
      "metadata": {
        "id": "VKFfeIOLQgBG"
      },
      "execution_count": null,
      "outputs": []
    },
    {
      "cell_type": "markdown",
      "source": [
        "**Análise de Complexidade**\n",
        "\n",
        "1. **Contar Operações Básicas**\n",
        "- Inicializações:  \n",
        "  Atribuição de `inicio = 0` e `fim = len(array) - 1` são operações constantes.\n",
        "- Laço While:  \n",
        "  A cada iteração, o laço reduz pela metade o intervalo de busca:\n",
        "  - Cálculo de `meio` (operação aritmética).\n",
        "  - Comparação `array[meio] == alvo`.\n",
        "  - Possíveis atualizações de `inicio` ou `fim` conforme o resultado.\n",
        "  \n",
        "  Todas essas operações dentro do laço são executadas em tempo constante, $O(1)$, por iteração.\n",
        "\n",
        "2. **Expressar em Função de $n$**\n",
        "- Número de Iterações:  \n",
        "  Como o intervalo de busca é reduzido pela metade a cada iteração, o número de iterações é proporcional a $\\log_2(n)$.\n",
        "- **Total de Operações:**  \n",
        "  T(n) é aproximadamente $c \\cdot \\log(n)$, onde $c$  é uma constante representando as operações por iteração.\n",
        "\n",
        "3. **Simplificar a Expressão**\n",
        "- Ignorando as constantes, a complexidade se reduz a $\\log(n)$.\n",
        "\n",
        "4. **Definir a Notação Big O**\n",
        "- A complexidade do algoritmo é: $O(\\log n)$."
      ],
      "metadata": {
        "id": "ksBcPW_zQ5HN"
      }
    },
    {
      "cell_type": "markdown",
      "source": [
        "#### **Exemplo 5: Fatorial Recursivo**"
      ],
      "metadata": {
        "id": "vmmcbtglRwVo"
      }
    },
    {
      "cell_type": "code",
      "source": [
        "def fatorial(n):\n",
        "    if n == 0:\n",
        "        return 1\n",
        "    else:\n",
        "        return n * fatorial(n - 1)"
      ],
      "metadata": {
        "id": "SiwB9BLcSJiU"
      },
      "execution_count": null,
      "outputs": []
    },
    {
      "cell_type": "markdown",
      "source": [
        "**Análise de Complexidade**\n",
        "\n",
        "1. **Contar Operações Básicas**\n",
        "- Caso Base: Quando $n == 0$, há uma comparação e o retorno imediato de 1.\n",
        "- Caso Recursivo: Para $n > 0$:\n",
        "  - Em cada chamada recursiva, ocorre uma comparação $n == 0$ e, se falso, uma multiplicação $n * fatorial(n-1)$.\n",
        "  - Cada chamada envolve um número constante de operações (comparação e multiplicação).\n",
        "\n",
        "2. **Expressar em Função de $n$**\n",
        "- O algoritmo faz uma chamada recursiva para cada valor de $n$ até atingir $0$.\n",
        "- Assim, no pior caso (quando $n > 0$), o número total de operações é proporcional a $n$.\n",
        "\n",
        "3. **Simplificar a Expressão**\n",
        "- Ignorando constantes, a complexidade se resume a $n$.\n",
        "\n",
        "4. **Definir a Notação Big O**\n",
        "- Portanto, a complexidade do algoritmo é: $O(n)$."
      ],
      "metadata": {
        "id": "ssic8ks9SJzc"
      }
    },
    {
      "cell_type": "markdown",
      "source": [
        "### **Dicas para Análise de Complexidade**"
      ],
      "metadata": {
        "id": "wK08y-u2TEej"
      }
    },
    {
      "cell_type": "markdown",
      "source": [
        "1. **Loop Simples**\n",
        "- Complexidade: $O(n)$\n",
        "- Explicação: Itera $n$ vezes.\n",
        "\n",
        "2. **Loops Aninhados**\n",
        "- Complexidade: $O(n^k)$\n",
        "- Explicação: Onde $k$ é o número de loops aninhados.\n",
        "\n",
        "3. **Divisão Recursiva**\n",
        "- Complexidade: $O(\\log n)$\n",
        "- Explicação: O problema é dividido pela metade a cada etapa.\n",
        "\n",
        "4. **Constantes**\n",
        "- Dica: Ignore-as.\n",
        "- Exemplo: \\( O(3n) = O(n) \\)\n",
        "\n",
        "5. **Termo Dominante**\n",
        "- Dica: Considere apenas o maior.\n",
        "- Exemplo: $O(n^2 + n) = O(n^2)$"
      ],
      "metadata": {
        "id": "cM8fJJy4TRsN"
      }
    },
    {
      "cell_type": "markdown",
      "source": [
        "## **Conclusão**"
      ],
      "metadata": {
        "id": "9CN8hgm_UEcI"
      }
    },
    {
      "cell_type": "markdown",
      "source": [
        "A notação Big O é uma ferramenta poderosa para analisar a eficiência de algoritmos. Com este material, você aprendeu a calcular a complexidade de tempo passo a passo, aplicando o método a diversos exemplos. Pratique com diferentes algoritmos para desenvolver sua intuição e capacidade analítica. Dominar esse conceito é essencial para projetar sistemas eficientes no curso de ADS!"
      ],
      "metadata": {
        "id": "aO3EJl28UHf1"
      }
    }
  ]
}